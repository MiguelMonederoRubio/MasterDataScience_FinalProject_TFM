{
 "cells": [
  {
   "cell_type": "markdown",
   "metadata": {},
   "source": [
    "# Importing data"
   ]
  },
  {
   "cell_type": "code",
   "execution_count": 2,
   "metadata": {},
   "outputs": [],
   "source": [
    "import pandas as pd\n",
    "import numpy as np\n",
    "import seaborn as sns\n",
    "import matplotlib.pyplot as plt\n",
    "import sys\n",
    "import os"
   ]
  },
  {
   "cell_type": "code",
   "execution_count": 3,
   "metadata": {},
   "outputs": [
    {
     "data": {
      "text/plain": [
       "'/Users/miguel/repos/Prediction_Medicine_Selectivity_Scores/raw_data'"
      ]
     },
     "execution_count": 3,
     "metadata": {},
     "output_type": "execute_result"
    }
   ],
   "source": [
    "current_directory = os.getcwd()\n",
    "raw_data_directory = current_directory + '/raw_data'\n",
    "raw_data_directory"
   ]
  },
  {
   "cell_type": "code",
   "execution_count": 4,
   "metadata": {
    "code_folding": []
   },
   "outputs": [],
   "source": [
    "# lo del df_name no tiene sentido si luego no lo puedo llamar"
   ]
  },
  {
   "cell_type": "code",
   "execution_count": 5,
   "metadata": {
    "code_folding": []
   },
   "outputs": [],
   "source": [
    "# input raw data from different years (2010-2021)\n",
    "initial_year = 2010\n",
    "last_year = 2021\n",
    "next_year = initial_year + 1\n",
    "num_years = last_year - initial_year + 1\n",
    "list_of_dfs = []\n",
    "list_of_directories = []\n",
    "# format example: df_2010_2011 = pd.read_csv(raw_data_directory + '/Notas de corte de Medicina 2010_2011 - Hoja 1.csv', decimal = ',')\n",
    "\n",
    "for i in range(num_years):\n",
    "    df_name = 'df' + '_' + str(initial_year) + '_' + str(next_year)\n",
    "    directory = raw_data_directory + '/Notas de corte de Medicina ' + str(initial_year) + '_' + str(next_year) + ' - Hoja 1.csv'\n",
    "    list_of_dfs.append(df_name)\n",
    "    list_of_directories.append(directory)\n",
    "    \n",
    "    list_of_dfs[i] = pd.read_csv(list_of_directories[i], decimal = ',')\n",
    "    \n",
    "    initial_year += 1\n",
    "    next_year += 1"
   ]
  },
  {
   "cell_type": "code",
   "execution_count": 6,
   "metadata": {},
   "outputs": [],
   "source": [
    "# before appending all dfs, we create a column with the year, to keep track of which df the data is coming from\n",
    "initial_year = 2010\n",
    "\n",
    "for i in range(num_years):\n",
    "    list_of_dfs[i]['year'] = initial_year + i"
   ]
  },
  {
   "cell_type": "code",
   "execution_count": 7,
   "metadata": {},
   "outputs": [],
   "source": [
    "dfs_unified = pd.DataFrame()"
   ]
  },
  {
   "cell_type": "code",
   "execution_count": 8,
   "metadata": {},
   "outputs": [],
   "source": [
    "for i in range(num_years):\n",
    "    dfs_unified = dfs_unified.append(list_of_dfs[i])"
   ]
  },
  {
   "cell_type": "code",
   "execution_count": 9,
   "metadata": {},
   "outputs": [
    {
     "name": "stdout",
     "output_type": "stream",
     "text": [
      "append has been done correctly\n"
     ]
    }
   ],
   "source": [
    "# check the append has been done correctly: check the number of rows is the sum of all of the dfs\n",
    "\n",
    "total_number_of_rows = 0\n",
    "\n",
    "for i in range(num_years):\n",
    "    total_number_of_rows = total_number_of_rows + len(list_of_dfs[i])\n",
    "\n",
    "if total_number_of_rows != dfs_unified.shape[0]:\n",
    "    sys.exit()\n",
    "else:\n",
    "    print('append has been done correctly')"
   ]
  },
  {
   "cell_type": "markdown",
   "metadata": {},
   "source": [
    "# Data Cleaning"
   ]
  },
  {
   "cell_type": "markdown",
   "metadata": {},
   "source": [
    "## Check for duplicates"
   ]
  },
  {
   "cell_type": "code",
   "execution_count": 10,
   "metadata": {},
   "outputs": [
    {
     "name": "stdout",
     "output_type": "stream",
     "text": [
      "There are no duplicates\n"
     ]
    }
   ],
   "source": [
    "if dfs_unified[dfs_unified.duplicated() == True].shape[0] != 0:\n",
    "    dfs_unified.drop_duplicates()\n",
    "else:\n",
    "    print('There are no duplicates')"
   ]
  },
  {
   "cell_type": "markdown",
   "metadata": {},
   "source": [
    "## Create new unique columns out of data that we already had"
   ]
  },
  {
   "cell_type": "code",
   "execution_count": 11,
   "metadata": {},
   "outputs": [],
   "source": [
    "def drop_columns_containing_text(df, text):\n",
    "    '''\n",
    "    drop columns that contain a certain string/text\n",
    "    '''\n",
    "    df = df[df.columns.drop(list(df.filter(regex=text)))]\n",
    "    return df"
   ]
  },
  {
   "cell_type": "code",
   "execution_count": 12,
   "metadata": {},
   "outputs": [],
   "source": [
    "dfs_unified = drop_columns_containing_text(dfs_unified, 'Sobre')"
   ]
  },
  {
   "cell_type": "code",
   "execution_count": 13,
   "metadata": {},
   "outputs": [],
   "source": [
    "# to keep track of raw columns, to afterwards drop them\n",
    "dfs_unified_raw_columns = dfs_unified.columns.tolist()\n",
    "# 'year' was created before and is not a raw column\n",
    "dfs_unified_raw_columns.remove('year')\n",
    "#dfs_unified_columns"
   ]
  },
  {
   "cell_type": "code",
   "execution_count": 14,
   "metadata": {},
   "outputs": [],
   "source": [
    "# tiene sentido copiar solo not null data y no toda????????"
   ]
  },
  {
   "cell_type": "code",
   "execution_count": 15,
   "metadata": {},
   "outputs": [],
   "source": [
    "def copy_data(new_col, old_col):\n",
    "    '''\n",
    "    copy not null data from one column to another\n",
    "    '''\n",
    "    dfs_unified[new_col] = np.where(dfs_unified[old_col].notnull(), dfs_unified[old_col], dfs_unified[new_col])"
   ]
  },
  {
   "cell_type": "code",
   "execution_count": 16,
   "metadata": {},
   "outputs": [],
   "source": [
    "dfs_unified['university'] = ''\n",
    "copy_data('university', 'Notas de corte de Medicina')\n",
    "copy_data('university', 'Universidad')\n",
    "copy_data('university', 'Facultad de Medicina')\n",
    "\n",
    "#dfs_unified['date_last_admission'] = ''\n",
    "#copy_data('date_last_admission', 'Fecha de última admisión')\n",
    "#copy_data('date_last_admission', 'Última fecha de admisión \\n(Fecha de la nota final)')\n",
    "\n",
    "dfs_unified['final_grade'] = ''\n",
    "copy_data('final_grade', 'Nota de corte final de Medicina')\n",
    "copy_data('final_grade', 'Nota de corte final')\n",
    "copy_data('final_grade', 'Nota de corte actual')\n",
    "\n",
    "\n",
    "\n",
    "dfs_unified['1_list'] = ''\n",
    "copy_data('1_list', '1ª Lista')\n",
    "\n",
    "#copy_data('19_list', '19ª lista')\n",
    "#copy_data('20_list', '20ª lista')"
   ]
  },
  {
   "cell_type": "code",
   "execution_count": 17,
   "metadata": {},
   "outputs": [],
   "source": [
    "# drop all old columns\n",
    "dfs_unified = dfs_unified.drop(dfs_unified_raw_columns, axis=1)\n",
    "\n",
    "# reset index\n",
    "dfs_unified = dfs_unified.reset_index()"
   ]
  },
  {
   "cell_type": "code",
   "execution_count": 18,
   "metadata": {},
   "outputs": [
    {
     "data": {
      "text/html": [
       "<div>\n",
       "<style scoped>\n",
       "    .dataframe tbody tr th:only-of-type {\n",
       "        vertical-align: middle;\n",
       "    }\n",
       "\n",
       "    .dataframe tbody tr th {\n",
       "        vertical-align: top;\n",
       "    }\n",
       "\n",
       "    .dataframe thead th {\n",
       "        text-align: right;\n",
       "    }\n",
       "</style>\n",
       "<table border=\"1\" class=\"dataframe\">\n",
       "  <thead>\n",
       "    <tr style=\"text-align: right;\">\n",
       "      <th></th>\n",
       "      <th>index</th>\n",
       "      <th>year</th>\n",
       "      <th>university</th>\n",
       "      <th>final_grade</th>\n",
       "      <th>1_list</th>\n",
       "    </tr>\n",
       "  </thead>\n",
       "  <tbody>\n",
       "    <tr>\n",
       "      <th>31</th>\n",
       "      <td>31</td>\n",
       "      <td>2010</td>\n",
       "      <td></td>\n",
       "      <td></td>\n",
       "      <td></td>\n",
       "    </tr>\n",
       "    <tr>\n",
       "      <th>33</th>\n",
       "      <td>33</td>\n",
       "      <td>2010</td>\n",
       "      <td>** Publicada nota de 11,257 en la CiuG, el 7/9/10</td>\n",
       "      <td></td>\n",
       "      <td></td>\n",
       "    </tr>\n",
       "    <tr>\n",
       "      <th>98</th>\n",
       "      <td>32</td>\n",
       "      <td>2012</td>\n",
       "      <td>Nota promedio</td>\n",
       "      <td>12.017</td>\n",
       "      <td></td>\n",
       "    </tr>\n",
       "    <tr>\n",
       "      <th>99</th>\n",
       "      <td>33</td>\n",
       "      <td>2012</td>\n",
       "      <td>Desviación típica</td>\n",
       "      <td>0.22</td>\n",
       "      <td></td>\n",
       "    </tr>\n",
       "    <tr>\n",
       "      <th>132</th>\n",
       "      <td>32</td>\n",
       "      <td>2013</td>\n",
       "      <td>Nota promedio</td>\n",
       "      <td>12.082</td>\n",
       "      <td></td>\n",
       "    </tr>\n",
       "    <tr>\n",
       "      <th>133</th>\n",
       "      <td>33</td>\n",
       "      <td>2013</td>\n",
       "      <td>Desviación típica</td>\n",
       "      <td>0.213</td>\n",
       "      <td></td>\n",
       "    </tr>\n",
       "    <tr>\n",
       "      <th>166</th>\n",
       "      <td>32</td>\n",
       "      <td>2014</td>\n",
       "      <td>Nota promedio</td>\n",
       "      <td>12.268</td>\n",
       "      <td></td>\n",
       "    </tr>\n",
       "    <tr>\n",
       "      <th>167</th>\n",
       "      <td>33</td>\n",
       "      <td>2014</td>\n",
       "      <td>Desviación típica</td>\n",
       "      <td>0.213</td>\n",
       "      <td></td>\n",
       "    </tr>\n",
       "    <tr>\n",
       "      <th>200</th>\n",
       "      <td>32</td>\n",
       "      <td>2015</td>\n",
       "      <td>Nota promedio</td>\n",
       "      <td>12.422</td>\n",
       "      <td>12.605</td>\n",
       "    </tr>\n",
       "    <tr>\n",
       "      <th>201</th>\n",
       "      <td>33</td>\n",
       "      <td>2015</td>\n",
       "      <td>Desviación típica</td>\n",
       "      <td>0.188</td>\n",
       "      <td>0.201</td>\n",
       "    </tr>\n",
       "    <tr>\n",
       "      <th>202</th>\n",
       "      <td>34</td>\n",
       "      <td>2015</td>\n",
       "      <td></td>\n",
       "      <td>0.184</td>\n",
       "      <td></td>\n",
       "    </tr>\n",
       "    <tr>\n",
       "      <th>203</th>\n",
       "      <td>35</td>\n",
       "      <td>2015</td>\n",
       "      <td></td>\n",
       "      <td>0.014</td>\n",
       "      <td></td>\n",
       "    </tr>\n",
       "    <tr>\n",
       "      <th>237</th>\n",
       "      <td>33</td>\n",
       "      <td>2016</td>\n",
       "      <td>Nota promedio</td>\n",
       "      <td>12.449</td>\n",
       "      <td>12.712</td>\n",
       "    </tr>\n",
       "    <tr>\n",
       "      <th>238</th>\n",
       "      <td>34</td>\n",
       "      <td>2016</td>\n",
       "      <td>Desviación típica</td>\n",
       "      <td>0.203</td>\n",
       "      <td>0.213</td>\n",
       "    </tr>\n",
       "    <tr>\n",
       "      <th>272</th>\n",
       "      <td>33</td>\n",
       "      <td>2017</td>\n",
       "      <td>Nota promedio</td>\n",
       "      <td>12.46</td>\n",
       "      <td>12.748</td>\n",
       "    </tr>\n",
       "    <tr>\n",
       "      <th>273</th>\n",
       "      <td>34</td>\n",
       "      <td>2017</td>\n",
       "      <td>Desviación típica</td>\n",
       "      <td>0.238</td>\n",
       "      <td>0.218</td>\n",
       "    </tr>\n",
       "    <tr>\n",
       "      <th>307</th>\n",
       "      <td>33</td>\n",
       "      <td>2018</td>\n",
       "      <td>Nota promedio</td>\n",
       "      <td>12.504</td>\n",
       "      <td>12.752</td>\n",
       "    </tr>\n",
       "    <tr>\n",
       "      <th>308</th>\n",
       "      <td>34</td>\n",
       "      <td>2018</td>\n",
       "      <td>Desviación típica</td>\n",
       "      <td>0.224</td>\n",
       "      <td>0.232</td>\n",
       "    </tr>\n",
       "    <tr>\n",
       "      <th>343</th>\n",
       "      <td>34</td>\n",
       "      <td>2019</td>\n",
       "      <td>Nota promedio</td>\n",
       "      <td>12.561</td>\n",
       "      <td>12.779</td>\n",
       "    </tr>\n",
       "    <tr>\n",
       "      <th>344</th>\n",
       "      <td>35</td>\n",
       "      <td>2019</td>\n",
       "      <td>Desviación típica</td>\n",
       "      <td>0.239</td>\n",
       "      <td>0.24</td>\n",
       "    </tr>\n",
       "    <tr>\n",
       "      <th>380</th>\n",
       "      <td>35</td>\n",
       "      <td>2020</td>\n",
       "      <td></td>\n",
       "      <td></td>\n",
       "      <td></td>\n",
       "    </tr>\n",
       "    <tr>\n",
       "      <th>381</th>\n",
       "      <td>36</td>\n",
       "      <td>2020</td>\n",
       "      <td>Nota promedio</td>\n",
       "      <td>12.903</td>\n",
       "      <td>13.193</td>\n",
       "    </tr>\n",
       "    <tr>\n",
       "      <th>382</th>\n",
       "      <td>37</td>\n",
       "      <td>2020</td>\n",
       "      <td>Desviación típica</td>\n",
       "      <td>0.236</td>\n",
       "      <td>0.226</td>\n",
       "    </tr>\n",
       "    <tr>\n",
       "      <th>418</th>\n",
       "      <td>35</td>\n",
       "      <td>2021</td>\n",
       "      <td></td>\n",
       "      <td></td>\n",
       "      <td></td>\n",
       "    </tr>\n",
       "    <tr>\n",
       "      <th>419</th>\n",
       "      <td>36</td>\n",
       "      <td>2021</td>\n",
       "      <td>Nota media</td>\n",
       "      <td>13.038</td>\n",
       "      <td>13.272</td>\n",
       "    </tr>\n",
       "    <tr>\n",
       "      <th>420</th>\n",
       "      <td>37</td>\n",
       "      <td>2021</td>\n",
       "      <td>Desviación típica</td>\n",
       "      <td>0.199</td>\n",
       "      <td>0.223</td>\n",
       "    </tr>\n",
       "  </tbody>\n",
       "</table>\n",
       "</div>"
      ],
      "text/plain": [
       "     index  year                                         university  \\\n",
       "31      31  2010                                                      \n",
       "33      33  2010  ** Publicada nota de 11,257 en la CiuG, el 7/9/10   \n",
       "98      32  2012                                      Nota promedio   \n",
       "99      33  2012                                  Desviación típica   \n",
       "132     32  2013                                      Nota promedio   \n",
       "133     33  2013                                  Desviación típica   \n",
       "166     32  2014                                      Nota promedio   \n",
       "167     33  2014                                  Desviación típica   \n",
       "200     32  2015                                      Nota promedio   \n",
       "201     33  2015                                  Desviación típica   \n",
       "202     34  2015                                                      \n",
       "203     35  2015                                                      \n",
       "237     33  2016                                      Nota promedio   \n",
       "238     34  2016                                  Desviación típica   \n",
       "272     33  2017                                      Nota promedio   \n",
       "273     34  2017                                  Desviación típica   \n",
       "307     33  2018                                      Nota promedio   \n",
       "308     34  2018                                  Desviación típica   \n",
       "343     34  2019                                      Nota promedio   \n",
       "344     35  2019                                  Desviación típica   \n",
       "380     35  2020                                                      \n",
       "381     36  2020                                      Nota promedio   \n",
       "382     37  2020                                  Desviación típica   \n",
       "418     35  2021                                                      \n",
       "419     36  2021                                         Nota media   \n",
       "420     37  2021                                  Desviación típica   \n",
       "\n",
       "    final_grade  1_list  \n",
       "31                       \n",
       "33                       \n",
       "98       12.017          \n",
       "99         0.22          \n",
       "132      12.082          \n",
       "133       0.213          \n",
       "166      12.268          \n",
       "167       0.213          \n",
       "200      12.422  12.605  \n",
       "201       0.188   0.201  \n",
       "202       0.184          \n",
       "203       0.014          \n",
       "237      12.449  12.712  \n",
       "238       0.203   0.213  \n",
       "272       12.46  12.748  \n",
       "273       0.238   0.218  \n",
       "307      12.504  12.752  \n",
       "308       0.224   0.232  \n",
       "343      12.561  12.779  \n",
       "344       0.239    0.24  \n",
       "380                      \n",
       "381      12.903  13.193  \n",
       "382       0.236   0.226  \n",
       "418                      \n",
       "419      13.038  13.272  \n",
       "420       0.199   0.223  "
      ]
     },
     "execution_count": 18,
     "metadata": {},
     "output_type": "execute_result"
    }
   ],
   "source": [
    "dfs_unified[~dfs_unified['university'].str.contains('U', na=False)]"
   ]
  },
  {
   "cell_type": "code",
   "execution_count": 19,
   "metadata": {},
   "outputs": [],
   "source": [
    "dfs_unified = dfs_unified[dfs_unified['university'].str.contains('U', na=False)]"
   ]
  },
  {
   "cell_type": "code",
   "execution_count": 20,
   "metadata": {},
   "outputs": [],
   "source": [
    "dfs_unified = dfs_unified[~dfs_unified['university'].str.contains('Sobre la Universidad de Santiago:', na=False)]"
   ]
  },
  {
   "cell_type": "code",
   "execution_count": 21,
   "metadata": {},
   "outputs": [
    {
     "data": {
      "text/plain": [
       "Index(['index', 'year', 'university', 'final_grade', '1_list'], dtype='object')"
      ]
     },
     "execution_count": 21,
     "metadata": {},
     "output_type": "execute_result"
    }
   ],
   "source": [
    "dfs_unified.columns"
   ]
  },
  {
   "cell_type": "code",
   "execution_count": 22,
   "metadata": {},
   "outputs": [],
   "source": [
    "dfs_unified_columns = dfs_unified.columns.tolist()[1:]\n",
    "\n",
    "num_columns = len(dfs_unified_columns)\n",
    "\n",
    "for i in range(num_columns):\n",
    "    dfs_unified[dfs_unified_columns[i]].replace({'': np.nan}, inplace=True)"
   ]
  },
  {
   "cell_type": "code",
   "execution_count": 23,
   "metadata": {},
   "outputs": [
    {
     "name": "stdout",
     "output_type": "stream",
     "text": [
      "column 1_list has 0 null rows\n",
      "column final_grade has 0 null rows\n",
      "column university has 0 null rows\n"
     ]
    }
   ],
   "source": [
    "# quality check: essential columns don't have nulls\n",
    "\n",
    "nulls_1_list = dfs_unified[dfs_unified['1_list'].isnull()].shape[0]\n",
    "nulls_final_grade = dfs_unified[dfs_unified['final_grade'].isnull()].shape[0]\n",
    "nulls_university = dfs_unified[dfs_unified['university'].isnull()].shape[0]\n",
    "\n",
    "if nulls_1_list or nulls_final_grade or nulls_university != 0:\n",
    "    sys.exit()\n",
    "else:\n",
    "    print('column 1_list has', nulls_1_list, 'null rows')\n",
    "    print('column final_grade has', nulls_final_grade, 'null rows')\n",
    "    print('column university has', nulls_university, 'null rows')"
   ]
  },
  {
   "cell_type": "markdown",
   "metadata": {},
   "source": [
    "## Create consistent University names across years"
   ]
  },
  {
   "cell_type": "code",
   "execution_count": 24,
   "metadata": {},
   "outputs": [],
   "source": [
    "dfs_unified['university'] = dfs_unified['university'].str.lower()"
   ]
  },
  {
   "cell_type": "code",
   "execution_count": 25,
   "metadata": {},
   "outputs": [
    {
     "data": {
      "text/plain": [
       "array(['universidad complutense de madrid', 'universidad de sevilla',\n",
       "       'universidad de murcia', 'universidad de granada',\n",
       "       'u. autónoma de madrid', 'universidad de málaga',\n",
       "       'universidad de córdoba', 'universidad de cádiz',\n",
       "       'u. miguel hernández (s. juan de alicante)',\n",
       "       'u. de c-la mancha (campus c.real)', 'universidad de alcalá',\n",
       "       'universidad de valladolid', 'urjc - campus alcorcón',\n",
       "       'u. de c-la mancha (campus albacete)',\n",
       "       'u. de extremadura (badajoz)', 'universidad pública de navarra',\n",
       "       'universidad de valencia', 'universidad jaume i',\n",
       "       'u. de zaragoza (campus zaragoza)',\n",
       "       'universidad de barcelona-clínico', 'universidad de la laguna',\n",
       "       'universidad de las palmas', 'universidad de salamanca',\n",
       "       'u. de zaragoza (campus huesca)', 'u. de santiago de compostela',\n",
       "       'universidad de oviedo', 'u. de cantabria (santander)',\n",
       "       'universidad de barcelona-bellvitge',\n",
       "       'universidad del país vasco (lejona)',\n",
       "       'universidad de las islas baleares', 'u. pompeu fabra (barcelona)',\n",
       "       'universidad autónoma de barcelona', 'universidad de gerona',\n",
       "       'universidad de lérida', 'universidad rovira i virgili (reus)'],\n",
       "      dtype=object)"
      ]
     },
     "execution_count": 25,
     "metadata": {},
     "output_type": "execute_result"
    }
   ],
   "source": [
    "last_year = 2021\n",
    "dfs_unified[dfs_unified['year'] == last_year]['university'].values"
   ]
  },
  {
   "cell_type": "code",
   "execution_count": 26,
   "metadata": {},
   "outputs": [
    {
     "name": "stdout",
     "output_type": "stream",
     "text": [
      "There are 35 universities in 2021\n",
      "There are a total of 48 universities in our dataset\n",
      "This means there are a total of 13 universities that have a different name than the ones in our 2021 data, and need to be mapped\n"
     ]
    }
   ],
   "source": [
    "list_of_uni_names_2021 = dfs_unified[dfs_unified['year'] == last_year]['university'].tolist()\n",
    "num_of_uni_names_2021 = len(list_of_uni_names_2021)\n",
    "print('There are', num_of_uni_names_2021, 'universities in 2021')\n",
    "\n",
    "dfs_unified_list_uni = list(dfs_unified['university'].unique())\n",
    "num_of_uni_names_dataset = len(dfs_unified_list_uni)\n",
    "print('There are a total of', num_of_uni_names_dataset, 'universities in our dataset')\n",
    "\n",
    "diff_uni_names = num_of_uni_names_dataset - num_of_uni_names_2021\n",
    "print('This means there are a total of', diff_uni_names, 'universities that have a different name than the ones in our 2021 data, and need to be mapped')"
   ]
  },
  {
   "cell_type": "code",
   "execution_count": 27,
   "metadata": {},
   "outputs": [
    {
     "name": "stdout",
     "output_type": "stream",
     "text": [
      "list of not matched created successfully\n"
     ]
    },
    {
     "data": {
      "text/plain": [
       "['universidad de zaragoza - campus de huesca',\n",
       " 'universidad de cantabria (santander)',\n",
       " 'universidad de santiago de compostela',\n",
       " 'universidad de extremadura (badajoz)',\n",
       " 'universidad pompeu fabra (barcelona)',\n",
       " 'universidad de barcelona',\n",
       " 'universidad de zaragoza - campus de zaragoza',\n",
       " 'universidad de clm- campus de ciudad real',\n",
       " 'universidad de clm- campus de albacete',\n",
       " 'universidad miguel hernández (san juan de alicante)',\n",
       " 'universidad rey juan carlos - campus de alcorcón',\n",
       " 'universidad autónoma de madrid',\n",
       " 'universidad de jaume i']"
      ]
     },
     "execution_count": 27,
     "metadata": {},
     "output_type": "execute_result"
    }
   ],
   "source": [
    "# we create a list with the universities that have different name\n",
    "\n",
    "list_not_matched = []\n",
    "\n",
    "for i in dfs_unified_list_uni:\n",
    "    if i not in list_of_uni_names_2021:\n",
    "        list_not_matched.append(i)\n",
    "    else:\n",
    "        continue\n",
    "\n",
    "\n",
    "if len(list_not_matched) != diff_uni_names:\n",
    "    sys.exit()\n",
    "else:\n",
    "    print('list of not matched created successfully')\n",
    "\n",
    "list_not_matched"
   ]
  },
  {
   "cell_type": "markdown",
   "metadata": {},
   "source": [
    "### Sequence Matcher"
   ]
  },
  {
   "cell_type": "code",
   "execution_count": 28,
   "metadata": {},
   "outputs": [],
   "source": [
    "from difflib import SequenceMatcher\n",
    "\n",
    "def similar(a, b):\n",
    "    return SequenceMatcher(None, a, b).ratio()"
   ]
  },
  {
   "cell_type": "code",
   "execution_count": 29,
   "metadata": {},
   "outputs": [],
   "source": [
    "df1 = pd.DataFrame({\n",
    "    \"not_matched_uni\": list_not_matched\n",
    "})\n",
    "\n",
    "df2 = pd.DataFrame({\n",
    "    \"list_of_uni_names_2021\": list_of_uni_names_2021\n",
    "})\n",
    "\n",
    "df3 = pd.MultiIndex.from_product(\n",
    "    [df1[\"not_matched_uni\"], df2[\"list_of_uni_names_2021\"]], names=[\"not_matched_uni\", \"list_of_uni_names_2021\"]\n",
    ").to_frame(index=False)"
   ]
  },
  {
   "cell_type": "code",
   "execution_count": 30,
   "metadata": {},
   "outputs": [
    {
     "data": {
      "text/plain": [
       "13"
      ]
     },
     "execution_count": 30,
     "metadata": {},
     "output_type": "execute_result"
    }
   ],
   "source": [
    "df3['ratio'] = ''\n",
    "\n",
    "for i in range(len(df3['not_matched_uni'])):\n",
    "    df3['ratio'][i] = similar(df3['not_matched_uni'][i], df3['list_of_uni_names_2021'][i])\n",
    "\n",
    "df3['not_matched_uni'].nunique()"
   ]
  },
  {
   "cell_type": "code",
   "execution_count": 31,
   "metadata": {},
   "outputs": [
    {
     "data": {
      "text/html": [
       "<div>\n",
       "<style scoped>\n",
       "    .dataframe tbody tr th:only-of-type {\n",
       "        vertical-align: middle;\n",
       "    }\n",
       "\n",
       "    .dataframe tbody tr th {\n",
       "        vertical-align: top;\n",
       "    }\n",
       "\n",
       "    .dataframe thead th {\n",
       "        text-align: right;\n",
       "    }\n",
       "</style>\n",
       "<table border=\"1\" class=\"dataframe\">\n",
       "  <thead>\n",
       "    <tr style=\"text-align: right;\">\n",
       "      <th></th>\n",
       "      <th>not_matched_uni</th>\n",
       "      <th>ratio_x</th>\n",
       "      <th>list_of_uni_names_2021</th>\n",
       "      <th>ratio_y</th>\n",
       "    </tr>\n",
       "  </thead>\n",
       "  <tbody>\n",
       "    <tr>\n",
       "      <th>31</th>\n",
       "      <td>universidad autónoma de madrid</td>\n",
       "      <td>0.825397</td>\n",
       "      <td>universidad autónoma de barcelona</td>\n",
       "      <td>0.825397</td>\n",
       "    </tr>\n",
       "    <tr>\n",
       "      <th>54</th>\n",
       "      <td>universidad de barcelona</td>\n",
       "      <td>0.857143</td>\n",
       "      <td>universidad de barcelona-clínico</td>\n",
       "      <td>0.857143</td>\n",
       "    </tr>\n",
       "    <tr>\n",
       "      <th>96</th>\n",
       "      <td>universidad de cantabria (santander)</td>\n",
       "      <td>0.825397</td>\n",
       "      <td>u. de cantabria (santander)</td>\n",
       "      <td>0.825397</td>\n",
       "    </tr>\n",
       "    <tr>\n",
       "      <th>134</th>\n",
       "      <td>universidad de clm- campus de albacete</td>\n",
       "      <td>0.676056</td>\n",
       "      <td>universidad de las islas baleares</td>\n",
       "      <td>0.676056</td>\n",
       "    </tr>\n",
       "    <tr>\n",
       "      <th>140</th>\n",
       "      <td>universidad de clm- campus de ciudad real</td>\n",
       "      <td>0.648649</td>\n",
       "      <td>universidad complutense de madrid</td>\n",
       "      <td>0.648649</td>\n",
       "    </tr>\n",
       "    <tr>\n",
       "      <th>189</th>\n",
       "      <td>universidad de extremadura (badajoz)</td>\n",
       "      <td>0.825397</td>\n",
       "      <td>u. de extremadura (badajoz)</td>\n",
       "      <td>0.825397</td>\n",
       "    </tr>\n",
       "    <tr>\n",
       "      <th>227</th>\n",
       "      <td>universidad de jaume i</td>\n",
       "      <td>0.926829</td>\n",
       "      <td>universidad jaume i</td>\n",
       "      <td>0.926829</td>\n",
       "    </tr>\n",
       "    <tr>\n",
       "      <th>269</th>\n",
       "      <td>universidad de santiago de compostela</td>\n",
       "      <td>0.830769</td>\n",
       "      <td>u. de santiago de compostela</td>\n",
       "      <td>0.830769</td>\n",
       "    </tr>\n",
       "    <tr>\n",
       "      <th>303</th>\n",
       "      <td>universidad de zaragoza - campus de huesca</td>\n",
       "      <td>0.750000</td>\n",
       "      <td>u. de zaragoza (campus huesca)</td>\n",
       "      <td>0.75</td>\n",
       "    </tr>\n",
       "    <tr>\n",
       "      <th>333</th>\n",
       "      <td>universidad de zaragoza - campus de zaragoza</td>\n",
       "      <td>0.763158</td>\n",
       "      <td>u. de zaragoza (campus zaragoza)</td>\n",
       "      <td>0.763158</td>\n",
       "    </tr>\n",
       "    <tr>\n",
       "      <th>358</th>\n",
       "      <td>universidad miguel hernández (san juan de alic...</td>\n",
       "      <td>0.847826</td>\n",
       "      <td>u. miguel hernández (s. juan de alicante)</td>\n",
       "      <td>0.847826</td>\n",
       "    </tr>\n",
       "    <tr>\n",
       "      <th>415</th>\n",
       "      <td>universidad pompeu fabra (barcelona)</td>\n",
       "      <td>0.825397</td>\n",
       "      <td>u. pompeu fabra (barcelona)</td>\n",
       "      <td>0.825397</td>\n",
       "    </tr>\n",
       "    <tr>\n",
       "      <th>432</th>\n",
       "      <td>universidad rey juan carlos - campus de alcorcón</td>\n",
       "      <td>0.628571</td>\n",
       "      <td>urjc - campus alcorcón</td>\n",
       "      <td>0.628571</td>\n",
       "    </tr>\n",
       "  </tbody>\n",
       "</table>\n",
       "</div>"
      ],
      "text/plain": [
       "                                       not_matched_uni   ratio_x  \\\n",
       "31                      universidad autónoma de madrid  0.825397   \n",
       "54                            universidad de barcelona  0.857143   \n",
       "96                universidad de cantabria (santander)  0.825397   \n",
       "134             universidad de clm- campus de albacete  0.676056   \n",
       "140          universidad de clm- campus de ciudad real  0.648649   \n",
       "189               universidad de extremadura (badajoz)  0.825397   \n",
       "227                             universidad de jaume i  0.926829   \n",
       "269              universidad de santiago de compostela  0.830769   \n",
       "303         universidad de zaragoza - campus de huesca  0.750000   \n",
       "333       universidad de zaragoza - campus de zaragoza  0.763158   \n",
       "358  universidad miguel hernández (san juan de alic...  0.847826   \n",
       "415               universidad pompeu fabra (barcelona)  0.825397   \n",
       "432   universidad rey juan carlos - campus de alcorcón  0.628571   \n",
       "\n",
       "                        list_of_uni_names_2021   ratio_y  \n",
       "31           universidad autónoma de barcelona  0.825397  \n",
       "54            universidad de barcelona-clínico  0.857143  \n",
       "96                 u. de cantabria (santander)  0.825397  \n",
       "134          universidad de las islas baleares  0.676056  \n",
       "140          universidad complutense de madrid  0.648649  \n",
       "189                u. de extremadura (badajoz)  0.825397  \n",
       "227                        universidad jaume i  0.926829  \n",
       "269               u. de santiago de compostela  0.830769  \n",
       "303             u. de zaragoza (campus huesca)      0.75  \n",
       "333           u. de zaragoza (campus zaragoza)  0.763158  \n",
       "358  u. miguel hernández (s. juan de alicante)  0.847826  \n",
       "415                u. pompeu fabra (barcelona)  0.825397  \n",
       "432                     urjc - campus alcorcón  0.628571  "
      ]
     },
     "execution_count": 31,
     "metadata": {},
     "output_type": "execute_result"
    }
   ],
   "source": [
    "df4 = df3.groupby('not_matched_uni')['ratio'].max().reset_index()\n",
    "\n",
    "df5 = pd.merge(df4,df3,on='not_matched_uni',how='left')\n",
    "df5 = df5[df5['ratio_x'] == df5['ratio_y']]\n",
    "df5"
   ]
  },
  {
   "cell_type": "code",
   "execution_count": 32,
   "metadata": {},
   "outputs": [],
   "source": [
    "# hacerlo con str.contains, crear funcion"
   ]
  },
  {
   "cell_type": "code",
   "execution_count": 33,
   "metadata": {},
   "outputs": [],
   "source": [
    "dfs_unified['university'] = np.where((dfs_unified['university'] == 'universidad de cantabria (santander)'), 'u. de cantabria (santander)', dfs_unified['university'])\n",
    "dfs_unified['university'] = np.where((dfs_unified['university'] == 'universidad de extremadura (badajoz)'), 'u. de extremadura (badajoz)', dfs_unified['university'])\n",
    "dfs_unified['university'] = np.where((dfs_unified['university'] == 'universidad de jaume i'), 'universidad jaume i', dfs_unified['university'])\n",
    "dfs_unified['university'] = np.where((dfs_unified['university'] == 'universidad de zaragoza - campus de huesca'), 'u. de zaragoza (campus huesca)', dfs_unified['university'])\n",
    "dfs_unified['university'] = np.where((dfs_unified['university'] == 'universidad de santiago de compostela'), 'u. de santiago de compostela', dfs_unified['university'])\n",
    "dfs_unified['university'] = np.where((dfs_unified['university'] == 'universidad de zaragoza - campus de zaragoza'), 'u. de zaragoza (campus zaragoza)', dfs_unified['university'])\n",
    "dfs_unified['university'] = np.where((dfs_unified['university'] == 'universidad miguel hernández (san juan de alicante)'), 'u. miguel hernández (s. juan de alicante)', dfs_unified['university'])\n",
    "dfs_unified['university'] = np.where((dfs_unified['university'] == 'universidad pompeu fabra (barcelona)'), 'u. pompeu fabra (barcelona)', dfs_unified['university'])\n",
    "dfs_unified['university'] = np.where((dfs_unified['university'] == 'universidad de santiago de compostela'), 'u. de santiago de compostela', dfs_unified['university'])\n",
    "dfs_unified['university'] = np.where((dfs_unified['university'] == 'universidad rey juan carlos - campus de alcorcón'), 'urjc - campus alcorcón', dfs_unified['university'])\n",
    "\n",
    "\n",
    "dfs_unified['university'] = np.where((dfs_unified['university'] == 'universidad autónoma de madrid'), 'u. autónoma de madrid', dfs_unified['university'])\n",
    "dfs_unified['university'] = np.where((dfs_unified['university'] == 'universidad de barcelona'), 'universidad de barcelona-clínico', dfs_unified['university'])\n",
    "dfs_unified['university'] = np.where((dfs_unified['university'] == 'universidad de clm- campus de albacete'), 'u. de c-la mancha (campus albacete)', dfs_unified['university'])\n",
    "dfs_unified['university'] = np.where((dfs_unified['university'] == 'universidad de clm- campus de ciudad real'), 'u. de c-la mancha (campus c.real)', dfs_unified['university'])"
   ]
  },
  {
   "cell_type": "code",
   "execution_count": 34,
   "metadata": {},
   "outputs": [
    {
     "name": "stdout",
     "output_type": "stream",
     "text": [
      "all university names are consistent with 2021\n",
      "all university names are consistent with 2021\n"
     ]
    }
   ],
   "source": [
    "# quality check: make sure all university names are mapped with 2021 names\n",
    "\n",
    "dfs_unified_list_uni = list(dfs_unified['university'].unique())\n",
    "\n",
    "list_not_matched = []\n",
    "\n",
    "for i in dfs_unified_list_uni:\n",
    "    if i not in list_of_uni_names_2021:\n",
    "        list_not_matched.append(i)\n",
    "    else:\n",
    "        continue\n",
    "\n",
    "# checking length of not matched\n",
    "if len(list_not_matched) != 0:\n",
    "    sys.exit()\n",
    "else:\n",
    "    print('all university names are consistent with 2021')\n",
    "\n",
    "# another way of checking this could be by analyzing the overall length and unique names\n",
    "if dfs_unified['university'].nunique() != len(list_of_uni_names_2021):\n",
    "    sys.exit()\n",
    "else:\n",
    "    print('all university names are consistent with 2021')"
   ]
  },
  {
   "cell_type": "markdown",
   "metadata": {},
   "source": [
    "### Check if all of the universities have been delivering Medicine career since 2010"
   ]
  },
  {
   "cell_type": "code",
   "execution_count": 35,
   "metadata": {},
   "outputs": [
    {
     "data": {
      "text/plain": [
       "year\n",
       "2010    31\n",
       "2011    32\n",
       "2012    32\n",
       "2013    32\n",
       "2014    32\n",
       "2015    32\n",
       "2016    33\n",
       "2017    33\n",
       "2018    33\n",
       "2019    34\n",
       "2020    35\n",
       "2021    35\n",
       "Name: university, dtype: int64"
      ]
     },
     "execution_count": 35,
     "metadata": {},
     "output_type": "execute_result"
    }
   ],
   "source": [
    "# check how many universities there are per year\n",
    "uni_year_grouped = dfs_unified.groupby(['year'])['university'].count()\n",
    "uni_year_grouped"
   ]
  },
  {
   "cell_type": "code",
   "execution_count": 36,
   "metadata": {},
   "outputs": [
    {
     "data": {
      "text/html": [
       "<div>\n",
       "<style scoped>\n",
       "    .dataframe tbody tr th:only-of-type {\n",
       "        vertical-align: middle;\n",
       "    }\n",
       "\n",
       "    .dataframe tbody tr th {\n",
       "        vertical-align: top;\n",
       "    }\n",
       "\n",
       "    .dataframe thead th {\n",
       "        text-align: right;\n",
       "    }\n",
       "</style>\n",
       "<table border=\"1\" class=\"dataframe\">\n",
       "  <thead>\n",
       "    <tr style=\"text-align: right;\">\n",
       "      <th></th>\n",
       "      <th>since_2010</th>\n",
       "    </tr>\n",
       "    <tr>\n",
       "      <th>university</th>\n",
       "      <th></th>\n",
       "    </tr>\n",
       "  </thead>\n",
       "  <tbody>\n",
       "    <tr>\n",
       "      <th>universidad de barcelona-bellvitge</th>\n",
       "      <td>False</td>\n",
       "    </tr>\n",
       "    <tr>\n",
       "      <th>universidad de las islas baleares</th>\n",
       "      <td>False</td>\n",
       "    </tr>\n",
       "    <tr>\n",
       "      <th>universidad jaume i</th>\n",
       "      <td>False</td>\n",
       "    </tr>\n",
       "    <tr>\n",
       "      <th>universidad pública de navarra</th>\n",
       "      <td>False</td>\n",
       "    </tr>\n",
       "  </tbody>\n",
       "</table>\n",
       "</div>"
      ],
      "text/plain": [
       "                                    since_2010\n",
       "university                                    \n",
       "universidad de barcelona-bellvitge       False\n",
       "universidad de las islas baleares        False\n",
       "universidad jaume i                      False\n",
       "universidad pública de navarra           False"
      ]
     },
     "execution_count": 36,
     "metadata": {},
     "output_type": "execute_result"
    }
   ],
   "source": [
    "# seems like there are 4 universities that haven't been delivering the Medicine career since 2010, let's check which ones they are\n",
    "bool_2010 = {'since_2010': dfs_unified.groupby('university')['university'].count() == 12}\n",
    "bool_2010_df = pd.DataFrame(bool_2010, columns=['since_2010'])\n",
    "bool_2010_df[bool_2010_df['since_2010'] == False]"
   ]
  },
  {
   "cell_type": "code",
   "execution_count": 37,
   "metadata": {},
   "outputs": [],
   "source": [
    "dfs_unified['since_2010'] = ''\n",
    "dfs_unified['since_2010'] = np.where(dfs_unified['university'] == 'universidad de barcelona-bellvitge', False, dfs_unified['since_2010'])\n",
    "dfs_unified['since_2010'] = np.where(dfs_unified['university'] == 'universidad de las islas baleares', False, dfs_unified['since_2010'])\n",
    "dfs_unified['since_2010'] = np.where(dfs_unified['university'] == 'universidad jaume i', False, dfs_unified['since_2010'])\n",
    "dfs_unified['since_2010'] = np.where(dfs_unified['university'] == 'universidad pública de navarra', False, dfs_unified['since_2010'])\n",
    "dfs_unified['since_2010'] = np.where(dfs_unified['since_2010'] == '', True, dfs_unified['since_2010'])"
   ]
  },
  {
   "cell_type": "code",
   "execution_count": 38,
   "metadata": {},
   "outputs": [
    {
     "data": {
      "text/plain": [
       "2"
      ]
     },
     "execution_count": 38,
     "metadata": {},
     "output_type": "execute_result"
    }
   ],
   "source": [
    "dfs_unified['since_2010'].nunique()"
   ]
  },
  {
   "cell_type": "markdown",
   "metadata": {},
   "source": [
    "## Convert columns with numbers to floats"
   ]
  },
  {
   "cell_type": "code",
   "execution_count": 39,
   "metadata": {},
   "outputs": [],
   "source": [
    "# to convert to float, we can't have commas or spaces, as this function '.astype(float)' will give back an error"
   ]
  },
  {
   "cell_type": "code",
   "execution_count": 40,
   "metadata": {},
   "outputs": [],
   "source": [
    "# float to 2 decimals?? some have 3"
   ]
  },
  {
   "cell_type": "code",
   "execution_count": 41,
   "metadata": {},
   "outputs": [],
   "source": [
    "dfs_unified['1_list'] = dfs_unified['1_list'].astype(float)"
   ]
  },
  {
   "cell_type": "markdown",
   "metadata": {},
   "source": [
    "# Feature Engineering"
   ]
  },
  {
   "cell_type": "markdown",
   "metadata": {},
   "source": [
    "## Create City and CCAA columns"
   ]
  },
  {
   "cell_type": "markdown",
   "metadata": {},
   "source": [
    "### City"
   ]
  },
  {
   "cell_type": "code",
   "execution_count": 42,
   "metadata": {},
   "outputs": [],
   "source": [
    "# first: bigger cities in case two names appear\n",
    "list_of_cities = ['madrid', 'zaragoza', 'barcelona', 'sevilla', 'valencia', 'murcia', 'granada','málaga', 'córdoba', 'cádiz', 'alicante', 'albacete', \\\n",
    "    'valladolid', 'badajoz', 'gerona', 'lérida', 'reus', 'navarra', 'santander', 'oviedo', \\\n",
    "    'santiago de compostela', 'salamanca', 'bilbao', 'salamanca', 'navarra', 'las palmas', 'la laguna', 'alcalá', 'ciudad real', 'huesca']"
   ]
  },
  {
   "cell_type": "code",
   "execution_count": 43,
   "metadata": {},
   "outputs": [],
   "source": [
    "num_cities = len(list_of_cities)"
   ]
  },
  {
   "cell_type": "code",
   "execution_count": 44,
   "metadata": {},
   "outputs": [],
   "source": [
    "i=0\n",
    "dfs_unified['city'] = ''\n",
    "while i < num_cities:\n",
    "    dfs_unified['city'] = np.where(dfs_unified['university'].str.contains(list_of_cities[i], na=False), list_of_cities[i], dfs_unified['city'])\n",
    "    i +=1"
   ]
  },
  {
   "cell_type": "code",
   "execution_count": 45,
   "metadata": {},
   "outputs": [],
   "source": [
    "dfs_unified['city'].replace({'': np.nan}, inplace=True)"
   ]
  },
  {
   "cell_type": "code",
   "execution_count": 46,
   "metadata": {},
   "outputs": [],
   "source": [
    "#dfs_unified[dfs_unified['city'].isnull()]"
   ]
  },
  {
   "cell_type": "code",
   "execution_count": 47,
   "metadata": {},
   "outputs": [],
   "source": [
    "dfs_unified['city'] = np.where(dfs_unified['university'].str.contains('país vasco', na=False), 'bilbao', dfs_unified['city'])\n",
    "dfs_unified['city'] = np.where(dfs_unified['university'].str.contains('alcorcón', na=False), 'madrid', dfs_unified['city'])\n",
    "dfs_unified['city'] = np.where(dfs_unified['university'].str.contains('c.real', na=False), 'ciudad real', dfs_unified['city'])\n",
    "dfs_unified['city'] = np.where(dfs_unified['university'].str.contains('jaume', na=False), 'castellon de la plana', dfs_unified['city'])\n",
    "dfs_unified['city'] = np.where(dfs_unified['university'].str.contains('islas baleares', na=False), 'palma de mallorca', dfs_unified['city'])"
   ]
  },
  {
   "cell_type": "code",
   "execution_count": 48,
   "metadata": {},
   "outputs": [
    {
     "data": {
      "text/html": [
       "<div>\n",
       "<style scoped>\n",
       "    .dataframe tbody tr th:only-of-type {\n",
       "        vertical-align: middle;\n",
       "    }\n",
       "\n",
       "    .dataframe tbody tr th {\n",
       "        vertical-align: top;\n",
       "    }\n",
       "\n",
       "    .dataframe thead th {\n",
       "        text-align: right;\n",
       "    }\n",
       "</style>\n",
       "<table border=\"1\" class=\"dataframe\">\n",
       "  <thead>\n",
       "    <tr style=\"text-align: right;\">\n",
       "      <th></th>\n",
       "      <th>index</th>\n",
       "      <th>year</th>\n",
       "      <th>university</th>\n",
       "      <th>final_grade</th>\n",
       "      <th>1_list</th>\n",
       "      <th>since_2010</th>\n",
       "      <th>city</th>\n",
       "    </tr>\n",
       "  </thead>\n",
       "  <tbody>\n",
       "  </tbody>\n",
       "</table>\n",
       "</div>"
      ],
      "text/plain": [
       "Empty DataFrame\n",
       "Columns: [index, year, university, final_grade, 1_list, since_2010, city]\n",
       "Index: []"
      ]
     },
     "execution_count": 48,
     "metadata": {},
     "output_type": "execute_result"
    }
   ],
   "source": [
    "dfs_unified[dfs_unified['city'].isnull()]"
   ]
  },
  {
   "cell_type": "code",
   "execution_count": 49,
   "metadata": {},
   "outputs": [],
   "source": [
    "num_columns = len(dfs_unified_columns)\n",
    "\n",
    "while i < num_columns:\n",
    "    dfs_unified[dfs_unified_columns[i]].replace({'': np.nan}, inplace=True)\n",
    "    i += 1"
   ]
  },
  {
   "cell_type": "markdown",
   "metadata": {},
   "source": [
    "### CCAA"
   ]
  },
  {
   "cell_type": "code",
   "execution_count": null,
   "metadata": {},
   "outputs": [],
   "source": []
  },
  {
   "cell_type": "code",
   "execution_count": null,
   "metadata": {},
   "outputs": [],
   "source": []
  },
  {
   "cell_type": "code",
   "execution_count": null,
   "metadata": {},
   "outputs": [],
   "source": []
  },
  {
   "cell_type": "code",
   "execution_count": null,
   "metadata": {},
   "outputs": [],
   "source": []
  },
  {
   "cell_type": "code",
   "execution_count": null,
   "metadata": {},
   "outputs": [],
   "source": []
  },
  {
   "cell_type": "markdown",
   "metadata": {},
   "source": [
    "## Covid format change: change in test format due to covid"
   ]
  },
  {
   "cell_type": "code",
   "execution_count": 50,
   "metadata": {},
   "outputs": [],
   "source": [
    "# change in test format due to covid\n",
    "dfs_unified['covid_format_change'] = ''\n",
    "dfs_unified['covid_format_change'] = np.where((dfs_unified['year'] >= 2020), float(1), dfs_unified['covid_format_change'])\n",
    "dfs_unified['covid_format_change'] = np.where((dfs_unified['year'] < 2020), float(0), dfs_unified['covid_format_change'])"
   ]
  },
  {
   "cell_type": "markdown",
   "metadata": {},
   "source": [
    "## PCT Growth between years"
   ]
  },
  {
   "cell_type": "code",
   "execution_count": 51,
   "metadata": {},
   "outputs": [],
   "source": [
    "# growth columns\n",
    "dfs_unified['growth_1_list'] = dfs_unified.groupby('university')['1_list'].pct_change()\n",
    "dfs_unified['growth_final_grade'] = dfs_unified.groupby('university')['final_grade'].pct_change()"
   ]
  },
  {
   "cell_type": "markdown",
   "metadata": {},
   "source": [
    "## Decreased value between 1_list and final_grade"
   ]
  },
  {
   "cell_type": "code",
   "execution_count": 52,
   "metadata": {},
   "outputs": [],
   "source": [
    "# decresead value from 1_list to final grade\n",
    "dfs_unified['diff_1_list_final_grade'] = dfs_unified['1_list'] - dfs_unified['final_grade']"
   ]
  },
  {
   "cell_type": "markdown",
   "metadata": {},
   "source": [
    "# Model"
   ]
  },
  {
   "cell_type": "code",
   "execution_count": 53,
   "metadata": {},
   "outputs": [],
   "source": [
    "#columnas growth poner NAs en vez de 0.0"
   ]
  },
  {
   "cell_type": "code",
   "execution_count": 54,
   "metadata": {},
   "outputs": [
    {
     "data": {
      "text/html": [
       "<div>\n",
       "<style scoped>\n",
       "    .dataframe tbody tr th:only-of-type {\n",
       "        vertical-align: middle;\n",
       "    }\n",
       "\n",
       "    .dataframe tbody tr th {\n",
       "        vertical-align: top;\n",
       "    }\n",
       "\n",
       "    .dataframe thead th {\n",
       "        text-align: right;\n",
       "    }\n",
       "</style>\n",
       "<table border=\"1\" class=\"dataframe\">\n",
       "  <thead>\n",
       "    <tr style=\"text-align: right;\">\n",
       "      <th></th>\n",
       "      <th>index</th>\n",
       "      <th>year</th>\n",
       "      <th>university</th>\n",
       "      <th>final_grade</th>\n",
       "      <th>1_list</th>\n",
       "      <th>since_2010</th>\n",
       "      <th>city</th>\n",
       "      <th>covid_format_change</th>\n",
       "      <th>growth_1_list</th>\n",
       "      <th>growth_final_grade</th>\n",
       "      <th>diff_1_list_final_grade</th>\n",
       "    </tr>\n",
       "  </thead>\n",
       "  <tbody>\n",
       "    <tr>\n",
       "      <th>0</th>\n",
       "      <td>0</td>\n",
       "      <td>2010</td>\n",
       "      <td>universidad de lérida</td>\n",
       "      <td>11.040</td>\n",
       "      <td>11.654</td>\n",
       "      <td>True</td>\n",
       "      <td>lérida</td>\n",
       "      <td>0.0</td>\n",
       "      <td>NaN</td>\n",
       "      <td>NaN</td>\n",
       "      <td>0.614</td>\n",
       "    </tr>\n",
       "    <tr>\n",
       "      <th>1</th>\n",
       "      <td>1</td>\n",
       "      <td>2010</td>\n",
       "      <td>universidad de gerona</td>\n",
       "      <td>11.070</td>\n",
       "      <td>11.610</td>\n",
       "      <td>True</td>\n",
       "      <td>gerona</td>\n",
       "      <td>0.0</td>\n",
       "      <td>NaN</td>\n",
       "      <td>NaN</td>\n",
       "      <td>0.540</td>\n",
       "    </tr>\n",
       "    <tr>\n",
       "      <th>2</th>\n",
       "      <td>2</td>\n",
       "      <td>2010</td>\n",
       "      <td>universidad rovira i virgili (reus)</td>\n",
       "      <td>11.142</td>\n",
       "      <td>11.708</td>\n",
       "      <td>True</td>\n",
       "      <td>reus</td>\n",
       "      <td>0.0</td>\n",
       "      <td>NaN</td>\n",
       "      <td>NaN</td>\n",
       "      <td>0.566</td>\n",
       "    </tr>\n",
       "    <tr>\n",
       "      <th>3</th>\n",
       "      <td>3</td>\n",
       "      <td>2010</td>\n",
       "      <td>u. de zaragoza (campus huesca)</td>\n",
       "      <td>11.190</td>\n",
       "      <td>12.059</td>\n",
       "      <td>True</td>\n",
       "      <td>huesca</td>\n",
       "      <td>0.0</td>\n",
       "      <td>NaN</td>\n",
       "      <td>NaN</td>\n",
       "      <td>0.869</td>\n",
       "    </tr>\n",
       "    <tr>\n",
       "      <th>4</th>\n",
       "      <td>4</td>\n",
       "      <td>2010</td>\n",
       "      <td>universidad autónoma de barcelona</td>\n",
       "      <td>11.195</td>\n",
       "      <td>11.590</td>\n",
       "      <td>True</td>\n",
       "      <td>barcelona</td>\n",
       "      <td>0.0</td>\n",
       "      <td>NaN</td>\n",
       "      <td>NaN</td>\n",
       "      <td>0.395</td>\n",
       "    </tr>\n",
       "    <tr>\n",
       "      <th>...</th>\n",
       "      <td>...</td>\n",
       "      <td>...</td>\n",
       "      <td>...</td>\n",
       "      <td>...</td>\n",
       "      <td>...</td>\n",
       "      <td>...</td>\n",
       "      <td>...</td>\n",
       "      <td>...</td>\n",
       "      <td>...</td>\n",
       "      <td>...</td>\n",
       "      <td>...</td>\n",
       "    </tr>\n",
       "    <tr>\n",
       "      <th>413</th>\n",
       "      <td>30</td>\n",
       "      <td>2021</td>\n",
       "      <td>u. pompeu fabra (barcelona)</td>\n",
       "      <td>12.758</td>\n",
       "      <td>13.098</td>\n",
       "      <td>True</td>\n",
       "      <td>barcelona</td>\n",
       "      <td>1.0</td>\n",
       "      <td>0.004294</td>\n",
       "      <td>0.012700</td>\n",
       "      <td>0.340</td>\n",
       "    </tr>\n",
       "    <tr>\n",
       "      <th>414</th>\n",
       "      <td>31</td>\n",
       "      <td>2021</td>\n",
       "      <td>universidad autónoma de barcelona</td>\n",
       "      <td>12.751</td>\n",
       "      <td>12.828</td>\n",
       "      <td>True</td>\n",
       "      <td>barcelona</td>\n",
       "      <td>1.0</td>\n",
       "      <td>0.008649</td>\n",
       "      <td>0.006870</td>\n",
       "      <td>0.077</td>\n",
       "    </tr>\n",
       "    <tr>\n",
       "      <th>415</th>\n",
       "      <td>32</td>\n",
       "      <td>2021</td>\n",
       "      <td>universidad de gerona</td>\n",
       "      <td>12.717</td>\n",
       "      <td>12.774</td>\n",
       "      <td>True</td>\n",
       "      <td>gerona</td>\n",
       "      <td>1.0</td>\n",
       "      <td>0.008049</td>\n",
       "      <td>0.013388</td>\n",
       "      <td>0.057</td>\n",
       "    </tr>\n",
       "    <tr>\n",
       "      <th>416</th>\n",
       "      <td>33</td>\n",
       "      <td>2021</td>\n",
       "      <td>universidad de lérida</td>\n",
       "      <td>12.711</td>\n",
       "      <td>12.799</td>\n",
       "      <td>True</td>\n",
       "      <td>lérida</td>\n",
       "      <td>1.0</td>\n",
       "      <td>0.009385</td>\n",
       "      <td>0.014850</td>\n",
       "      <td>0.088</td>\n",
       "    </tr>\n",
       "    <tr>\n",
       "      <th>417</th>\n",
       "      <td>34</td>\n",
       "      <td>2021</td>\n",
       "      <td>universidad rovira i virgili (reus)</td>\n",
       "      <td>12.708</td>\n",
       "      <td>12.852</td>\n",
       "      <td>True</td>\n",
       "      <td>reus</td>\n",
       "      <td>1.0</td>\n",
       "      <td>0.004769</td>\n",
       "      <td>0.013155</td>\n",
       "      <td>0.144</td>\n",
       "    </tr>\n",
       "  </tbody>\n",
       "</table>\n",
       "<p>394 rows × 11 columns</p>\n",
       "</div>"
      ],
      "text/plain": [
       "     index  year                           university  final_grade  1_list  \\\n",
       "0        0  2010                universidad de lérida       11.040  11.654   \n",
       "1        1  2010                universidad de gerona       11.070  11.610   \n",
       "2        2  2010  universidad rovira i virgili (reus)       11.142  11.708   \n",
       "3        3  2010       u. de zaragoza (campus huesca)       11.190  12.059   \n",
       "4        4  2010    universidad autónoma de barcelona       11.195  11.590   \n",
       "..     ...   ...                                  ...          ...     ...   \n",
       "413     30  2021          u. pompeu fabra (barcelona)       12.758  13.098   \n",
       "414     31  2021    universidad autónoma de barcelona       12.751  12.828   \n",
       "415     32  2021                universidad de gerona       12.717  12.774   \n",
       "416     33  2021                universidad de lérida       12.711  12.799   \n",
       "417     34  2021  universidad rovira i virgili (reus)       12.708  12.852   \n",
       "\n",
       "    since_2010       city covid_format_change  growth_1_list  \\\n",
       "0         True     lérida                 0.0            NaN   \n",
       "1         True     gerona                 0.0            NaN   \n",
       "2         True       reus                 0.0            NaN   \n",
       "3         True     huesca                 0.0            NaN   \n",
       "4         True  barcelona                 0.0            NaN   \n",
       "..         ...        ...                 ...            ...   \n",
       "413       True  barcelona                 1.0       0.004294   \n",
       "414       True  barcelona                 1.0       0.008649   \n",
       "415       True     gerona                 1.0       0.008049   \n",
       "416       True     lérida                 1.0       0.009385   \n",
       "417       True       reus                 1.0       0.004769   \n",
       "\n",
       "     growth_final_grade  diff_1_list_final_grade  \n",
       "0                   NaN                    0.614  \n",
       "1                   NaN                    0.540  \n",
       "2                   NaN                    0.566  \n",
       "3                   NaN                    0.869  \n",
       "4                   NaN                    0.395  \n",
       "..                  ...                      ...  \n",
       "413            0.012700                    0.340  \n",
       "414            0.006870                    0.077  \n",
       "415            0.013388                    0.057  \n",
       "416            0.014850                    0.088  \n",
       "417            0.013155                    0.144  \n",
       "\n",
       "[394 rows x 11 columns]"
      ]
     },
     "execution_count": 54,
     "metadata": {},
     "output_type": "execute_result"
    }
   ],
   "source": [
    "dfs_unified"
   ]
  },
  {
   "cell_type": "code",
   "execution_count": 55,
   "metadata": {},
   "outputs": [
    {
     "data": {
      "text/html": [
       "<div>\n",
       "<style scoped>\n",
       "    .dataframe tbody tr th:only-of-type {\n",
       "        vertical-align: middle;\n",
       "    }\n",
       "\n",
       "    .dataframe tbody tr th {\n",
       "        vertical-align: top;\n",
       "    }\n",
       "\n",
       "    .dataframe thead th {\n",
       "        text-align: right;\n",
       "    }\n",
       "</style>\n",
       "<table border=\"1\" class=\"dataframe\">\n",
       "  <thead>\n",
       "    <tr style=\"text-align: right;\">\n",
       "      <th></th>\n",
       "      <th>index</th>\n",
       "      <th>year</th>\n",
       "      <th>university</th>\n",
       "      <th>final_grade</th>\n",
       "      <th>1_list</th>\n",
       "      <th>since_2010</th>\n",
       "      <th>city</th>\n",
       "      <th>covid_format_change</th>\n",
       "      <th>growth_1_list</th>\n",
       "      <th>growth_final_grade</th>\n",
       "      <th>diff_1_list_final_grade</th>\n",
       "    </tr>\n",
       "  </thead>\n",
       "  <tbody>\n",
       "    <tr>\n",
       "      <th>29</th>\n",
       "      <td>29</td>\n",
       "      <td>2010</td>\n",
       "      <td>universidad complutense de madrid</td>\n",
       "      <td>12.022</td>\n",
       "      <td>12.189</td>\n",
       "      <td>True</td>\n",
       "      <td>madrid</td>\n",
       "      <td>0.0</td>\n",
       "      <td>NaN</td>\n",
       "      <td>NaN</td>\n",
       "      <td>0.167</td>\n",
       "    </tr>\n",
       "    <tr>\n",
       "      <th>64</th>\n",
       "      <td>30</td>\n",
       "      <td>2011</td>\n",
       "      <td>universidad complutense de madrid</td>\n",
       "      <td>12.354</td>\n",
       "      <td>12.469</td>\n",
       "      <td>True</td>\n",
       "      <td>madrid</td>\n",
       "      <td>0.0</td>\n",
       "      <td>0.022972</td>\n",
       "      <td>0.027616</td>\n",
       "      <td>0.115</td>\n",
       "    </tr>\n",
       "    <tr>\n",
       "      <th>97</th>\n",
       "      <td>31</td>\n",
       "      <td>2012</td>\n",
       "      <td>universidad complutense de madrid</td>\n",
       "      <td>12.499</td>\n",
       "      <td>12.499</td>\n",
       "      <td>True</td>\n",
       "      <td>madrid</td>\n",
       "      <td>0.0</td>\n",
       "      <td>0.002406</td>\n",
       "      <td>0.011737</td>\n",
       "      <td>0.000</td>\n",
       "    </tr>\n",
       "    <tr>\n",
       "      <th>129</th>\n",
       "      <td>29</td>\n",
       "      <td>2013</td>\n",
       "      <td>universidad complutense de madrid</td>\n",
       "      <td>12.435</td>\n",
       "      <td>12.571</td>\n",
       "      <td>True</td>\n",
       "      <td>madrid</td>\n",
       "      <td>0.0</td>\n",
       "      <td>0.005760</td>\n",
       "      <td>-0.005120</td>\n",
       "      <td>0.136</td>\n",
       "    </tr>\n",
       "    <tr>\n",
       "      <th>164</th>\n",
       "      <td>30</td>\n",
       "      <td>2014</td>\n",
       "      <td>universidad complutense de madrid</td>\n",
       "      <td>12.615</td>\n",
       "      <td>12.617</td>\n",
       "      <td>True</td>\n",
       "      <td>madrid</td>\n",
       "      <td>0.0</td>\n",
       "      <td>0.003659</td>\n",
       "      <td>0.014475</td>\n",
       "      <td>0.002</td>\n",
       "    </tr>\n",
       "    <tr>\n",
       "      <th>198</th>\n",
       "      <td>30</td>\n",
       "      <td>2015</td>\n",
       "      <td>universidad complutense de madrid</td>\n",
       "      <td>12.697</td>\n",
       "      <td>12.697</td>\n",
       "      <td>True</td>\n",
       "      <td>madrid</td>\n",
       "      <td>0.0</td>\n",
       "      <td>0.006341</td>\n",
       "      <td>0.006500</td>\n",
       "      <td>0.000</td>\n",
       "    </tr>\n",
       "    <tr>\n",
       "      <th>228</th>\n",
       "      <td>24</td>\n",
       "      <td>2016</td>\n",
       "      <td>universidad complutense de madrid</td>\n",
       "      <td>12.599</td>\n",
       "      <td>12.742</td>\n",
       "      <td>True</td>\n",
       "      <td>madrid</td>\n",
       "      <td>0.0</td>\n",
       "      <td>0.003544</td>\n",
       "      <td>-0.007718</td>\n",
       "      <td>0.143</td>\n",
       "    </tr>\n",
       "    <tr>\n",
       "      <th>270</th>\n",
       "      <td>31</td>\n",
       "      <td>2017</td>\n",
       "      <td>universidad complutense de madrid</td>\n",
       "      <td>12.871</td>\n",
       "      <td>12.871</td>\n",
       "      <td>True</td>\n",
       "      <td>madrid</td>\n",
       "      <td>0.0</td>\n",
       "      <td>0.010124</td>\n",
       "      <td>0.021589</td>\n",
       "      <td>0.000</td>\n",
       "    </tr>\n",
       "    <tr>\n",
       "      <th>306</th>\n",
       "      <td>32</td>\n",
       "      <td>2018</td>\n",
       "      <td>universidad complutense de madrid</td>\n",
       "      <td>12.966</td>\n",
       "      <td>12.966</td>\n",
       "      <td>True</td>\n",
       "      <td>madrid</td>\n",
       "      <td>0.0</td>\n",
       "      <td>0.007381</td>\n",
       "      <td>0.007381</td>\n",
       "      <td>0.000</td>\n",
       "    </tr>\n",
       "    <tr>\n",
       "      <th>341</th>\n",
       "      <td>32</td>\n",
       "      <td>2019</td>\n",
       "      <td>universidad complutense de madrid</td>\n",
       "      <td>13.044</td>\n",
       "      <td>13.044</td>\n",
       "      <td>True</td>\n",
       "      <td>madrid</td>\n",
       "      <td>0.0</td>\n",
       "      <td>0.006016</td>\n",
       "      <td>0.006016</td>\n",
       "      <td>0.000</td>\n",
       "    </tr>\n",
       "    <tr>\n",
       "      <th>346</th>\n",
       "      <td>1</td>\n",
       "      <td>2020</td>\n",
       "      <td>universidad complutense de madrid</td>\n",
       "      <td>13.304</td>\n",
       "      <td>13.408</td>\n",
       "      <td>True</td>\n",
       "      <td>madrid</td>\n",
       "      <td>1.0</td>\n",
       "      <td>0.027906</td>\n",
       "      <td>0.019933</td>\n",
       "      <td>0.104</td>\n",
       "    </tr>\n",
       "    <tr>\n",
       "      <th>383</th>\n",
       "      <td>0</td>\n",
       "      <td>2021</td>\n",
       "      <td>universidad complutense de madrid</td>\n",
       "      <td>13.426</td>\n",
       "      <td>13.500</td>\n",
       "      <td>True</td>\n",
       "      <td>madrid</td>\n",
       "      <td>1.0</td>\n",
       "      <td>0.006862</td>\n",
       "      <td>0.009170</td>\n",
       "      <td>0.074</td>\n",
       "    </tr>\n",
       "  </tbody>\n",
       "</table>\n",
       "</div>"
      ],
      "text/plain": [
       "     index  year                         university  final_grade  1_list  \\\n",
       "29      29  2010  universidad complutense de madrid       12.022  12.189   \n",
       "64      30  2011  universidad complutense de madrid       12.354  12.469   \n",
       "97      31  2012  universidad complutense de madrid       12.499  12.499   \n",
       "129     29  2013  universidad complutense de madrid       12.435  12.571   \n",
       "164     30  2014  universidad complutense de madrid       12.615  12.617   \n",
       "198     30  2015  universidad complutense de madrid       12.697  12.697   \n",
       "228     24  2016  universidad complutense de madrid       12.599  12.742   \n",
       "270     31  2017  universidad complutense de madrid       12.871  12.871   \n",
       "306     32  2018  universidad complutense de madrid       12.966  12.966   \n",
       "341     32  2019  universidad complutense de madrid       13.044  13.044   \n",
       "346      1  2020  universidad complutense de madrid       13.304  13.408   \n",
       "383      0  2021  universidad complutense de madrid       13.426  13.500   \n",
       "\n",
       "    since_2010    city covid_format_change  growth_1_list  growth_final_grade  \\\n",
       "29        True  madrid                 0.0            NaN                 NaN   \n",
       "64        True  madrid                 0.0       0.022972            0.027616   \n",
       "97        True  madrid                 0.0       0.002406            0.011737   \n",
       "129       True  madrid                 0.0       0.005760           -0.005120   \n",
       "164       True  madrid                 0.0       0.003659            0.014475   \n",
       "198       True  madrid                 0.0       0.006341            0.006500   \n",
       "228       True  madrid                 0.0       0.003544           -0.007718   \n",
       "270       True  madrid                 0.0       0.010124            0.021589   \n",
       "306       True  madrid                 0.0       0.007381            0.007381   \n",
       "341       True  madrid                 0.0       0.006016            0.006016   \n",
       "346       True  madrid                 1.0       0.027906            0.019933   \n",
       "383       True  madrid                 1.0       0.006862            0.009170   \n",
       "\n",
       "     diff_1_list_final_grade  \n",
       "29                     0.167  \n",
       "64                     0.115  \n",
       "97                     0.000  \n",
       "129                    0.136  \n",
       "164                    0.002  \n",
       "198                    0.000  \n",
       "228                    0.143  \n",
       "270                    0.000  \n",
       "306                    0.000  \n",
       "341                    0.000  \n",
       "346                    0.104  \n",
       "383                    0.074  "
      ]
     },
     "execution_count": 55,
     "metadata": {},
     "output_type": "execute_result"
    }
   ],
   "source": [
    "dfs_unified[dfs_unified['university'] == 'universidad complutense de madrid']"
   ]
  },
  {
   "cell_type": "code",
   "execution_count": 56,
   "metadata": {},
   "outputs": [],
   "source": [
    "from sklearn.linear_model import LinearRegression"
   ]
  },
  {
   "cell_type": "code",
   "execution_count": 57,
   "metadata": {},
   "outputs": [],
   "source": [
    "#list_of_uni_names_2021"
   ]
  },
  {
   "cell_type": "code",
   "execution_count": 58,
   "metadata": {},
   "outputs": [],
   "source": [
    "dfs_unified_columns = dfs_unified.columns.tolist()[1:]\n",
    "\n",
    "num_columns = len(dfs_unified_columns)\n",
    "\n",
    "for i in range(num_columns):\n",
    "    dfs_unified[dfs_unified_columns[i]].replace({np.nan: 0}, inplace=True)"
   ]
  },
  {
   "cell_type": "markdown",
   "metadata": {},
   "source": [
    "### Example for Universidad Complutense de Madrid"
   ]
  },
  {
   "cell_type": "code",
   "execution_count": 59,
   "metadata": {},
   "outputs": [
    {
     "data": {
      "image/png": "[encoded data removed]",
      "text/plain": [
       "<Figure size 432x288 with 2 Axes>"
      ]
     },
     "metadata": {
      "needs_background": "light"
     },
     "output_type": "display_data"
    }
   ],
   "source": [
    "# let's check the correlation between the two variables\n",
    "sns.heatmap(dfs_unified[dfs_unified['university'] == 'universidad complutense de madrid'][['year', '1_list']].corr(), cmap='YlGnBu', annot=True)\n",
    "plt.show()"
   ]
  },
  {
   "cell_type": "code",
   "execution_count": 60,
   "metadata": {},
   "outputs": [],
   "source": [
    "# OJO EL EJEMPLO LO ESTOY HACIENDO CON TODOS LOS DATOS QUE YA CONOZOCO, LO SUYO ES QUITAR 2021 (VALOR QUE CONOZCO) Y VER EL VALOR QUE ME SALDRIA - ES DECIR TRAIN TEST(2021)\n",
    "# Y EVALUAR EL MODELO, HACER CROSS VALIDATION (mas robusto ya que es una media, mas robusto del train test split)\n"
   ]
  },
  {
   "cell_type": "code",
   "execution_count": 61,
   "metadata": {},
   "outputs": [
    {
     "data": {
      "image/png": "[encoded data removed]",
      "text/plain": [
       "<Figure size 864x432 with 1 Axes>"
      ]
     },
     "metadata": {
      "needs_background": "light"
     },
     "output_type": "display_data"
    }
   ],
   "source": [
    "plt.figure(figsize=(12,6))\n",
    "plt.scatter(dfs_unified[dfs_unified['university'] == 'universidad complutense de madrid']['year'], dfs_unified[dfs_unified['university'] == 'universidad complutense de madrid']['1_list'], color='red')\n",
    "plt.title('Year vs 1_list', fontsize = 14)\n",
    "plt.xlabel('Year', fontsize = 14)\n",
    "plt.ylabel('1_list', fontsize = 14)\n",
    "plt.grid(True)\n",
    "plt.show()"
   ]
  },
  {
   "cell_type": "code",
   "execution_count": 62,
   "metadata": {},
   "outputs": [
    {
     "data": {
      "text/html": [
       "<div>\n",
       "<style scoped>\n",
       "    .dataframe tbody tr th:only-of-type {\n",
       "        vertical-align: middle;\n",
       "    }\n",
       "\n",
       "    .dataframe tbody tr th {\n",
       "        vertical-align: top;\n",
       "    }\n",
       "\n",
       "    .dataframe thead th {\n",
       "        text-align: right;\n",
       "    }\n",
       "</style>\n",
       "<table border=\"1\" class=\"dataframe\">\n",
       "  <thead>\n",
       "    <tr style=\"text-align: right;\">\n",
       "      <th></th>\n",
       "      <th>index</th>\n",
       "      <th>year</th>\n",
       "      <th>university</th>\n",
       "      <th>final_grade</th>\n",
       "      <th>1_list</th>\n",
       "      <th>since_2010</th>\n",
       "      <th>city</th>\n",
       "      <th>covid_format_change</th>\n",
       "      <th>growth_1_list</th>\n",
       "      <th>growth_final_grade</th>\n",
       "      <th>diff_1_list_final_grade</th>\n",
       "    </tr>\n",
       "  </thead>\n",
       "  <tbody>\n",
       "    <tr>\n",
       "      <th>29</th>\n",
       "      <td>29</td>\n",
       "      <td>2010</td>\n",
       "      <td>universidad complutense de madrid</td>\n",
       "      <td>12.022</td>\n",
       "      <td>12.189</td>\n",
       "      <td>True</td>\n",
       "      <td>madrid</td>\n",
       "      <td>0.0</td>\n",
       "      <td>0.000000</td>\n",
       "      <td>0.000000</td>\n",
       "      <td>0.167</td>\n",
       "    </tr>\n",
       "    <tr>\n",
       "      <th>64</th>\n",
       "      <td>30</td>\n",
       "      <td>2011</td>\n",
       "      <td>universidad complutense de madrid</td>\n",
       "      <td>12.354</td>\n",
       "      <td>12.469</td>\n",
       "      <td>True</td>\n",
       "      <td>madrid</td>\n",
       "      <td>0.0</td>\n",
       "      <td>0.022972</td>\n",
       "      <td>0.027616</td>\n",
       "      <td>0.115</td>\n",
       "    </tr>\n",
       "    <tr>\n",
       "      <th>97</th>\n",
       "      <td>31</td>\n",
       "      <td>2012</td>\n",
       "      <td>universidad complutense de madrid</td>\n",
       "      <td>12.499</td>\n",
       "      <td>12.499</td>\n",
       "      <td>True</td>\n",
       "      <td>madrid</td>\n",
       "      <td>0.0</td>\n",
       "      <td>0.002406</td>\n",
       "      <td>0.011737</td>\n",
       "      <td>0.000</td>\n",
       "    </tr>\n",
       "    <tr>\n",
       "      <th>129</th>\n",
       "      <td>29</td>\n",
       "      <td>2013</td>\n",
       "      <td>universidad complutense de madrid</td>\n",
       "      <td>12.435</td>\n",
       "      <td>12.571</td>\n",
       "      <td>True</td>\n",
       "      <td>madrid</td>\n",
       "      <td>0.0</td>\n",
       "      <td>0.005760</td>\n",
       "      <td>-0.005120</td>\n",
       "      <td>0.136</td>\n",
       "    </tr>\n",
       "    <tr>\n",
       "      <th>164</th>\n",
       "      <td>30</td>\n",
       "      <td>2014</td>\n",
       "      <td>universidad complutense de madrid</td>\n",
       "      <td>12.615</td>\n",
       "      <td>12.617</td>\n",
       "      <td>True</td>\n",
       "      <td>madrid</td>\n",
       "      <td>0.0</td>\n",
       "      <td>0.003659</td>\n",
       "      <td>0.014475</td>\n",
       "      <td>0.002</td>\n",
       "    </tr>\n",
       "    <tr>\n",
       "      <th>198</th>\n",
       "      <td>30</td>\n",
       "      <td>2015</td>\n",
       "      <td>universidad complutense de madrid</td>\n",
       "      <td>12.697</td>\n",
       "      <td>12.697</td>\n",
       "      <td>True</td>\n",
       "      <td>madrid</td>\n",
       "      <td>0.0</td>\n",
       "      <td>0.006341</td>\n",
       "      <td>0.006500</td>\n",
       "      <td>0.000</td>\n",
       "    </tr>\n",
       "    <tr>\n",
       "      <th>228</th>\n",
       "      <td>24</td>\n",
       "      <td>2016</td>\n",
       "      <td>universidad complutense de madrid</td>\n",
       "      <td>12.599</td>\n",
       "      <td>12.742</td>\n",
       "      <td>True</td>\n",
       "      <td>madrid</td>\n",
       "      <td>0.0</td>\n",
       "      <td>0.003544</td>\n",
       "      <td>-0.007718</td>\n",
       "      <td>0.143</td>\n",
       "    </tr>\n",
       "    <tr>\n",
       "      <th>270</th>\n",
       "      <td>31</td>\n",
       "      <td>2017</td>\n",
       "      <td>universidad complutense de madrid</td>\n",
       "      <td>12.871</td>\n",
       "      <td>12.871</td>\n",
       "      <td>True</td>\n",
       "      <td>madrid</td>\n",
       "      <td>0.0</td>\n",
       "      <td>0.010124</td>\n",
       "      <td>0.021589</td>\n",
       "      <td>0.000</td>\n",
       "    </tr>\n",
       "    <tr>\n",
       "      <th>306</th>\n",
       "      <td>32</td>\n",
       "      <td>2018</td>\n",
       "      <td>universidad complutense de madrid</td>\n",
       "      <td>12.966</td>\n",
       "      <td>12.966</td>\n",
       "      <td>True</td>\n",
       "      <td>madrid</td>\n",
       "      <td>0.0</td>\n",
       "      <td>0.007381</td>\n",
       "      <td>0.007381</td>\n",
       "      <td>0.000</td>\n",
       "    </tr>\n",
       "    <tr>\n",
       "      <th>341</th>\n",
       "      <td>32</td>\n",
       "      <td>2019</td>\n",
       "      <td>universidad complutense de madrid</td>\n",
       "      <td>13.044</td>\n",
       "      <td>13.044</td>\n",
       "      <td>True</td>\n",
       "      <td>madrid</td>\n",
       "      <td>0.0</td>\n",
       "      <td>0.006016</td>\n",
       "      <td>0.006016</td>\n",
       "      <td>0.000</td>\n",
       "    </tr>\n",
       "    <tr>\n",
       "      <th>346</th>\n",
       "      <td>1</td>\n",
       "      <td>2020</td>\n",
       "      <td>universidad complutense de madrid</td>\n",
       "      <td>13.304</td>\n",
       "      <td>13.408</td>\n",
       "      <td>True</td>\n",
       "      <td>madrid</td>\n",
       "      <td>1.0</td>\n",
       "      <td>0.027906</td>\n",
       "      <td>0.019933</td>\n",
       "      <td>0.104</td>\n",
       "    </tr>\n",
       "    <tr>\n",
       "      <th>383</th>\n",
       "      <td>0</td>\n",
       "      <td>2021</td>\n",
       "      <td>universidad complutense de madrid</td>\n",
       "      <td>13.426</td>\n",
       "      <td>13.500</td>\n",
       "      <td>True</td>\n",
       "      <td>madrid</td>\n",
       "      <td>1.0</td>\n",
       "      <td>0.006862</td>\n",
       "      <td>0.009170</td>\n",
       "      <td>0.074</td>\n",
       "    </tr>\n",
       "  </tbody>\n",
       "</table>\n",
       "</div>"
      ],
      "text/plain": [
       "     index  year                         university  final_grade  1_list  \\\n",
       "29      29  2010  universidad complutense de madrid       12.022  12.189   \n",
       "64      30  2011  universidad complutense de madrid       12.354  12.469   \n",
       "97      31  2012  universidad complutense de madrid       12.499  12.499   \n",
       "129     29  2013  universidad complutense de madrid       12.435  12.571   \n",
       "164     30  2014  universidad complutense de madrid       12.615  12.617   \n",
       "198     30  2015  universidad complutense de madrid       12.697  12.697   \n",
       "228     24  2016  universidad complutense de madrid       12.599  12.742   \n",
       "270     31  2017  universidad complutense de madrid       12.871  12.871   \n",
       "306     32  2018  universidad complutense de madrid       12.966  12.966   \n",
       "341     32  2019  universidad complutense de madrid       13.044  13.044   \n",
       "346      1  2020  universidad complutense de madrid       13.304  13.408   \n",
       "383      0  2021  universidad complutense de madrid       13.426  13.500   \n",
       "\n",
       "     since_2010    city  covid_format_change  growth_1_list  \\\n",
       "29         True  madrid                  0.0       0.000000   \n",
       "64         True  madrid                  0.0       0.022972   \n",
       "97         True  madrid                  0.0       0.002406   \n",
       "129        True  madrid                  0.0       0.005760   \n",
       "164        True  madrid                  0.0       0.003659   \n",
       "198        True  madrid                  0.0       0.006341   \n",
       "228        True  madrid                  0.0       0.003544   \n",
       "270        True  madrid                  0.0       0.010124   \n",
       "306        True  madrid                  0.0       0.007381   \n",
       "341        True  madrid                  0.0       0.006016   \n",
       "346        True  madrid                  1.0       0.027906   \n",
       "383        True  madrid                  1.0       0.006862   \n",
       "\n",
       "     growth_final_grade  diff_1_list_final_grade  \n",
       "29             0.000000                    0.167  \n",
       "64             0.027616                    0.115  \n",
       "97             0.011737                    0.000  \n",
       "129           -0.005120                    0.136  \n",
       "164            0.014475                    0.002  \n",
       "198            0.006500                    0.000  \n",
       "228           -0.007718                    0.143  \n",
       "270            0.021589                    0.000  \n",
       "306            0.007381                    0.000  \n",
       "341            0.006016                    0.000  \n",
       "346            0.019933                    0.104  \n",
       "383            0.009170                    0.074  "
      ]
     },
     "execution_count": 62,
     "metadata": {},
     "output_type": "execute_result"
    }
   ],
   "source": [
    "dfs_unified[dfs_unified['university'] == 'universidad complutense de madrid']"
   ]
  },
  {
   "cell_type": "code",
   "execution_count": 96,
   "metadata": {},
   "outputs": [],
   "source": [
    "# evaluate models\n",
    "results_models_per_uni = pd.DataFrame(columns=['University','MSE', 'RMSE', 'MAE', 'r2_score'])\n",
    "results_models_per_uni['University'] = list_of_uni_names_2021\n",
    "\n",
    "from sklearn.metrics import r2_score\n",
    "\n",
    "\n",
    "for uni in list_of_uni_names_2021:\n",
    "    lr = LinearRegression()\n",
    "    X_train = dfs_unified[(dfs_unified['university'] == uni) & (dfs_unified['year'] != 2020)][['year', 'covid_format_change', 'growth_1_list']]\n",
    "    y_train = dfs_unified[(dfs_unified['university'] == uni) & (dfs_unified['year'] != 2020)][['1_list']]\n",
    "\n",
    "    X_test = dfs_unified[(dfs_unified['university'] == uni) & (dfs_unified['year'] == 2020)][['year', 'covid_format_change', 'growth_1_list']]\n",
    "    y_test = dfs_unified[(dfs_unified['university'] == uni) & (dfs_unified['year'] == 2020)][['1_list']]\n",
    "\n",
    "    lr.fit(X_train, y_train)\n",
    "\n",
    "\n",
    "    y_predict = lr.predict(X_test)\n",
    "    #print('predicted score for 2020 is ', float(y_predict))\n",
    "\n",
    "    #print('real score of 2020 is ', y_test['1_list'].values[0])\n",
    "\n",
    "    y_predict = float(y_predict)\n",
    "    y_test = y_test['1_list'].values[0]\n",
    "\n",
    "    errors = y_test - y_predict\n",
    "\n",
    "    # MSE\n",
    "    mse = np.mean(errors ** 2)\n",
    "\n",
    "    # RMSE (root min squared error)\n",
    "    rmse = np.sqrt(mse)\n",
    "\n",
    "    # MAE (mean absolute error)\n",
    "    mae = np.mean(np.abs(errors))\n",
    "\n",
    "    # r2_score\n",
    "    #r2_score_temp = r2_score(y_test, y_predict)\n",
    "    \n",
    "    results_models_per_uni['MSE'] = np.where(results_models_per_uni['University'] == uni, mse, results_models_per_uni['MSE'])\n",
    "    results_models_per_uni['RMSE'] = np.where(results_models_per_uni['University'] == uni, rmse, results_models_per_uni['RMSE'])\n",
    "    results_models_per_uni['MAE'] = np.where(results_models_per_uni['University'] == uni, mae, results_models_per_uni['MAE'])\n",
    "    #results_models_per_uni['r2_score'] = np.where(results_models_per_uni['University'] == uni, r2_score_temp, results_models_per_uni['r2_score'])\n",
    "\n",
    "   "
   ]
  },
  {
   "cell_type": "code",
   "execution_count": 97,
   "metadata": {},
   "outputs": [
    {
     "data": {
      "text/html": [
       "<div>\n",
       "<style scoped>\n",
       "    .dataframe tbody tr th:only-of-type {\n",
       "        vertical-align: middle;\n",
       "    }\n",
       "\n",
       "    .dataframe tbody tr th {\n",
       "        vertical-align: top;\n",
       "    }\n",
       "\n",
       "    .dataframe thead th {\n",
       "        text-align: right;\n",
       "    }\n",
       "</style>\n",
       "<table border=\"1\" class=\"dataframe\">\n",
       "  <thead>\n",
       "    <tr style=\"text-align: right;\">\n",
       "      <th></th>\n",
       "      <th>University</th>\n",
       "      <th>MSE</th>\n",
       "      <th>RMSE</th>\n",
       "      <th>MAE</th>\n",
       "      <th>r2_score</th>\n",
       "    </tr>\n",
       "  </thead>\n",
       "  <tbody>\n",
       "    <tr>\n",
       "      <th>0</th>\n",
       "      <td>universidad complutense de madrid</td>\n",
       "      <td>0.01861</td>\n",
       "      <td>0.136419</td>\n",
       "      <td>0.136419</td>\n",
       "      <td>NaN</td>\n",
       "    </tr>\n",
       "    <tr>\n",
       "      <th>1</th>\n",
       "      <td>universidad de sevilla</td>\n",
       "      <td>0.027216</td>\n",
       "      <td>0.164974</td>\n",
       "      <td>0.164974</td>\n",
       "      <td>NaN</td>\n",
       "    </tr>\n",
       "    <tr>\n",
       "      <th>2</th>\n",
       "      <td>universidad de murcia</td>\n",
       "      <td>0.05945</td>\n",
       "      <td>0.243823</td>\n",
       "      <td>0.243823</td>\n",
       "      <td>NaN</td>\n",
       "    </tr>\n",
       "    <tr>\n",
       "      <th>3</th>\n",
       "      <td>universidad de granada</td>\n",
       "      <td>0.022715</td>\n",
       "      <td>0.150716</td>\n",
       "      <td>0.150716</td>\n",
       "      <td>NaN</td>\n",
       "    </tr>\n",
       "    <tr>\n",
       "      <th>4</th>\n",
       "      <td>u. autónoma de madrid</td>\n",
       "      <td>0.012519</td>\n",
       "      <td>0.111888</td>\n",
       "      <td>0.111888</td>\n",
       "      <td>NaN</td>\n",
       "    </tr>\n",
       "    <tr>\n",
       "      <th>5</th>\n",
       "      <td>universidad de málaga</td>\n",
       "      <td>0.022837</td>\n",
       "      <td>0.151119</td>\n",
       "      <td>0.151119</td>\n",
       "      <td>NaN</td>\n",
       "    </tr>\n",
       "    <tr>\n",
       "      <th>6</th>\n",
       "      <td>universidad de córdoba</td>\n",
       "      <td>0.028265</td>\n",
       "      <td>0.168121</td>\n",
       "      <td>0.168121</td>\n",
       "      <td>NaN</td>\n",
       "    </tr>\n",
       "    <tr>\n",
       "      <th>7</th>\n",
       "      <td>universidad de cádiz</td>\n",
       "      <td>0.026254</td>\n",
       "      <td>0.162032</td>\n",
       "      <td>0.162032</td>\n",
       "      <td>NaN</td>\n",
       "    </tr>\n",
       "    <tr>\n",
       "      <th>8</th>\n",
       "      <td>u. miguel hernández (s. juan de alicante)</td>\n",
       "      <td>0.029934</td>\n",
       "      <td>0.173015</td>\n",
       "      <td>0.173015</td>\n",
       "      <td>NaN</td>\n",
       "    </tr>\n",
       "    <tr>\n",
       "      <th>9</th>\n",
       "      <td>u. de c-la mancha (campus c.real)</td>\n",
       "      <td>0.035771</td>\n",
       "      <td>0.189133</td>\n",
       "      <td>0.189133</td>\n",
       "      <td>NaN</td>\n",
       "    </tr>\n",
       "    <tr>\n",
       "      <th>10</th>\n",
       "      <td>universidad de alcalá</td>\n",
       "      <td>0.010702</td>\n",
       "      <td>0.103449</td>\n",
       "      <td>0.103449</td>\n",
       "      <td>NaN</td>\n",
       "    </tr>\n",
       "    <tr>\n",
       "      <th>11</th>\n",
       "      <td>universidad de valladolid</td>\n",
       "      <td>0.065676</td>\n",
       "      <td>0.256273</td>\n",
       "      <td>0.256273</td>\n",
       "      <td>NaN</td>\n",
       "    </tr>\n",
       "    <tr>\n",
       "      <th>12</th>\n",
       "      <td>urjc - campus alcorcón</td>\n",
       "      <td>0.015258</td>\n",
       "      <td>0.123522</td>\n",
       "      <td>0.123522</td>\n",
       "      <td>NaN</td>\n",
       "    </tr>\n",
       "    <tr>\n",
       "      <th>13</th>\n",
       "      <td>u. de c-la mancha (campus albacete)</td>\n",
       "      <td>0.016834</td>\n",
       "      <td>0.129744</td>\n",
       "      <td>0.129744</td>\n",
       "      <td>NaN</td>\n",
       "    </tr>\n",
       "    <tr>\n",
       "      <th>14</th>\n",
       "      <td>u. de extremadura (badajoz)</td>\n",
       "      <td>0.02497</td>\n",
       "      <td>0.158018</td>\n",
       "      <td>0.158018</td>\n",
       "      <td>NaN</td>\n",
       "    </tr>\n",
       "    <tr>\n",
       "      <th>15</th>\n",
       "      <td>universidad pública de navarra</td>\n",
       "      <td>0.082386</td>\n",
       "      <td>0.28703</td>\n",
       "      <td>0.28703</td>\n",
       "      <td>NaN</td>\n",
       "    </tr>\n",
       "    <tr>\n",
       "      <th>16</th>\n",
       "      <td>universidad de valencia</td>\n",
       "      <td>0.027955</td>\n",
       "      <td>0.167197</td>\n",
       "      <td>0.167197</td>\n",
       "      <td>NaN</td>\n",
       "    </tr>\n",
       "    <tr>\n",
       "      <th>17</th>\n",
       "      <td>universidad jaume i</td>\n",
       "      <td>0.033055</td>\n",
       "      <td>0.181811</td>\n",
       "      <td>0.181811</td>\n",
       "      <td>NaN</td>\n",
       "    </tr>\n",
       "    <tr>\n",
       "      <th>18</th>\n",
       "      <td>u. de zaragoza (campus zaragoza)</td>\n",
       "      <td>0.041657</td>\n",
       "      <td>0.2041</td>\n",
       "      <td>0.2041</td>\n",
       "      <td>NaN</td>\n",
       "    </tr>\n",
       "    <tr>\n",
       "      <th>19</th>\n",
       "      <td>universidad de barcelona-clínico</td>\n",
       "      <td>0.180451</td>\n",
       "      <td>0.424795</td>\n",
       "      <td>0.424795</td>\n",
       "      <td>NaN</td>\n",
       "    </tr>\n",
       "    <tr>\n",
       "      <th>20</th>\n",
       "      <td>universidad de la laguna</td>\n",
       "      <td>0.002781</td>\n",
       "      <td>0.052739</td>\n",
       "      <td>0.052739</td>\n",
       "      <td>NaN</td>\n",
       "    </tr>\n",
       "    <tr>\n",
       "      <th>21</th>\n",
       "      <td>universidad de las palmas</td>\n",
       "      <td>0.024429</td>\n",
       "      <td>0.156296</td>\n",
       "      <td>0.156296</td>\n",
       "      <td>NaN</td>\n",
       "    </tr>\n",
       "    <tr>\n",
       "      <th>22</th>\n",
       "      <td>universidad de salamanca</td>\n",
       "      <td>0.038095</td>\n",
       "      <td>0.19518</td>\n",
       "      <td>0.19518</td>\n",
       "      <td>NaN</td>\n",
       "    </tr>\n",
       "    <tr>\n",
       "      <th>23</th>\n",
       "      <td>u. de zaragoza (campus huesca)</td>\n",
       "      <td>0.051374</td>\n",
       "      <td>0.226659</td>\n",
       "      <td>0.226659</td>\n",
       "      <td>NaN</td>\n",
       "    </tr>\n",
       "    <tr>\n",
       "      <th>24</th>\n",
       "      <td>u. de santiago de compostela</td>\n",
       "      <td>0.016989</td>\n",
       "      <td>0.130342</td>\n",
       "      <td>0.130342</td>\n",
       "      <td>NaN</td>\n",
       "    </tr>\n",
       "    <tr>\n",
       "      <th>25</th>\n",
       "      <td>universidad de oviedo</td>\n",
       "      <td>0.070289</td>\n",
       "      <td>0.26512</td>\n",
       "      <td>0.26512</td>\n",
       "      <td>NaN</td>\n",
       "    </tr>\n",
       "    <tr>\n",
       "      <th>26</th>\n",
       "      <td>u. de cantabria (santander)</td>\n",
       "      <td>0.034643</td>\n",
       "      <td>0.186126</td>\n",
       "      <td>0.186126</td>\n",
       "      <td>NaN</td>\n",
       "    </tr>\n",
       "    <tr>\n",
       "      <th>27</th>\n",
       "      <td>universidad de barcelona-bellvitge</td>\n",
       "      <td>0.000004</td>\n",
       "      <td>0.002</td>\n",
       "      <td>0.002</td>\n",
       "      <td>NaN</td>\n",
       "    </tr>\n",
       "    <tr>\n",
       "      <th>28</th>\n",
       "      <td>universidad del país vasco (lejona)</td>\n",
       "      <td>0.035693</td>\n",
       "      <td>0.188925</td>\n",
       "      <td>0.188925</td>\n",
       "      <td>NaN</td>\n",
       "    </tr>\n",
       "    <tr>\n",
       "      <th>29</th>\n",
       "      <td>universidad de las islas baleares</td>\n",
       "      <td>0.080284</td>\n",
       "      <td>0.283344</td>\n",
       "      <td>0.283344</td>\n",
       "      <td>NaN</td>\n",
       "    </tr>\n",
       "    <tr>\n",
       "      <th>30</th>\n",
       "      <td>u. pompeu fabra (barcelona)</td>\n",
       "      <td>0.034573</td>\n",
       "      <td>0.185938</td>\n",
       "      <td>0.185938</td>\n",
       "      <td>NaN</td>\n",
       "    </tr>\n",
       "    <tr>\n",
       "      <th>31</th>\n",
       "      <td>universidad autónoma de barcelona</td>\n",
       "      <td>0.054096</td>\n",
       "      <td>0.232585</td>\n",
       "      <td>0.232585</td>\n",
       "      <td>NaN</td>\n",
       "    </tr>\n",
       "    <tr>\n",
       "      <th>32</th>\n",
       "      <td>universidad de gerona</td>\n",
       "      <td>0.040669</td>\n",
       "      <td>0.201666</td>\n",
       "      <td>0.201666</td>\n",
       "      <td>NaN</td>\n",
       "    </tr>\n",
       "    <tr>\n",
       "      <th>33</th>\n",
       "      <td>universidad de lérida</td>\n",
       "      <td>0.03905</td>\n",
       "      <td>0.19761</td>\n",
       "      <td>0.19761</td>\n",
       "      <td>NaN</td>\n",
       "    </tr>\n",
       "    <tr>\n",
       "      <th>34</th>\n",
       "      <td>universidad rovira i virgili (reus)</td>\n",
       "      <td>0.056806</td>\n",
       "      <td>0.238341</td>\n",
       "      <td>0.238341</td>\n",
       "      <td>NaN</td>\n",
       "    </tr>\n",
       "  </tbody>\n",
       "</table>\n",
       "</div>"
      ],
      "text/plain": [
       "                                   University       MSE      RMSE       MAE  \\\n",
       "0           universidad complutense de madrid   0.01861  0.136419  0.136419   \n",
       "1                      universidad de sevilla  0.027216  0.164974  0.164974   \n",
       "2                       universidad de murcia   0.05945  0.243823  0.243823   \n",
       "3                      universidad de granada  0.022715  0.150716  0.150716   \n",
       "4                       u. autónoma de madrid  0.012519  0.111888  0.111888   \n",
       "5                       universidad de málaga  0.022837  0.151119  0.151119   \n",
       "6                      universidad de córdoba  0.028265  0.168121  0.168121   \n",
       "7                        universidad de cádiz  0.026254  0.162032  0.162032   \n",
       "8   u. miguel hernández (s. juan de alicante)  0.029934  0.173015  0.173015   \n",
       "9           u. de c-la mancha (campus c.real)  0.035771  0.189133  0.189133   \n",
       "10                      universidad de alcalá  0.010702  0.103449  0.103449   \n",
       "11                  universidad de valladolid  0.065676  0.256273  0.256273   \n",
       "12                     urjc - campus alcorcón  0.015258  0.123522  0.123522   \n",
       "13        u. de c-la mancha (campus albacete)  0.016834  0.129744  0.129744   \n",
       "14                u. de extremadura (badajoz)   0.02497  0.158018  0.158018   \n",
       "15             universidad pública de navarra  0.082386   0.28703   0.28703   \n",
       "16                    universidad de valencia  0.027955  0.167197  0.167197   \n",
       "17                        universidad jaume i  0.033055  0.181811  0.181811   \n",
       "18           u. de zaragoza (campus zaragoza)  0.041657    0.2041    0.2041   \n",
       "19           universidad de barcelona-clínico  0.180451  0.424795  0.424795   \n",
       "20                   universidad de la laguna  0.002781  0.052739  0.052739   \n",
       "21                  universidad de las palmas  0.024429  0.156296  0.156296   \n",
       "22                   universidad de salamanca  0.038095   0.19518   0.19518   \n",
       "23             u. de zaragoza (campus huesca)  0.051374  0.226659  0.226659   \n",
       "24               u. de santiago de compostela  0.016989  0.130342  0.130342   \n",
       "25                      universidad de oviedo  0.070289   0.26512   0.26512   \n",
       "26                u. de cantabria (santander)  0.034643  0.186126  0.186126   \n",
       "27         universidad de barcelona-bellvitge  0.000004     0.002     0.002   \n",
       "28        universidad del país vasco (lejona)  0.035693  0.188925  0.188925   \n",
       "29          universidad de las islas baleares  0.080284  0.283344  0.283344   \n",
       "30                u. pompeu fabra (barcelona)  0.034573  0.185938  0.185938   \n",
       "31          universidad autónoma de barcelona  0.054096  0.232585  0.232585   \n",
       "32                      universidad de gerona  0.040669  0.201666  0.201666   \n",
       "33                      universidad de lérida   0.03905   0.19761   0.19761   \n",
       "34        universidad rovira i virgili (reus)  0.056806  0.238341  0.238341   \n",
       "\n",
       "   r2_score  \n",
       "0       NaN  \n",
       "1       NaN  \n",
       "2       NaN  \n",
       "3       NaN  \n",
       "4       NaN  \n",
       "5       NaN  \n",
       "6       NaN  \n",
       "7       NaN  \n",
       "8       NaN  \n",
       "9       NaN  \n",
       "10      NaN  \n",
       "11      NaN  \n",
       "12      NaN  \n",
       "13      NaN  \n",
       "14      NaN  \n",
       "15      NaN  \n",
       "16      NaN  \n",
       "17      NaN  \n",
       "18      NaN  \n",
       "19      NaN  \n",
       "20      NaN  \n",
       "21      NaN  \n",
       "22      NaN  \n",
       "23      NaN  \n",
       "24      NaN  \n",
       "25      NaN  \n",
       "26      NaN  \n",
       "27      NaN  \n",
       "28      NaN  \n",
       "29      NaN  \n",
       "30      NaN  \n",
       "31      NaN  \n",
       "32      NaN  \n",
       "33      NaN  \n",
       "34      NaN  "
      ]
     },
     "execution_count": 97,
     "metadata": {},
     "output_type": "execute_result"
    }
   ],
   "source": [
    "results_models_per_uni"
   ]
  },
  {
   "cell_type": "code",
   "execution_count": 98,
   "metadata": {},
   "outputs": [
    {
     "data": {
      "text/plain": [
       "0.03892255117514333"
      ]
     },
     "execution_count": 98,
     "metadata": {},
     "output_type": "execute_result"
    }
   ],
   "source": [
    "results_models_per_uni['MSE'].mean()"
   ]
  },
  {
   "cell_type": "code",
   "execution_count": 102,
   "metadata": {},
   "outputs": [],
   "source": [
    "results_models = pd.DataFrame(columns=['MSE', 'RMSE', 'MAE', 'r2_score'])\n",
    "results_models.loc['linear_regression_per_uni_avg'] = [results_models_per_uni['MSE'].mean(), results_models_per_uni['RMSE'].mean(), results_models_per_uni['MAE'].mean(), results_models_per_uni['r2_score'].mean()]"
   ]
  },
  {
   "cell_type": "code",
   "execution_count": 103,
   "metadata": {},
   "outputs": [
    {
     "data": {
      "text/html": [
       "<div>\n",
       "<style scoped>\n",
       "    .dataframe tbody tr th:only-of-type {\n",
       "        vertical-align: middle;\n",
       "    }\n",
       "\n",
       "    .dataframe tbody tr th {\n",
       "        vertical-align: top;\n",
       "    }\n",
       "\n",
       "    .dataframe thead th {\n",
       "        text-align: right;\n",
       "    }\n",
       "</style>\n",
       "<table border=\"1\" class=\"dataframe\">\n",
       "  <thead>\n",
       "    <tr style=\"text-align: right;\">\n",
       "      <th></th>\n",
       "      <th>MSE</th>\n",
       "      <th>RMSE</th>\n",
       "      <th>MAE</th>\n",
       "      <th>r2_score</th>\n",
       "    </tr>\n",
       "  </thead>\n",
       "  <tbody>\n",
       "    <tr>\n",
       "      <th>linear_regression_per_uni_avg</th>\n",
       "      <td>0.038923</td>\n",
       "      <td>0.183716</td>\n",
       "      <td>0.183716</td>\n",
       "      <td>NaN</td>\n",
       "    </tr>\n",
       "  </tbody>\n",
       "</table>\n",
       "</div>"
      ],
      "text/plain": [
       "                                    MSE      RMSE       MAE  r2_score\n",
       "linear_regression_per_uni_avg  0.038923  0.183716  0.183716       NaN"
      ]
     },
     "execution_count": 103,
     "metadata": {},
     "output_type": "execute_result"
    }
   ],
   "source": [
    "results_models"
   ]
  },
  {
   "cell_type": "code",
   "execution_count": 110,
   "metadata": {},
   "outputs": [],
   "source": [
    "lr = LinearRegression()\n",
    "X_train = dfs_unified[(dfs_unified['year'] != 2020)][['year', 'covid_format_change', 'growth_1_list']]\n",
    "y_train = dfs_unified[(dfs_unified['year'] != 2020)][['1_list']]\n",
    "\n",
    "X_test = dfs_unified[(dfs_unified['year'] == 2020)][['year', 'covid_format_change', 'growth_1_list']]\n",
    "y_test = dfs_unified[(dfs_unified['year'] == 2020)][['1_list']]\n",
    "\n",
    "lr.fit(X_train, y_train)\n",
    "\n",
    "\n",
    "y_predict = lr.predict(X_test)\n",
    "#print(y_predict)\n",
    "#y_predict = float(y_predict)\n",
    "\n",
    "#y_test = y_test['1_list'].values[0]\n",
    "\n",
    "errors = y_test - y_predict\n",
    "\n",
    "# MSE\n",
    "mse = float(np.mean(errors ** 2))\n",
    "\n",
    "# RMSE (root min squared error)\n",
    "rmse = float(np.sqrt(mse))\n",
    "\n",
    "# MAE (mean absolute error)\n",
    "mae = float(np.mean(np.abs(errors)))\n",
    "\n",
    "# r2_score\n",
    "#r2_score_temp = r2_score(y_test, y_predict)\n",
    "\n",
    "results_models.loc['linear_regression'] = [mse, rmse, mae, r2_score]"
   ]
  },
  {
   "cell_type": "code",
   "execution_count": 111,
   "metadata": {},
   "outputs": [
    {
     "data": {
      "text/html": [
       "<div>\n",
       "<style scoped>\n",
       "    .dataframe tbody tr th:only-of-type {\n",
       "        vertical-align: middle;\n",
       "    }\n",
       "\n",
       "    .dataframe tbody tr th {\n",
       "        vertical-align: top;\n",
       "    }\n",
       "\n",
       "    .dataframe thead th {\n",
       "        text-align: right;\n",
       "    }\n",
       "</style>\n",
       "<table border=\"1\" class=\"dataframe\">\n",
       "  <thead>\n",
       "    <tr style=\"text-align: right;\">\n",
       "      <th></th>\n",
       "      <th>MSE</th>\n",
       "      <th>RMSE</th>\n",
       "      <th>MAE</th>\n",
       "      <th>r2_score</th>\n",
       "    </tr>\n",
       "  </thead>\n",
       "  <tbody>\n",
       "    <tr>\n",
       "      <th>linear_regression_per_uni_avg</th>\n",
       "      <td>0.038923</td>\n",
       "      <td>0.183716</td>\n",
       "      <td>0.183716</td>\n",
       "      <td>NaN</td>\n",
       "    </tr>\n",
       "    <tr>\n",
       "      <th>linear_regression</th>\n",
       "      <td>0.071136</td>\n",
       "      <td>0.266713</td>\n",
       "      <td>0.190663</td>\n",
       "      <td>&lt;function r2_score at 0x7f807b5ee8b0&gt;</td>\n",
       "    </tr>\n",
       "  </tbody>\n",
       "</table>\n",
       "</div>"
      ],
      "text/plain": [
       "                                    MSE      RMSE       MAE  \\\n",
       "linear_regression_per_uni_avg  0.038923  0.183716  0.183716   \n",
       "linear_regression              0.071136  0.266713  0.190663   \n",
       "\n",
       "                                                            r2_score  \n",
       "linear_regression_per_uni_avg                                    NaN  \n",
       "linear_regression              <function r2_score at 0x7f807b5ee8b0>  "
      ]
     },
     "execution_count": 111,
     "metadata": {},
     "output_type": "execute_result"
    }
   ],
   "source": [
    "results_models"
   ]
  },
  {
   "cell_type": "code",
   "execution_count": null,
   "metadata": {},
   "outputs": [],
   "source": [
    "# arima"
   ]
  },
  {
   "cell_type": "code",
   "execution_count": null,
   "metadata": {},
   "outputs": [],
   "source": []
  },
  {
   "cell_type": "code",
   "execution_count": null,
   "metadata": {},
   "outputs": [],
   "source": []
  },
  {
   "cell_type": "code",
   "execution_count": null,
   "metadata": {},
   "outputs": [],
   "source": [
    "# Create a Linear regression\n",
    "\n",
    "lr = LinearRegression()\n",
    "X = dfs_unified[dfs_unified['university'] == 'universidad complutense de madrid'][['year', 'covid_format_change', 'growth_1_list']]\n",
    "y = dfs_unified[dfs_unified['university'] == 'universidad complutense de madrid'][['1_list']]\n",
    "\n",
    "lr.fit(X, y)"
   ]
  },
  {
   "cell_type": "code",
   "execution_count": null,
   "metadata": {},
   "outputs": [],
   "source": [
    "# generate model prediction for all years in dataset\n",
    "y_predict = lr.predict(X)\n",
    "\n",
    "# visualize the predicted score as a line on the test set\n",
    "plt.figure(figsize=(12,6))\n",
    "plt.scatter(dfs_unified[dfs_unified['university'] == 'universidad complutense de madrid']['year'], dfs_unified[dfs_unified['university'] == 'universidad complutense de madrid']['1_list'], color = 'red', label = 'original')\n",
    "plt.plot(dfs_unified[dfs_unified['university'] == 'universidad complutense de madrid']['year'], y_predict, color='g', label = 'predicted')\n",
    "plt.xlabel('Year', fontsize = 14)\n",
    "plt.ylabel('1_list', fontsize = 14)\n",
    "plt.title('Original 1_list scores vs predicted, by year')\n",
    "plt.legend()\n",
    "plt.show()"
   ]
  },
  {
   "cell_type": "code",
   "execution_count": null,
   "metadata": {},
   "outputs": [],
   "source": [
    "# compare model predictions vs actual values\n",
    "plt.figure(figsize=(12,6))\n",
    "x_ax = range(len(dfs_unified[dfs_unified['university'] == 'universidad complutense de madrid']['1_list']))\n",
    "plt.plot(x_ax, dfs_unified[dfs_unified['university'] == 'universidad complutense de madrid']['1_list'], label='original')\n",
    "plt.plot(x_ax, y_predict, label='predicted')\n",
    "plt.title('Original 1_list scores vs predicted')\n",
    "plt.legend()\n",
    "plt.show()"
   ]
  },
  {
   "cell_type": "markdown",
   "metadata": {},
   "source": [
    "## Evaluate model"
   ]
  },
  {
   "cell_type": "code",
   "execution_count": null,
   "metadata": {},
   "outputs": [],
   "source": [
    "# evaluate model\n",
    "from sklearn.metrics import r2_score\n",
    "\n",
    "r2_score(y, y_predict)\n",
    "# OJO EL EJEMPLO LO ESTOY HACIENDO CON TODOS LOS DATOS QUE YA CONOZOCO, LO SUYO ES QUITAR 2021 (VALOR QUE CONOZCO) Y VER EL VALOR QUE ME SALDRIA - ES DECIR TRAIN TEST(2021)\n",
    "# Y EVALUAR EL MODELO, HACER CROSS VALIDATION\n",
    "\n",
    "# HACER\n",
    "# There are three primary metrics used to evaluate linear models. These are: Mean absolute error (MAE), Mean squared error (MSE), or Root mean squared error (RMSE)."
   ]
  },
  {
   "cell_type": "markdown",
   "metadata": {},
   "source": [
    "## Predict next year scores"
   ]
  },
  {
   "cell_type": "code",
   "execution_count": null,
   "metadata": {},
   "outputs": [],
   "source": [
    "# predict 1_list for a given year\n",
    "\n",
    "# supposing the same growth as last year\n",
    "complu_1_list_score = float(lr.predict([[2022, 1.0, dfs_unified[dfs_unified['university'] == 'universidad complutense de madrid']['growth_1_list'][-1:].mean()]]))\n",
    "complu_1_list_score"
   ]
  },
  {
   "cell_type": "markdown",
   "metadata": {},
   "source": [
    "## Save 2022 predicted scores"
   ]
  },
  {
   "cell_type": "code",
   "execution_count": null,
   "metadata": {},
   "outputs": [],
   "source": [
    "uni_names = {'university': list_of_uni_names_2021}\n",
    "pred_y_df = pd.DataFrame(uni_names, columns=['university'])\n",
    "pred_y_df['year'] = 2022\n",
    "pred_y_df['1_list'] = ''\n",
    "pred_y_df['1_list'] = np.where(pred_y_df['university'] == 'universidad complutense de madrid', complu_1_list_score, pred_y_df['1_list'])\n",
    "pred_y_df"
   ]
  },
  {
   "cell_type": "code",
   "execution_count": null,
   "metadata": {},
   "outputs": [],
   "source": [
    "# we have done this for 1 university, let's automate it for the rest"
   ]
  },
  {
   "cell_type": "code",
   "execution_count": null,
   "metadata": {},
   "outputs": [],
   "source": [
    "dfs_unified[dfs_unified['university'] == 'universidad complutense de madrid']"
   ]
  },
  {
   "cell_type": "code",
   "execution_count": null,
   "metadata": {},
   "outputs": [],
   "source": [
    "dfs_unified"
   ]
  },
  {
   "cell_type": "code",
   "execution_count": null,
   "metadata": {},
   "outputs": [],
   "source": [
    "# PROBAR SI ES MEJOR:\n",
    "# 1) HACER LINEAR REGRESSION DE TODOS LOS DATOS\n",
    "# 2) FILTRANDO POR UNIVERSIDAD Y SACAR VARIOS MODELOS (LO QUE YA TENGO)\n",
    "# 3) UNIVERSIDAD ONEHOT ENCODING (COLUMNAS) Y METER EL NOMBRE DE LA UNI COMO VARIABLE EN EL MODELO\n",
    "# ELEGIRÉ EL QUE MEJOR RENDIMIENTO TENGA"
   ]
  },
  {
   "cell_type": "code",
   "execution_count": null,
   "metadata": {},
   "outputs": [],
   "source": [
    "def predict_and_save_scores(year, covid_format_change, university, convocatory):\n",
    "    '''\n",
    "    explicar\n",
    "    '''\n",
    "    lr = LinearRegression()\n",
    "    X = dfs_unified[dfs_unified['university'] == university][['year', 'covid_format_change', 'growth_' + convocatory]]\n",
    "    y = dfs_unified[dfs_unified['university'] == university][[convocatory]]\n",
    "\n",
    "    # train\n",
    "    lr.fit(X, y)\n",
    "    \n",
    "    # predict, supposing same growth as last year\n",
    "    pred_y_df[convocatory] = np.where(pred_y_df['university'] == university, float(lr.predict([[year, covid_format_change, dfs_unified[dfs_unified['university'] == university]['growth_' + convocatory][-1:].mean()]])), pred_y_df[convocatory])"
   ]
  },
  {
   "cell_type": "code",
   "execution_count": null,
   "metadata": {},
   "outputs": [],
   "source": [
    "for uni in list_of_uni_names_2021:\n",
    "    predict_and_save_scores(2022, 1.0, uni, '1_list')\n",
    "\n",
    "#pred_y_df['final_grade'] = ''\n",
    "#for uni in list_of_uni_names_2021:\n",
    "    #predict_and_save_scores(2022, 1.0, uni, 'final_grade')"
   ]
  },
  {
   "cell_type": "code",
   "execution_count": null,
   "metadata": {},
   "outputs": [],
   "source": [
    "# problema: 1_list no puede ser menor que final_grade | lo calculamos sin utilizar el modelo, cogemos el decrecimiento del último año y se lo restamos a 1_list predicted\n",
    "pred_y_df['final_grade'] = ''\n",
    "\n",
    "for uni in list_of_uni_names_2021:\n",
    "    pred_y_df['final_grade'] = np.where(pred_y_df['university'] == uni, pred_y_df['1_list'] - dfs_unified[dfs_unified['university'] == uni]['diff_1_list_final_grade'][-1:].mean(), pred_y_df['final_grade'])"
   ]
  },
  {
   "cell_type": "code",
   "execution_count": null,
   "metadata": {},
   "outputs": [],
   "source": [
    "pred_y_df['diff_1_list_final_grade'] = pred_y_df['1_list'] - pred_y_df['final_grade']"
   ]
  },
  {
   "cell_type": "code",
   "execution_count": null,
   "metadata": {},
   "outputs": [],
   "source": [
    "pred_y_df"
   ]
  },
  {
   "cell_type": "code",
   "execution_count": null,
   "metadata": {},
   "outputs": [],
   "source": [
    "# append predicted scores to dfs_unified\n",
    "\n",
    "dfs_unified = dfs_unified.append(pred_y_df)"
   ]
  },
  {
   "cell_type": "code",
   "execution_count": null,
   "metadata": {},
   "outputs": [],
   "source": [
    "dfs_unified"
   ]
  },
  {
   "cell_type": "code",
   "execution_count": null,
   "metadata": {},
   "outputs": [],
   "source": [
    "# apply feature engineering columns to predicted data (2022)"
   ]
  },
  {
   "cell_type": "code",
   "execution_count": null,
   "metadata": {},
   "outputs": [],
   "source": [
    "# change in test format due to covid\n",
    "dfs_unified['covid_format_change'] = ''\n",
    "dfs_unified['covid_format_change'] = np.where((dfs_unified['year'] >= 2020), float(1), dfs_unified['covid_format_change'])\n",
    "dfs_unified['covid_format_change'] = np.where((dfs_unified['year'] < 2020), float(0), dfs_unified['covid_format_change'])\n",
    "\n",
    "# growth columns\n",
    "dfs_unified['growth_1_list'] = dfs_unified.groupby('university')['1_list'].pct_change()\n",
    "dfs_unified['growth_final_grade'] = dfs_unified.groupby('university')['final_grade'].pct_change()\n",
    "\n",
    "# decresead value from 1_list to final grade\n",
    "dfs_unified['diff_1_list_final_grade'] = dfs_unified['1_list'] - dfs_unified['final_grade']"
   ]
  },
  {
   "cell_type": "code",
   "execution_count": null,
   "metadata": {},
   "outputs": [],
   "source": [
    "# city\n",
    "i=0\n",
    "dfs_unified['city'] = ''\n",
    "while i < num_cities:\n",
    "    dfs_unified['city'] = np.where(dfs_unified['university'].str.contains(list_of_cities[i], na=False), list_of_cities[i], dfs_unified['city'])\n",
    "    i +=1\n",
    "\n",
    "dfs_unified['city'].replace({'': np.nan}, inplace=True)\n",
    "\n",
    "dfs_unified['city'] = np.where(dfs_unified['university'].str.contains('país vasco', na=False), 'bilbao', dfs_unified['city'])\n",
    "dfs_unified['city'] = np.where(dfs_unified['university'].str.contains('alcorcón', na=False), 'madrid', dfs_unified['city'])\n",
    "dfs_unified['city'] = np.where(dfs_unified['university'].str.contains('c.real', na=False), 'ciudad real', dfs_unified['city'])\n",
    "dfs_unified['city'] = np.where(dfs_unified['university'].str.contains('jaume', na=False), 'castellon de la plana', dfs_unified['city'])\n",
    "dfs_unified['city'] = np.where(dfs_unified['university'].str.contains('islas baleares', na=False), 'palma de mallorca', dfs_unified['city'])"
   ]
  },
  {
   "cell_type": "code",
   "execution_count": null,
   "metadata": {},
   "outputs": [],
   "source": [
    "dfs_unified['since_2010'] = ''\n",
    "dfs_unified['since_2010'] = np.where(dfs_unified['university'] == 'universidad de barcelona-bellvitge', False, dfs_unified['since_2010'])\n",
    "dfs_unified['since_2010'] = np.where(dfs_unified['university'] == 'universidad de las islas baleares', False, dfs_unified['since_2010'])\n",
    "dfs_unified['since_2010'] = np.where(dfs_unified['university'] == 'universidad jaume i', False, dfs_unified['since_2010'])\n",
    "dfs_unified['since_2010'] = np.where(dfs_unified['university'] == 'universidad pública de navarra', False, dfs_unified['since_2010'])\n",
    "dfs_unified['since_2010'] = np.where(dfs_unified['since_2010'] == '', True, dfs_unified['since_2010'])"
   ]
  },
  {
   "cell_type": "code",
   "execution_count": null,
   "metadata": {},
   "outputs": [],
   "source": [
    "dfs_unified"
   ]
  },
  {
   "cell_type": "code",
   "execution_count": null,
   "metadata": {},
   "outputs": [],
   "source": [
    "# forecasting: machine learning vs arima. por ahora he hecho machine learning"
   ]
  },
  {
   "cell_type": "code",
   "execution_count": null,
   "metadata": {},
   "outputs": [],
   "source": [
    "# PROBAR OTROS MODELOS - LM, GLM"
   ]
  },
  {
   "cell_type": "code",
   "execution_count": null,
   "metadata": {},
   "outputs": [],
   "source": [
    "# toni me dice hacer random forest, que probablemente sea mejor que una regresion lineal. Minimo tengo que hacer estos 2 modelos. Si me da tiempo xgboost"
   ]
  },
  {
   "cell_type": "code",
   "execution_count": null,
   "metadata": {},
   "outputs": [],
   "source": [
    "# toni: poner al final - cosas que podrian mejorar el modelo si hubiese tenido estos datos: numero de plazas"
   ]
  },
  {
   "cell_type": "markdown",
   "metadata": {},
   "source": [
    "# Data Visualization"
   ]
  },
  {
   "cell_type": "code",
   "execution_count": null,
   "metadata": {},
   "outputs": [],
   "source": [
    "complutense = dfs_unified[dfs_unified['university'] == 'universidad complutense de madrid']\n",
    "fig,ax=plt.subplots(figsize=(10,8))\n",
    "ax.bar(complutense['year'], complutense['1_list'])\n",
    "# Setting the x-axis to 1-10\n",
    "# and y-axis to 1-15\n",
    "plt.axis([2009, 2022, 11.00, 14.00])\n",
    "plt.show()"
   ]
  },
  {
   "cell_type": "code",
   "execution_count": null,
   "metadata": {},
   "outputs": [],
   "source": [
    "dfs_unified.head()"
   ]
  },
  {
   "cell_type": "code",
   "execution_count": null,
   "metadata": {},
   "outputs": [],
   "source": [
    "# Shorter name of universities - PUT HIGHERRR\n",
    "dfs_unified['university'] = dfs_unified['university'].replace('universidad', 'u.', regex=True)"
   ]
  },
  {
   "cell_type": "code",
   "execution_count": null,
   "metadata": {},
   "outputs": [],
   "source": [
    "# round numbers to 3 decimals\n",
    "dfs_unified['1_list'] = dfs_unified['1_list'].apply(lambda x: round(x, 3))\n",
    "dfs_unified['final_grade'] = dfs_unified['final_grade'].apply(lambda x: round(x, 3))\n",
    "dfs_unified['diff_1_list_final_grade'] = dfs_unified['diff_1_list_final_grade'].apply(lambda x: round(x, 3))\n",
    "dfs_unified['growth_1_list'] = dfs_unified['growth_1_list'].apply(lambda x: round(x, 3))\n",
    "dfs_unified['growth_final_grade'] = dfs_unified['growth_final_grade'].apply(lambda x: round(x, 3))"
   ]
  },
  {
   "cell_type": "code",
   "execution_count": null,
   "metadata": {},
   "outputs": [],
   "source": [
    "dfs_unified['city'].unique()"
   ]
  },
  {
   "cell_type": "code",
   "execution_count": null,
   "metadata": {},
   "outputs": [],
   "source": [
    "# CCAA - communities\n",
    "dfs_unified['CCAA'] = ''\n",
    "dfs_unified['CCAA'] = np.where(dfs_unified['city'].isin(['huesca', 'zaragoza']), 'Aragón', dfs_unified['CCAA'])\n",
    "dfs_unified['CCAA'] = np.where(dfs_unified['city'].isin(['lérida', 'gerona', 'reus', 'barcelona']), 'Cataluña', dfs_unified['CCAA'])\n",
    "dfs_unified['CCAA'] = np.where(dfs_unified['city'].isin(['madrid', 'alcalá']), 'C. Madrid', dfs_unified['CCAA'])\n",
    "dfs_unified['CCAA'] = np.where(dfs_unified['city'].isin(['valladolid', 'salamanca']), 'Castilla y León', dfs_unified['CCAA'])\n",
    "dfs_unified['CCAA'] = np.where(dfs_unified['city'].isin(['santander']), 'Cantabria', dfs_unified['CCAA'])\n",
    "dfs_unified['CCAA'] = np.where(dfs_unified['city'].isin(['santiago de compostela']), 'Galicia', dfs_unified['CCAA'])\n",
    "dfs_unified['CCAA'] = np.where(dfs_unified['city'].isin(['badajoz']), 'Extremadura', dfs_unified['CCAA'])\n",
    "dfs_unified['CCAA'] = np.where(dfs_unified['city'].isin(['cádiz', 'córdoba', 'sevilla', 'málaga', 'granada']), 'Andalucía', dfs_unified['CCAA'])\n",
    "dfs_unified['CCAA'] = np.where(dfs_unified['city'].isin(['murcia']), 'Murcia', dfs_unified['CCAA'])\n",
    "dfs_unified['CCAA'] = np.where(dfs_unified['city'].isin(['ciudad real', 'albacete']), 'Castilla-La Mancha', dfs_unified['CCAA'])\n",
    "dfs_unified['CCAA'] = np.where(dfs_unified['city'].isin(['bilbao']), 'País Vasco', dfs_unified['CCAA'])\n",
    "dfs_unified['CCAA'] = np.where(dfs_unified['city'].isin(['la laguna', 'las palmas']), 'Canarias', dfs_unified['CCAA'])\n",
    "dfs_unified['CCAA'] = np.where(dfs_unified['city'].isin(['valencia', 'castellon de la plana', 'alicante']), 'C. Valenciana', dfs_unified['CCAA'])\n",
    "dfs_unified['CCAA'] = np.where(dfs_unified['city'].isin(['oviedo']), 'Asturias', dfs_unified['CCAA'])\n",
    "dfs_unified['CCAA'] = np.where(dfs_unified['city'].isin(['palma de mallorca']), 'Islas Baleares', dfs_unified['CCAA'])\n",
    "dfs_unified['CCAA'] = np.where(dfs_unified['city'].isin(['navarra']), 'Navarra', dfs_unified['CCAA'])"
   ]
  },
  {
   "cell_type": "code",
   "execution_count": null,
   "metadata": {},
   "outputs": [],
   "source": [
    "dfs_unified[dfs_unified['CCAA'] == '']"
   ]
  },
  {
   "cell_type": "code",
   "execution_count": null,
   "metadata": {},
   "outputs": [],
   "source": [
    "dfs_unified['CCAA'].unique()"
   ]
  },
  {
   "cell_type": "code",
   "execution_count": null,
   "metadata": {},
   "outputs": [],
   "source": [
    "# CCAA table for streamlit visualization\n",
    "df_CCAA = dfs_unified.groupby('CCAA')['final_grade'].mean().reset_index()\n",
    "df_CCAA"
   ]
  },
  {
   "cell_type": "code",
   "execution_count": null,
   "metadata": {},
   "outputs": [],
   "source": []
  },
  {
   "cell_type": "code",
   "execution_count": null,
   "metadata": {},
   "outputs": [],
   "source": [
    "# growth columns, replace first score (0 to Nan) - not all started in 2010\n"
   ]
  },
  {
   "cell_type": "code",
   "execution_count": null,
   "metadata": {},
   "outputs": [],
   "source": [
    "# compare growth of all years except for 2020, and 2020\n",
    "grouped_year_1_list = dfs_unified.groupby('year')['growth_1_list'].mean().reset_index()\n",
    "grouped_year_1_list_not_2020 = grouped_year_1_list[grouped_year_1_list['year'] != 2020]\n",
    "grouped_year_1_list_2020 = grouped_year_1_list[grouped_year_1_list['year'] == 2020]\n",
    "print(grouped_year_1_list_not_2020['growth_1_list'].mean())\n",
    "print(grouped_year_1_list_2020['growth_1_list'].mean())\n",
    "print(grouped_year_1_list_2020['growth_1_list'].mean() / grouped_year_1_list_not_2020['growth_1_list'].mean())"
   ]
  },
  {
   "cell_type": "code",
   "execution_count": null,
   "metadata": {},
   "outputs": [],
   "source": []
  },
  {
   "cell_type": "code",
   "execution_count": null,
   "metadata": {},
   "outputs": [],
   "source": [
    "#!pip install streamlit"
   ]
  },
  {
   "cell_type": "code",
   "execution_count": null,
   "metadata": {},
   "outputs": [],
   "source": [
    "#!streamlit run /Users/miguel/repos/Prediction_Medicine_Selectivity_Scores/streamlit/myapp.py"
   ]
  },
  {
   "cell_type": "code",
   "execution_count": null,
   "metadata": {},
   "outputs": [],
   "source": []
  },
  {
   "cell_type": "code",
   "execution_count": null,
   "metadata": {},
   "outputs": [],
   "source": []
  },
  {
   "cell_type": "code",
   "execution_count": null,
   "metadata": {},
   "outputs": [],
   "source": [
    "#!pip install folium\n",
    "#!pip install geopandas\n",
    "import streamlit as st\n",
    "import folium as folium\n",
    "import geopandas as gpd\n",
    "from shapely.geometry import Point, Polygon\n",
    "import re\n",
    "import json"
   ]
  },
  {
   "cell_type": "code",
   "execution_count": null,
   "metadata": {},
   "outputs": [],
   "source": [
    "import os\n",
    "os.getcwd()"
   ]
  },
  {
   "cell_type": "markdown",
   "metadata": {},
   "source": [
    "# end data visualization"
   ]
  },
  {
   "cell_type": "code",
   "execution_count": null,
   "metadata": {},
   "outputs": [],
   "source": [
    "dfs_unified['university'].unique()"
   ]
  },
  {
   "cell_type": "code",
   "execution_count": null,
   "metadata": {},
   "outputs": [],
   "source": [
    "#https://www.mapcoordinates.net/es\n",
    "dfs_unified['latitude'] = ''\n",
    "dfs_unified['latitude'] = np.where(dfs_unified['university'] == 'u. autónoma de barcelona', 41.5025932, dfs_unified['latitude'])\n",
    "dfs_unified['latitude'] = np.where(dfs_unified['university'] == 'u. de lérida', 41.81636125, dfs_unified['latitude'])\n",
    "dfs_unified['latitude'] = np.where(dfs_unified['university'] == 'u. de gerona', 41.9743792, dfs_unified['latitude'])\n",
    "dfs_unified['latitude'] = np.where(dfs_unified['university'] == 'u. rovira i virgili (reus)', 41.155309, dfs_unified['latitude'])\n",
    "dfs_unified['latitude'] = np.where(dfs_unified['university'] == 'u. de zaragoza (campus huesca)', 42.1414059, dfs_unified['latitude'])\n",
    "dfs_unified['latitude'] = np.where(dfs_unified['university'] == 'u. de valladolid', 41.6105937, dfs_unified['latitude'])\n",
    "dfs_unified['latitude'] = np.where(dfs_unified['university'] == 'u. de cantabria (santander)', 43.4736983, dfs_unified['latitude'])\n",
    "dfs_unified['latitude'] = np.where(dfs_unified['university'] == 'u. de santiago de compostela', 42.88050025, dfs_unified['latitude'])\n",
    "dfs_unified['latitude'] = np.where(dfs_unified['university'] == 'u. de extremadura (badajoz)', 38.8824069, dfs_unified['latitude'])\n",
    "dfs_unified['latitude'] = np.where(dfs_unified['university'] == 'u. de cádiz', 36.5340199, dfs_unified['latitude'])\n",
    "dfs_unified['latitude'] = np.where(dfs_unified['university'] == 'u. pompeu fabra (barcelona)', 41.37921475, dfs_unified['latitude'])\n",
    "dfs_unified['latitude'] = np.where(dfs_unified['university'] == 'u. de barcelona-clínico', 41.39017434, dfs_unified['latitude'])\n",
    "dfs_unified['latitude'] = np.where(dfs_unified['university'] == 'u. de salamanca', 40.9666432, dfs_unified['latitude'])\n",
    "dfs_unified['latitude'] = np.where(dfs_unified['university'] == 'u. de zaragoza (campus zaragoza)', 41.6421312, dfs_unified['latitude'])\n",
    "dfs_unified['latitude'] = np.where(dfs_unified['university'] == 'u. de c-la mancha (campus c.real)', 38.9918372, dfs_unified['latitude'])\n",
    "dfs_unified['latitude'] = np.where(dfs_unified['university'] == 'u. de córdoba', 37.8560421, dfs_unified['latitude'])\n",
    "dfs_unified['latitude'] = np.where(dfs_unified['university'] == 'u. del país vasco (lejona)', 43.3359821, dfs_unified['latitude'])\n",
    "dfs_unified['latitude'] = np.where(dfs_unified['university'] == 'u. de c-la mancha (campus albacete)', 38.4527362, dfs_unified['latitude'])\n",
    "dfs_unified['latitude'] = np.where(dfs_unified['university'] == 'u. de sevilla', 37.4128557, dfs_unified['latitude'])\n",
    "dfs_unified['latitude'] = np.where(dfs_unified['university'] == 'u. miguel hernández (s. juan de alicante)', 38.39896277, dfs_unified['latitude'])\n",
    "dfs_unified['latitude'] = np.where(dfs_unified['university'] == 'u. de alcalá', 40.4818396, dfs_unified['latitude'])\n",
    "dfs_unified['latitude'] = np.where(dfs_unified['university'] == 'u. de málaga', 36.7200431, dfs_unified['latitude'])\n",
    "dfs_unified['latitude'] = np.where(dfs_unified['university'] == 'u. de murcia', 37.99109245, dfs_unified['latitude'])\n",
    "dfs_unified['latitude'] = np.where(dfs_unified['university'] == 'u. de la laguna', 28.4852475, dfs_unified['latitude'])\n",
    "dfs_unified['latitude'] = np.where(dfs_unified['university'] == 'urjc - campus alcorcón', 40.3506324, dfs_unified['latitude'])\n",
    "dfs_unified['latitude'] = np.where(dfs_unified['university'] == 'u. de valencia', 39.4786642, dfs_unified['latitude'])\n",
    "dfs_unified['latitude'] = np.where(dfs_unified['university'] == 'u. autónoma de madrid', 40.4832261, dfs_unified['latitude'])\n",
    "dfs_unified['latitude'] = np.where(dfs_unified['university'] == 'u. de las palmas', 28.09055808, dfs_unified['latitude'])\n",
    "dfs_unified['latitude'] = np.where(dfs_unified['university'] == 'u. de granada', 37.1474408, dfs_unified['latitude'])\n",
    "dfs_unified['latitude'] = np.where(dfs_unified['university'] == 'u. complutense de madrid', 40.4437398, dfs_unified['latitude'])\n",
    "dfs_unified['latitude'] = np.where(dfs_unified['university'] == 'u. de oviedo', 43.3533657, dfs_unified['latitude'])\n",
    "dfs_unified['latitude'] = np.where(dfs_unified['university'] == 'u. jaume i', 39.9899483, dfs_unified['latitude'])\n",
    "dfs_unified['latitude'] = np.where(dfs_unified['university'] == 'u. de las islas baleares', 39.60701435, dfs_unified['latitude'])\n",
    "dfs_unified['latitude'] = np.where(dfs_unified['university'] == 'u. pública de navarra', 42.8154264, dfs_unified['latitude'])\n",
    "dfs_unified['latitude'] = np.where(dfs_unified['university'] == 'u. de barcelona-bellvitge', 41.3507816, dfs_unified['latitude'])"
   ]
  },
  {
   "cell_type": "code",
   "execution_count": null,
   "metadata": {},
   "outputs": [],
   "source": [
    "dfs_unified['longitude'] = ''\n",
    "dfs_unified['longitude'] = np.where(dfs_unified['university'] == 'u. autónoma de barcelona', 2.080056, dfs_unified['longitude'])\n",
    "dfs_unified['longitude'] = np.where(dfs_unified['university'] == 'u. de lérida', 1.59713745, dfs_unified['longitude'])\n",
    "dfs_unified['longitude'] = np.where(dfs_unified['university'] == 'u. de gerona', 2.8235429, dfs_unified['longitude'])\n",
    "dfs_unified['longitude'] = np.where(dfs_unified['university'] == 'u. rovira i virgili (reus)', 1.1053273, dfs_unified['longitude'])\n",
    "dfs_unified['longitude'] = np.where(dfs_unified['university'] == 'u. de zaragoza (campus huesca)', -0.4060896, dfs_unified['longitude'])\n",
    "dfs_unified['longitude'] = np.where(dfs_unified['university'] == 'u. de valladolid', -4.6916619, dfs_unified['longitude'])\n",
    "dfs_unified['longitude'] = np.where(dfs_unified['university'] == 'u. de cantabria (santander)', -3.7859174, dfs_unified['longitude'])\n",
    "dfs_unified['longitude'] = np.where(dfs_unified['university'] == 'u. de santiago de compostela', -8.5457602, dfs_unified['longitude'])\n",
    "dfs_unified['longitude'] = np.where(dfs_unified['university'] == 'u. de extremadura (badajoz)', -7.0194457, dfs_unified['longitude'])\n",
    "dfs_unified['longitude'] = np.where(dfs_unified['university'] == 'u. de cádiz', -6.3018987, dfs_unified['longitude'])\n",
    "dfs_unified['longitude'] = np.where(dfs_unified['university'] == 'u. pompeu fabra (barcelona)', 2.17941527, dfs_unified['longitude'])\n",
    "dfs_unified['longitude'] = np.where(dfs_unified['university'] == 'u. de barcelona-clínico', 2.15212588, dfs_unified['longitude'])\n",
    "dfs_unified['longitude'] = np.where(dfs_unified['university'] == 'u. de salamanca', -5.6772757, dfs_unified['longitude'])\n",
    "dfs_unified['longitude'] = np.where(dfs_unified['university'] == 'u. de zaragoza (campus zaragoza)', -0.90302271, dfs_unified['longitude'])\n",
    "dfs_unified['longitude'] = np.where(dfs_unified['university'] == 'u. de c-la mancha (campus c.real)', -3.9268263, dfs_unified['longitude'])\n",
    "dfs_unified['longitude'] = np.where(dfs_unified['university'] == 'u. de córdoba', -4.8134452, dfs_unified['longitude'])\n",
    "dfs_unified['longitude'] = np.where(dfs_unified['university'] == 'u. del país vasco (lejona)', -2.9768285, dfs_unified['longitude'])\n",
    "dfs_unified['longitude'] = np.where(dfs_unified['university'] == 'u. de c-la mancha (campus albacete)', -2.05363374, dfs_unified['longitude'])\n",
    "dfs_unified['longitude'] = np.where(dfs_unified['university'] == 'u. de sevilla', -5.9845606, dfs_unified['longitude'])\n",
    "dfs_unified['longitude'] = np.where(dfs_unified['university'] == 'u. miguel hernández (s. juan de alicante)', -0.43477806, dfs_unified['longitude'])\n",
    "dfs_unified['longitude'] = np.where(dfs_unified['university'] == 'u. de alcalá', -3.3644973, dfs_unified['longitude'])\n",
    "dfs_unified['longitude'] = np.where(dfs_unified['university'] == 'u. de málaga', -4.41617939, dfs_unified['longitude'])\n",
    "dfs_unified['longitude'] = np.where(dfs_unified['university'] == 'u. de murcia', -1.13010405, dfs_unified['longitude'])\n",
    "dfs_unified['longitude'] = np.where(dfs_unified['university'] == 'u. de la laguna', -16.3126059, dfs_unified['longitude'])\n",
    "dfs_unified['longitude'] = np.where(dfs_unified['university'] == 'urjc - campus alcorcón', -3.8437926, dfs_unified['longitude'])\n",
    "dfs_unified['longitude'] = np.where(dfs_unified['university'] == 'u. de valencia', -0.3627246, dfs_unified['longitude'])\n",
    "dfs_unified['longitude'] = np.where(dfs_unified['university'] == 'u. autónoma de madrid', -3.6972262, dfs_unified['longitude'])\n",
    "dfs_unified['longitude'] = np.where(dfs_unified['university'] == 'u. de las palmas', -15.41890014, dfs_unified['longitude'])\n",
    "dfs_unified['longitude'] = np.where(dfs_unified['university'] == 'u. de granada', -3.6042349, dfs_unified['longitude'])\n",
    "dfs_unified['longitude'] = np.where(dfs_unified['university'] == 'u. complutense de madrid', -3.72614639, dfs_unified['longitude'])\n",
    "dfs_unified['longitude'] = np.where(dfs_unified['university'] == 'u. de oviedo', -5.8687712, dfs_unified['longitude'])\n",
    "dfs_unified['longitude'] = np.where(dfs_unified['university'] == 'u. jaume i', -0.0664218, dfs_unified['longitude'])\n",
    "dfs_unified['longitude'] = np.where(dfs_unified['university'] == 'u. de las islas baleares', 2.64475448, dfs_unified['longitude'])\n",
    "dfs_unified['longitude'] = np.where(dfs_unified['university'] == 'u. pública de navarra', -1.65263107, dfs_unified['longitude'])\n",
    "dfs_unified['longitude'] = np.where(dfs_unified['university'] == 'u. de barcelona-bellvitge', 2.1045067, dfs_unified['longitude'])"
   ]
  },
  {
   "cell_type": "code",
   "execution_count": null,
   "metadata": {},
   "outputs": [],
   "source": [
    "dfs_unified[dfs_unified['latitude'] == '']"
   ]
  },
  {
   "cell_type": "code",
   "execution_count": null,
   "metadata": {},
   "outputs": [],
   "source": [
    "float(dfs_unified.loc[dfs_unified['university'] == 'u. autónoma de barcelona', 'latitude'].unique())"
   ]
  },
  {
   "cell_type": "code",
   "execution_count": null,
   "metadata": {},
   "outputs": [],
   "source": [
    "latitude = dfs_unified.loc[dfs_unified['university'] == 'u. autónoma de barcelona', 'latitude'].mean()"
   ]
  },
  {
   "cell_type": "code",
   "execution_count": null,
   "metadata": {},
   "outputs": [],
   "source": [
    "df_year_selected.loc[df_year_selected['university'] == 'u. autónoma de barcelona', 'university'].item()"
   ]
  },
  {
   "cell_type": "code",
   "execution_count": null,
   "metadata": {},
   "outputs": [],
   "source": [
    "latitude"
   ]
  },
  {
   "cell_type": "code",
   "execution_count": null,
   "metadata": {},
   "outputs": [],
   "source": [
    "df_year_selected.loc[df_year_selected['university'] == 'u. autónoma de barcelona', 'university']"
   ]
  },
  {
   "cell_type": "code",
   "execution_count": null,
   "metadata": {},
   "outputs": [],
   "source": [
    "dfs_unified.columns"
   ]
  },
  {
   "cell_type": "code",
   "execution_count": null,
   "metadata": {},
   "outputs": [],
   "source": [
    "import os\n",
    "os.getcwd()"
   ]
  },
  {
   "cell_type": "code",
   "execution_count": null,
   "metadata": {},
   "outputs": [],
   "source": [
    "dfs_unified"
   ]
  },
  {
   "cell_type": "code",
   "execution_count": null,
   "metadata": {},
   "outputs": [],
   "source": [
    "dfs_unified[dfs_unified['1_list'].isnull()]"
   ]
  },
  {
   "cell_type": "code",
   "execution_count": null,
   "metadata": {},
   "outputs": [],
   "source": [
    "dfs_unified[dfs_unified['final_grade'].isnull()]"
   ]
  },
  {
   "cell_type": "code",
   "execution_count": null,
   "metadata": {},
   "outputs": [],
   "source": [
    "dfs_unified[dfs_unified['latitude'].isnull()]"
   ]
  },
  {
   "cell_type": "code",
   "execution_count": null,
   "metadata": {},
   "outputs": [],
   "source": [
    "dfs_unified[dfs_unified['longitude'].isnull()]"
   ]
  },
  {
   "cell_type": "code",
   "execution_count": null,
   "metadata": {},
   "outputs": [],
   "source": [
    "dfs_unified[dfs_unified['growth_1_list'].isnull()]"
   ]
  },
  {
   "cell_type": "code",
   "execution_count": null,
   "metadata": {},
   "outputs": [],
   "source": [
    "dfs_unified[dfs_unified['university'] == 'u. de las islas baleares']"
   ]
  },
  {
   "cell_type": "code",
   "execution_count": null,
   "metadata": {},
   "outputs": [],
   "source": [
    "dfs_unified[dfs_unified['university'] == 'u. pública de navarra']"
   ]
  },
  {
   "cell_type": "code",
   "execution_count": null,
   "metadata": {},
   "outputs": [],
   "source": [
    "dfs_unified[dfs_unified['university'] == 'u. de barcelona-bellvitge']"
   ]
  },
  {
   "cell_type": "code",
   "execution_count": null,
   "metadata": {},
   "outputs": [],
   "source": []
  },
  {
   "cell_type": "code",
   "execution_count": null,
   "metadata": {},
   "outputs": [],
   "source": [
    "# solo para probar\n",
    "#dfs_unified = dfs_unified[dfs_unified['year'] != 2022]\n",
    "dfs_unified"
   ]
  },
  {
   "cell_type": "code",
   "execution_count": null,
   "metadata": {},
   "outputs": [],
   "source": [
    "dfs_unified.notnull()"
   ]
  },
  {
   "cell_type": "code",
   "execution_count": null,
   "metadata": {},
   "outputs": [],
   "source": [
    "dfs_unified[dfs_unified.isnull()]\n"
   ]
  },
  {
   "cell_type": "code",
   "execution_count": null,
   "metadata": {},
   "outputs": [],
   "source": [
    "# df_selected_year = dfs_unified[(dfs_unified['year'] == 2021)]\n",
    "# df_selected_year['university'].unique()"
   ]
  },
  {
   "cell_type": "code",
   "execution_count": null,
   "metadata": {},
   "outputs": [],
   "source": [
    "dfs_unified[dfs_unified['university'] == '']"
   ]
  },
  {
   "cell_type": "code",
   "execution_count": null,
   "metadata": {},
   "outputs": [],
   "source": [
    "dfs_unified[dfs_unified['CCAA'] == 'Illes Balears']"
   ]
  },
  {
   "cell_type": "code",
   "execution_count": null,
   "metadata": {},
   "outputs": [],
   "source": [
    "# export data to be used on streamlit\n",
    "\n",
    "file_name = 'output/exported_data.csv'\n",
    "dfs_unified.to_csv(file_name, index = False, header=True)"
   ]
  },
  {
   "cell_type": "code",
   "execution_count": null,
   "metadata": {},
   "outputs": [],
   "source": [
    "df_year_selected = dfs_unified[(dfs_unified['year'] == 2022)]\n",
    "top5 = list(df_year_selected.sort_values(by=['1_list'], ascending = False).head(5)['university'])\n",
    "if 'u. de granada' in top5:\n",
    "    print('hola')\n"
   ]
  },
  {
   "cell_type": "code",
   "execution_count": null,
   "metadata": {},
   "outputs": [],
   "source": [
    "(df_year_selected.sort_values(by=['1_list'], ascending = False).head(5)['university'])"
   ]
  },
  {
   "cell_type": "code",
   "execution_count": null,
   "metadata": {},
   "outputs": [],
   "source": []
  }
 ],
 "metadata": {
  "interpreter": {
   "hash": "afc3b4600e7999c1cec994f4f7321fa76de0c7f2f3bd5869f8f64fa643bd8b36"
  },
  "kernelspec": {
   "display_name": "Python 3.9.7 64-bit ('base': conda)",
   "name": "python3"
  },
  "language_info": {
   "codemirror_mode": {
    "name": "ipython",
    "version": 3
   },
   "file_extension": ".py",
   "mimetype": "text/x-python",
   "name": "python",
   "nbconvert_exporter": "python",
   "pygments_lexer": "ipython3",
   "version": "3.9.7"
  },
  "toc": {
   "base_numbering": 1,
   "nav_menu": {},
   "number_sections": true,
   "sideBar": true,
   "skip_h1_title": false,
   "title_cell": "Table of Contents",
   "title_sidebar": "Contents",
   "toc_cell": false,
   "toc_position": {},
   "toc_section_display": true,
   "toc_window_display": false
  },
  "varInspector": {
   "cols": {
    "lenName": 16,
    "lenType": 16,
    "lenVar": 40
   },
   "kernels_config": {
    "python": {
     "delete_cmd_postfix": "",
     "delete_cmd_prefix": "del ",
     "library": "var_list.py",
     "varRefreshCmd": "print(var_dic_list())"
    },
    "r": {
     "delete_cmd_postfix": ") ",
     "delete_cmd_prefix": "rm(",
     "library": "var_list.r",
     "varRefreshCmd": "cat(var_dic_list()) "
    }
   },
   "types_to_exclude": [
    "module",
    "function",
    "builtin_function_or_method",
    "instance",
    "_Feature"
   ],
   "window_display": false
  }
 },
 "nbformat": 4,
 "nbformat_minor": 2
}
