{
 "cells": [
  {
   "cell_type": "markdown",
   "metadata": {},
   "source": [
    "# Importing data"
   ]
  },
  {
   "cell_type": "code",
   "execution_count": 1,
   "metadata": {},
   "outputs": [],
   "source": [
    "import pandas as pd\n",
    "import numpy as np\n",
    "import seaborn as sns\n",
    "import matplotlib.pyplot as plt\n",
    "import sys\n",
    "import os"
   ]
  },
  {
   "cell_type": "code",
   "execution_count": 2,
   "metadata": {},
   "outputs": [
    {
     "data": {
      "text/plain": [
       "'/Users/miguel/repos/Prediction_Medicine_Selectivity_Scores/raw_data'"
      ]
     },
     "execution_count": 2,
     "metadata": {},
     "output_type": "execute_result"
    }
   ],
   "source": [
    "current_directory = os.getcwd()\n",
    "raw_data_directory = current_directory + '/raw_data'\n",
    "raw_data_directory"
   ]
  },
  {
   "cell_type": "code",
   "execution_count": 3,
   "metadata": {
    "code_folding": []
   },
   "outputs": [],
   "source": [
    "# lo del df_name no tiene sentido si luego no lo puedo llamar"
   ]
  },
  {
   "cell_type": "code",
   "execution_count": 4,
   "metadata": {
    "code_folding": []
   },
   "outputs": [],
   "source": [
    "# input raw data from different years (2010-2021)\n",
    "initial_year = 2010\n",
    "last_year = 2021\n",
    "next_year = initial_year + 1\n",
    "num_years = last_year - initial_year + 1\n",
    "list_of_dfs = []\n",
    "list_of_directories = []\n",
    "# format example: df_2010_2011 = pd.read_csv(raw_data_directory + '/Notas de corte de Medicina 2010_2011 - Hoja 1.csv', decimal = ',')\n",
    "\n",
    "for i in range(num_years):\n",
    "    df_name = 'df' + '_' + str(initial_year) + '_' + str(next_year)\n",
    "    directory = raw_data_directory + '/Notas de corte de Medicina ' + str(initial_year) + '_' + str(next_year) + ' - Hoja 1.csv'\n",
    "    list_of_dfs.append(df_name)\n",
    "    list_of_directories.append(directory)\n",
    "    \n",
    "    list_of_dfs[i] = pd.read_csv(list_of_directories[i], decimal = ',')\n",
    "    \n",
    "    initial_year += 1\n",
    "    next_year += 1"
   ]
  },
  {
   "cell_type": "code",
   "execution_count": 5,
   "metadata": {},
   "outputs": [],
   "source": [
    "# before appending all dfs, we create a column with the year, to keep track of which df the data is coming from\n",
    "initial_year = 2010\n",
    "\n",
    "for i in range(num_years):\n",
    "    list_of_dfs[i]['year'] = initial_year + i"
   ]
  },
  {
   "cell_type": "code",
   "execution_count": 6,
   "metadata": {},
   "outputs": [],
   "source": [
    "dfs_unified = pd.DataFrame()"
   ]
  },
  {
   "cell_type": "code",
   "execution_count": 7,
   "metadata": {},
   "outputs": [],
   "source": [
    "for i in range(num_years):\n",
    "    dfs_unified = dfs_unified.append(list_of_dfs[i])"
   ]
  },
  {
   "cell_type": "code",
   "execution_count": 8,
   "metadata": {},
   "outputs": [
    {
     "name": "stdout",
     "output_type": "stream",
     "text": [
      "append has been done correctly\n"
     ]
    }
   ],
   "source": [
    "# check the append has been done correctly: check the number of rows is the sum of all of the dfs\n",
    "\n",
    "total_number_of_rows = 0\n",
    "\n",
    "for i in range(num_years):\n",
    "    total_number_of_rows = total_number_of_rows + len(list_of_dfs[i])\n",
    "\n",
    "if total_number_of_rows != dfs_unified.shape[0]:\n",
    "    sys.exit()\n",
    "else:\n",
    "    print('append has been done correctly')"
   ]
  },
  {
   "cell_type": "code",
   "execution_count": 9,
   "metadata": {},
   "outputs": [
    {
     "data": {
      "text/html": [
       "<div>\n",
       "<style scoped>\n",
       "    .dataframe tbody tr th:only-of-type {\n",
       "        vertical-align: middle;\n",
       "    }\n",
       "\n",
       "    .dataframe tbody tr th {\n",
       "        vertical-align: top;\n",
       "    }\n",
       "\n",
       "    .dataframe thead th {\n",
       "        text-align: right;\n",
       "    }\n",
       "</style>\n",
       "<table border=\"1\" class=\"dataframe\">\n",
       "  <thead>\n",
       "    <tr style=\"text-align: right;\">\n",
       "      <th></th>\n",
       "      <th>Nota de corte final de Medicina</th>\n",
       "      <th>1ª Lista</th>\n",
       "      <th>Sobre 10</th>\n",
       "      <th>Sobre 10.1</th>\n",
       "      <th>3ª Lista</th>\n",
       "      <th>Sobre 10.2</th>\n",
       "      <th>4ª Lista</th>\n",
       "      <th>Sobre 10.3</th>\n",
       "      <th>5ª Lista</th>\n",
       "      <th>Sobre 10.4</th>\n",
       "      <th>...</th>\n",
       "      <th>year</th>\n",
       "      <th>Nota de corte final</th>\n",
       "      <th>Nota de corte actual</th>\n",
       "      <th>19ª Lista</th>\n",
       "      <th>20ª Lista</th>\n",
       "      <th>21ª Lista</th>\n",
       "      <th>Sobre 10.20</th>\n",
       "      <th>22ª Lista</th>\n",
       "      <th>23ª Lista</th>\n",
       "      <th>Sobre 10.22</th>\n",
       "    </tr>\n",
       "  </thead>\n",
       "  <tbody>\n",
       "    <tr>\n",
       "      <th>count</th>\n",
       "      <td>31.000000</td>\n",
       "      <td>408.000000</td>\n",
       "      <td>394.000000</td>\n",
       "      <td>391.000000</td>\n",
       "      <td>385.000000</td>\n",
       "      <td>379.000000</td>\n",
       "      <td>366.000000</td>\n",
       "      <td>362.000000</td>\n",
       "      <td>333.000000</td>\n",
       "      <td>331.000000</td>\n",
       "      <td>...</td>\n",
       "      <td>421.000000</td>\n",
       "      <td>32.000000</td>\n",
       "      <td>353.000000</td>\n",
       "      <td>7.000000</td>\n",
       "      <td>3.000000</td>\n",
       "      <td>3.000000</td>\n",
       "      <td>3.000000</td>\n",
       "      <td>3.000000</td>\n",
       "      <td>2.000000</td>\n",
       "      <td>2.000000</td>\n",
       "    </tr>\n",
       "    <tr>\n",
       "      <th>mean</th>\n",
       "      <td>11.490484</td>\n",
       "      <td>12.447645</td>\n",
       "      <td>9.041056</td>\n",
       "      <td>8.944463</td>\n",
       "      <td>12.367694</td>\n",
       "      <td>8.900691</td>\n",
       "      <td>12.356454</td>\n",
       "      <td>8.872387</td>\n",
       "      <td>12.356586</td>\n",
       "      <td>8.850885</td>\n",
       "      <td>...</td>\n",
       "      <td>2015.641330</td>\n",
       "      <td>11.870656</td>\n",
       "      <td>12.063295</td>\n",
       "      <td>12.185857</td>\n",
       "      <td>12.518000</td>\n",
       "      <td>12.512333</td>\n",
       "      <td>8.937333</td>\n",
       "      <td>12.505333</td>\n",
       "      <td>12.636000</td>\n",
       "      <td>9.026000</td>\n",
       "    </tr>\n",
       "    <tr>\n",
       "      <th>std</th>\n",
       "      <td>0.284092</td>\n",
       "      <td>1.666311</td>\n",
       "      <td>0.290084</td>\n",
       "      <td>0.309839</td>\n",
       "      <td>1.166845</td>\n",
       "      <td>0.316444</td>\n",
       "      <td>1.010194</td>\n",
       "      <td>0.324101</td>\n",
       "      <td>0.813597</td>\n",
       "      <td>0.331569</td>\n",
       "      <td>...</td>\n",
       "      <td>3.467139</td>\n",
       "      <td>0.304269</td>\n",
       "      <td>2.259171</td>\n",
       "      <td>0.376413</td>\n",
       "      <td>0.346221</td>\n",
       "      <td>0.347917</td>\n",
       "      <td>0.248323</td>\n",
       "      <td>0.353030</td>\n",
       "      <td>0.376181</td>\n",
       "      <td>0.268701</td>\n",
       "    </tr>\n",
       "    <tr>\n",
       "      <th>min</th>\n",
       "      <td>11.040000</td>\n",
       "      <td>0.201000</td>\n",
       "      <td>8.279000</td>\n",
       "      <td>8.043000</td>\n",
       "      <td>0.175000</td>\n",
       "      <td>8.035000</td>\n",
       "      <td>0.173000</td>\n",
       "      <td>8.007000</td>\n",
       "      <td>0.203000</td>\n",
       "      <td>7.886000</td>\n",
       "      <td>...</td>\n",
       "      <td>2010.000000</td>\n",
       "      <td>11.260000</td>\n",
       "      <td>0.014000</td>\n",
       "      <td>11.852000</td>\n",
       "      <td>12.258000</td>\n",
       "      <td>12.250000</td>\n",
       "      <td>8.750000</td>\n",
       "      <td>12.236000</td>\n",
       "      <td>12.370000</td>\n",
       "      <td>8.836000</td>\n",
       "    </tr>\n",
       "    <tr>\n",
       "      <th>25%</th>\n",
       "      <td>11.233000</td>\n",
       "      <td>12.365750</td>\n",
       "      <td>8.841000</td>\n",
       "      <td>8.737000</td>\n",
       "      <td>12.178000</td>\n",
       "      <td>8.700000</td>\n",
       "      <td>12.148000</td>\n",
       "      <td>8.679250</td>\n",
       "      <td>12.133000</td>\n",
       "      <td>8.669500</td>\n",
       "      <td>...</td>\n",
       "      <td>2013.000000</td>\n",
       "      <td>11.693500</td>\n",
       "      <td>12.178000</td>\n",
       "      <td>11.927500</td>\n",
       "      <td>12.321500</td>\n",
       "      <td>12.315000</td>\n",
       "      <td>8.796500</td>\n",
       "      <td>12.305500</td>\n",
       "      <td>12.503000</td>\n",
       "      <td>8.931000</td>\n",
       "    </tr>\n",
       "    <tr>\n",
       "      <th>50%</th>\n",
       "      <td>11.496000</td>\n",
       "      <td>12.637500</td>\n",
       "      <td>9.028500</td>\n",
       "      <td>8.952000</td>\n",
       "      <td>12.480000</td>\n",
       "      <td>8.916000</td>\n",
       "      <td>12.444500</td>\n",
       "      <td>8.889000</td>\n",
       "      <td>12.424000</td>\n",
       "      <td>8.874000</td>\n",
       "      <td>...</td>\n",
       "      <td>2016.000000</td>\n",
       "      <td>11.942500</td>\n",
       "      <td>12.449000</td>\n",
       "      <td>12.028000</td>\n",
       "      <td>12.385000</td>\n",
       "      <td>12.380000</td>\n",
       "      <td>8.843000</td>\n",
       "      <td>12.375000</td>\n",
       "      <td>12.636000</td>\n",
       "      <td>9.026000</td>\n",
       "    </tr>\n",
       "    <tr>\n",
       "      <th>75%</th>\n",
       "      <td>11.673000</td>\n",
       "      <td>12.909000</td>\n",
       "      <td>9.227000</td>\n",
       "      <td>9.127000</td>\n",
       "      <td>12.723000</td>\n",
       "      <td>9.088500</td>\n",
       "      <td>12.693000</td>\n",
       "      <td>9.066250</td>\n",
       "      <td>12.667000</td>\n",
       "      <td>9.047000</td>\n",
       "      <td>...</td>\n",
       "      <td>2019.000000</td>\n",
       "      <td>12.046000</td>\n",
       "      <td>12.709000</td>\n",
       "      <td>12.325500</td>\n",
       "      <td>12.648000</td>\n",
       "      <td>12.643500</td>\n",
       "      <td>9.031000</td>\n",
       "      <td>12.640000</td>\n",
       "      <td>12.769000</td>\n",
       "      <td>9.121000</td>\n",
       "    </tr>\n",
       "    <tr>\n",
       "      <th>max</th>\n",
       "      <td>12.088000</td>\n",
       "      <td>13.580000</td>\n",
       "      <td>9.700000</td>\n",
       "      <td>9.639000</td>\n",
       "      <td>13.450000</td>\n",
       "      <td>9.607000</td>\n",
       "      <td>13.440000</td>\n",
       "      <td>9.600000</td>\n",
       "      <td>13.428000</td>\n",
       "      <td>9.591000</td>\n",
       "      <td>...</td>\n",
       "      <td>2021.000000</td>\n",
       "      <td>12.360000</td>\n",
       "      <td>13.426000</td>\n",
       "      <td>12.915000</td>\n",
       "      <td>12.911000</td>\n",
       "      <td>12.907000</td>\n",
       "      <td>9.219000</td>\n",
       "      <td>12.905000</td>\n",
       "      <td>12.902000</td>\n",
       "      <td>9.216000</td>\n",
       "    </tr>\n",
       "  </tbody>\n",
       "</table>\n",
       "<p>8 rows × 50 columns</p>\n",
       "</div>"
      ],
      "text/plain": [
       "       Nota de corte final de Medicina    1ª Lista    Sobre 10  Sobre 10.1  \\\n",
       "count                        31.000000  408.000000  394.000000  391.000000   \n",
       "mean                         11.490484   12.447645    9.041056    8.944463   \n",
       "std                           0.284092    1.666311    0.290084    0.309839   \n",
       "min                          11.040000    0.201000    8.279000    8.043000   \n",
       "25%                          11.233000   12.365750    8.841000    8.737000   \n",
       "50%                          11.496000   12.637500    9.028500    8.952000   \n",
       "75%                          11.673000   12.909000    9.227000    9.127000   \n",
       "max                          12.088000   13.580000    9.700000    9.639000   \n",
       "\n",
       "         3ª Lista  Sobre 10.2    4ª Lista  Sobre 10.3    5ª Lista  Sobre 10.4  \\\n",
       "count  385.000000  379.000000  366.000000  362.000000  333.000000  331.000000   \n",
       "mean    12.367694    8.900691   12.356454    8.872387   12.356586    8.850885   \n",
       "std      1.166845    0.316444    1.010194    0.324101    0.813597    0.331569   \n",
       "min      0.175000    8.035000    0.173000    8.007000    0.203000    7.886000   \n",
       "25%     12.178000    8.700000   12.148000    8.679250   12.133000    8.669500   \n",
       "50%     12.480000    8.916000   12.444500    8.889000   12.424000    8.874000   \n",
       "75%     12.723000    9.088500   12.693000    9.066250   12.667000    9.047000   \n",
       "max     13.450000    9.607000   13.440000    9.600000   13.428000    9.591000   \n",
       "\n",
       "       ...         year  Nota de corte final  Nota de corte actual  19ª Lista  \\\n",
       "count  ...   421.000000            32.000000            353.000000   7.000000   \n",
       "mean   ...  2015.641330            11.870656             12.063295  12.185857   \n",
       "std    ...     3.467139             0.304269              2.259171   0.376413   \n",
       "min    ...  2010.000000            11.260000              0.014000  11.852000   \n",
       "25%    ...  2013.000000            11.693500             12.178000  11.927500   \n",
       "50%    ...  2016.000000            11.942500             12.449000  12.028000   \n",
       "75%    ...  2019.000000            12.046000             12.709000  12.325500   \n",
       "max    ...  2021.000000            12.360000             13.426000  12.915000   \n",
       "\n",
       "       20ª Lista  21ª Lista  Sobre 10.20  22ª Lista  23ª Lista  Sobre 10.22  \n",
       "count   3.000000   3.000000     3.000000   3.000000   2.000000     2.000000  \n",
       "mean   12.518000  12.512333     8.937333  12.505333  12.636000     9.026000  \n",
       "std     0.346221   0.347917     0.248323   0.353030   0.376181     0.268701  \n",
       "min    12.258000  12.250000     8.750000  12.236000  12.370000     8.836000  \n",
       "25%    12.321500  12.315000     8.796500  12.305500  12.503000     8.931000  \n",
       "50%    12.385000  12.380000     8.843000  12.375000  12.636000     9.026000  \n",
       "75%    12.648000  12.643500     9.031000  12.640000  12.769000     9.121000  \n",
       "max    12.911000  12.907000     9.219000  12.905000  12.902000     9.216000  \n",
       "\n",
       "[8 rows x 50 columns]"
      ]
     },
     "execution_count": 9,
     "metadata": {},
     "output_type": "execute_result"
    }
   ],
   "source": [
    "dfs_unified.describe()"
   ]
  },
  {
   "cell_type": "markdown",
   "metadata": {},
   "source": [
    "# Data Cleaning"
   ]
  },
  {
   "cell_type": "markdown",
   "metadata": {},
   "source": [
    "## Check for duplicates"
   ]
  },
  {
   "cell_type": "code",
   "execution_count": 10,
   "metadata": {},
   "outputs": [
    {
     "name": "stdout",
     "output_type": "stream",
     "text": [
      "There are no duplicates\n"
     ]
    }
   ],
   "source": [
    "if dfs_unified[dfs_unified.duplicated() == True].shape[0] != 0:\n",
    "    dfs_unified.drop_duplicates()\n",
    "else:\n",
    "    print('There are no duplicates')"
   ]
  },
  {
   "cell_type": "markdown",
   "metadata": {},
   "source": [
    "## Create new unique columns out of data that we already had"
   ]
  },
  {
   "cell_type": "code",
   "execution_count": 11,
   "metadata": {},
   "outputs": [],
   "source": [
    "def drop_columns_containing_text(df, text):\n",
    "    '''\n",
    "    drop columns that contain a certain string/text\n",
    "    '''\n",
    "    df = df[df.columns.drop(list(df.filter(regex=text)))]\n",
    "    return df"
   ]
  },
  {
   "cell_type": "code",
   "execution_count": 12,
   "metadata": {},
   "outputs": [],
   "source": [
    "dfs_unified = drop_columns_containing_text(dfs_unified, 'Sobre')"
   ]
  },
  {
   "cell_type": "code",
   "execution_count": 13,
   "metadata": {},
   "outputs": [],
   "source": [
    "# to keep track of raw columns, to afterwards drop them\n",
    "dfs_unified_raw_columns = dfs_unified.columns.tolist()\n",
    "# 'year' was created before and is not a raw column\n",
    "dfs_unified_raw_columns.remove('year')\n",
    "#dfs_unified_columns"
   ]
  },
  {
   "cell_type": "code",
   "execution_count": 14,
   "metadata": {},
   "outputs": [],
   "source": [
    "# tiene sentido copiar solo not null data y no toda????????"
   ]
  },
  {
   "cell_type": "code",
   "execution_count": 15,
   "metadata": {},
   "outputs": [],
   "source": [
    "def copy_data(new_col, old_col):\n",
    "    '''\n",
    "    copy not null data from one column to another\n",
    "    '''\n",
    "    dfs_unified[new_col] = np.where(dfs_unified[old_col].notnull(), dfs_unified[old_col], dfs_unified[new_col])"
   ]
  },
  {
   "cell_type": "code",
   "execution_count": 16,
   "metadata": {},
   "outputs": [],
   "source": [
    "dfs_unified['university'] = ''\n",
    "copy_data('university', 'Notas de corte de Medicina')\n",
    "copy_data('university', 'Universidad')\n",
    "copy_data('university', 'Facultad de Medicina')\n",
    "\n",
    "#dfs_unified['date_last_admission'] = ''\n",
    "#copy_data('date_last_admission', 'Fecha de última admisión')\n",
    "#copy_data('date_last_admission', 'Última fecha de admisión \\n(Fecha de la nota final)')\n",
    "\n",
    "dfs_unified['final_grade'] = ''\n",
    "copy_data('final_grade', 'Nota de corte final de Medicina')\n",
    "copy_data('final_grade', 'Nota de corte final')\n",
    "copy_data('final_grade', 'Nota de corte actual')\n",
    "\n",
    "\n",
    "\n",
    "dfs_unified['1_list'] = ''\n",
    "copy_data('1_list', '1ª Lista')\n",
    "\n",
    "#copy_data('19_list', '19ª lista')\n",
    "#copy_data('20_list', '20ª lista')"
   ]
  },
  {
   "cell_type": "code",
   "execution_count": 17,
   "metadata": {},
   "outputs": [],
   "source": [
    "# drop all old columns\n",
    "dfs_unified = dfs_unified.drop(dfs_unified_raw_columns, axis=1)\n",
    "\n",
    "# reset index\n",
    "dfs_unified = dfs_unified.reset_index()"
   ]
  },
  {
   "cell_type": "code",
   "execution_count": 18,
   "metadata": {},
   "outputs": [
    {
     "data": {
      "text/html": [
       "<div>\n",
       "<style scoped>\n",
       "    .dataframe tbody tr th:only-of-type {\n",
       "        vertical-align: middle;\n",
       "    }\n",
       "\n",
       "    .dataframe tbody tr th {\n",
       "        vertical-align: top;\n",
       "    }\n",
       "\n",
       "    .dataframe thead th {\n",
       "        text-align: right;\n",
       "    }\n",
       "</style>\n",
       "<table border=\"1\" class=\"dataframe\">\n",
       "  <thead>\n",
       "    <tr style=\"text-align: right;\">\n",
       "      <th></th>\n",
       "      <th>index</th>\n",
       "      <th>year</th>\n",
       "      <th>university</th>\n",
       "      <th>final_grade</th>\n",
       "      <th>1_list</th>\n",
       "    </tr>\n",
       "  </thead>\n",
       "  <tbody>\n",
       "    <tr>\n",
       "      <th>31</th>\n",
       "      <td>31</td>\n",
       "      <td>2010</td>\n",
       "      <td></td>\n",
       "      <td></td>\n",
       "      <td></td>\n",
       "    </tr>\n",
       "    <tr>\n",
       "      <th>33</th>\n",
       "      <td>33</td>\n",
       "      <td>2010</td>\n",
       "      <td>** Publicada nota de 11,257 en la CiuG, el 7/9/10</td>\n",
       "      <td></td>\n",
       "      <td></td>\n",
       "    </tr>\n",
       "    <tr>\n",
       "      <th>98</th>\n",
       "      <td>32</td>\n",
       "      <td>2012</td>\n",
       "      <td>Nota promedio</td>\n",
       "      <td>12.017</td>\n",
       "      <td></td>\n",
       "    </tr>\n",
       "    <tr>\n",
       "      <th>99</th>\n",
       "      <td>33</td>\n",
       "      <td>2012</td>\n",
       "      <td>Desviación típica</td>\n",
       "      <td>0.22</td>\n",
       "      <td></td>\n",
       "    </tr>\n",
       "    <tr>\n",
       "      <th>132</th>\n",
       "      <td>32</td>\n",
       "      <td>2013</td>\n",
       "      <td>Nota promedio</td>\n",
       "      <td>12.082</td>\n",
       "      <td></td>\n",
       "    </tr>\n",
       "    <tr>\n",
       "      <th>133</th>\n",
       "      <td>33</td>\n",
       "      <td>2013</td>\n",
       "      <td>Desviación típica</td>\n",
       "      <td>0.213</td>\n",
       "      <td></td>\n",
       "    </tr>\n",
       "    <tr>\n",
       "      <th>166</th>\n",
       "      <td>32</td>\n",
       "      <td>2014</td>\n",
       "      <td>Nota promedio</td>\n",
       "      <td>12.268</td>\n",
       "      <td></td>\n",
       "    </tr>\n",
       "    <tr>\n",
       "      <th>167</th>\n",
       "      <td>33</td>\n",
       "      <td>2014</td>\n",
       "      <td>Desviación típica</td>\n",
       "      <td>0.213</td>\n",
       "      <td></td>\n",
       "    </tr>\n",
       "    <tr>\n",
       "      <th>200</th>\n",
       "      <td>32</td>\n",
       "      <td>2015</td>\n",
       "      <td>Nota promedio</td>\n",
       "      <td>12.422</td>\n",
       "      <td>12.605</td>\n",
       "    </tr>\n",
       "    <tr>\n",
       "      <th>201</th>\n",
       "      <td>33</td>\n",
       "      <td>2015</td>\n",
       "      <td>Desviación típica</td>\n",
       "      <td>0.188</td>\n",
       "      <td>0.201</td>\n",
       "    </tr>\n",
       "    <tr>\n",
       "      <th>202</th>\n",
       "      <td>34</td>\n",
       "      <td>2015</td>\n",
       "      <td></td>\n",
       "      <td>0.184</td>\n",
       "      <td></td>\n",
       "    </tr>\n",
       "    <tr>\n",
       "      <th>203</th>\n",
       "      <td>35</td>\n",
       "      <td>2015</td>\n",
       "      <td></td>\n",
       "      <td>0.014</td>\n",
       "      <td></td>\n",
       "    </tr>\n",
       "    <tr>\n",
       "      <th>237</th>\n",
       "      <td>33</td>\n",
       "      <td>2016</td>\n",
       "      <td>Nota promedio</td>\n",
       "      <td>12.449</td>\n",
       "      <td>12.712</td>\n",
       "    </tr>\n",
       "    <tr>\n",
       "      <th>238</th>\n",
       "      <td>34</td>\n",
       "      <td>2016</td>\n",
       "      <td>Desviación típica</td>\n",
       "      <td>0.203</td>\n",
       "      <td>0.213</td>\n",
       "    </tr>\n",
       "    <tr>\n",
       "      <th>272</th>\n",
       "      <td>33</td>\n",
       "      <td>2017</td>\n",
       "      <td>Nota promedio</td>\n",
       "      <td>12.46</td>\n",
       "      <td>12.748</td>\n",
       "    </tr>\n",
       "    <tr>\n",
       "      <th>273</th>\n",
       "      <td>34</td>\n",
       "      <td>2017</td>\n",
       "      <td>Desviación típica</td>\n",
       "      <td>0.238</td>\n",
       "      <td>0.218</td>\n",
       "    </tr>\n",
       "    <tr>\n",
       "      <th>307</th>\n",
       "      <td>33</td>\n",
       "      <td>2018</td>\n",
       "      <td>Nota promedio</td>\n",
       "      <td>12.504</td>\n",
       "      <td>12.752</td>\n",
       "    </tr>\n",
       "    <tr>\n",
       "      <th>308</th>\n",
       "      <td>34</td>\n",
       "      <td>2018</td>\n",
       "      <td>Desviación típica</td>\n",
       "      <td>0.224</td>\n",
       "      <td>0.232</td>\n",
       "    </tr>\n",
       "    <tr>\n",
       "      <th>343</th>\n",
       "      <td>34</td>\n",
       "      <td>2019</td>\n",
       "      <td>Nota promedio</td>\n",
       "      <td>12.561</td>\n",
       "      <td>12.779</td>\n",
       "    </tr>\n",
       "    <tr>\n",
       "      <th>344</th>\n",
       "      <td>35</td>\n",
       "      <td>2019</td>\n",
       "      <td>Desviación típica</td>\n",
       "      <td>0.239</td>\n",
       "      <td>0.24</td>\n",
       "    </tr>\n",
       "    <tr>\n",
       "      <th>380</th>\n",
       "      <td>35</td>\n",
       "      <td>2020</td>\n",
       "      <td></td>\n",
       "      <td></td>\n",
       "      <td></td>\n",
       "    </tr>\n",
       "    <tr>\n",
       "      <th>381</th>\n",
       "      <td>36</td>\n",
       "      <td>2020</td>\n",
       "      <td>Nota promedio</td>\n",
       "      <td>12.903</td>\n",
       "      <td>13.193</td>\n",
       "    </tr>\n",
       "    <tr>\n",
       "      <th>382</th>\n",
       "      <td>37</td>\n",
       "      <td>2020</td>\n",
       "      <td>Desviación típica</td>\n",
       "      <td>0.236</td>\n",
       "      <td>0.226</td>\n",
       "    </tr>\n",
       "    <tr>\n",
       "      <th>418</th>\n",
       "      <td>35</td>\n",
       "      <td>2021</td>\n",
       "      <td></td>\n",
       "      <td></td>\n",
       "      <td></td>\n",
       "    </tr>\n",
       "    <tr>\n",
       "      <th>419</th>\n",
       "      <td>36</td>\n",
       "      <td>2021</td>\n",
       "      <td>Nota media</td>\n",
       "      <td>13.038</td>\n",
       "      <td>13.272</td>\n",
       "    </tr>\n",
       "    <tr>\n",
       "      <th>420</th>\n",
       "      <td>37</td>\n",
       "      <td>2021</td>\n",
       "      <td>Desviación típica</td>\n",
       "      <td>0.199</td>\n",
       "      <td>0.223</td>\n",
       "    </tr>\n",
       "  </tbody>\n",
       "</table>\n",
       "</div>"
      ],
      "text/plain": [
       "     index  year                                         university  \\\n",
       "31      31  2010                                                      \n",
       "33      33  2010  ** Publicada nota de 11,257 en la CiuG, el 7/9/10   \n",
       "98      32  2012                                      Nota promedio   \n",
       "99      33  2012                                  Desviación típica   \n",
       "132     32  2013                                      Nota promedio   \n",
       "133     33  2013                                  Desviación típica   \n",
       "166     32  2014                                      Nota promedio   \n",
       "167     33  2014                                  Desviación típica   \n",
       "200     32  2015                                      Nota promedio   \n",
       "201     33  2015                                  Desviación típica   \n",
       "202     34  2015                                                      \n",
       "203     35  2015                                                      \n",
       "237     33  2016                                      Nota promedio   \n",
       "238     34  2016                                  Desviación típica   \n",
       "272     33  2017                                      Nota promedio   \n",
       "273     34  2017                                  Desviación típica   \n",
       "307     33  2018                                      Nota promedio   \n",
       "308     34  2018                                  Desviación típica   \n",
       "343     34  2019                                      Nota promedio   \n",
       "344     35  2019                                  Desviación típica   \n",
       "380     35  2020                                                      \n",
       "381     36  2020                                      Nota promedio   \n",
       "382     37  2020                                  Desviación típica   \n",
       "418     35  2021                                                      \n",
       "419     36  2021                                         Nota media   \n",
       "420     37  2021                                  Desviación típica   \n",
       "\n",
       "    final_grade  1_list  \n",
       "31                       \n",
       "33                       \n",
       "98       12.017          \n",
       "99         0.22          \n",
       "132      12.082          \n",
       "133       0.213          \n",
       "166      12.268          \n",
       "167       0.213          \n",
       "200      12.422  12.605  \n",
       "201       0.188   0.201  \n",
       "202       0.184          \n",
       "203       0.014          \n",
       "237      12.449  12.712  \n",
       "238       0.203   0.213  \n",
       "272       12.46  12.748  \n",
       "273       0.238   0.218  \n",
       "307      12.504  12.752  \n",
       "308       0.224   0.232  \n",
       "343      12.561  12.779  \n",
       "344       0.239    0.24  \n",
       "380                      \n",
       "381      12.903  13.193  \n",
       "382       0.236   0.226  \n",
       "418                      \n",
       "419      13.038  13.272  \n",
       "420       0.199   0.223  "
      ]
     },
     "execution_count": 18,
     "metadata": {},
     "output_type": "execute_result"
    }
   ],
   "source": [
    "dfs_unified[~dfs_unified['university'].str.contains('U', na=False)]"
   ]
  },
  {
   "cell_type": "code",
   "execution_count": 19,
   "metadata": {},
   "outputs": [],
   "source": [
    "dfs_unified = dfs_unified[dfs_unified['university'].str.contains('U', na=False)]"
   ]
  },
  {
   "cell_type": "code",
   "execution_count": 20,
   "metadata": {},
   "outputs": [],
   "source": [
    "dfs_unified = dfs_unified[~dfs_unified['university'].str.contains('Sobre la Universidad de Santiago:', na=False)]"
   ]
  },
  {
   "cell_type": "code",
   "execution_count": 21,
   "metadata": {},
   "outputs": [
    {
     "data": {
      "text/plain": [
       "Index(['index', 'year', 'university', 'final_grade', '1_list'], dtype='object')"
      ]
     },
     "execution_count": 21,
     "metadata": {},
     "output_type": "execute_result"
    }
   ],
   "source": [
    "dfs_unified.columns"
   ]
  },
  {
   "cell_type": "code",
   "execution_count": 22,
   "metadata": {},
   "outputs": [],
   "source": [
    "dfs_unified_columns = dfs_unified.columns.tolist()[1:]\n",
    "\n",
    "num_columns = len(dfs_unified_columns)\n",
    "\n",
    "for i in range(num_columns):\n",
    "    dfs_unified[dfs_unified_columns[i]].replace({'': np.nan}, inplace=True)"
   ]
  },
  {
   "cell_type": "code",
   "execution_count": 23,
   "metadata": {},
   "outputs": [
    {
     "name": "stdout",
     "output_type": "stream",
     "text": [
      "column 1_list has 0 null rows\n",
      "column final_grade has 0 null rows\n",
      "column university has 0 null rows\n"
     ]
    }
   ],
   "source": [
    "# quality check: essential columns don't have nulls\n",
    "\n",
    "nulls_1_list = dfs_unified[dfs_unified['1_list'].isnull()].shape[0]\n",
    "nulls_final_grade = dfs_unified[dfs_unified['final_grade'].isnull()].shape[0]\n",
    "nulls_university = dfs_unified[dfs_unified['university'].isnull()].shape[0]\n",
    "\n",
    "if nulls_1_list or nulls_final_grade or nulls_university != 0:\n",
    "    sys.exit()\n",
    "else:\n",
    "    print('column 1_list has', nulls_1_list, 'null rows')\n",
    "    print('column final_grade has', nulls_final_grade, 'null rows')\n",
    "    print('column university has', nulls_university, 'null rows')"
   ]
  },
  {
   "cell_type": "markdown",
   "metadata": {},
   "source": [
    "## Create consistent University names across years"
   ]
  },
  {
   "cell_type": "code",
   "execution_count": 24,
   "metadata": {},
   "outputs": [],
   "source": [
    "dfs_unified['university'] = dfs_unified['university'].str.lower()"
   ]
  },
  {
   "cell_type": "code",
   "execution_count": 25,
   "metadata": {},
   "outputs": [
    {
     "data": {
      "text/plain": [
       "array(['universidad complutense de madrid', 'universidad de sevilla',\n",
       "       'universidad de murcia', 'universidad de granada',\n",
       "       'u. autónoma de madrid', 'universidad de málaga',\n",
       "       'universidad de córdoba', 'universidad de cádiz',\n",
       "       'u. miguel hernández (s. juan de alicante)',\n",
       "       'u. de c-la mancha (campus c.real)', 'universidad de alcalá',\n",
       "       'universidad de valladolid', 'urjc - campus alcorcón',\n",
       "       'u. de c-la mancha (campus albacete)',\n",
       "       'u. de extremadura (badajoz)', 'universidad pública de navarra',\n",
       "       'universidad de valencia', 'universidad jaume i',\n",
       "       'u. de zaragoza (campus zaragoza)',\n",
       "       'universidad de barcelona-clínico', 'universidad de la laguna',\n",
       "       'universidad de las palmas', 'universidad de salamanca',\n",
       "       'u. de zaragoza (campus huesca)', 'u. de santiago de compostela',\n",
       "       'universidad de oviedo', 'u. de cantabria (santander)',\n",
       "       'universidad de barcelona-bellvitge',\n",
       "       'universidad del país vasco (lejona)',\n",
       "       'universidad de las islas baleares', 'u. pompeu fabra (barcelona)',\n",
       "       'universidad autónoma de barcelona', 'universidad de gerona',\n",
       "       'universidad de lérida', 'universidad rovira i virgili (reus)'],\n",
       "      dtype=object)"
      ]
     },
     "execution_count": 25,
     "metadata": {},
     "output_type": "execute_result"
    }
   ],
   "source": [
    "last_year = 2021\n",
    "dfs_unified[dfs_unified['year'] == last_year]['university'].values"
   ]
  },
  {
   "cell_type": "code",
   "execution_count": 26,
   "metadata": {},
   "outputs": [
    {
     "name": "stdout",
     "output_type": "stream",
     "text": [
      "There are 35 universities in 2021\n",
      "There are a total of 48 universities in our dataset\n",
      "This means there are a total of 13 universities that have a different name than the ones in our 2021 data, and need to be mapped\n"
     ]
    }
   ],
   "source": [
    "list_of_uni_names_2021 = dfs_unified[dfs_unified['year'] == last_year]['university'].tolist()\n",
    "num_of_uni_names_2021 = len(list_of_uni_names_2021)\n",
    "print('There are', num_of_uni_names_2021, 'universities in 2021')\n",
    "\n",
    "dfs_unified_list_uni = list(dfs_unified['university'].unique())\n",
    "num_of_uni_names_dataset = len(dfs_unified_list_uni)\n",
    "print('There are a total of', num_of_uni_names_dataset, 'universities in our dataset')\n",
    "\n",
    "diff_uni_names = num_of_uni_names_dataset - num_of_uni_names_2021\n",
    "print('This means there are a total of', diff_uni_names, 'universities that have a different name than the ones in our 2021 data, and need to be mapped')"
   ]
  },
  {
   "cell_type": "code",
   "execution_count": 27,
   "metadata": {},
   "outputs": [
    {
     "name": "stdout",
     "output_type": "stream",
     "text": [
      "list of not matched created successfully\n"
     ]
    },
    {
     "data": {
      "text/plain": [
       "['universidad de zaragoza - campus de huesca',\n",
       " 'universidad de cantabria (santander)',\n",
       " 'universidad de santiago de compostela',\n",
       " 'universidad de extremadura (badajoz)',\n",
       " 'universidad pompeu fabra (barcelona)',\n",
       " 'universidad de barcelona',\n",
       " 'universidad de zaragoza - campus de zaragoza',\n",
       " 'universidad de clm- campus de ciudad real',\n",
       " 'universidad de clm- campus de albacete',\n",
       " 'universidad miguel hernández (san juan de alicante)',\n",
       " 'universidad rey juan carlos - campus de alcorcón',\n",
       " 'universidad autónoma de madrid',\n",
       " 'universidad de jaume i']"
      ]
     },
     "execution_count": 27,
     "metadata": {},
     "output_type": "execute_result"
    }
   ],
   "source": [
    "# we create a list with the universities that have different name\n",
    "\n",
    "list_not_matched = []\n",
    "\n",
    "for i in dfs_unified_list_uni:\n",
    "    if i not in list_of_uni_names_2021:\n",
    "        list_not_matched.append(i)\n",
    "    else:\n",
    "        continue\n",
    "\n",
    "\n",
    "if len(list_not_matched) != diff_uni_names:\n",
    "    sys.exit()\n",
    "else:\n",
    "    print('list of not matched created successfully')\n",
    "\n",
    "list_not_matched"
   ]
  },
  {
   "cell_type": "markdown",
   "metadata": {},
   "source": [
    "### Sequence Matcher"
   ]
  },
  {
   "cell_type": "code",
   "execution_count": 28,
   "metadata": {},
   "outputs": [],
   "source": [
    "from difflib import SequenceMatcher\n",
    "\n",
    "def similar(a, b):\n",
    "    return SequenceMatcher(None, a, b).ratio()"
   ]
  },
  {
   "cell_type": "code",
   "execution_count": 29,
   "metadata": {},
   "outputs": [],
   "source": [
    "df1 = pd.DataFrame({\n",
    "    \"not_matched_uni\": list_not_matched\n",
    "})\n",
    "\n",
    "df2 = pd.DataFrame({\n",
    "    \"list_of_uni_names_2021\": list_of_uni_names_2021\n",
    "})\n",
    "\n",
    "df3 = pd.MultiIndex.from_product(\n",
    "    [df1[\"not_matched_uni\"], df2[\"list_of_uni_names_2021\"]], names=[\"not_matched_uni\", \"list_of_uni_names_2021\"]\n",
    ").to_frame(index=False)"
   ]
  },
  {
   "cell_type": "code",
   "execution_count": 30,
   "metadata": {},
   "outputs": [
    {
     "data": {
      "text/plain": [
       "13"
      ]
     },
     "execution_count": 30,
     "metadata": {},
     "output_type": "execute_result"
    }
   ],
   "source": [
    "df3['ratio'] = ''\n",
    "\n",
    "for i in range(len(df3['not_matched_uni'])):\n",
    "    df3['ratio'][i] = similar(df3['not_matched_uni'][i], df3['list_of_uni_names_2021'][i])\n",
    "\n",
    "df3['not_matched_uni'].nunique()"
   ]
  },
  {
   "cell_type": "code",
   "execution_count": 31,
   "metadata": {},
   "outputs": [
    {
     "data": {
      "text/html": [
       "<div>\n",
       "<style scoped>\n",
       "    .dataframe tbody tr th:only-of-type {\n",
       "        vertical-align: middle;\n",
       "    }\n",
       "\n",
       "    .dataframe tbody tr th {\n",
       "        vertical-align: top;\n",
       "    }\n",
       "\n",
       "    .dataframe thead th {\n",
       "        text-align: right;\n",
       "    }\n",
       "</style>\n",
       "<table border=\"1\" class=\"dataframe\">\n",
       "  <thead>\n",
       "    <tr style=\"text-align: right;\">\n",
       "      <th></th>\n",
       "      <th>not_matched_uni</th>\n",
       "      <th>ratio_x</th>\n",
       "      <th>list_of_uni_names_2021</th>\n",
       "      <th>ratio_y</th>\n",
       "    </tr>\n",
       "  </thead>\n",
       "  <tbody>\n",
       "    <tr>\n",
       "      <th>31</th>\n",
       "      <td>universidad autónoma de madrid</td>\n",
       "      <td>0.825397</td>\n",
       "      <td>universidad autónoma de barcelona</td>\n",
       "      <td>0.825397</td>\n",
       "    </tr>\n",
       "    <tr>\n",
       "      <th>54</th>\n",
       "      <td>universidad de barcelona</td>\n",
       "      <td>0.857143</td>\n",
       "      <td>universidad de barcelona-clínico</td>\n",
       "      <td>0.857143</td>\n",
       "    </tr>\n",
       "    <tr>\n",
       "      <th>96</th>\n",
       "      <td>universidad de cantabria (santander)</td>\n",
       "      <td>0.825397</td>\n",
       "      <td>u. de cantabria (santander)</td>\n",
       "      <td>0.825397</td>\n",
       "    </tr>\n",
       "    <tr>\n",
       "      <th>134</th>\n",
       "      <td>universidad de clm- campus de albacete</td>\n",
       "      <td>0.676056</td>\n",
       "      <td>universidad de las islas baleares</td>\n",
       "      <td>0.676056</td>\n",
       "    </tr>\n",
       "    <tr>\n",
       "      <th>140</th>\n",
       "      <td>universidad de clm- campus de ciudad real</td>\n",
       "      <td>0.648649</td>\n",
       "      <td>universidad complutense de madrid</td>\n",
       "      <td>0.648649</td>\n",
       "    </tr>\n",
       "    <tr>\n",
       "      <th>189</th>\n",
       "      <td>universidad de extremadura (badajoz)</td>\n",
       "      <td>0.825397</td>\n",
       "      <td>u. de extremadura (badajoz)</td>\n",
       "      <td>0.825397</td>\n",
       "    </tr>\n",
       "    <tr>\n",
       "      <th>227</th>\n",
       "      <td>universidad de jaume i</td>\n",
       "      <td>0.926829</td>\n",
       "      <td>universidad jaume i</td>\n",
       "      <td>0.926829</td>\n",
       "    </tr>\n",
       "    <tr>\n",
       "      <th>269</th>\n",
       "      <td>universidad de santiago de compostela</td>\n",
       "      <td>0.830769</td>\n",
       "      <td>u. de santiago de compostela</td>\n",
       "      <td>0.830769</td>\n",
       "    </tr>\n",
       "    <tr>\n",
       "      <th>303</th>\n",
       "      <td>universidad de zaragoza - campus de huesca</td>\n",
       "      <td>0.750000</td>\n",
       "      <td>u. de zaragoza (campus huesca)</td>\n",
       "      <td>0.75</td>\n",
       "    </tr>\n",
       "    <tr>\n",
       "      <th>333</th>\n",
       "      <td>universidad de zaragoza - campus de zaragoza</td>\n",
       "      <td>0.763158</td>\n",
       "      <td>u. de zaragoza (campus zaragoza)</td>\n",
       "      <td>0.763158</td>\n",
       "    </tr>\n",
       "    <tr>\n",
       "      <th>358</th>\n",
       "      <td>universidad miguel hernández (san juan de alic...</td>\n",
       "      <td>0.847826</td>\n",
       "      <td>u. miguel hernández (s. juan de alicante)</td>\n",
       "      <td>0.847826</td>\n",
       "    </tr>\n",
       "    <tr>\n",
       "      <th>415</th>\n",
       "      <td>universidad pompeu fabra (barcelona)</td>\n",
       "      <td>0.825397</td>\n",
       "      <td>u. pompeu fabra (barcelona)</td>\n",
       "      <td>0.825397</td>\n",
       "    </tr>\n",
       "    <tr>\n",
       "      <th>432</th>\n",
       "      <td>universidad rey juan carlos - campus de alcorcón</td>\n",
       "      <td>0.628571</td>\n",
       "      <td>urjc - campus alcorcón</td>\n",
       "      <td>0.628571</td>\n",
       "    </tr>\n",
       "  </tbody>\n",
       "</table>\n",
       "</div>"
      ],
      "text/plain": [
       "                                       not_matched_uni   ratio_x  \\\n",
       "31                      universidad autónoma de madrid  0.825397   \n",
       "54                            universidad de barcelona  0.857143   \n",
       "96                universidad de cantabria (santander)  0.825397   \n",
       "134             universidad de clm- campus de albacete  0.676056   \n",
       "140          universidad de clm- campus de ciudad real  0.648649   \n",
       "189               universidad de extremadura (badajoz)  0.825397   \n",
       "227                             universidad de jaume i  0.926829   \n",
       "269              universidad de santiago de compostela  0.830769   \n",
       "303         universidad de zaragoza - campus de huesca  0.750000   \n",
       "333       universidad de zaragoza - campus de zaragoza  0.763158   \n",
       "358  universidad miguel hernández (san juan de alic...  0.847826   \n",
       "415               universidad pompeu fabra (barcelona)  0.825397   \n",
       "432   universidad rey juan carlos - campus de alcorcón  0.628571   \n",
       "\n",
       "                        list_of_uni_names_2021   ratio_y  \n",
       "31           universidad autónoma de barcelona  0.825397  \n",
       "54            universidad de barcelona-clínico  0.857143  \n",
       "96                 u. de cantabria (santander)  0.825397  \n",
       "134          universidad de las islas baleares  0.676056  \n",
       "140          universidad complutense de madrid  0.648649  \n",
       "189                u. de extremadura (badajoz)  0.825397  \n",
       "227                        universidad jaume i  0.926829  \n",
       "269               u. de santiago de compostela  0.830769  \n",
       "303             u. de zaragoza (campus huesca)      0.75  \n",
       "333           u. de zaragoza (campus zaragoza)  0.763158  \n",
       "358  u. miguel hernández (s. juan de alicante)  0.847826  \n",
       "415                u. pompeu fabra (barcelona)  0.825397  \n",
       "432                     urjc - campus alcorcón  0.628571  "
      ]
     },
     "execution_count": 31,
     "metadata": {},
     "output_type": "execute_result"
    }
   ],
   "source": [
    "df4 = df3.groupby('not_matched_uni')['ratio'].max().reset_index()\n",
    "\n",
    "df5 = pd.merge(df4,df3,on='not_matched_uni',how='left')\n",
    "df5 = df5[df5['ratio_x'] == df5['ratio_y']]\n",
    "df5"
   ]
  },
  {
   "cell_type": "code",
   "execution_count": 32,
   "metadata": {},
   "outputs": [],
   "source": [
    "# hacerlo con str.contains, crear funcion"
   ]
  },
  {
   "cell_type": "code",
   "execution_count": 33,
   "metadata": {},
   "outputs": [],
   "source": [
    "dfs_unified['university'] = np.where((dfs_unified['university'] == 'universidad de cantabria (santander)'), 'u. de cantabria (santander)', dfs_unified['university'])\n",
    "dfs_unified['university'] = np.where((dfs_unified['university'] == 'universidad de extremadura (badajoz)'), 'u. de extremadura (badajoz)', dfs_unified['university'])\n",
    "dfs_unified['university'] = np.where((dfs_unified['university'] == 'universidad de jaume i'), 'universidad jaume i', dfs_unified['university'])\n",
    "dfs_unified['university'] = np.where((dfs_unified['university'] == 'universidad de zaragoza - campus de huesca'), 'u. de zaragoza (campus huesca)', dfs_unified['university'])\n",
    "dfs_unified['university'] = np.where((dfs_unified['university'] == 'universidad de santiago de compostela'), 'u. de santiago de compostela', dfs_unified['university'])\n",
    "dfs_unified['university'] = np.where((dfs_unified['university'] == 'universidad de zaragoza - campus de zaragoza'), 'u. de zaragoza (campus zaragoza)', dfs_unified['university'])\n",
    "dfs_unified['university'] = np.where((dfs_unified['university'] == 'universidad miguel hernández (san juan de alicante)'), 'u. miguel hernández (s. juan de alicante)', dfs_unified['university'])\n",
    "dfs_unified['university'] = np.where((dfs_unified['university'] == 'universidad pompeu fabra (barcelona)'), 'u. pompeu fabra (barcelona)', dfs_unified['university'])\n",
    "dfs_unified['university'] = np.where((dfs_unified['university'] == 'universidad de santiago de compostela'), 'u. de santiago de compostela', dfs_unified['university'])\n",
    "dfs_unified['university'] = np.where((dfs_unified['university'] == 'universidad rey juan carlos - campus de alcorcón'), 'urjc - campus alcorcón', dfs_unified['university'])\n",
    "\n",
    "\n",
    "dfs_unified['university'] = np.where((dfs_unified['university'] == 'universidad autónoma de madrid'), 'u. autónoma de madrid', dfs_unified['university'])\n",
    "dfs_unified['university'] = np.where((dfs_unified['university'] == 'universidad de barcelona'), 'universidad de barcelona-clínico', dfs_unified['university'])\n",
    "dfs_unified['university'] = np.where((dfs_unified['university'] == 'universidad de clm- campus de albacete'), 'u. de c-la mancha (campus albacete)', dfs_unified['university'])\n",
    "dfs_unified['university'] = np.where((dfs_unified['university'] == 'universidad de clm- campus de ciudad real'), 'u. de c-la mancha (campus c.real)', dfs_unified['university'])"
   ]
  },
  {
   "cell_type": "code",
   "execution_count": 34,
   "metadata": {},
   "outputs": [
    {
     "name": "stdout",
     "output_type": "stream",
     "text": [
      "all university names are consistent with 2021\n",
      "all university names are consistent with 2021\n"
     ]
    }
   ],
   "source": [
    "# quality check: make sure all university names are mapped with 2021 names\n",
    "\n",
    "dfs_unified_list_uni = list(dfs_unified['university'].unique())\n",
    "\n",
    "list_not_matched = []\n",
    "\n",
    "for i in dfs_unified_list_uni:\n",
    "    if i not in list_of_uni_names_2021:\n",
    "        list_not_matched.append(i)\n",
    "    else:\n",
    "        continue\n",
    "\n",
    "# checking length of not matched\n",
    "if len(list_not_matched) != 0:\n",
    "    sys.exit()\n",
    "else:\n",
    "    print('all university names are consistent with 2021')\n",
    "\n",
    "# another way of checking this could be by analyzing the overall length and unique names\n",
    "if dfs_unified['university'].nunique() != len(list_of_uni_names_2021):\n",
    "    sys.exit()\n",
    "else:\n",
    "    print('all university names are consistent with 2021')"
   ]
  },
  {
   "cell_type": "markdown",
   "metadata": {},
   "source": [
    "### Check if all of the universities have been delivering Medicine career since 2010"
   ]
  },
  {
   "cell_type": "code",
   "execution_count": 35,
   "metadata": {},
   "outputs": [
    {
     "data": {
      "image/png": "[encoded data removed]",
      "text/plain": [
       "<Figure size 864x576 with 1 Axes>"
      ]
     },
     "metadata": {
      "needs_background": "light"
     },
     "output_type": "display_data"
    }
   ],
   "source": [
    "# check how many universities there are per year\n",
    "uni_year_grouped = dfs_unified.groupby(['year'])['university'].count().reset_index()\n",
    "\n",
    "fig,ax=plt.subplots(figsize=(12,8))\n",
    "bars = ax.bar(uni_year_grouped['year'], uni_year_grouped['university'])\n",
    "# show number on top of bars\n",
    "ax.bar_label(bars)\n",
    "# title and axis\n",
    "plt.xticks(range(min(uni_year_grouped['year']), max(uni_year_grouped['year']) + 1))\n",
    "plt.yticks(range(min(uni_year_grouped['university']), max(uni_year_grouped['university']) + 1))\n",
    "plt.axis([2009, 2022, 30, 36])\n",
    "plt.title('Number of universities per year')\n",
    "plt.xlabel('Year')\n",
    "plt.ylabel('Number of universities')\n",
    "plt.show()"
   ]
  },
  {
   "cell_type": "code",
   "execution_count": 36,
   "metadata": {},
   "outputs": [
    {
     "data": {
      "text/html": [
       "<div>\n",
       "<style scoped>\n",
       "    .dataframe tbody tr th:only-of-type {\n",
       "        vertical-align: middle;\n",
       "    }\n",
       "\n",
       "    .dataframe tbody tr th {\n",
       "        vertical-align: top;\n",
       "    }\n",
       "\n",
       "    .dataframe thead th {\n",
       "        text-align: right;\n",
       "    }\n",
       "</style>\n",
       "<table border=\"1\" class=\"dataframe\">\n",
       "  <thead>\n",
       "    <tr style=\"text-align: right;\">\n",
       "      <th></th>\n",
       "      <th>since_2010</th>\n",
       "    </tr>\n",
       "    <tr>\n",
       "      <th>university</th>\n",
       "      <th></th>\n",
       "    </tr>\n",
       "  </thead>\n",
       "  <tbody>\n",
       "    <tr>\n",
       "      <th>universidad de barcelona-bellvitge</th>\n",
       "      <td>False</td>\n",
       "    </tr>\n",
       "    <tr>\n",
       "      <th>universidad de las islas baleares</th>\n",
       "      <td>False</td>\n",
       "    </tr>\n",
       "    <tr>\n",
       "      <th>universidad jaume i</th>\n",
       "      <td>False</td>\n",
       "    </tr>\n",
       "    <tr>\n",
       "      <th>universidad pública de navarra</th>\n",
       "      <td>False</td>\n",
       "    </tr>\n",
       "  </tbody>\n",
       "</table>\n",
       "</div>"
      ],
      "text/plain": [
       "                                    since_2010\n",
       "university                                    \n",
       "universidad de barcelona-bellvitge       False\n",
       "universidad de las islas baleares        False\n",
       "universidad jaume i                      False\n",
       "universidad pública de navarra           False"
      ]
     },
     "execution_count": 36,
     "metadata": {},
     "output_type": "execute_result"
    }
   ],
   "source": [
    "# seems like there are 4 universities that haven't been delivering the Medicine career since 2010, let's check which ones they are\n",
    "bool_2010 = {'since_2010': dfs_unified.groupby('university')['university'].count() == 12}\n",
    "bool_2010_df = pd.DataFrame(bool_2010, columns=['since_2010'])\n",
    "bool_2010_df[bool_2010_df['since_2010'] == False]"
   ]
  },
  {
   "cell_type": "code",
   "execution_count": 37,
   "metadata": {},
   "outputs": [],
   "source": [
    "year_uni_bb = dfs_unified[dfs_unified['university'] == 'universidad de barcelona-bellvitge']['year'].min()\n",
    "year_uni_ib = dfs_unified[dfs_unified['university'] == 'universidad de las islas baleares']['year'].min()\n",
    "year_uni_ji = dfs_unified[dfs_unified['university'] == 'universidad jaume i']['year'].min()\n",
    "year_uni_pn = dfs_unified[dfs_unified['university'] == 'universidad pública de navarra']['year'].min()"
   ]
  },
  {
   "cell_type": "code",
   "execution_count": 38,
   "metadata": {},
   "outputs": [],
   "source": [
    "# we create a function tso that we can apply it later to the predicted 2022 data\n",
    "def since_2010():\n",
    "    dfs_unified['since_2010'] = ''\n",
    "    dfs_unified['since_2010'] = np.where(dfs_unified['university'] == 'universidad de barcelona-bellvitge', year_uni_bb, dfs_unified['since_2010'])\n",
    "    dfs_unified['since_2010'] = np.where(dfs_unified['university'] == 'universidad de las islas baleares', year_uni_ib, dfs_unified['since_2010'])\n",
    "    dfs_unified['since_2010'] = np.where(dfs_unified['university'] == 'universidad jaume i', year_uni_ji, dfs_unified['since_2010'])\n",
    "    dfs_unified['since_2010'] = np.where(dfs_unified['university'] == 'universidad pública de navarra', year_uni_pn, dfs_unified['since_2010'])\n",
    "    dfs_unified['since_2010'] = np.where(dfs_unified['since_2010'] == '', True, dfs_unified['since_2010'])"
   ]
  },
  {
   "cell_type": "code",
   "execution_count": 39,
   "metadata": {},
   "outputs": [],
   "source": [
    "since_2010()"
   ]
  },
  {
   "cell_type": "code",
   "execution_count": 40,
   "metadata": {},
   "outputs": [
    {
     "data": {
      "text/plain": [
       "5"
      ]
     },
     "execution_count": 40,
     "metadata": {},
     "output_type": "execute_result"
    }
   ],
   "source": [
    "dfs_unified['since_2010'].nunique()"
   ]
  },
  {
   "cell_type": "code",
   "execution_count": 41,
   "metadata": {},
   "outputs": [
    {
     "data": {
      "text/html": [
       "<div>\n",
       "<style scoped>\n",
       "    .dataframe tbody tr th:only-of-type {\n",
       "        vertical-align: middle;\n",
       "    }\n",
       "\n",
       "    .dataframe tbody tr th {\n",
       "        vertical-align: top;\n",
       "    }\n",
       "\n",
       "    .dataframe thead th {\n",
       "        text-align: right;\n",
       "    }\n",
       "</style>\n",
       "<table border=\"1\" class=\"dataframe\">\n",
       "  <thead>\n",
       "    <tr style=\"text-align: right;\">\n",
       "      <th></th>\n",
       "      <th>index</th>\n",
       "      <th>year</th>\n",
       "      <th>university</th>\n",
       "      <th>final_grade</th>\n",
       "      <th>1_list</th>\n",
       "      <th>since_2010</th>\n",
       "    </tr>\n",
       "  </thead>\n",
       "  <tbody>\n",
       "    <tr>\n",
       "      <th>44</th>\n",
       "      <td>10</td>\n",
       "      <td>2011</td>\n",
       "      <td>universidad jaume i</td>\n",
       "      <td>11.730</td>\n",
       "      <td>12.332</td>\n",
       "      <td>2011</td>\n",
       "    </tr>\n",
       "    <tr>\n",
       "      <th>78</th>\n",
       "      <td>12</td>\n",
       "      <td>2012</td>\n",
       "      <td>universidad jaume i</td>\n",
       "      <td>11.944</td>\n",
       "      <td>12.440</td>\n",
       "      <td>2011</td>\n",
       "    </tr>\n",
       "    <tr>\n",
       "      <th>110</th>\n",
       "      <td>10</td>\n",
       "      <td>2013</td>\n",
       "      <td>universidad jaume i</td>\n",
       "      <td>11.931</td>\n",
       "      <td>12.334</td>\n",
       "      <td>2011</td>\n",
       "    </tr>\n",
       "    <tr>\n",
       "      <th>145</th>\n",
       "      <td>11</td>\n",
       "      <td>2014</td>\n",
       "      <td>universidad jaume i</td>\n",
       "      <td>12.118</td>\n",
       "      <td>12.422</td>\n",
       "      <td>2011</td>\n",
       "    </tr>\n",
       "    <tr>\n",
       "      <th>177</th>\n",
       "      <td>9</td>\n",
       "      <td>2015</td>\n",
       "      <td>universidad jaume i</td>\n",
       "      <td>12.320</td>\n",
       "      <td>12.574</td>\n",
       "      <td>2011</td>\n",
       "    </tr>\n",
       "    <tr>\n",
       "      <th>205</th>\n",
       "      <td>1</td>\n",
       "      <td>2016</td>\n",
       "      <td>universidad de las islas baleares</td>\n",
       "      <td>12.144</td>\n",
       "      <td>12.534</td>\n",
       "      <td>2016</td>\n",
       "    </tr>\n",
       "    <tr>\n",
       "      <th>216</th>\n",
       "      <td>12</td>\n",
       "      <td>2016</td>\n",
       "      <td>universidad jaume i</td>\n",
       "      <td>12.376</td>\n",
       "      <td>12.754</td>\n",
       "      <td>2011</td>\n",
       "    </tr>\n",
       "    <tr>\n",
       "      <th>241</th>\n",
       "      <td>2</td>\n",
       "      <td>2017</td>\n",
       "      <td>universidad de las islas baleares</td>\n",
       "      <td>12.112</td>\n",
       "      <td>12.744</td>\n",
       "      <td>2016</td>\n",
       "    </tr>\n",
       "    <tr>\n",
       "      <th>257</th>\n",
       "      <td>18</td>\n",
       "      <td>2017</td>\n",
       "      <td>universidad jaume i</td>\n",
       "      <td>12.464</td>\n",
       "      <td>12.780</td>\n",
       "      <td>2011</td>\n",
       "    </tr>\n",
       "    <tr>\n",
       "      <th>274</th>\n",
       "      <td>0</td>\n",
       "      <td>2018</td>\n",
       "      <td>universidad de las islas baleares</td>\n",
       "      <td>12.120</td>\n",
       "      <td>12.568</td>\n",
       "      <td>2016</td>\n",
       "    </tr>\n",
       "    <tr>\n",
       "      <th>297</th>\n",
       "      <td>23</td>\n",
       "      <td>2018</td>\n",
       "      <td>universidad jaume i</td>\n",
       "      <td>12.628</td>\n",
       "      <td>12.948</td>\n",
       "      <td>2011</td>\n",
       "    </tr>\n",
       "    <tr>\n",
       "      <th>312</th>\n",
       "      <td>3</td>\n",
       "      <td>2019</td>\n",
       "      <td>universidad de las islas baleares</td>\n",
       "      <td>12.209</td>\n",
       "      <td>12.622</td>\n",
       "      <td>2016</td>\n",
       "    </tr>\n",
       "    <tr>\n",
       "      <th>317</th>\n",
       "      <td>8</td>\n",
       "      <td>2019</td>\n",
       "      <td>universidad jaume i</td>\n",
       "      <td>12.370</td>\n",
       "      <td>12.838</td>\n",
       "      <td>2011</td>\n",
       "    </tr>\n",
       "    <tr>\n",
       "      <th>325</th>\n",
       "      <td>16</td>\n",
       "      <td>2019</td>\n",
       "      <td>universidad pública de navarra</td>\n",
       "      <td>12.500</td>\n",
       "      <td>12.707</td>\n",
       "      <td>2019</td>\n",
       "    </tr>\n",
       "    <tr>\n",
       "      <th>359</th>\n",
       "      <td>14</td>\n",
       "      <td>2020</td>\n",
       "      <td>universidad jaume i</td>\n",
       "      <td>12.962</td>\n",
       "      <td>13.256</td>\n",
       "      <td>2011</td>\n",
       "    </tr>\n",
       "    <tr>\n",
       "      <th>361</th>\n",
       "      <td>16</td>\n",
       "      <td>2020</td>\n",
       "      <td>universidad pública de navarra</td>\n",
       "      <td>12.949</td>\n",
       "      <td>13.318</td>\n",
       "      <td>2019</td>\n",
       "    </tr>\n",
       "    <tr>\n",
       "      <th>373</th>\n",
       "      <td>28</td>\n",
       "      <td>2020</td>\n",
       "      <td>universidad de barcelona-bellvitge</td>\n",
       "      <td>12.660</td>\n",
       "      <td>12.990</td>\n",
       "      <td>2020</td>\n",
       "    </tr>\n",
       "    <tr>\n",
       "      <th>375</th>\n",
       "      <td>30</td>\n",
       "      <td>2020</td>\n",
       "      <td>universidad de las islas baleares</td>\n",
       "      <td>12.636</td>\n",
       "      <td>13.106</td>\n",
       "      <td>2016</td>\n",
       "    </tr>\n",
       "    <tr>\n",
       "      <th>398</th>\n",
       "      <td>15</td>\n",
       "      <td>2021</td>\n",
       "      <td>universidad pública de navarra</td>\n",
       "      <td>13.086</td>\n",
       "      <td>13.247</td>\n",
       "      <td>2019</td>\n",
       "    </tr>\n",
       "    <tr>\n",
       "      <th>400</th>\n",
       "      <td>17</td>\n",
       "      <td>2021</td>\n",
       "      <td>universidad jaume i</td>\n",
       "      <td>13.042</td>\n",
       "      <td>13.376</td>\n",
       "      <td>2011</td>\n",
       "    </tr>\n",
       "    <tr>\n",
       "      <th>410</th>\n",
       "      <td>27</td>\n",
       "      <td>2021</td>\n",
       "      <td>universidad de barcelona-bellvitge</td>\n",
       "      <td>12.878</td>\n",
       "      <td>12.988</td>\n",
       "      <td>2020</td>\n",
       "    </tr>\n",
       "    <tr>\n",
       "      <th>412</th>\n",
       "      <td>29</td>\n",
       "      <td>2021</td>\n",
       "      <td>universidad de las islas baleares</td>\n",
       "      <td>12.760</td>\n",
       "      <td>13.225</td>\n",
       "      <td>2016</td>\n",
       "    </tr>\n",
       "  </tbody>\n",
       "</table>\n",
       "</div>"
      ],
      "text/plain": [
       "     index  year                          university  final_grade  1_list  \\\n",
       "44      10  2011                 universidad jaume i       11.730  12.332   \n",
       "78      12  2012                 universidad jaume i       11.944  12.440   \n",
       "110     10  2013                 universidad jaume i       11.931  12.334   \n",
       "145     11  2014                 universidad jaume i       12.118  12.422   \n",
       "177      9  2015                 universidad jaume i       12.320  12.574   \n",
       "205      1  2016   universidad de las islas baleares       12.144  12.534   \n",
       "216     12  2016                 universidad jaume i       12.376  12.754   \n",
       "241      2  2017   universidad de las islas baleares       12.112  12.744   \n",
       "257     18  2017                 universidad jaume i       12.464  12.780   \n",
       "274      0  2018   universidad de las islas baleares       12.120  12.568   \n",
       "297     23  2018                 universidad jaume i       12.628  12.948   \n",
       "312      3  2019   universidad de las islas baleares       12.209  12.622   \n",
       "317      8  2019                 universidad jaume i       12.370  12.838   \n",
       "325     16  2019      universidad pública de navarra       12.500  12.707   \n",
       "359     14  2020                 universidad jaume i       12.962  13.256   \n",
       "361     16  2020      universidad pública de navarra       12.949  13.318   \n",
       "373     28  2020  universidad de barcelona-bellvitge       12.660  12.990   \n",
       "375     30  2020   universidad de las islas baleares       12.636  13.106   \n",
       "398     15  2021      universidad pública de navarra       13.086  13.247   \n",
       "400     17  2021                 universidad jaume i       13.042  13.376   \n",
       "410     27  2021  universidad de barcelona-bellvitge       12.878  12.988   \n",
       "412     29  2021   universidad de las islas baleares       12.760  13.225   \n",
       "\n",
       "    since_2010  \n",
       "44        2011  \n",
       "78        2011  \n",
       "110       2011  \n",
       "145       2011  \n",
       "177       2011  \n",
       "205       2016  \n",
       "216       2011  \n",
       "241       2016  \n",
       "257       2011  \n",
       "274       2016  \n",
       "297       2011  \n",
       "312       2016  \n",
       "317       2011  \n",
       "325       2019  \n",
       "359       2011  \n",
       "361       2019  \n",
       "373       2020  \n",
       "375       2016  \n",
       "398       2019  \n",
       "400       2011  \n",
       "410       2020  \n",
       "412       2016  "
      ]
     },
     "execution_count": 41,
     "metadata": {},
     "output_type": "execute_result"
    }
   ],
   "source": [
    "dfs_unified[dfs_unified['since_2010'] != True]"
   ]
  },
  {
   "cell_type": "markdown",
   "metadata": {},
   "source": [
    "## Convert columns with numbers to floats"
   ]
  },
  {
   "cell_type": "code",
   "execution_count": 42,
   "metadata": {},
   "outputs": [],
   "source": [
    "# to convert to float, we can't have commas or spaces, as this function '.astype(float)' will give back an error"
   ]
  },
  {
   "cell_type": "code",
   "execution_count": 43,
   "metadata": {},
   "outputs": [],
   "source": [
    "# float to 2 decimals?? some have 3"
   ]
  },
  {
   "cell_type": "code",
   "execution_count": 44,
   "metadata": {},
   "outputs": [],
   "source": [
    "#dfs_unified['1_list'] = dfs_unified['1_list'].astype(float)"
   ]
  },
  {
   "cell_type": "markdown",
   "metadata": {},
   "source": [
    "# Feature Engineering"
   ]
  },
  {
   "cell_type": "markdown",
   "metadata": {},
   "source": [
    "## Create City and CCAA columns"
   ]
  },
  {
   "cell_type": "markdown",
   "metadata": {},
   "source": [
    "### City"
   ]
  },
  {
   "cell_type": "code",
   "execution_count": 45,
   "metadata": {},
   "outputs": [],
   "source": [
    "# first: bigger cities in case two names appear\n",
    "list_of_cities = ['madrid', 'zaragoza', 'barcelona', 'sevilla', 'valencia', 'murcia', 'granada','málaga', 'córdoba', 'cádiz', 'alicante', 'albacete', \\\n",
    "    'valladolid', 'badajoz', 'gerona', 'lérida', 'reus', 'navarra', 'santander', 'oviedo', \\\n",
    "    'santiago de compostela', 'salamanca', 'bilbao', 'salamanca', 'navarra', 'las palmas', 'la laguna', 'alcalá', 'ciudad real', 'huesca']"
   ]
  },
  {
   "cell_type": "code",
   "execution_count": 46,
   "metadata": {},
   "outputs": [],
   "source": [
    "num_cities = len(list_of_cities)"
   ]
  },
  {
   "cell_type": "code",
   "execution_count": 47,
   "metadata": {},
   "outputs": [],
   "source": [
    "# i=0\n",
    "# dfs_unified['city'] = ''\n",
    "# while i < num_cities:\n",
    "#     dfs_unified['city'] = np.where(dfs_unified['university'].str.contains(list_of_cities[i], na=False), list_of_cities[i], dfs_unified['city'])\n",
    "#     i +=1"
   ]
  },
  {
   "cell_type": "code",
   "execution_count": 48,
   "metadata": {},
   "outputs": [],
   "source": [
    "# dfs_unified['city'].replace({'': np.nan}, inplace=True)"
   ]
  },
  {
   "cell_type": "code",
   "execution_count": 49,
   "metadata": {},
   "outputs": [],
   "source": [
    "#dfs_unified[dfs_unified['city'].isnull()]"
   ]
  },
  {
   "cell_type": "code",
   "execution_count": 50,
   "metadata": {},
   "outputs": [],
   "source": [
    "# dfs_unified['city'] = np.where(dfs_unified['university'].str.contains('país vasco', na=False), 'bilbao', dfs_unified['city'])\n",
    "# dfs_unified['city'] = np.where(dfs_unified['university'].str.contains('alcorcón', na=False), 'madrid', dfs_unified['city'])\n",
    "# dfs_unified['city'] = np.where(dfs_unified['university'].str.contains('c.real', na=False), 'ciudad real', dfs_unified['city'])\n",
    "# dfs_unified['city'] = np.where(dfs_unified['university'].str.contains('jaume', na=False), 'castellon de la plana', dfs_unified['city'])\n",
    "# dfs_unified['city'] = np.where(dfs_unified['university'].str.contains('islas baleares', na=False), 'palma de mallorca', dfs_unified['city'])"
   ]
  },
  {
   "cell_type": "code",
   "execution_count": 51,
   "metadata": {},
   "outputs": [],
   "source": [
    "# num_columns = len(dfs_unified_columns)\n",
    "\n",
    "# while i < num_columns:\n",
    "#     dfs_unified[dfs_unified_columns[i]].replace({'': np.nan}, inplace=True)\n",
    "#     i += 1"
   ]
  },
  {
   "cell_type": "code",
   "execution_count": 52,
   "metadata": {},
   "outputs": [],
   "source": [
    "# we create a function so that we can apply it later to the predicted 2022 data\n",
    "\n",
    "def city():\n",
    "    i=0\n",
    "    dfs_unified['city'] = ''\n",
    "    while i < num_cities:\n",
    "        dfs_unified['city'] = np.where(dfs_unified['university'].str.contains(list_of_cities[i], na=False), list_of_cities[i], dfs_unified['city'])\n",
    "        i +=1\n",
    "    \n",
    "    #dfs_unified['city'].replace({'': np.nan}, inplace=True)\n",
    "    dfs_unified['city'] = np.where(dfs_unified['university'].str.contains('país vasco', na=False), 'bilbao', dfs_unified['city'])\n",
    "    dfs_unified['city'] = np.where(dfs_unified['university'].str.contains('alcorcón', na=False), 'madrid', dfs_unified['city'])\n",
    "    dfs_unified['city'] = np.where(dfs_unified['university'].str.contains('c.real', na=False), 'ciudad real', dfs_unified['city'])\n",
    "    dfs_unified['city'] = np.where(dfs_unified['university'].str.contains('jaume', na=False), 'castellon de la plana', dfs_unified['city'])\n",
    "    dfs_unified['city'] = np.where(dfs_unified['university'].str.contains('islas baleares', na=False), 'palma de mallorca', dfs_unified['city'])\n",
    "\n",
    "    num_columns = len(dfs_unified_columns)\n",
    "\n",
    "    while i < num_columns:\n",
    "        dfs_unified[dfs_unified_columns[i]].replace({'': np.nan}, inplace=True)\n",
    "        i += 1"
   ]
  },
  {
   "cell_type": "code",
   "execution_count": 53,
   "metadata": {},
   "outputs": [],
   "source": [
    "city()"
   ]
  },
  {
   "cell_type": "code",
   "execution_count": 54,
   "metadata": {},
   "outputs": [
    {
     "data": {
      "text/html": [
       "<div>\n",
       "<style scoped>\n",
       "    .dataframe tbody tr th:only-of-type {\n",
       "        vertical-align: middle;\n",
       "    }\n",
       "\n",
       "    .dataframe tbody tr th {\n",
       "        vertical-align: top;\n",
       "    }\n",
       "\n",
       "    .dataframe thead th {\n",
       "        text-align: right;\n",
       "    }\n",
       "</style>\n",
       "<table border=\"1\" class=\"dataframe\">\n",
       "  <thead>\n",
       "    <tr style=\"text-align: right;\">\n",
       "      <th></th>\n",
       "      <th>index</th>\n",
       "      <th>year</th>\n",
       "      <th>university</th>\n",
       "      <th>final_grade</th>\n",
       "      <th>1_list</th>\n",
       "      <th>since_2010</th>\n",
       "      <th>city</th>\n",
       "    </tr>\n",
       "  </thead>\n",
       "  <tbody>\n",
       "  </tbody>\n",
       "</table>\n",
       "</div>"
      ],
      "text/plain": [
       "Empty DataFrame\n",
       "Columns: [index, year, university, final_grade, 1_list, since_2010, city]\n",
       "Index: []"
      ]
     },
     "execution_count": 54,
     "metadata": {},
     "output_type": "execute_result"
    }
   ],
   "source": [
    "dfs_unified[dfs_unified['city'].isnull()]"
   ]
  },
  {
   "cell_type": "markdown",
   "metadata": {},
   "source": [
    "### CCAA - Communities of Spain"
   ]
  },
  {
   "cell_type": "code",
   "execution_count": 55,
   "metadata": {},
   "outputs": [],
   "source": [
    "# CCAA - communities\n",
    "def CCAA():\n",
    "    dfs_unified['CCAA'] = ''\n",
    "    dfs_unified['CCAA'] = np.where(dfs_unified['city'].isin(['huesca', 'zaragoza']), 'Aragón', dfs_unified['CCAA'])\n",
    "    dfs_unified['CCAA'] = np.where(dfs_unified['city'].isin(['lérida', 'gerona', 'reus', 'barcelona']), 'Cataluña', dfs_unified['CCAA'])\n",
    "    dfs_unified['CCAA'] = np.where(dfs_unified['city'].isin(['madrid', 'alcalá']), 'C. Madrid', dfs_unified['CCAA'])\n",
    "    dfs_unified['CCAA'] = np.where(dfs_unified['city'].isin(['valladolid', 'salamanca']), 'Castilla y León', dfs_unified['CCAA'])\n",
    "    dfs_unified['CCAA'] = np.where(dfs_unified['city'].isin(['santander']), 'Cantabria', dfs_unified['CCAA'])\n",
    "    dfs_unified['CCAA'] = np.where(dfs_unified['city'].isin(['santiago de compostela']), 'Galicia', dfs_unified['CCAA'])\n",
    "    dfs_unified['CCAA'] = np.where(dfs_unified['city'].isin(['badajoz']), 'Extremadura', dfs_unified['CCAA'])\n",
    "    dfs_unified['CCAA'] = np.where(dfs_unified['city'].isin(['cádiz', 'córdoba', 'sevilla', 'málaga', 'granada']), 'Andalucía', dfs_unified['CCAA'])\n",
    "    dfs_unified['CCAA'] = np.where(dfs_unified['city'].isin(['murcia']), 'Murcia', dfs_unified['CCAA'])\n",
    "    dfs_unified['CCAA'] = np.where(dfs_unified['city'].isin(['ciudad real', 'albacete']), 'Castilla-La Mancha', dfs_unified['CCAA'])\n",
    "    dfs_unified['CCAA'] = np.where(dfs_unified['city'].isin(['bilbao']), 'País Vasco', dfs_unified['CCAA'])\n",
    "    dfs_unified['CCAA'] = np.where(dfs_unified['city'].isin(['la laguna', 'las palmas']), 'Canarias', dfs_unified['CCAA'])\n",
    "    dfs_unified['CCAA'] = np.where(dfs_unified['city'].isin(['valencia', 'castellon de la plana', 'alicante']), 'C. Valenciana', dfs_unified['CCAA'])\n",
    "    dfs_unified['CCAA'] = np.where(dfs_unified['city'].isin(['oviedo']), 'Asturias', dfs_unified['CCAA'])\n",
    "    dfs_unified['CCAA'] = np.where(dfs_unified['city'].isin(['palma de mallorca']), 'Islas Baleares', dfs_unified['CCAA'])\n",
    "    dfs_unified['CCAA'] = np.where(dfs_unified['city'].isin(['navarra']), 'Navarra', dfs_unified['CCAA'])"
   ]
  },
  {
   "cell_type": "code",
   "execution_count": 56,
   "metadata": {},
   "outputs": [],
   "source": [
    "CCAA()"
   ]
  },
  {
   "cell_type": "code",
   "execution_count": 57,
   "metadata": {},
   "outputs": [
    {
     "data": {
      "text/html": [
       "<div>\n",
       "<style scoped>\n",
       "    .dataframe tbody tr th:only-of-type {\n",
       "        vertical-align: middle;\n",
       "    }\n",
       "\n",
       "    .dataframe tbody tr th {\n",
       "        vertical-align: top;\n",
       "    }\n",
       "\n",
       "    .dataframe thead th {\n",
       "        text-align: right;\n",
       "    }\n",
       "</style>\n",
       "<table border=\"1\" class=\"dataframe\">\n",
       "  <thead>\n",
       "    <tr style=\"text-align: right;\">\n",
       "      <th></th>\n",
       "      <th>index</th>\n",
       "      <th>year</th>\n",
       "      <th>university</th>\n",
       "      <th>final_grade</th>\n",
       "      <th>1_list</th>\n",
       "      <th>since_2010</th>\n",
       "      <th>city</th>\n",
       "      <th>CCAA</th>\n",
       "    </tr>\n",
       "  </thead>\n",
       "  <tbody>\n",
       "  </tbody>\n",
       "</table>\n",
       "</div>"
      ],
      "text/plain": [
       "Empty DataFrame\n",
       "Columns: [index, year, university, final_grade, 1_list, since_2010, city, CCAA]\n",
       "Index: []"
      ]
     },
     "execution_count": 57,
     "metadata": {},
     "output_type": "execute_result"
    }
   ],
   "source": [
    "dfs_unified[dfs_unified['CCAA'] == '']"
   ]
  },
  {
   "cell_type": "code",
   "execution_count": 58,
   "metadata": {},
   "outputs": [
    {
     "data": {
      "text/plain": [
       "array(['Cataluña', 'Aragón', 'Castilla y León', 'Cantabria', 'Galicia',\n",
       "       'Extremadura', 'Andalucía', 'Castilla-La Mancha', 'País Vasco',\n",
       "       'C. Valenciana', 'C. Madrid', 'Murcia', 'Canarias', 'Asturias',\n",
       "       'Islas Baleares', 'Navarra'], dtype=object)"
      ]
     },
     "execution_count": 58,
     "metadata": {},
     "output_type": "execute_result"
    }
   ],
   "source": [
    "dfs_unified['CCAA'].unique()"
   ]
  },
  {
   "cell_type": "code",
   "execution_count": 59,
   "metadata": {},
   "outputs": [
    {
     "data": {
      "text/html": [
       "<div>\n",
       "<style scoped>\n",
       "    .dataframe tbody tr th:only-of-type {\n",
       "        vertical-align: middle;\n",
       "    }\n",
       "\n",
       "    .dataframe tbody tr th {\n",
       "        vertical-align: top;\n",
       "    }\n",
       "\n",
       "    .dataframe thead th {\n",
       "        text-align: right;\n",
       "    }\n",
       "</style>\n",
       "<table border=\"1\" class=\"dataframe\">\n",
       "  <thead>\n",
       "    <tr style=\"text-align: right;\">\n",
       "      <th></th>\n",
       "      <th>CCAA</th>\n",
       "      <th>final_grade</th>\n",
       "    </tr>\n",
       "  </thead>\n",
       "  <tbody>\n",
       "    <tr>\n",
       "      <th>0</th>\n",
       "      <td>Andalucía</td>\n",
       "      <td>12.542367</td>\n",
       "    </tr>\n",
       "    <tr>\n",
       "      <th>1</th>\n",
       "      <td>Aragón</td>\n",
       "      <td>12.192708</td>\n",
       "    </tr>\n",
       "    <tr>\n",
       "      <th>2</th>\n",
       "      <td>Asturias</td>\n",
       "      <td>12.445417</td>\n",
       "    </tr>\n",
       "    <tr>\n",
       "      <th>3</th>\n",
       "      <td>C. Madrid</td>\n",
       "      <td>12.600062</td>\n",
       "    </tr>\n",
       "    <tr>\n",
       "      <th>4</th>\n",
       "      <td>C. Valenciana</td>\n",
       "      <td>12.422029</td>\n",
       "    </tr>\n",
       "    <tr>\n",
       "      <th>5</th>\n",
       "      <td>Canarias</td>\n",
       "      <td>12.476375</td>\n",
       "    </tr>\n",
       "    <tr>\n",
       "      <th>6</th>\n",
       "      <td>Cantabria</td>\n",
       "      <td>12.131750</td>\n",
       "    </tr>\n",
       "    <tr>\n",
       "      <th>7</th>\n",
       "      <td>Castilla y León</td>\n",
       "      <td>12.210958</td>\n",
       "    </tr>\n",
       "    <tr>\n",
       "      <th>8</th>\n",
       "      <td>Castilla-La Mancha</td>\n",
       "      <td>12.383917</td>\n",
       "    </tr>\n",
       "    <tr>\n",
       "      <th>9</th>\n",
       "      <td>Cataluña</td>\n",
       "      <td>12.103986</td>\n",
       "    </tr>\n",
       "    <tr>\n",
       "      <th>10</th>\n",
       "      <td>Extremadura</td>\n",
       "      <td>12.278417</td>\n",
       "    </tr>\n",
       "    <tr>\n",
       "      <th>11</th>\n",
       "      <td>Galicia</td>\n",
       "      <td>12.152000</td>\n",
       "    </tr>\n",
       "    <tr>\n",
       "      <th>12</th>\n",
       "      <td>Islas Baleares</td>\n",
       "      <td>12.330167</td>\n",
       "    </tr>\n",
       "    <tr>\n",
       "      <th>13</th>\n",
       "      <td>Murcia</td>\n",
       "      <td>12.556583</td>\n",
       "    </tr>\n",
       "    <tr>\n",
       "      <th>14</th>\n",
       "      <td>Navarra</td>\n",
       "      <td>12.845000</td>\n",
       "    </tr>\n",
       "    <tr>\n",
       "      <th>15</th>\n",
       "      <td>País Vasco</td>\n",
       "      <td>12.158500</td>\n",
       "    </tr>\n",
       "  </tbody>\n",
       "</table>\n",
       "</div>"
      ],
      "text/plain": [
       "                  CCAA  final_grade\n",
       "0            Andalucía    12.542367\n",
       "1               Aragón    12.192708\n",
       "2             Asturias    12.445417\n",
       "3            C. Madrid    12.600062\n",
       "4        C. Valenciana    12.422029\n",
       "5             Canarias    12.476375\n",
       "6            Cantabria    12.131750\n",
       "7      Castilla y León    12.210958\n",
       "8   Castilla-La Mancha    12.383917\n",
       "9             Cataluña    12.103986\n",
       "10         Extremadura    12.278417\n",
       "11             Galicia    12.152000\n",
       "12      Islas Baleares    12.330167\n",
       "13              Murcia    12.556583\n",
       "14             Navarra    12.845000\n",
       "15          País Vasco    12.158500"
      ]
     },
     "execution_count": 59,
     "metadata": {},
     "output_type": "execute_result"
    }
   ],
   "source": [
    "# CCAA table for streamlit visualization\n",
    "df_CCAA = dfs_unified.groupby('CCAA')['final_grade'].mean().reset_index()\n",
    "df_CCAA"
   ]
  },
  {
   "cell_type": "markdown",
   "metadata": {},
   "source": [
    "## Covid format change: change in test format due to covid"
   ]
  },
  {
   "cell_type": "code",
   "execution_count": 60,
   "metadata": {},
   "outputs": [],
   "source": [
    "# change in test format due to covid\n",
    "\n",
    "def covid_format_change():\n",
    "    dfs_unified['covid_format_change'] = ''\n",
    "    dfs_unified['covid_format_change'] = np.where((dfs_unified['year'] >= 2020), float(1), dfs_unified['covid_format_change'])\n",
    "    dfs_unified['covid_format_change'] = np.where((dfs_unified['year'] < 2020), float(0), dfs_unified['covid_format_change'])"
   ]
  },
  {
   "cell_type": "code",
   "execution_count": 61,
   "metadata": {},
   "outputs": [],
   "source": [
    "covid_format_change()"
   ]
  },
  {
   "cell_type": "markdown",
   "metadata": {},
   "source": [
    "## PCT Growth between years"
   ]
  },
  {
   "cell_type": "code",
   "execution_count": 62,
   "metadata": {},
   "outputs": [],
   "source": [
    "# growth columns\n",
    "def growth():\n",
    "    dfs_unified['growth_1_list'] = dfs_unified.groupby('university')['1_list'].pct_change()\n",
    "    dfs_unified['growth_final_grade'] = dfs_unified.groupby('university')['final_grade'].pct_change()"
   ]
  },
  {
   "cell_type": "code",
   "execution_count": 63,
   "metadata": {},
   "outputs": [],
   "source": [
    "growth()"
   ]
  },
  {
   "cell_type": "markdown",
   "metadata": {},
   "source": [
    "## Decreased value between 1_list and final_grade"
   ]
  },
  {
   "cell_type": "code",
   "execution_count": 64,
   "metadata": {},
   "outputs": [],
   "source": [
    "# decresead value from 1_list to final grade\n",
    "def diff_1_list_final_grade():\n",
    "    dfs_unified['diff_1_list_final_grade'] = dfs_unified['1_list'] - dfs_unified['final_grade']"
   ]
  },
  {
   "cell_type": "code",
   "execution_count": 65,
   "metadata": {},
   "outputs": [],
   "source": [
    "diff_1_list_final_grade()"
   ]
  },
  {
   "cell_type": "markdown",
   "metadata": {},
   "source": [
    "## Round columns above to 3 decimals"
   ]
  },
  {
   "cell_type": "code",
   "execution_count": 66,
   "metadata": {},
   "outputs": [],
   "source": [
    "# round numbers to 3 decimals\n",
    "def round_to_3():\n",
    "    dfs_unified['1_list'] = dfs_unified['1_list'].apply(lambda x: round(x, 3))\n",
    "    dfs_unified['final_grade'] = dfs_unified['final_grade'].apply(lambda x: round(x, 3))\n",
    "    dfs_unified['diff_1_list_final_grade'] = dfs_unified['diff_1_list_final_grade'].apply(lambda x: round(x, 3))\n",
    "    dfs_unified['growth_1_list'] = dfs_unified['growth_1_list'].apply(lambda x: round(x, 3))\n",
    "    dfs_unified['growth_final_grade'] = dfs_unified['growth_final_grade'].apply(lambda x: round(x, 3))"
   ]
  },
  {
   "cell_type": "code",
   "execution_count": 67,
   "metadata": {},
   "outputs": [],
   "source": [
    "round_to_3()"
   ]
  },
  {
   "cell_type": "code",
   "execution_count": 68,
   "metadata": {},
   "outputs": [
    {
     "data": {
      "text/plain": [
       "array(['universidad de lérida', 'universidad de gerona',\n",
       "       'universidad rovira i virgili (reus)',\n",
       "       'u. de zaragoza (campus huesca)',\n",
       "       'universidad autónoma de barcelona', 'universidad de valladolid',\n",
       "       'u. de cantabria (santander)', 'u. de santiago de compostela',\n",
       "       'u. de extremadura (badajoz)', 'universidad de cádiz',\n",
       "       'u. pompeu fabra (barcelona)', 'universidad de barcelona-clínico',\n",
       "       'universidad de salamanca', 'u. de zaragoza (campus zaragoza)',\n",
       "       'u. de c-la mancha (campus c.real)', 'universidad de córdoba',\n",
       "       'universidad del país vasco (lejona)',\n",
       "       'u. de c-la mancha (campus albacete)', 'universidad de sevilla',\n",
       "       'u. miguel hernández (s. juan de alicante)',\n",
       "       'universidad de alcalá', 'universidad de málaga',\n",
       "       'universidad de murcia', 'universidad de la laguna',\n",
       "       'urjc - campus alcorcón', 'universidad de valencia',\n",
       "       'u. autónoma de madrid', 'universidad de las palmas',\n",
       "       'universidad de granada', 'universidad complutense de madrid',\n",
       "       'universidad de oviedo', 'universidad jaume i',\n",
       "       'universidad de las islas baleares',\n",
       "       'universidad pública de navarra',\n",
       "       'universidad de barcelona-bellvitge'], dtype=object)"
      ]
     },
     "execution_count": 68,
     "metadata": {},
     "output_type": "execute_result"
    }
   ],
   "source": [
    "dfs_unified['university'].unique()"
   ]
  },
  {
   "cell_type": "markdown",
   "metadata": {},
   "source": [
    "## Shorter name of universities"
   ]
  },
  {
   "cell_type": "code",
   "execution_count": 69,
   "metadata": {},
   "outputs": [],
   "source": [
    "dfs_unified['university'] = dfs_unified['university'].replace('universidad', 'u.', regex=True)\n",
    "list_of_uni_names_2021  = dfs_unified[dfs_unified['year'] == last_year]['university'].tolist()"
   ]
  },
  {
   "cell_type": "markdown",
   "metadata": {},
   "source": [
    "## Latitude and Longitude of Universities for map on Streamlit"
   ]
  },
  {
   "cell_type": "code",
   "execution_count": 70,
   "metadata": {},
   "outputs": [],
   "source": [
    "#https://www.mapcoordinates.net/es\n",
    "\n",
    "def latitude():\n",
    "    dfs_unified['latitude'] = ''\n",
    "    dfs_unified['latitude'] = np.where(dfs_unified['university'] == 'u. autónoma de barcelona', 41.5025932, dfs_unified['latitude'])\n",
    "    dfs_unified['latitude'] = np.where(dfs_unified['university'] == 'u. de lérida', 41.81636125, dfs_unified['latitude'])\n",
    "    dfs_unified['latitude'] = np.where(dfs_unified['university'] == 'u. de gerona', 41.9743792, dfs_unified['latitude'])\n",
    "    dfs_unified['latitude'] = np.where(dfs_unified['university'] == 'u. rovira i virgili (reus)', 41.155309, dfs_unified['latitude'])\n",
    "    dfs_unified['latitude'] = np.where(dfs_unified['university'] == 'u. de zaragoza (campus huesca)', 42.1414059, dfs_unified['latitude'])\n",
    "    dfs_unified['latitude'] = np.where(dfs_unified['university'] == 'u. de valladolid', 41.6105937, dfs_unified['latitude'])\n",
    "    dfs_unified['latitude'] = np.where(dfs_unified['university'] == 'u. de cantabria (santander)', 43.4736983, dfs_unified['latitude'])\n",
    "    dfs_unified['latitude'] = np.where(dfs_unified['university'] == 'u. de santiago de compostela', 42.88050025, dfs_unified['latitude'])\n",
    "    dfs_unified['latitude'] = np.where(dfs_unified['university'] == 'u. de extremadura (badajoz)', 38.8824069, dfs_unified['latitude'])\n",
    "    dfs_unified['latitude'] = np.where(dfs_unified['university'] == 'u. de cádiz', 36.5340199, dfs_unified['latitude'])\n",
    "    dfs_unified['latitude'] = np.where(dfs_unified['university'] == 'u. pompeu fabra (barcelona)', 41.37921475, dfs_unified['latitude'])\n",
    "    dfs_unified['latitude'] = np.where(dfs_unified['university'] == 'u. de barcelona-clínico', 41.39017434, dfs_unified['latitude'])\n",
    "    dfs_unified['latitude'] = np.where(dfs_unified['university'] == 'u. de salamanca', 40.9666432, dfs_unified['latitude'])\n",
    "    dfs_unified['latitude'] = np.where(dfs_unified['university'] == 'u. de zaragoza (campus zaragoza)', 41.6421312, dfs_unified['latitude'])\n",
    "    dfs_unified['latitude'] = np.where(dfs_unified['university'] == 'u. de c-la mancha (campus c.real)', 38.9918372, dfs_unified['latitude'])\n",
    "    dfs_unified['latitude'] = np.where(dfs_unified['university'] == 'u. de córdoba', 37.8560421, dfs_unified['latitude'])\n",
    "    dfs_unified['latitude'] = np.where(dfs_unified['university'] == 'u. del país vasco (lejona)', 43.3359821, dfs_unified['latitude'])\n",
    "    dfs_unified['latitude'] = np.where(dfs_unified['university'] == 'u. de c-la mancha (campus albacete)', 38.4527362, dfs_unified['latitude'])\n",
    "    dfs_unified['latitude'] = np.where(dfs_unified['university'] == 'u. de sevilla', 37.4128557, dfs_unified['latitude'])\n",
    "    dfs_unified['latitude'] = np.where(dfs_unified['university'] == 'u. miguel hernández (s. juan de alicante)', 38.39896277, dfs_unified['latitude'])\n",
    "    dfs_unified['latitude'] = np.where(dfs_unified['university'] == 'u. de alcalá', 40.4818396, dfs_unified['latitude'])\n",
    "    dfs_unified['latitude'] = np.where(dfs_unified['university'] == 'u. de málaga', 36.7200431, dfs_unified['latitude'])\n",
    "    dfs_unified['latitude'] = np.where(dfs_unified['university'] == 'u. de murcia', 37.99109245, dfs_unified['latitude'])\n",
    "    dfs_unified['latitude'] = np.where(dfs_unified['university'] == 'u. de la laguna', 28.4852475, dfs_unified['latitude'])\n",
    "    dfs_unified['latitude'] = np.where(dfs_unified['university'] == 'urjc - campus alcorcón', 40.3506324, dfs_unified['latitude'])\n",
    "    dfs_unified['latitude'] = np.where(dfs_unified['university'] == 'u. de valencia', 39.4786642, dfs_unified['latitude'])\n",
    "    dfs_unified['latitude'] = np.where(dfs_unified['university'] == 'u. autónoma de madrid', 40.4832261, dfs_unified['latitude'])\n",
    "    dfs_unified['latitude'] = np.where(dfs_unified['university'] == 'u. de las palmas', 28.09055808, dfs_unified['latitude'])\n",
    "    dfs_unified['latitude'] = np.where(dfs_unified['university'] == 'u. de granada', 37.1474408, dfs_unified['latitude'])\n",
    "    dfs_unified['latitude'] = np.where(dfs_unified['university'] == 'u. complutense de madrid', 40.4437398, dfs_unified['latitude'])\n",
    "    dfs_unified['latitude'] = np.where(dfs_unified['university'] == 'u. de oviedo', 43.3533657, dfs_unified['latitude'])\n",
    "    dfs_unified['latitude'] = np.where(dfs_unified['university'] == 'u. jaume i', 39.9899483, dfs_unified['latitude'])\n",
    "    dfs_unified['latitude'] = np.where(dfs_unified['university'] == 'u. de las islas baleares', 39.60701435, dfs_unified['latitude'])\n",
    "    dfs_unified['latitude'] = np.where(dfs_unified['university'] == 'u. pública de navarra', 42.8154264, dfs_unified['latitude'])\n",
    "    dfs_unified['latitude'] = np.where(dfs_unified['university'] == 'u. de barcelona-bellvitge', 41.3507816, dfs_unified['latitude'])"
   ]
  },
  {
   "cell_type": "code",
   "execution_count": 71,
   "metadata": {},
   "outputs": [],
   "source": [
    "def longitude():\n",
    "    dfs_unified['longitude'] = ''\n",
    "    dfs_unified['longitude'] = np.where(dfs_unified['university'] == 'u. autónoma de barcelona', 2.080056, dfs_unified['longitude'])\n",
    "    dfs_unified['longitude'] = np.where(dfs_unified['university'] == 'u. de lérida', 1.59713745, dfs_unified['longitude'])\n",
    "    dfs_unified['longitude'] = np.where(dfs_unified['university'] == 'u. de gerona', 2.8235429, dfs_unified['longitude'])\n",
    "    dfs_unified['longitude'] = np.where(dfs_unified['university'] == 'u. rovira i virgili (reus)', 1.1053273, dfs_unified['longitude'])\n",
    "    dfs_unified['longitude'] = np.where(dfs_unified['university'] == 'u. de zaragoza (campus huesca)', -0.4060896, dfs_unified['longitude'])\n",
    "    dfs_unified['longitude'] = np.where(dfs_unified['university'] == 'u. de valladolid', -4.6916619, dfs_unified['longitude'])\n",
    "    dfs_unified['longitude'] = np.where(dfs_unified['university'] == 'u. de cantabria (santander)', -3.7859174, dfs_unified['longitude'])\n",
    "    dfs_unified['longitude'] = np.where(dfs_unified['university'] == 'u. de santiago de compostela', -8.5457602, dfs_unified['longitude'])\n",
    "    dfs_unified['longitude'] = np.where(dfs_unified['university'] == 'u. de extremadura (badajoz)', -7.0194457, dfs_unified['longitude'])\n",
    "    dfs_unified['longitude'] = np.where(dfs_unified['university'] == 'u. de cádiz', -6.3018987, dfs_unified['longitude'])\n",
    "    dfs_unified['longitude'] = np.where(dfs_unified['university'] == 'u. pompeu fabra (barcelona)', 2.17941527, dfs_unified['longitude'])\n",
    "    dfs_unified['longitude'] = np.where(dfs_unified['university'] == 'u. de barcelona-clínico', 2.15212588, dfs_unified['longitude'])\n",
    "    dfs_unified['longitude'] = np.where(dfs_unified['university'] == 'u. de salamanca', -5.6772757, dfs_unified['longitude'])\n",
    "    dfs_unified['longitude'] = np.where(dfs_unified['university'] == 'u. de zaragoza (campus zaragoza)', -0.90302271, dfs_unified['longitude'])\n",
    "    dfs_unified['longitude'] = np.where(dfs_unified['university'] == 'u. de c-la mancha (campus c.real)', -3.9268263, dfs_unified['longitude'])\n",
    "    dfs_unified['longitude'] = np.where(dfs_unified['university'] == 'u. de córdoba', -4.8134452, dfs_unified['longitude'])\n",
    "    dfs_unified['longitude'] = np.where(dfs_unified['university'] == 'u. del país vasco (lejona)', -2.9768285, dfs_unified['longitude'])\n",
    "    dfs_unified['longitude'] = np.where(dfs_unified['university'] == 'u. de c-la mancha (campus albacete)', -2.05363374, dfs_unified['longitude'])\n",
    "    dfs_unified['longitude'] = np.where(dfs_unified['university'] == 'u. de sevilla', -5.9845606, dfs_unified['longitude'])\n",
    "    dfs_unified['longitude'] = np.where(dfs_unified['university'] == 'u. miguel hernández (s. juan de alicante)', -0.43477806, dfs_unified['longitude'])\n",
    "    dfs_unified['longitude'] = np.where(dfs_unified['university'] == 'u. de alcalá', -3.3644973, dfs_unified['longitude'])\n",
    "    dfs_unified['longitude'] = np.where(dfs_unified['university'] == 'u. de málaga', -4.41617939, dfs_unified['longitude'])\n",
    "    dfs_unified['longitude'] = np.where(dfs_unified['university'] == 'u. de murcia', -1.13010405, dfs_unified['longitude'])\n",
    "    dfs_unified['longitude'] = np.where(dfs_unified['university'] == 'u. de la laguna', -16.3126059, dfs_unified['longitude'])\n",
    "    dfs_unified['longitude'] = np.where(dfs_unified['university'] == 'urjc - campus alcorcón', -3.8437926, dfs_unified['longitude'])\n",
    "    dfs_unified['longitude'] = np.where(dfs_unified['university'] == 'u. de valencia', -0.3627246, dfs_unified['longitude'])\n",
    "    dfs_unified['longitude'] = np.where(dfs_unified['university'] == 'u. autónoma de madrid', -3.6972262, dfs_unified['longitude'])\n",
    "    dfs_unified['longitude'] = np.where(dfs_unified['university'] == 'u. de las palmas', -15.41890014, dfs_unified['longitude'])\n",
    "    dfs_unified['longitude'] = np.where(dfs_unified['university'] == 'u. de granada', -3.6042349, dfs_unified['longitude'])\n",
    "    dfs_unified['longitude'] = np.where(dfs_unified['university'] == 'u. complutense de madrid', -3.72614639, dfs_unified['longitude'])\n",
    "    dfs_unified['longitude'] = np.where(dfs_unified['university'] == 'u. de oviedo', -5.8687712, dfs_unified['longitude'])\n",
    "    dfs_unified['longitude'] = np.where(dfs_unified['university'] == 'u. jaume i', -0.0664218, dfs_unified['longitude'])\n",
    "    dfs_unified['longitude'] = np.where(dfs_unified['university'] == 'u. de las islas baleares', 2.64475448, dfs_unified['longitude'])\n",
    "    dfs_unified['longitude'] = np.where(dfs_unified['university'] == 'u. pública de navarra', -1.65263107, dfs_unified['longitude'])\n",
    "    dfs_unified['longitude'] = np.where(dfs_unified['university'] == 'u. de barcelona-bellvitge', 2.1045067, dfs_unified['longitude'])"
   ]
  },
  {
   "cell_type": "code",
   "execution_count": 72,
   "metadata": {},
   "outputs": [],
   "source": [
    "latitude()\n",
    "longitude()"
   ]
  },
  {
   "cell_type": "code",
   "execution_count": null,
   "metadata": {},
   "outputs": [],
   "source": []
  },
  {
   "cell_type": "code",
   "execution_count": null,
   "metadata": {},
   "outputs": [],
   "source": []
  },
  {
   "cell_type": "code",
   "execution_count": 74,
   "metadata": {},
   "outputs": [
    {
     "data": {
      "text/html": [
       "<div>\n",
       "<style scoped>\n",
       "    .dataframe tbody tr th:only-of-type {\n",
       "        vertical-align: middle;\n",
       "    }\n",
       "\n",
       "    .dataframe tbody tr th {\n",
       "        vertical-align: top;\n",
       "    }\n",
       "\n",
       "    .dataframe thead th {\n",
       "        text-align: right;\n",
       "    }\n",
       "</style>\n",
       "<table border=\"1\" class=\"dataframe\">\n",
       "  <thead>\n",
       "    <tr style=\"text-align: right;\">\n",
       "      <th></th>\n",
       "      <th>index</th>\n",
       "      <th>year</th>\n",
       "      <th>university</th>\n",
       "      <th>final_grade</th>\n",
       "      <th>1_list</th>\n",
       "      <th>since_2010</th>\n",
       "      <th>city</th>\n",
       "      <th>CCAA</th>\n",
       "      <th>covid_format_change</th>\n",
       "      <th>growth_1_list</th>\n",
       "      <th>growth_final_grade</th>\n",
       "      <th>diff_1_list_final_grade</th>\n",
       "      <th>latitude</th>\n",
       "      <th>longitude</th>\n",
       "    </tr>\n",
       "  </thead>\n",
       "  <tbody>\n",
       "  </tbody>\n",
       "</table>\n",
       "</div>"
      ],
      "text/plain": [
       "Empty DataFrame\n",
       "Columns: [index, year, university, final_grade, 1_list, since_2010, city, CCAA, covid_format_change, growth_1_list, growth_final_grade, diff_1_list_final_grade, latitude, longitude]\n",
       "Index: []"
      ]
     },
     "execution_count": 74,
     "metadata": {},
     "output_type": "execute_result"
    }
   ],
   "source": [
    "dfs_unified[dfs_unified['latitude'] == '']"
   ]
  },
  {
   "cell_type": "code",
   "execution_count": 75,
   "metadata": {},
   "outputs": [
    {
     "data": {
      "text/html": [
       "<div>\n",
       "<style scoped>\n",
       "    .dataframe tbody tr th:only-of-type {\n",
       "        vertical-align: middle;\n",
       "    }\n",
       "\n",
       "    .dataframe tbody tr th {\n",
       "        vertical-align: top;\n",
       "    }\n",
       "\n",
       "    .dataframe thead th {\n",
       "        text-align: right;\n",
       "    }\n",
       "</style>\n",
       "<table border=\"1\" class=\"dataframe\">\n",
       "  <thead>\n",
       "    <tr style=\"text-align: right;\">\n",
       "      <th></th>\n",
       "      <th>index</th>\n",
       "      <th>year</th>\n",
       "      <th>university</th>\n",
       "      <th>final_grade</th>\n",
       "      <th>1_list</th>\n",
       "      <th>since_2010</th>\n",
       "      <th>city</th>\n",
       "      <th>CCAA</th>\n",
       "      <th>covid_format_change</th>\n",
       "      <th>growth_1_list</th>\n",
       "      <th>growth_final_grade</th>\n",
       "      <th>diff_1_list_final_grade</th>\n",
       "      <th>latitude</th>\n",
       "      <th>longitude</th>\n",
       "    </tr>\n",
       "  </thead>\n",
       "  <tbody>\n",
       "  </tbody>\n",
       "</table>\n",
       "</div>"
      ],
      "text/plain": [
       "Empty DataFrame\n",
       "Columns: [index, year, university, final_grade, 1_list, since_2010, city, CCAA, covid_format_change, growth_1_list, growth_final_grade, diff_1_list_final_grade, latitude, longitude]\n",
       "Index: []"
      ]
     },
     "execution_count": 75,
     "metadata": {},
     "output_type": "execute_result"
    }
   ],
   "source": [
    "dfs_unified[dfs_unified['longitude'] == '']"
   ]
  },
  {
   "cell_type": "code",
   "execution_count": 76,
   "metadata": {},
   "outputs": [
    {
     "data": {
      "text/plain": [
       "Index(['index', 'year', 'university', 'final_grade', '1_list', 'since_2010',\n",
       "       'city', 'CCAA', 'covid_format_change', 'growth_1_list',\n",
       "       'growth_final_grade', 'diff_1_list_final_grade', 'latitude',\n",
       "       'longitude'],\n",
       "      dtype='object')"
      ]
     },
     "execution_count": 76,
     "metadata": {},
     "output_type": "execute_result"
    }
   ],
   "source": [
    "dfs_unified.columns"
   ]
  },
  {
   "cell_type": "code",
   "execution_count": 77,
   "metadata": {},
   "outputs": [
    {
     "data": {
      "text/html": [
       "<div>\n",
       "<style scoped>\n",
       "    .dataframe tbody tr th:only-of-type {\n",
       "        vertical-align: middle;\n",
       "    }\n",
       "\n",
       "    .dataframe tbody tr th {\n",
       "        vertical-align: top;\n",
       "    }\n",
       "\n",
       "    .dataframe thead th {\n",
       "        text-align: right;\n",
       "    }\n",
       "</style>\n",
       "<table border=\"1\" class=\"dataframe\">\n",
       "  <thead>\n",
       "    <tr style=\"text-align: right;\">\n",
       "      <th></th>\n",
       "      <th>index</th>\n",
       "      <th>year</th>\n",
       "      <th>university</th>\n",
       "      <th>final_grade</th>\n",
       "      <th>1_list</th>\n",
       "      <th>since_2010</th>\n",
       "      <th>city</th>\n",
       "      <th>CCAA</th>\n",
       "      <th>covid_format_change</th>\n",
       "      <th>growth_1_list</th>\n",
       "      <th>growth_final_grade</th>\n",
       "      <th>diff_1_list_final_grade</th>\n",
       "      <th>latitude</th>\n",
       "      <th>longitude</th>\n",
       "    </tr>\n",
       "  </thead>\n",
       "  <tbody>\n",
       "    <tr>\n",
       "      <th>0</th>\n",
       "      <td>0</td>\n",
       "      <td>2010</td>\n",
       "      <td>u. de lérida</td>\n",
       "      <td>11.040</td>\n",
       "      <td>11.654</td>\n",
       "      <td>True</td>\n",
       "      <td>lérida</td>\n",
       "      <td>Cataluña</td>\n",
       "      <td>0.0</td>\n",
       "      <td>NaN</td>\n",
       "      <td>NaN</td>\n",
       "      <td>0.614</td>\n",
       "      <td>41.816361</td>\n",
       "      <td>1.597137</td>\n",
       "    </tr>\n",
       "    <tr>\n",
       "      <th>1</th>\n",
       "      <td>1</td>\n",
       "      <td>2010</td>\n",
       "      <td>u. de gerona</td>\n",
       "      <td>11.070</td>\n",
       "      <td>11.610</td>\n",
       "      <td>True</td>\n",
       "      <td>gerona</td>\n",
       "      <td>Cataluña</td>\n",
       "      <td>0.0</td>\n",
       "      <td>NaN</td>\n",
       "      <td>NaN</td>\n",
       "      <td>0.540</td>\n",
       "      <td>41.974379</td>\n",
       "      <td>2.823543</td>\n",
       "    </tr>\n",
       "    <tr>\n",
       "      <th>2</th>\n",
       "      <td>2</td>\n",
       "      <td>2010</td>\n",
       "      <td>u. rovira i virgili (reus)</td>\n",
       "      <td>11.142</td>\n",
       "      <td>11.708</td>\n",
       "      <td>True</td>\n",
       "      <td>reus</td>\n",
       "      <td>Cataluña</td>\n",
       "      <td>0.0</td>\n",
       "      <td>NaN</td>\n",
       "      <td>NaN</td>\n",
       "      <td>0.566</td>\n",
       "      <td>41.155309</td>\n",
       "      <td>1.105327</td>\n",
       "    </tr>\n",
       "    <tr>\n",
       "      <th>3</th>\n",
       "      <td>3</td>\n",
       "      <td>2010</td>\n",
       "      <td>u. de zaragoza (campus huesca)</td>\n",
       "      <td>11.190</td>\n",
       "      <td>12.059</td>\n",
       "      <td>True</td>\n",
       "      <td>huesca</td>\n",
       "      <td>Aragón</td>\n",
       "      <td>0.0</td>\n",
       "      <td>NaN</td>\n",
       "      <td>NaN</td>\n",
       "      <td>0.869</td>\n",
       "      <td>42.141406</td>\n",
       "      <td>-0.40609</td>\n",
       "    </tr>\n",
       "    <tr>\n",
       "      <th>4</th>\n",
       "      <td>4</td>\n",
       "      <td>2010</td>\n",
       "      <td>u. autónoma de barcelona</td>\n",
       "      <td>11.195</td>\n",
       "      <td>11.590</td>\n",
       "      <td>True</td>\n",
       "      <td>barcelona</td>\n",
       "      <td>Cataluña</td>\n",
       "      <td>0.0</td>\n",
       "      <td>NaN</td>\n",
       "      <td>NaN</td>\n",
       "      <td>0.395</td>\n",
       "      <td>41.502593</td>\n",
       "      <td>2.080056</td>\n",
       "    </tr>\n",
       "  </tbody>\n",
       "</table>\n",
       "</div>"
      ],
      "text/plain": [
       "   index  year                      university  final_grade  1_list  \\\n",
       "0      0  2010                    u. de lérida       11.040  11.654   \n",
       "1      1  2010                    u. de gerona       11.070  11.610   \n",
       "2      2  2010      u. rovira i virgili (reus)       11.142  11.708   \n",
       "3      3  2010  u. de zaragoza (campus huesca)       11.190  12.059   \n",
       "4      4  2010        u. autónoma de barcelona       11.195  11.590   \n",
       "\n",
       "  since_2010       city      CCAA covid_format_change  growth_1_list  \\\n",
       "0       True     lérida  Cataluña                 0.0            NaN   \n",
       "1       True     gerona  Cataluña                 0.0            NaN   \n",
       "2       True       reus  Cataluña                 0.0            NaN   \n",
       "3       True     huesca    Aragón                 0.0            NaN   \n",
       "4       True  barcelona  Cataluña                 0.0            NaN   \n",
       "\n",
       "   growth_final_grade  diff_1_list_final_grade   latitude longitude  \n",
       "0                 NaN                    0.614  41.816361  1.597137  \n",
       "1                 NaN                    0.540  41.974379  2.823543  \n",
       "2                 NaN                    0.566  41.155309  1.105327  \n",
       "3                 NaN                    0.869  42.141406  -0.40609  \n",
       "4                 NaN                    0.395  41.502593  2.080056  "
      ]
     },
     "execution_count": 77,
     "metadata": {},
     "output_type": "execute_result"
    }
   ],
   "source": [
    "dfs_unified.head()"
   ]
  },
  {
   "cell_type": "code",
   "execution_count": 78,
   "metadata": {},
   "outputs": [
    {
     "data": {
      "text/html": [
       "<div>\n",
       "<style scoped>\n",
       "    .dataframe tbody tr th:only-of-type {\n",
       "        vertical-align: middle;\n",
       "    }\n",
       "\n",
       "    .dataframe tbody tr th {\n",
       "        vertical-align: top;\n",
       "    }\n",
       "\n",
       "    .dataframe thead th {\n",
       "        text-align: right;\n",
       "    }\n",
       "</style>\n",
       "<table border=\"1\" class=\"dataframe\">\n",
       "  <thead>\n",
       "    <tr style=\"text-align: right;\">\n",
       "      <th></th>\n",
       "      <th>index</th>\n",
       "      <th>year</th>\n",
       "      <th>university</th>\n",
       "      <th>final_grade</th>\n",
       "      <th>1_list</th>\n",
       "      <th>since_2010</th>\n",
       "      <th>city</th>\n",
       "      <th>CCAA</th>\n",
       "      <th>covid_format_change</th>\n",
       "      <th>growth_1_list</th>\n",
       "      <th>growth_final_grade</th>\n",
       "      <th>diff_1_list_final_grade</th>\n",
       "      <th>latitude</th>\n",
       "      <th>longitude</th>\n",
       "    </tr>\n",
       "  </thead>\n",
       "  <tbody>\n",
       "  </tbody>\n",
       "</table>\n",
       "</div>"
      ],
      "text/plain": [
       "Empty DataFrame\n",
       "Columns: [index, year, university, final_grade, 1_list, since_2010, city, CCAA, covid_format_change, growth_1_list, growth_final_grade, diff_1_list_final_grade, latitude, longitude]\n",
       "Index: []"
      ]
     },
     "execution_count": 78,
     "metadata": {},
     "output_type": "execute_result"
    }
   ],
   "source": [
    "dfs_unified[dfs_unified['latitude'].isnull()]"
   ]
  },
  {
   "cell_type": "code",
   "execution_count": 85,
   "metadata": {},
   "outputs": [
    {
     "data": {
      "text/html": [
       "<div>\n",
       "<style scoped>\n",
       "    .dataframe tbody tr th:only-of-type {\n",
       "        vertical-align: middle;\n",
       "    }\n",
       "\n",
       "    .dataframe tbody tr th {\n",
       "        vertical-align: top;\n",
       "    }\n",
       "\n",
       "    .dataframe thead th {\n",
       "        text-align: right;\n",
       "    }\n",
       "</style>\n",
       "<table border=\"1\" class=\"dataframe\">\n",
       "  <thead>\n",
       "    <tr style=\"text-align: right;\">\n",
       "      <th></th>\n",
       "      <th>index</th>\n",
       "      <th>year</th>\n",
       "      <th>university</th>\n",
       "      <th>final_grade</th>\n",
       "      <th>1_list</th>\n",
       "      <th>since_2010</th>\n",
       "      <th>city</th>\n",
       "      <th>CCAA</th>\n",
       "      <th>covid_format_change</th>\n",
       "      <th>growth_1_list</th>\n",
       "      <th>growth_final_grade</th>\n",
       "      <th>diff_1_list_final_grade</th>\n",
       "      <th>latitude</th>\n",
       "      <th>longitude</th>\n",
       "    </tr>\n",
       "  </thead>\n",
       "  <tbody>\n",
       "  </tbody>\n",
       "</table>\n",
       "</div>"
      ],
      "text/plain": [
       "Empty DataFrame\n",
       "Columns: [index, year, university, final_grade, 1_list, since_2010, city, CCAA, covid_format_change, growth_1_list, growth_final_grade, diff_1_list_final_grade, latitude, longitude]\n",
       "Index: []"
      ]
     },
     "execution_count": 85,
     "metadata": {},
     "output_type": "execute_result"
    }
   ],
   "source": [
    "dfs_unified[dfs_unified['longitude'].isnull()]"
   ]
  },
  {
   "cell_type": "markdown",
   "metadata": {},
   "source": [
    "# Model"
   ]
  },
  {
   "cell_type": "code",
   "execution_count": 79,
   "metadata": {},
   "outputs": [],
   "source": [
    "#columnas growth poner NAs en vez de 0.0"
   ]
  },
  {
   "cell_type": "code",
   "execution_count": 80,
   "metadata": {},
   "outputs": [
    {
     "data": {
      "text/html": [
       "<div>\n",
       "<style scoped>\n",
       "    .dataframe tbody tr th:only-of-type {\n",
       "        vertical-align: middle;\n",
       "    }\n",
       "\n",
       "    .dataframe tbody tr th {\n",
       "        vertical-align: top;\n",
       "    }\n",
       "\n",
       "    .dataframe thead th {\n",
       "        text-align: right;\n",
       "    }\n",
       "</style>\n",
       "<table border=\"1\" class=\"dataframe\">\n",
       "  <thead>\n",
       "    <tr style=\"text-align: right;\">\n",
       "      <th></th>\n",
       "      <th>index</th>\n",
       "      <th>year</th>\n",
       "      <th>university</th>\n",
       "      <th>final_grade</th>\n",
       "      <th>1_list</th>\n",
       "      <th>since_2010</th>\n",
       "      <th>city</th>\n",
       "      <th>CCAA</th>\n",
       "      <th>covid_format_change</th>\n",
       "      <th>growth_1_list</th>\n",
       "      <th>growth_final_grade</th>\n",
       "      <th>diff_1_list_final_grade</th>\n",
       "      <th>latitude</th>\n",
       "      <th>longitude</th>\n",
       "    </tr>\n",
       "  </thead>\n",
       "  <tbody>\n",
       "    <tr>\n",
       "      <th>0</th>\n",
       "      <td>0</td>\n",
       "      <td>2010</td>\n",
       "      <td>u. de lérida</td>\n",
       "      <td>11.040</td>\n",
       "      <td>11.654</td>\n",
       "      <td>True</td>\n",
       "      <td>lérida</td>\n",
       "      <td>Cataluña</td>\n",
       "      <td>0.0</td>\n",
       "      <td>NaN</td>\n",
       "      <td>NaN</td>\n",
       "      <td>0.614</td>\n",
       "      <td>41.816361</td>\n",
       "      <td>1.597137</td>\n",
       "    </tr>\n",
       "    <tr>\n",
       "      <th>1</th>\n",
       "      <td>1</td>\n",
       "      <td>2010</td>\n",
       "      <td>u. de gerona</td>\n",
       "      <td>11.070</td>\n",
       "      <td>11.610</td>\n",
       "      <td>True</td>\n",
       "      <td>gerona</td>\n",
       "      <td>Cataluña</td>\n",
       "      <td>0.0</td>\n",
       "      <td>NaN</td>\n",
       "      <td>NaN</td>\n",
       "      <td>0.540</td>\n",
       "      <td>41.974379</td>\n",
       "      <td>2.823543</td>\n",
       "    </tr>\n",
       "    <tr>\n",
       "      <th>2</th>\n",
       "      <td>2</td>\n",
       "      <td>2010</td>\n",
       "      <td>u. rovira i virgili (reus)</td>\n",
       "      <td>11.142</td>\n",
       "      <td>11.708</td>\n",
       "      <td>True</td>\n",
       "      <td>reus</td>\n",
       "      <td>Cataluña</td>\n",
       "      <td>0.0</td>\n",
       "      <td>NaN</td>\n",
       "      <td>NaN</td>\n",
       "      <td>0.566</td>\n",
       "      <td>41.155309</td>\n",
       "      <td>1.105327</td>\n",
       "    </tr>\n",
       "    <tr>\n",
       "      <th>3</th>\n",
       "      <td>3</td>\n",
       "      <td>2010</td>\n",
       "      <td>u. de zaragoza (campus huesca)</td>\n",
       "      <td>11.190</td>\n",
       "      <td>12.059</td>\n",
       "      <td>True</td>\n",
       "      <td>huesca</td>\n",
       "      <td>Aragón</td>\n",
       "      <td>0.0</td>\n",
       "      <td>NaN</td>\n",
       "      <td>NaN</td>\n",
       "      <td>0.869</td>\n",
       "      <td>42.141406</td>\n",
       "      <td>-0.40609</td>\n",
       "    </tr>\n",
       "    <tr>\n",
       "      <th>4</th>\n",
       "      <td>4</td>\n",
       "      <td>2010</td>\n",
       "      <td>u. autónoma de barcelona</td>\n",
       "      <td>11.195</td>\n",
       "      <td>11.590</td>\n",
       "      <td>True</td>\n",
       "      <td>barcelona</td>\n",
       "      <td>Cataluña</td>\n",
       "      <td>0.0</td>\n",
       "      <td>NaN</td>\n",
       "      <td>NaN</td>\n",
       "      <td>0.395</td>\n",
       "      <td>41.502593</td>\n",
       "      <td>2.080056</td>\n",
       "    </tr>\n",
       "    <tr>\n",
       "      <th>...</th>\n",
       "      <td>...</td>\n",
       "      <td>...</td>\n",
       "      <td>...</td>\n",
       "      <td>...</td>\n",
       "      <td>...</td>\n",
       "      <td>...</td>\n",
       "      <td>...</td>\n",
       "      <td>...</td>\n",
       "      <td>...</td>\n",
       "      <td>...</td>\n",
       "      <td>...</td>\n",
       "      <td>...</td>\n",
       "      <td>...</td>\n",
       "      <td>...</td>\n",
       "    </tr>\n",
       "    <tr>\n",
       "      <th>413</th>\n",
       "      <td>30</td>\n",
       "      <td>2021</td>\n",
       "      <td>u. pompeu fabra (barcelona)</td>\n",
       "      <td>12.758</td>\n",
       "      <td>13.098</td>\n",
       "      <td>True</td>\n",
       "      <td>barcelona</td>\n",
       "      <td>Cataluña</td>\n",
       "      <td>1.0</td>\n",
       "      <td>0.004</td>\n",
       "      <td>0.013</td>\n",
       "      <td>0.340</td>\n",
       "      <td>41.379215</td>\n",
       "      <td>2.179415</td>\n",
       "    </tr>\n",
       "    <tr>\n",
       "      <th>414</th>\n",
       "      <td>31</td>\n",
       "      <td>2021</td>\n",
       "      <td>u. autónoma de barcelona</td>\n",
       "      <td>12.751</td>\n",
       "      <td>12.828</td>\n",
       "      <td>True</td>\n",
       "      <td>barcelona</td>\n",
       "      <td>Cataluña</td>\n",
       "      <td>1.0</td>\n",
       "      <td>0.009</td>\n",
       "      <td>0.007</td>\n",
       "      <td>0.077</td>\n",
       "      <td>41.502593</td>\n",
       "      <td>2.080056</td>\n",
       "    </tr>\n",
       "    <tr>\n",
       "      <th>415</th>\n",
       "      <td>32</td>\n",
       "      <td>2021</td>\n",
       "      <td>u. de gerona</td>\n",
       "      <td>12.717</td>\n",
       "      <td>12.774</td>\n",
       "      <td>True</td>\n",
       "      <td>gerona</td>\n",
       "      <td>Cataluña</td>\n",
       "      <td>1.0</td>\n",
       "      <td>0.008</td>\n",
       "      <td>0.013</td>\n",
       "      <td>0.057</td>\n",
       "      <td>41.974379</td>\n",
       "      <td>2.823543</td>\n",
       "    </tr>\n",
       "    <tr>\n",
       "      <th>416</th>\n",
       "      <td>33</td>\n",
       "      <td>2021</td>\n",
       "      <td>u. de lérida</td>\n",
       "      <td>12.711</td>\n",
       "      <td>12.799</td>\n",
       "      <td>True</td>\n",
       "      <td>lérida</td>\n",
       "      <td>Cataluña</td>\n",
       "      <td>1.0</td>\n",
       "      <td>0.009</td>\n",
       "      <td>0.015</td>\n",
       "      <td>0.088</td>\n",
       "      <td>41.816361</td>\n",
       "      <td>1.597137</td>\n",
       "    </tr>\n",
       "    <tr>\n",
       "      <th>417</th>\n",
       "      <td>34</td>\n",
       "      <td>2021</td>\n",
       "      <td>u. rovira i virgili (reus)</td>\n",
       "      <td>12.708</td>\n",
       "      <td>12.852</td>\n",
       "      <td>True</td>\n",
       "      <td>reus</td>\n",
       "      <td>Cataluña</td>\n",
       "      <td>1.0</td>\n",
       "      <td>0.005</td>\n",
       "      <td>0.013</td>\n",
       "      <td>0.144</td>\n",
       "      <td>41.155309</td>\n",
       "      <td>1.105327</td>\n",
       "    </tr>\n",
       "  </tbody>\n",
       "</table>\n",
       "<p>394 rows × 14 columns</p>\n",
       "</div>"
      ],
      "text/plain": [
       "     index  year                      university  final_grade  1_list  \\\n",
       "0        0  2010                    u. de lérida       11.040  11.654   \n",
       "1        1  2010                    u. de gerona       11.070  11.610   \n",
       "2        2  2010      u. rovira i virgili (reus)       11.142  11.708   \n",
       "3        3  2010  u. de zaragoza (campus huesca)       11.190  12.059   \n",
       "4        4  2010        u. autónoma de barcelona       11.195  11.590   \n",
       "..     ...   ...                             ...          ...     ...   \n",
       "413     30  2021     u. pompeu fabra (barcelona)       12.758  13.098   \n",
       "414     31  2021        u. autónoma de barcelona       12.751  12.828   \n",
       "415     32  2021                    u. de gerona       12.717  12.774   \n",
       "416     33  2021                    u. de lérida       12.711  12.799   \n",
       "417     34  2021      u. rovira i virgili (reus)       12.708  12.852   \n",
       "\n",
       "    since_2010       city      CCAA covid_format_change  growth_1_list  \\\n",
       "0         True     lérida  Cataluña                 0.0            NaN   \n",
       "1         True     gerona  Cataluña                 0.0            NaN   \n",
       "2         True       reus  Cataluña                 0.0            NaN   \n",
       "3         True     huesca    Aragón                 0.0            NaN   \n",
       "4         True  barcelona  Cataluña                 0.0            NaN   \n",
       "..         ...        ...       ...                 ...            ...   \n",
       "413       True  barcelona  Cataluña                 1.0          0.004   \n",
       "414       True  barcelona  Cataluña                 1.0          0.009   \n",
       "415       True     gerona  Cataluña                 1.0          0.008   \n",
       "416       True     lérida  Cataluña                 1.0          0.009   \n",
       "417       True       reus  Cataluña                 1.0          0.005   \n",
       "\n",
       "     growth_final_grade  diff_1_list_final_grade   latitude longitude  \n",
       "0                   NaN                    0.614  41.816361  1.597137  \n",
       "1                   NaN                    0.540  41.974379  2.823543  \n",
       "2                   NaN                    0.566  41.155309  1.105327  \n",
       "3                   NaN                    0.869  42.141406  -0.40609  \n",
       "4                   NaN                    0.395  41.502593  2.080056  \n",
       "..                  ...                      ...        ...       ...  \n",
       "413               0.013                    0.340  41.379215  2.179415  \n",
       "414               0.007                    0.077  41.502593  2.080056  \n",
       "415               0.013                    0.057  41.974379  2.823543  \n",
       "416               0.015                    0.088  41.816361  1.597137  \n",
       "417               0.013                    0.144  41.155309  1.105327  \n",
       "\n",
       "[394 rows x 14 columns]"
      ]
     },
     "execution_count": 80,
     "metadata": {},
     "output_type": "execute_result"
    }
   ],
   "source": [
    "dfs_unified"
   ]
  },
  {
   "cell_type": "code",
   "execution_count": null,
   "metadata": {},
   "outputs": [],
   "source": [
    "dfs_unified[dfs_unified['university'] == 'universidad complutense de madrid']"
   ]
  },
  {
   "cell_type": "code",
   "execution_count": null,
   "metadata": {},
   "outputs": [],
   "source": [
    "from sklearn.linear_model import LinearRegression"
   ]
  },
  {
   "cell_type": "code",
   "execution_count": null,
   "metadata": {},
   "outputs": [],
   "source": [
    "#list_of_uni_names_2021"
   ]
  },
  {
   "cell_type": "code",
   "execution_count": null,
   "metadata": {},
   "outputs": [],
   "source": [
    "dfs_unified_columns = dfs_unified.columns.tolist()[1:]\n",
    "\n",
    "num_columns = len(dfs_unified_columns)\n",
    "\n",
    "for i in range(num_columns):\n",
    "    dfs_unified[dfs_unified_columns[i]].replace({np.nan: 0}, inplace=True)"
   ]
  },
  {
   "cell_type": "markdown",
   "metadata": {},
   "source": [
    "### Example for Universidad Complutense de Madrid"
   ]
  },
  {
   "cell_type": "code",
   "execution_count": null,
   "metadata": {},
   "outputs": [],
   "source": [
    "# let's check the correlation between the two variables\n",
    "sns.heatmap(dfs_unified[dfs_unified['university'] == 'universidad complutense de madrid'][['year', '1_list']].corr(), cmap='YlGnBu', annot=True)\n",
    "plt.show()"
   ]
  },
  {
   "cell_type": "code",
   "execution_count": 81,
   "metadata": {},
   "outputs": [],
   "source": [
    "# OJO EL EJEMPLO LO ESTOY HACIENDO CON TODOS LOS DATOS QUE YA CONOZOCO, LO SUYO ES QUITAR 2021 (VALOR QUE CONOZCO) Y VER EL VALOR QUE ME SALDRIA - ES DECIR TRAIN TEST(2021)\n",
    "# Y EVALUAR EL MODELO, HACER CROSS VALIDATION (mas robusto ya que es una media, mas robusto del train test split)\n"
   ]
  },
  {
   "cell_type": "code",
   "execution_count": 82,
   "metadata": {},
   "outputs": [
    {
     "data": {
      "image/png": "[encoded data removed]",
      "text/plain": [
       "<Figure size 864x432 with 1 Axes>"
      ]
     },
     "metadata": {
      "needs_background": "light"
     },
     "output_type": "display_data"
    }
   ],
   "source": [
    "plt.figure(figsize=(12,6))\n",
    "plt.scatter(dfs_unified[dfs_unified['university'] == 'universidad complutense de madrid']['year'], dfs_unified[dfs_unified['university'] == 'universidad complutense de madrid']['1_list'], color='red')\n",
    "plt.title('Year vs 1_list', fontsize = 14)\n",
    "plt.xlabel('Year', fontsize = 14)\n",
    "plt.ylabel('1_list', fontsize = 14)\n",
    "plt.grid(True)\n",
    "plt.show()"
   ]
  },
  {
   "cell_type": "code",
   "execution_count": 83,
   "metadata": {},
   "outputs": [
    {
     "data": {
      "text/html": [
       "<div>\n",
       "<style scoped>\n",
       "    .dataframe tbody tr th:only-of-type {\n",
       "        vertical-align: middle;\n",
       "    }\n",
       "\n",
       "    .dataframe tbody tr th {\n",
       "        vertical-align: top;\n",
       "    }\n",
       "\n",
       "    .dataframe thead th {\n",
       "        text-align: right;\n",
       "    }\n",
       "</style>\n",
       "<table border=\"1\" class=\"dataframe\">\n",
       "  <thead>\n",
       "    <tr style=\"text-align: right;\">\n",
       "      <th></th>\n",
       "      <th>index</th>\n",
       "      <th>year</th>\n",
       "      <th>university</th>\n",
       "      <th>final_grade</th>\n",
       "      <th>1_list</th>\n",
       "      <th>since_2010</th>\n",
       "      <th>city</th>\n",
       "      <th>CCAA</th>\n",
       "      <th>covid_format_change</th>\n",
       "      <th>growth_1_list</th>\n",
       "      <th>growth_final_grade</th>\n",
       "      <th>diff_1_list_final_grade</th>\n",
       "      <th>latitude</th>\n",
       "      <th>longitude</th>\n",
       "    </tr>\n",
       "  </thead>\n",
       "  <tbody>\n",
       "  </tbody>\n",
       "</table>\n",
       "</div>"
      ],
      "text/plain": [
       "Empty DataFrame\n",
       "Columns: [index, year, university, final_grade, 1_list, since_2010, city, CCAA, covid_format_change, growth_1_list, growth_final_grade, diff_1_list_final_grade, latitude, longitude]\n",
       "Index: []"
      ]
     },
     "execution_count": 83,
     "metadata": {},
     "output_type": "execute_result"
    }
   ],
   "source": [
    "dfs_unified[dfs_unified['university'] == 'universidad complutense de madrid']"
   ]
  },
  {
   "cell_type": "code",
   "execution_count": null,
   "metadata": {},
   "outputs": [],
   "source": [
    "# evaluate models\n",
    "results_models_per_uni = pd.DataFrame(columns=['University','MSE', 'RMSE', 'MAE'])\n",
    "results_models_per_uni['University'] = list_of_uni_names_2021\n",
    "\n",
    "\n",
    "for uni in list_of_uni_names_2021:\n",
    "    lr = LinearRegression()\n",
    "    X_train = dfs_unified[(dfs_unified['university'] == uni) & (dfs_unified['year'] != 2021)][['year', 'covid_format_change', 'growth_1_list']]\n",
    "    y_train = dfs_unified[(dfs_unified['university'] == uni) & (dfs_unified['year'] != 2021)][['1_list']]\n",
    "\n",
    "    X_test = dfs_unified[(dfs_unified['university'] == uni) & (dfs_unified['year'] == 2021)][['year', 'covid_format_change', 'growth_1_list']]\n",
    "    y_test = dfs_unified[(dfs_unified['university'] == uni) & (dfs_unified['year'] == 2021)][['1_list']]\n",
    "\n",
    "    lr.fit(X_train, y_train)\n",
    "\n",
    "\n",
    "    y_predict = lr.predict(X_test)\n",
    "    #print('predicted score for 2020 is ', float(y_predict))\n",
    "\n",
    "    #print('real score of 2020 is ', y_test['1_list'].values[0])\n",
    "\n",
    "    y_predict = float(y_predict)\n",
    "    y_test = y_test['1_list'].values[0]\n",
    "\n",
    "    errors = y_test - y_predict\n",
    "\n",
    "    # MSE\n",
    "    mse = np.mean(errors ** 2)\n",
    "\n",
    "    # RMSE (root min squared error)\n",
    "    rmse = np.sqrt(mse)\n",
    "\n",
    "    # MAE (mean absolute error)\n",
    "    mae = np.mean(np.abs(errors))\n",
    "    \n",
    "    \n",
    "    results_models_per_uni['MSE'] = np.where(results_models_per_uni['University'] == uni, mse, results_models_per_uni['MSE'])\n",
    "    results_models_per_uni['RMSE'] = np.where(results_models_per_uni['University'] == uni, rmse, results_models_per_uni['RMSE'])\n",
    "    results_models_per_uni['MAE'] = np.where(results_models_per_uni['University'] == uni, mae, results_models_per_uni['MAE'])\n",
    "\n",
    "   "
   ]
  },
  {
   "cell_type": "code",
   "execution_count": null,
   "metadata": {},
   "outputs": [],
   "source": [
    "results_models_per_uni"
   ]
  },
  {
   "cell_type": "code",
   "execution_count": 84,
   "metadata": {},
   "outputs": [
    {
     "ename": "NameError",
     "evalue": "name 'results_models_per_uni' is not defined",
     "output_type": "error",
     "traceback": [
      "\u001b[0;31m---------------------------------------------------------------------------\u001b[0m",
      "\u001b[0;31mNameError\u001b[0m                                 Traceback (most recent call last)",
      "\u001b[0;32m/var/folders/jn/w0r35k4x0dg_3cvcygm52fz40000gn/T/ipykernel_62870/2976573664.py\u001b[0m in \u001b[0;36m<module>\u001b[0;34m\u001b[0m\n\u001b[0;32m----> 1\u001b[0;31m \u001b[0mresults_models_per_uni\u001b[0m\u001b[0;34m[\u001b[0m\u001b[0;34m'MSE'\u001b[0m\u001b[0;34m]\u001b[0m\u001b[0;34m.\u001b[0m\u001b[0mmean\u001b[0m\u001b[0;34m(\u001b[0m\u001b[0;34m)\u001b[0m\u001b[0;34m\u001b[0m\u001b[0;34m\u001b[0m\u001b[0m\n\u001b[0m",
      "\u001b[0;31mNameError\u001b[0m: name 'results_models_per_uni' is not defined"
     ]
    }
   ],
   "source": [
    "results_models_per_uni['MSE'].mean()"
   ]
  },
  {
   "cell_type": "code",
   "execution_count": null,
   "metadata": {},
   "outputs": [],
   "source": [
    "results_models = pd.DataFrame(columns=['MSE', 'RMSE', 'MAE'])\n",
    "results_models.loc['linear_regression_per_uni_avg'] = [results_models_per_uni['MSE'].mean(), results_models_per_uni['RMSE'].mean(), results_models_per_uni['MAE'].mean()]"
   ]
  },
  {
   "cell_type": "code",
   "execution_count": null,
   "metadata": {},
   "outputs": [],
   "source": [
    "results_models"
   ]
  },
  {
   "cell_type": "code",
   "execution_count": null,
   "metadata": {},
   "outputs": [],
   "source": []
  },
  {
   "cell_type": "code",
   "execution_count": null,
   "metadata": {},
   "outputs": [],
   "source": [
    "lr = LinearRegression()\n",
    "X_train = dfs_unified[(dfs_unified['year'] != 2021)][['year', 'covid_format_change', 'growth_1_list']]\n",
    "y_train = dfs_unified[(dfs_unified['year'] != 2021)][['1_list']]\n",
    "\n",
    "X_test = dfs_unified[(dfs_unified['year'] == 2021)][['year', 'covid_format_change', 'growth_1_list']]\n",
    "y_test = dfs_unified[(dfs_unified['year'] == 2021)][['1_list']]\n",
    "\n",
    "lr.fit(X_train, y_train)\n",
    "\n",
    "\n",
    "y_predict = lr.predict(X_test)\n",
    "#print(y_predict)\n",
    "#y_predict = float(y_predict)\n",
    "\n",
    "#y_test = y_test['1_list'].values[0]\n",
    "\n",
    "errors = y_test - y_predict\n",
    "\n",
    "# MSE\n",
    "mse = float(np.mean(errors ** 2))\n",
    "\n",
    "# RMSE (root min squared error)\n",
    "rmse = float(np.sqrt(mse))\n",
    "\n",
    "# MAE (mean absolute error)\n",
    "mae = float(np.mean(np.abs(errors)))\n",
    "\n",
    "\n",
    "results_models.loc['linear_regression'] = [mse, rmse, mae]"
   ]
  },
  {
   "cell_type": "code",
   "execution_count": null,
   "metadata": {},
   "outputs": [],
   "source": [
    "results_models"
   ]
  },
  {
   "cell_type": "code",
   "execution_count": null,
   "metadata": {},
   "outputs": [],
   "source": [
    "# arima"
   ]
  },
  {
   "cell_type": "code",
   "execution_count": null,
   "metadata": {},
   "outputs": [],
   "source": [
    "jj"
   ]
  },
  {
   "cell_type": "code",
   "execution_count": null,
   "metadata": {},
   "outputs": [],
   "source": [
    "# Create a Linear regression\n",
    "\n",
    "lr = LinearRegression()\n",
    "X = dfs_unified[dfs_unified['university'] == 'universidad complutense de madrid'][['year', 'covid_format_change', 'growth_1_list']]\n",
    "y = dfs_unified[dfs_unified['university'] == 'universidad complutense de madrid'][['1_list']]\n",
    "\n",
    "lr.fit(X, y)"
   ]
  },
  {
   "cell_type": "code",
   "execution_count": null,
   "metadata": {},
   "outputs": [],
   "source": [
    "# generate model prediction for all years in dataset\n",
    "y_predict = lr.predict(X)\n",
    "\n",
    "# visualize the predicted score as a line on the test set\n",
    "plt.figure(figsize=(12,6))\n",
    "plt.scatter(dfs_unified[dfs_unified['university'] == 'universidad complutense de madrid']['year'], dfs_unified[dfs_unified['university'] == 'universidad complutense de madrid']['1_list'], color = 'red', label = 'original')\n",
    "plt.plot(dfs_unified[dfs_unified['university'] == 'universidad complutense de madrid']['year'], y_predict, color='g', label = 'predicted')\n",
    "plt.xlabel('Year', fontsize = 14)\n",
    "plt.ylabel('1_list', fontsize = 14)\n",
    "plt.title('Original 1_list scores vs predicted, by year')\n",
    "plt.legend()\n",
    "plt.show()"
   ]
  },
  {
   "cell_type": "code",
   "execution_count": null,
   "metadata": {},
   "outputs": [],
   "source": [
    "# compare model predictions vs actual values\n",
    "plt.figure(figsize=(12,6))\n",
    "x_ax = range(len(dfs_unified[dfs_unified['university'] == 'universidad complutense de madrid']['1_list']))\n",
    "plt.plot(x_ax, dfs_unified[dfs_unified['university'] == 'universidad complutense de madrid']['1_list'], label='original')\n",
    "plt.plot(x_ax, y_predict, label='predicted')\n",
    "plt.title('Original 1_list scores vs predicted')\n",
    "plt.legend()\n",
    "plt.show()"
   ]
  },
  {
   "cell_type": "markdown",
   "metadata": {},
   "source": [
    "## Evaluate model"
   ]
  },
  {
   "cell_type": "code",
   "execution_count": null,
   "metadata": {},
   "outputs": [],
   "source": [
    "# evaluate model\n",
    "from sklearn.metrics import r2_score\n",
    "\n",
    "r2_score(y, y_predict)\n",
    "# OJO EL EJEMPLO LO ESTOY HACIENDO CON TODOS LOS DATOS QUE YA CONOZOCO, LO SUYO ES QUITAR 2021 (VALOR QUE CONOZCO) Y VER EL VALOR QUE ME SALDRIA - ES DECIR TRAIN TEST(2021)\n",
    "# Y EVALUAR EL MODELO, HACER CROSS VALIDATION\n",
    "\n",
    "# HACER\n",
    "# There are three primary metrics used to evaluate linear models. These are: Mean absolute error (MAE), Mean squared error (MSE), or Root mean squared error (RMSE)."
   ]
  },
  {
   "cell_type": "markdown",
   "metadata": {},
   "source": [
    "## Predict next year scores"
   ]
  },
  {
   "cell_type": "code",
   "execution_count": null,
   "metadata": {},
   "outputs": [],
   "source": [
    "# predict 1_list for a given year\n",
    "\n",
    "# supposing the same growth as last year\n",
    "complu_1_list_score = float(lr.predict([[2022, 1.0, dfs_unified[dfs_unified['university'] == 'universidad complutense de madrid']['growth_1_list'][-1:].mean()]]))\n",
    "complu_1_list_score"
   ]
  },
  {
   "cell_type": "markdown",
   "metadata": {},
   "source": [
    "## Save 2022 predicted scores"
   ]
  },
  {
   "cell_type": "code",
   "execution_count": null,
   "metadata": {},
   "outputs": [],
   "source": [
    "uni_names = {'university': list_of_uni_names_2021}\n",
    "pred_y_df = pd.DataFrame(uni_names, columns=['university'])\n",
    "pred_y_df['year'] = 2022\n",
    "pred_y_df['1_list'] = ''\n",
    "pred_y_df['1_list'] = np.where(pred_y_df['university'] == 'universidad complutense de madrid', complu_1_list_score, pred_y_df['1_list'])\n",
    "pred_y_df"
   ]
  },
  {
   "cell_type": "code",
   "execution_count": null,
   "metadata": {},
   "outputs": [],
   "source": [
    "# we have done this for 1 university, let's automate it for the rest"
   ]
  },
  {
   "cell_type": "code",
   "execution_count": null,
   "metadata": {},
   "outputs": [],
   "source": [
    "dfs_unified[dfs_unified['university'] == 'universidad complutense de madrid']"
   ]
  },
  {
   "cell_type": "code",
   "execution_count": null,
   "metadata": {},
   "outputs": [],
   "source": [
    "# PROBAR SI ES MEJOR:\n",
    "# 1) HACER LINEAR REGRESSION DE TODOS LOS DATOS\n",
    "# 2) FILTRANDO POR UNIVERSIDAD Y SACAR VARIOS MODELOS (LO QUE YA TENGO)\n",
    "# 3) UNIVERSIDAD ONEHOT ENCODING (COLUMNAS) Y METER EL NOMBRE DE LA UNI COMO VARIABLE EN EL MODELO\n",
    "# ELEGIRÉ EL QUE MEJOR RENDIMIENTO TENGA"
   ]
  },
  {
   "cell_type": "code",
   "execution_count": null,
   "metadata": {},
   "outputs": [],
   "source": [
    "def predict_and_save_scores(year, covid_format_change, university, convocatory):\n",
    "    '''\n",
    "    explicar\n",
    "    '''\n",
    "    lr = LinearRegression()\n",
    "    X = dfs_unified[dfs_unified['university'] == university][['year', 'covid_format_change', 'growth_' + convocatory]]\n",
    "    y = dfs_unified[dfs_unified['university'] == university][[convocatory]]\n",
    "\n",
    "    # train\n",
    "    lr.fit(X, y)\n",
    "    \n",
    "    # predict, supposing same growth as last year\n",
    "    pred_y_df[convocatory] = np.where(pred_y_df['university'] == university, float(lr.predict([[year, covid_format_change, dfs_unified[dfs_unified['university'] == university]['growth_' + convocatory][-1:].mean()]])), pred_y_df[convocatory])"
   ]
  },
  {
   "cell_type": "code",
   "execution_count": null,
   "metadata": {},
   "outputs": [],
   "source": [
    "for uni in list_of_uni_names_2021:\n",
    "    predict_and_save_scores(2022, 1.0, uni, '1_list')\n",
    "\n",
    "#pred_y_df['final_grade'] = ''\n",
    "#for uni in list_of_uni_names_2021:\n",
    "    #predict_and_save_scores(2022, 1.0, uni, 'final_grade')"
   ]
  },
  {
   "cell_type": "code",
   "execution_count": null,
   "metadata": {},
   "outputs": [],
   "source": [
    "# problema: 1_list no puede ser menor que final_grade | lo calculamos sin utilizar el modelo, cogemos el decrecimiento del último año y se lo restamos a 1_list predicted\n",
    "pred_y_df['final_grade'] = ''\n",
    "\n",
    "for uni in list_of_uni_names_2021:\n",
    "    pred_y_df['final_grade'] = np.where(pred_y_df['university'] == uni, pred_y_df['1_list'] - dfs_unified[dfs_unified['university'] == uni]['diff_1_list_final_grade'][-1:].mean(), pred_y_df['final_grade'])"
   ]
  },
  {
   "cell_type": "code",
   "execution_count": null,
   "metadata": {},
   "outputs": [],
   "source": [
    "pred_y_df['diff_1_list_final_grade'] = pred_y_df['1_list'] - pred_y_df['final_grade']"
   ]
  },
  {
   "cell_type": "code",
   "execution_count": null,
   "metadata": {},
   "outputs": [],
   "source": [
    "pred_y_df"
   ]
  },
  {
   "cell_type": "code",
   "execution_count": null,
   "metadata": {},
   "outputs": [],
   "source": [
    "# append predicted scores to dfs_unified\n",
    "\n",
    "dfs_unified = dfs_unified.append(pred_y_df)"
   ]
  },
  {
   "cell_type": "code",
   "execution_count": null,
   "metadata": {},
   "outputs": [],
   "source": [
    "dfs_unified"
   ]
  },
  {
   "cell_type": "code",
   "execution_count": null,
   "metadata": {},
   "outputs": [],
   "source": [
    "# apply created columns to predicted data (2022)\n",
    "since_2010()\n",
    "city()\n",
    "CCAA()\n",
    "covid_format_change()\n",
    "growth()\n",
    "diff_1_list_final_grade()\n",
    "round_to_3()\n",
    "latitude()\n",
    "longitude()"
   ]
  },
  {
   "cell_type": "code",
   "execution_count": null,
   "metadata": {},
   "outputs": [],
   "source": [
    "jj"
   ]
  },
  {
   "cell_type": "code",
   "execution_count": null,
   "metadata": {},
   "outputs": [],
   "source": [
    "# forecasting: machine learning vs arima. por ahora he hecho machine learning"
   ]
  },
  {
   "cell_type": "code",
   "execution_count": null,
   "metadata": {},
   "outputs": [],
   "source": [
    "# PROBAR OTROS MODELOS - LM, GLM"
   ]
  },
  {
   "cell_type": "code",
   "execution_count": null,
   "metadata": {},
   "outputs": [],
   "source": [
    "# toni me dice hacer random forest, que probablemente sea mejor que una regresion lineal. Minimo tengo que hacer estos 2 modelos. Si me da tiempo xgboost"
   ]
  },
  {
   "cell_type": "code",
   "execution_count": null,
   "metadata": {},
   "outputs": [],
   "source": [
    "# toni: poner al final - cosas que podrian mejorar el modelo si hubiese tenido estos datos: numero de plazas"
   ]
  },
  {
   "cell_type": "markdown",
   "metadata": {},
   "source": [
    "# Data Visualization"
   ]
  },
  {
   "cell_type": "code",
   "execution_count": null,
   "metadata": {},
   "outputs": [],
   "source": [
    "complutense = dfs_unified[dfs_unified['university'] == 'universidad complutense de madrid']\n",
    "fig,ax=plt.subplots(figsize=(10,8))\n",
    "ax.bar(complutense['year'], complutense['1_list'])\n",
    "# Setting the x-axis to 1-10\n",
    "# and y-axis to 1-15\n",
    "plt.axis([2009, 2022, 11.00, 14.00])\n",
    "plt.show()"
   ]
  },
  {
   "cell_type": "code",
   "execution_count": null,
   "metadata": {},
   "outputs": [],
   "source": [
    "dfs_unified.head()"
   ]
  },
  {
   "cell_type": "code",
   "execution_count": null,
   "metadata": {},
   "outputs": [],
   "source": []
  },
  {
   "cell_type": "code",
   "execution_count": null,
   "metadata": {},
   "outputs": [],
   "source": [
    "dfs_unified['city'].unique()"
   ]
  },
  {
   "cell_type": "code",
   "execution_count": null,
   "metadata": {},
   "outputs": [],
   "source": []
  },
  {
   "cell_type": "code",
   "execution_count": null,
   "metadata": {},
   "outputs": [],
   "source": [
    "# growth columns, replace first score (0 to Nan) - not all started in 2010\n"
   ]
  },
  {
   "cell_type": "code",
   "execution_count": null,
   "metadata": {},
   "outputs": [],
   "source": [
    "# compare growth of all years except for 2020, and 2020\n",
    "grouped_year_1_list = dfs_unified.groupby('year')['growth_1_list'].mean().reset_index()\n",
    "grouped_year_1_list_not_2020 = grouped_year_1_list[grouped_year_1_list['year'] != 2020]\n",
    "grouped_year_1_list_2020 = grouped_year_1_list[grouped_year_1_list['year'] == 2020]\n",
    "print(grouped_year_1_list_not_2020['growth_1_list'].mean())\n",
    "print(grouped_year_1_list_2020['growth_1_list'].mean())\n",
    "print(grouped_year_1_list_2020['growth_1_list'].mean() / grouped_year_1_list_not_2020['growth_1_list'].mean())"
   ]
  },
  {
   "cell_type": "code",
   "execution_count": null,
   "metadata": {},
   "outputs": [],
   "source": []
  },
  {
   "cell_type": "markdown",
   "metadata": {},
   "source": [
    "# Export data"
   ]
  },
  {
   "cell_type": "code",
   "execution_count": null,
   "metadata": {},
   "outputs": [],
   "source": [
    "import os\n",
    "os.getcwd()"
   ]
  },
  {
   "cell_type": "code",
   "execution_count": null,
   "metadata": {},
   "outputs": [],
   "source": [
    "# export data to be used on streamlit\n",
    "\n",
    "file_name = 'output/exported_data.csv'\n",
    "dfs_unified.to_csv(file_name, index = False, header=True)"
   ]
  },
  {
   "cell_type": "code",
   "execution_count": null,
   "metadata": {},
   "outputs": [],
   "source": [
    "dfs_unified.notnull()"
   ]
  },
  {
   "cell_type": "code",
   "execution_count": null,
   "metadata": {},
   "outputs": [],
   "source": [
    "dfs_unified[dfs_unified.isnull()]\n"
   ]
  },
  {
   "cell_type": "code",
   "execution_count": null,
   "metadata": {},
   "outputs": [],
   "source": [
    "dfs_unified[dfs_unified['university'] == '']"
   ]
  },
  {
   "cell_type": "markdown",
   "metadata": {},
   "source": [
    "# Run Front-end / Streamlit visualization (myapp.py)"
   ]
  },
  {
   "cell_type": "code",
   "execution_count": null,
   "metadata": {},
   "outputs": [],
   "source": [
    "# execute cell below"
   ]
  },
  {
   "cell_type": "code",
   "execution_count": null,
   "metadata": {},
   "outputs": [],
   "source": [
    "#!pip install streamlit\n",
    "#!streamlit run /Users/miguel/repos/Prediction_Medicine_Selectivity_Scores/streamlit/myapp.py"
   ]
  }
 ],
 "metadata": {
  "interpreter": {
   "hash": "afc3b4600e7999c1cec994f4f7321fa76de0c7f2f3bd5869f8f64fa643bd8b36"
  },
  "kernelspec": {
   "display_name": "Python 3.9.7 64-bit ('base': conda)",
   "name": "python3"
  },
  "language_info": {
   "codemirror_mode": {
    "name": "ipython",
    "version": 3
   },
   "file_extension": ".py",
   "mimetype": "text/x-python",
   "name": "python",
   "nbconvert_exporter": "python",
   "pygments_lexer": "ipython3",
   "version": "3.9.7"
  },
  "toc": {
   "base_numbering": 1,
   "nav_menu": {},
   "number_sections": true,
   "sideBar": true,
   "skip_h1_title": false,
   "title_cell": "Table of Contents",
   "title_sidebar": "Contents",
   "toc_cell": false,
   "toc_position": {},
   "toc_section_display": true,
   "toc_window_display": false
  },
  "varInspector": {
   "cols": {
    "lenName": 16,
    "lenType": 16,
    "lenVar": 40
   },
   "kernels_config": {
    "python": {
     "delete_cmd_postfix": "",
     "delete_cmd_prefix": "del ",
     "library": "var_list.py",
     "varRefreshCmd": "print(var_dic_list())"
    },
    "r": {
     "delete_cmd_postfix": ") ",
     "delete_cmd_prefix": "rm(",
     "library": "var_list.r",
     "varRefreshCmd": "cat(var_dic_list()) "
    }
   },
   "types_to_exclude": [
    "module",
    "function",
    "builtin_function_or_method",
    "instance",
    "_Feature"
   ],
   "window_display": false
  }
 },
 "nbformat": 4,
 "nbformat_minor": 2
}
