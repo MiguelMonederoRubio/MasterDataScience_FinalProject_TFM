{
 "cells": [
  {
   "cell_type": "code",
   "execution_count": 1,
   "metadata": {},
   "outputs": [],
   "source": [
    "# series temporales: poder predictivo poco\n",
    "# hacer streamlit: visualization potente \n",
    "\n",
    "# ideas: \n",
    "# feature engineering, crear campos: año de convocatoria, diff entre 1a lista y nota final, porcentaje de bajada, ciudad, comunidad, \n",
    "# numero de listas o convocatorias que han habido por universidad, diferencia de notas entre años\n",
    "\n",
    "# limpieza: quitar columnas de sobre 10, concatenar todas las particiones de años, nombres de universidades, columnas, asegurar fechas correctas, \n",
    "# todas las notas con el mismo numero de decimales\n",
    "\n",
    "# modelo: predecir la nota (a través de un rango, con una tolerancia que defina) para el año 2022-2023 estudiando los datos de años anteriores. \n",
    "# Predecir también la probabilidad de que entres en una universidad u otra en funcion de la nota que hayas sacado en una convocatoria anterior\n",
    "# adicionalmente, tener en cuenta que la metodologia del examen cambió por el COVID\n",
    "\n",
    "# visualizacion: mapa geografico de españa, con un mapa de calor por la probabilidad o por la nota mas alta y mas baja\n",
    "# visualizacion de datos historicos a traves de un grafico de linea\n",
    "# crecimiento con los años\n",
    "# front end que se pueda filtrar por universidad, convocatoria o nota final, "
   ]
  },
  {
   "cell_type": "code",
   "execution_count": 2,
   "metadata": {},
   "outputs": [],
   "source": [
    "import pandas as pd\n",
    "import numpy as np\n",
    "import seaborn as sns\n",
    "import matplotlib.pyplot as plt\n",
    "import sys\n",
    "import os"
   ]
  },
  {
   "cell_type": "code",
   "execution_count": 3,
   "metadata": {},
   "outputs": [
    {
     "data": {
      "text/plain": [
       "'/Users/miguel/repos/Prediction_Medicine_Selectivity_Scores/raw_data'"
      ]
     },
     "execution_count": 3,
     "metadata": {},
     "output_type": "execute_result"
    }
   ],
   "source": [
    "current_directory = os.getcwd()\n",
    "raw_data_directory = current_directory + '/raw_data'\n",
    "raw_data_directory"
   ]
  },
  {
   "cell_type": "markdown",
   "metadata": {},
   "source": [
    "# Importing data"
   ]
  },
  {
   "cell_type": "code",
   "execution_count": 4,
   "metadata": {},
   "outputs": [],
   "source": [
    "# lo del df_name no tiene sentido si luego no lo puedo llamar"
   ]
  },
  {
   "cell_type": "code",
   "execution_count": 5,
   "metadata": {},
   "outputs": [],
   "source": [
    "# input raw data from different years (2010-2021)\n",
    "initial_year = 2010\n",
    "last_year = 2021\n",
    "next_year = initial_year + 1\n",
    "num_years = last_year - initial_year + 1\n",
    "list_of_dfs = []\n",
    "list_of_directories = []\n",
    "# format example: df_2010_2011 = pd.read_csv(raw_data_directory + '/Notas de corte de Medicina 2010_2011 - Hoja 1.csv', decimal = ',')\n",
    "\n",
    "for i in range(num_years):\n",
    "    df_name = 'df' + '_' + str(initial_year) + '_' + str(next_year)\n",
    "    directory = raw_data_directory + '/Notas de corte de Medicina ' + str(initial_year) + '_' + str(next_year) + ' - Hoja 1.csv'\n",
    "    list_of_dfs.append(df_name)\n",
    "    list_of_directories.append(directory)\n",
    "    \n",
    "    list_of_dfs[i] = pd.read_csv(list_of_directories[i], decimal = ',')\n",
    "    \n",
    "    initial_year += 1\n",
    "    next_year += 1"
   ]
  },
  {
   "cell_type": "code",
   "execution_count": 6,
   "metadata": {},
   "outputs": [],
   "source": [
    "# before appending all dfs, we create a column with the year, to keep track of which df the data is coming from\n",
    "initial_year = 2010\n",
    "\n",
    "for i in range(num_years):\n",
    "    list_of_dfs[i]['year'] = initial_year + i"
   ]
  },
  {
   "cell_type": "code",
   "execution_count": 7,
   "metadata": {},
   "outputs": [],
   "source": [
    "dfs_unified = pd.DataFrame()"
   ]
  },
  {
   "cell_type": "code",
   "execution_count": 8,
   "metadata": {},
   "outputs": [],
   "source": [
    "for i in range(num_years):\n",
    "    dfs_unified = dfs_unified.append(list_of_dfs[i])"
   ]
  },
  {
   "cell_type": "code",
   "execution_count": 9,
   "metadata": {},
   "outputs": [
    {
     "name": "stdout",
     "output_type": "stream",
     "text": [
      "append has been done correctly\n"
     ]
    }
   ],
   "source": [
    "# check the append has been done correctly: check the number of rows is the sum of all of the dfs\n",
    "\n",
    "total_number_of_rows = 0\n",
    "\n",
    "for i in range(num_years):\n",
    "    total_number_of_rows = total_number_of_rows + len(list_of_dfs[i])\n",
    "\n",
    "if total_number_of_rows != dfs_unified.shape[0]:\n",
    "    sys.exit()\n",
    "else:\n",
    "    print('append has been done correctly')"
   ]
  },
  {
   "cell_type": "markdown",
   "metadata": {},
   "source": [
    "# Data Cleaning"
   ]
  },
  {
   "cell_type": "markdown",
   "metadata": {},
   "source": [
    "## Check for duplicates"
   ]
  },
  {
   "cell_type": "code",
   "execution_count": 10,
   "metadata": {},
   "outputs": [
    {
     "name": "stdout",
     "output_type": "stream",
     "text": [
      "There are no duplicates\n"
     ]
    }
   ],
   "source": [
    "if dfs_unified[dfs_unified.duplicated() == True].shape[0] != 0:\n",
    "    dfs_unified.drop_duplicates()\n",
    "else:\n",
    "    print('There are no duplicates')"
   ]
  },
  {
   "cell_type": "markdown",
   "metadata": {},
   "source": [
    "## Create new unique columns out of data that we already had"
   ]
  },
  {
   "cell_type": "code",
   "execution_count": 11,
   "metadata": {},
   "outputs": [],
   "source": [
    "def drop_columns_containing_text(df, text):\n",
    "    '''\n",
    "    drop columns that contain a certain string/text\n",
    "    '''\n",
    "    df = df[df.columns.drop(list(df.filter(regex=text)))]\n",
    "    return df"
   ]
  },
  {
   "cell_type": "code",
   "execution_count": 12,
   "metadata": {},
   "outputs": [],
   "source": [
    "dfs_unified = drop_columns_containing_text(dfs_unified, 'Sobre')"
   ]
  },
  {
   "cell_type": "code",
   "execution_count": 13,
   "metadata": {},
   "outputs": [],
   "source": [
    "# to keep track of raw columns, to afterwards drop them\n",
    "dfs_unified_raw_columns = dfs_unified.columns.tolist()\n",
    "# 'year' was created before and is not a raw column\n",
    "dfs_unified_raw_columns.remove('year')\n",
    "#dfs_unified_columns"
   ]
  },
  {
   "cell_type": "code",
   "execution_count": 14,
   "metadata": {},
   "outputs": [],
   "source": [
    "# tiene sentido copiar solo not null data y no toda????????"
   ]
  },
  {
   "cell_type": "code",
   "execution_count": 15,
   "metadata": {},
   "outputs": [],
   "source": [
    "def copy_data(new_col, old_col):\n",
    "    '''\n",
    "    copy not null data from one column to another\n",
    "    '''\n",
    "    dfs_unified[new_col] = np.where(dfs_unified[old_col].notnull(), dfs_unified[old_col], dfs_unified[new_col])"
   ]
  },
  {
   "cell_type": "code",
   "execution_count": 16,
   "metadata": {},
   "outputs": [],
   "source": [
    "dfs_unified['university'] = ''\n",
    "copy_data('university', 'Notas de corte de Medicina')\n",
    "copy_data('university', 'Universidad')\n",
    "copy_data('university', 'Facultad de Medicina')\n",
    "\n",
    "dfs_unified['date_last_admission'] = ''\n",
    "copy_data('date_last_admission', 'Fecha de última admisión')\n",
    "copy_data('date_last_admission', 'Última fecha de admisión \\n(Fecha de la nota final)')\n",
    "\n",
    "dfs_unified['final_grade'] = ''\n",
    "copy_data('final_grade', 'Nota de corte final de Medicina')\n",
    "copy_data('final_grade', 'Nota de corte final')\n",
    "copy_data('final_grade', 'Nota de corte actual')\n",
    "\n",
    "\n",
    "for i in range(1, 24):\n",
    "    dfs_unified[str(i) + '_list'] = ''\n",
    "    copy_data(str(i) + '_list', str(i) + 'ª Lista')\n",
    "\n",
    "copy_data('19_list', '19ª lista')\n",
    "copy_data('20_list', '20ª lista')"
   ]
  },
  {
   "cell_type": "code",
   "execution_count": 17,
   "metadata": {},
   "outputs": [],
   "source": [
    "# drop all old columns\n",
    "dfs_unified = dfs_unified.drop(dfs_unified_raw_columns, axis=1)\n",
    "\n",
    "# reset index\n",
    "dfs_unified = dfs_unified.reset_index()"
   ]
  },
  {
   "cell_type": "code",
   "execution_count": 18,
   "metadata": {},
   "outputs": [
    {
     "data": {
      "text/html": [
       "<div>\n",
       "<style scoped>\n",
       "    .dataframe tbody tr th:only-of-type {\n",
       "        vertical-align: middle;\n",
       "    }\n",
       "\n",
       "    .dataframe tbody tr th {\n",
       "        vertical-align: top;\n",
       "    }\n",
       "\n",
       "    .dataframe thead th {\n",
       "        text-align: right;\n",
       "    }\n",
       "</style>\n",
       "<table border=\"1\" class=\"dataframe\">\n",
       "  <thead>\n",
       "    <tr style=\"text-align: right;\">\n",
       "      <th></th>\n",
       "      <th>index</th>\n",
       "      <th>year</th>\n",
       "      <th>university</th>\n",
       "      <th>date_last_admission</th>\n",
       "      <th>final_grade</th>\n",
       "      <th>1_list</th>\n",
       "      <th>2_list</th>\n",
       "      <th>3_list</th>\n",
       "      <th>4_list</th>\n",
       "      <th>5_list</th>\n",
       "      <th>...</th>\n",
       "      <th>14_list</th>\n",
       "      <th>15_list</th>\n",
       "      <th>16_list</th>\n",
       "      <th>17_list</th>\n",
       "      <th>18_list</th>\n",
       "      <th>19_list</th>\n",
       "      <th>20_list</th>\n",
       "      <th>21_list</th>\n",
       "      <th>22_list</th>\n",
       "      <th>23_list</th>\n",
       "    </tr>\n",
       "  </thead>\n",
       "  <tbody>\n",
       "    <tr>\n",
       "      <th>31</th>\n",
       "      <td>31</td>\n",
       "      <td>2010</td>\n",
       "      <td></td>\n",
       "      <td></td>\n",
       "      <td></td>\n",
       "      <td></td>\n",
       "      <td></td>\n",
       "      <td></td>\n",
       "      <td></td>\n",
       "      <td></td>\n",
       "      <td>...</td>\n",
       "      <td></td>\n",
       "      <td></td>\n",
       "      <td></td>\n",
       "      <td></td>\n",
       "      <td></td>\n",
       "      <td></td>\n",
       "      <td></td>\n",
       "      <td></td>\n",
       "      <td></td>\n",
       "      <td></td>\n",
       "    </tr>\n",
       "    <tr>\n",
       "      <th>33</th>\n",
       "      <td>33</td>\n",
       "      <td>2010</td>\n",
       "      <td>** Publicada nota de 11,257 en la CiuG, el 7/9/10</td>\n",
       "      <td>Y RECTIFICADA POR 11,410; 8/9/10</td>\n",
       "      <td></td>\n",
       "      <td></td>\n",
       "      <td></td>\n",
       "      <td></td>\n",
       "      <td></td>\n",
       "      <td></td>\n",
       "      <td>...</td>\n",
       "      <td></td>\n",
       "      <td></td>\n",
       "      <td></td>\n",
       "      <td></td>\n",
       "      <td></td>\n",
       "      <td></td>\n",
       "      <td></td>\n",
       "      <td></td>\n",
       "      <td></td>\n",
       "      <td></td>\n",
       "    </tr>\n",
       "    <tr>\n",
       "      <th>98</th>\n",
       "      <td>32</td>\n",
       "      <td>2012</td>\n",
       "      <td>Nota promedio</td>\n",
       "      <td></td>\n",
       "      <td>12.017</td>\n",
       "      <td></td>\n",
       "      <td></td>\n",
       "      <td></td>\n",
       "      <td></td>\n",
       "      <td></td>\n",
       "      <td>...</td>\n",
       "      <td></td>\n",
       "      <td></td>\n",
       "      <td></td>\n",
       "      <td></td>\n",
       "      <td></td>\n",
       "      <td></td>\n",
       "      <td></td>\n",
       "      <td></td>\n",
       "      <td></td>\n",
       "      <td></td>\n",
       "    </tr>\n",
       "    <tr>\n",
       "      <th>99</th>\n",
       "      <td>33</td>\n",
       "      <td>2012</td>\n",
       "      <td>Desviación típica</td>\n",
       "      <td></td>\n",
       "      <td>0.22</td>\n",
       "      <td></td>\n",
       "      <td></td>\n",
       "      <td></td>\n",
       "      <td></td>\n",
       "      <td></td>\n",
       "      <td>...</td>\n",
       "      <td></td>\n",
       "      <td></td>\n",
       "      <td></td>\n",
       "      <td></td>\n",
       "      <td></td>\n",
       "      <td></td>\n",
       "      <td></td>\n",
       "      <td></td>\n",
       "      <td></td>\n",
       "      <td></td>\n",
       "    </tr>\n",
       "    <tr>\n",
       "      <th>132</th>\n",
       "      <td>32</td>\n",
       "      <td>2013</td>\n",
       "      <td>Nota promedio</td>\n",
       "      <td></td>\n",
       "      <td>12.082</td>\n",
       "      <td></td>\n",
       "      <td></td>\n",
       "      <td></td>\n",
       "      <td></td>\n",
       "      <td></td>\n",
       "      <td>...</td>\n",
       "      <td></td>\n",
       "      <td></td>\n",
       "      <td></td>\n",
       "      <td></td>\n",
       "      <td></td>\n",
       "      <td></td>\n",
       "      <td></td>\n",
       "      <td></td>\n",
       "      <td></td>\n",
       "      <td></td>\n",
       "    </tr>\n",
       "    <tr>\n",
       "      <th>133</th>\n",
       "      <td>33</td>\n",
       "      <td>2013</td>\n",
       "      <td>Desviación típica</td>\n",
       "      <td></td>\n",
       "      <td>0.213</td>\n",
       "      <td></td>\n",
       "      <td></td>\n",
       "      <td></td>\n",
       "      <td></td>\n",
       "      <td></td>\n",
       "      <td>...</td>\n",
       "      <td></td>\n",
       "      <td></td>\n",
       "      <td></td>\n",
       "      <td></td>\n",
       "      <td></td>\n",
       "      <td></td>\n",
       "      <td></td>\n",
       "      <td></td>\n",
       "      <td></td>\n",
       "      <td></td>\n",
       "    </tr>\n",
       "    <tr>\n",
       "      <th>166</th>\n",
       "      <td>32</td>\n",
       "      <td>2014</td>\n",
       "      <td>Nota promedio</td>\n",
       "      <td></td>\n",
       "      <td>12.268</td>\n",
       "      <td></td>\n",
       "      <td></td>\n",
       "      <td></td>\n",
       "      <td></td>\n",
       "      <td></td>\n",
       "      <td>...</td>\n",
       "      <td></td>\n",
       "      <td></td>\n",
       "      <td></td>\n",
       "      <td></td>\n",
       "      <td></td>\n",
       "      <td></td>\n",
       "      <td></td>\n",
       "      <td></td>\n",
       "      <td></td>\n",
       "      <td></td>\n",
       "    </tr>\n",
       "    <tr>\n",
       "      <th>167</th>\n",
       "      <td>33</td>\n",
       "      <td>2014</td>\n",
       "      <td>Desviación típica</td>\n",
       "      <td></td>\n",
       "      <td>0.213</td>\n",
       "      <td></td>\n",
       "      <td></td>\n",
       "      <td></td>\n",
       "      <td></td>\n",
       "      <td></td>\n",
       "      <td>...</td>\n",
       "      <td></td>\n",
       "      <td></td>\n",
       "      <td></td>\n",
       "      <td></td>\n",
       "      <td></td>\n",
       "      <td></td>\n",
       "      <td></td>\n",
       "      <td></td>\n",
       "      <td></td>\n",
       "      <td></td>\n",
       "    </tr>\n",
       "    <tr>\n",
       "      <th>200</th>\n",
       "      <td>32</td>\n",
       "      <td>2015</td>\n",
       "      <td>Nota promedio</td>\n",
       "      <td></td>\n",
       "      <td>12.422</td>\n",
       "      <td>12.605</td>\n",
       "      <td>12.517</td>\n",
       "      <td>12.48</td>\n",
       "      <td>12.455</td>\n",
       "      <td></td>\n",
       "      <td>...</td>\n",
       "      <td></td>\n",
       "      <td></td>\n",
       "      <td></td>\n",
       "      <td></td>\n",
       "      <td></td>\n",
       "      <td></td>\n",
       "      <td></td>\n",
       "      <td></td>\n",
       "      <td></td>\n",
       "      <td></td>\n",
       "    </tr>\n",
       "    <tr>\n",
       "      <th>201</th>\n",
       "      <td>33</td>\n",
       "      <td>2015</td>\n",
       "      <td>Desviación típica</td>\n",
       "      <td></td>\n",
       "      <td>0.188</td>\n",
       "      <td>0.201</td>\n",
       "      <td>0.177</td>\n",
       "      <td>0.175</td>\n",
       "      <td>0.173</td>\n",
       "      <td></td>\n",
       "      <td>...</td>\n",
       "      <td></td>\n",
       "      <td></td>\n",
       "      <td></td>\n",
       "      <td></td>\n",
       "      <td></td>\n",
       "      <td></td>\n",
       "      <td></td>\n",
       "      <td></td>\n",
       "      <td></td>\n",
       "      <td></td>\n",
       "    </tr>\n",
       "    <tr>\n",
       "      <th>202</th>\n",
       "      <td>34</td>\n",
       "      <td>2015</td>\n",
       "      <td></td>\n",
       "      <td></td>\n",
       "      <td>0.184</td>\n",
       "      <td></td>\n",
       "      <td></td>\n",
       "      <td></td>\n",
       "      <td></td>\n",
       "      <td></td>\n",
       "      <td>...</td>\n",
       "      <td></td>\n",
       "      <td></td>\n",
       "      <td></td>\n",
       "      <td></td>\n",
       "      <td></td>\n",
       "      <td></td>\n",
       "      <td></td>\n",
       "      <td></td>\n",
       "      <td></td>\n",
       "      <td></td>\n",
       "    </tr>\n",
       "    <tr>\n",
       "      <th>203</th>\n",
       "      <td>35</td>\n",
       "      <td>2015</td>\n",
       "      <td></td>\n",
       "      <td></td>\n",
       "      <td>0.014</td>\n",
       "      <td></td>\n",
       "      <td></td>\n",
       "      <td></td>\n",
       "      <td></td>\n",
       "      <td></td>\n",
       "      <td>...</td>\n",
       "      <td></td>\n",
       "      <td></td>\n",
       "      <td></td>\n",
       "      <td></td>\n",
       "      <td></td>\n",
       "      <td></td>\n",
       "      <td></td>\n",
       "      <td></td>\n",
       "      <td></td>\n",
       "      <td></td>\n",
       "    </tr>\n",
       "    <tr>\n",
       "      <th>237</th>\n",
       "      <td>33</td>\n",
       "      <td>2016</td>\n",
       "      <td>Nota promedio</td>\n",
       "      <td></td>\n",
       "      <td>12.449</td>\n",
       "      <td>12.712</td>\n",
       "      <td>12.591</td>\n",
       "      <td></td>\n",
       "      <td></td>\n",
       "      <td></td>\n",
       "      <td>...</td>\n",
       "      <td></td>\n",
       "      <td></td>\n",
       "      <td></td>\n",
       "      <td></td>\n",
       "      <td></td>\n",
       "      <td></td>\n",
       "      <td></td>\n",
       "      <td></td>\n",
       "      <td></td>\n",
       "      <td></td>\n",
       "    </tr>\n",
       "    <tr>\n",
       "      <th>238</th>\n",
       "      <td>34</td>\n",
       "      <td>2016</td>\n",
       "      <td>Desviación típica</td>\n",
       "      <td></td>\n",
       "      <td>0.203</td>\n",
       "      <td>0.213</td>\n",
       "      <td>0.184</td>\n",
       "      <td></td>\n",
       "      <td></td>\n",
       "      <td></td>\n",
       "      <td>...</td>\n",
       "      <td></td>\n",
       "      <td></td>\n",
       "      <td></td>\n",
       "      <td></td>\n",
       "      <td></td>\n",
       "      <td></td>\n",
       "      <td></td>\n",
       "      <td></td>\n",
       "      <td></td>\n",
       "      <td></td>\n",
       "    </tr>\n",
       "    <tr>\n",
       "      <th>272</th>\n",
       "      <td>33</td>\n",
       "      <td>2017</td>\n",
       "      <td>Nota promedio</td>\n",
       "      <td></td>\n",
       "      <td>12.46</td>\n",
       "      <td>12.748</td>\n",
       "      <td>12,625</td>\n",
       "      <td>12.573</td>\n",
       "      <td></td>\n",
       "      <td></td>\n",
       "      <td>...</td>\n",
       "      <td></td>\n",
       "      <td></td>\n",
       "      <td></td>\n",
       "      <td></td>\n",
       "      <td></td>\n",
       "      <td></td>\n",
       "      <td></td>\n",
       "      <td></td>\n",
       "      <td></td>\n",
       "      <td></td>\n",
       "    </tr>\n",
       "    <tr>\n",
       "      <th>273</th>\n",
       "      <td>34</td>\n",
       "      <td>2017</td>\n",
       "      <td>Desviación típica</td>\n",
       "      <td></td>\n",
       "      <td>0.238</td>\n",
       "      <td>0.218</td>\n",
       "      <td>0,191</td>\n",
       "      <td>0.188</td>\n",
       "      <td></td>\n",
       "      <td></td>\n",
       "      <td>...</td>\n",
       "      <td></td>\n",
       "      <td></td>\n",
       "      <td></td>\n",
       "      <td></td>\n",
       "      <td></td>\n",
       "      <td></td>\n",
       "      <td></td>\n",
       "      <td></td>\n",
       "      <td></td>\n",
       "      <td></td>\n",
       "    </tr>\n",
       "    <tr>\n",
       "      <th>307</th>\n",
       "      <td>33</td>\n",
       "      <td>2018</td>\n",
       "      <td>Nota promedio</td>\n",
       "      <td></td>\n",
       "      <td>12.504</td>\n",
       "      <td>12.752</td>\n",
       "      <td>12.639</td>\n",
       "      <td></td>\n",
       "      <td></td>\n",
       "      <td></td>\n",
       "      <td>...</td>\n",
       "      <td></td>\n",
       "      <td></td>\n",
       "      <td></td>\n",
       "      <td></td>\n",
       "      <td></td>\n",
       "      <td></td>\n",
       "      <td></td>\n",
       "      <td></td>\n",
       "      <td></td>\n",
       "      <td></td>\n",
       "    </tr>\n",
       "    <tr>\n",
       "      <th>308</th>\n",
       "      <td>34</td>\n",
       "      <td>2018</td>\n",
       "      <td>Desviación típica</td>\n",
       "      <td></td>\n",
       "      <td>0.224</td>\n",
       "      <td>0.232</td>\n",
       "      <td>0.214</td>\n",
       "      <td></td>\n",
       "      <td></td>\n",
       "      <td></td>\n",
       "      <td>...</td>\n",
       "      <td></td>\n",
       "      <td></td>\n",
       "      <td></td>\n",
       "      <td></td>\n",
       "      <td></td>\n",
       "      <td></td>\n",
       "      <td></td>\n",
       "      <td></td>\n",
       "      <td></td>\n",
       "      <td></td>\n",
       "    </tr>\n",
       "    <tr>\n",
       "      <th>343</th>\n",
       "      <td>34</td>\n",
       "      <td>2019</td>\n",
       "      <td>Nota promedio</td>\n",
       "      <td></td>\n",
       "      <td>12.561</td>\n",
       "      <td>12.779</td>\n",
       "      <td>12.664</td>\n",
       "      <td></td>\n",
       "      <td></td>\n",
       "      <td></td>\n",
       "      <td>...</td>\n",
       "      <td></td>\n",
       "      <td></td>\n",
       "      <td></td>\n",
       "      <td></td>\n",
       "      <td></td>\n",
       "      <td></td>\n",
       "      <td></td>\n",
       "      <td></td>\n",
       "      <td></td>\n",
       "      <td></td>\n",
       "    </tr>\n",
       "    <tr>\n",
       "      <th>344</th>\n",
       "      <td>35</td>\n",
       "      <td>2019</td>\n",
       "      <td>Desviación típica</td>\n",
       "      <td></td>\n",
       "      <td>0.239</td>\n",
       "      <td>0.24</td>\n",
       "      <td>0.222</td>\n",
       "      <td></td>\n",
       "      <td></td>\n",
       "      <td></td>\n",
       "      <td>...</td>\n",
       "      <td></td>\n",
       "      <td></td>\n",
       "      <td></td>\n",
       "      <td></td>\n",
       "      <td></td>\n",
       "      <td></td>\n",
       "      <td></td>\n",
       "      <td></td>\n",
       "      <td></td>\n",
       "      <td></td>\n",
       "    </tr>\n",
       "    <tr>\n",
       "      <th>380</th>\n",
       "      <td>35</td>\n",
       "      <td>2020</td>\n",
       "      <td></td>\n",
       "      <td></td>\n",
       "      <td></td>\n",
       "      <td></td>\n",
       "      <td></td>\n",
       "      <td></td>\n",
       "      <td></td>\n",
       "      <td></td>\n",
       "      <td>...</td>\n",
       "      <td></td>\n",
       "      <td></td>\n",
       "      <td></td>\n",
       "      <td></td>\n",
       "      <td></td>\n",
       "      <td></td>\n",
       "      <td></td>\n",
       "      <td></td>\n",
       "      <td></td>\n",
       "      <td></td>\n",
       "    </tr>\n",
       "    <tr>\n",
       "      <th>381</th>\n",
       "      <td>36</td>\n",
       "      <td>2020</td>\n",
       "      <td>Nota promedio</td>\n",
       "      <td></td>\n",
       "      <td>12.903</td>\n",
       "      <td>13.193</td>\n",
       "      <td></td>\n",
       "      <td></td>\n",
       "      <td></td>\n",
       "      <td></td>\n",
       "      <td>...</td>\n",
       "      <td></td>\n",
       "      <td></td>\n",
       "      <td></td>\n",
       "      <td></td>\n",
       "      <td></td>\n",
       "      <td></td>\n",
       "      <td></td>\n",
       "      <td></td>\n",
       "      <td></td>\n",
       "      <td></td>\n",
       "    </tr>\n",
       "    <tr>\n",
       "      <th>382</th>\n",
       "      <td>37</td>\n",
       "      <td>2020</td>\n",
       "      <td>Desviación típica</td>\n",
       "      <td></td>\n",
       "      <td>0.236</td>\n",
       "      <td>0.226</td>\n",
       "      <td></td>\n",
       "      <td></td>\n",
       "      <td></td>\n",
       "      <td></td>\n",
       "      <td>...</td>\n",
       "      <td></td>\n",
       "      <td></td>\n",
       "      <td></td>\n",
       "      <td></td>\n",
       "      <td></td>\n",
       "      <td></td>\n",
       "      <td></td>\n",
       "      <td></td>\n",
       "      <td></td>\n",
       "      <td></td>\n",
       "    </tr>\n",
       "    <tr>\n",
       "      <th>418</th>\n",
       "      <td>35</td>\n",
       "      <td>2021</td>\n",
       "      <td></td>\n",
       "      <td></td>\n",
       "      <td></td>\n",
       "      <td></td>\n",
       "      <td></td>\n",
       "      <td></td>\n",
       "      <td></td>\n",
       "      <td></td>\n",
       "      <td>...</td>\n",
       "      <td></td>\n",
       "      <td></td>\n",
       "      <td></td>\n",
       "      <td></td>\n",
       "      <td></td>\n",
       "      <td></td>\n",
       "      <td></td>\n",
       "      <td></td>\n",
       "      <td></td>\n",
       "      <td></td>\n",
       "    </tr>\n",
       "    <tr>\n",
       "      <th>419</th>\n",
       "      <td>36</td>\n",
       "      <td>2021</td>\n",
       "      <td>Nota media</td>\n",
       "      <td></td>\n",
       "      <td>13.038</td>\n",
       "      <td>13.272</td>\n",
       "      <td>13.183</td>\n",
       "      <td>13.136</td>\n",
       "      <td>13.11</td>\n",
       "      <td>13.082</td>\n",
       "      <td>...</td>\n",
       "      <td></td>\n",
       "      <td></td>\n",
       "      <td></td>\n",
       "      <td></td>\n",
       "      <td></td>\n",
       "      <td></td>\n",
       "      <td></td>\n",
       "      <td></td>\n",
       "      <td></td>\n",
       "      <td></td>\n",
       "    </tr>\n",
       "    <tr>\n",
       "      <th>420</th>\n",
       "      <td>37</td>\n",
       "      <td>2021</td>\n",
       "      <td>Desviación típica</td>\n",
       "      <td></td>\n",
       "      <td>0.199</td>\n",
       "      <td>0.223</td>\n",
       "      <td>0.224</td>\n",
       "      <td>0.208</td>\n",
       "      <td>0.206</td>\n",
       "      <td>0.203</td>\n",
       "      <td>...</td>\n",
       "      <td></td>\n",
       "      <td></td>\n",
       "      <td></td>\n",
       "      <td></td>\n",
       "      <td></td>\n",
       "      <td></td>\n",
       "      <td></td>\n",
       "      <td></td>\n",
       "      <td></td>\n",
       "      <td></td>\n",
       "    </tr>\n",
       "  </tbody>\n",
       "</table>\n",
       "<p>26 rows × 28 columns</p>\n",
       "</div>"
      ],
      "text/plain": [
       "     index  year                                         university  \\\n",
       "31      31  2010                                                      \n",
       "33      33  2010  ** Publicada nota de 11,257 en la CiuG, el 7/9/10   \n",
       "98      32  2012                                      Nota promedio   \n",
       "99      33  2012                                  Desviación típica   \n",
       "132     32  2013                                      Nota promedio   \n",
       "133     33  2013                                  Desviación típica   \n",
       "166     32  2014                                      Nota promedio   \n",
       "167     33  2014                                  Desviación típica   \n",
       "200     32  2015                                      Nota promedio   \n",
       "201     33  2015                                  Desviación típica   \n",
       "202     34  2015                                                      \n",
       "203     35  2015                                                      \n",
       "237     33  2016                                      Nota promedio   \n",
       "238     34  2016                                  Desviación típica   \n",
       "272     33  2017                                      Nota promedio   \n",
       "273     34  2017                                  Desviación típica   \n",
       "307     33  2018                                      Nota promedio   \n",
       "308     34  2018                                  Desviación típica   \n",
       "343     34  2019                                      Nota promedio   \n",
       "344     35  2019                                  Desviación típica   \n",
       "380     35  2020                                                      \n",
       "381     36  2020                                      Nota promedio   \n",
       "382     37  2020                                  Desviación típica   \n",
       "418     35  2021                                                      \n",
       "419     36  2021                                         Nota media   \n",
       "420     37  2021                                  Desviación típica   \n",
       "\n",
       "                  date_last_admission final_grade  1_list  2_list  3_list  \\\n",
       "31                                                                          \n",
       "33   Y RECTIFICADA POR 11,410; 8/9/10                                       \n",
       "98                                         12.017                           \n",
       "99                                           0.22                           \n",
       "132                                        12.082                           \n",
       "133                                         0.213                           \n",
       "166                                        12.268                           \n",
       "167                                         0.213                           \n",
       "200                                        12.422  12.605  12.517   12.48   \n",
       "201                                         0.188   0.201   0.177   0.175   \n",
       "202                                         0.184                           \n",
       "203                                         0.014                           \n",
       "237                                        12.449  12.712  12.591           \n",
       "238                                         0.203   0.213   0.184           \n",
       "272                                         12.46  12.748  12,625  12.573   \n",
       "273                                         0.238   0.218   0,191   0.188   \n",
       "307                                        12.504  12.752  12.639           \n",
       "308                                         0.224   0.232   0.214           \n",
       "343                                        12.561  12.779  12.664           \n",
       "344                                         0.239    0.24   0.222           \n",
       "380                                                                         \n",
       "381                                        12.903  13.193                   \n",
       "382                                         0.236   0.226                   \n",
       "418                                                                         \n",
       "419                                        13.038  13.272  13.183  13.136   \n",
       "420                                         0.199   0.223   0.224   0.208   \n",
       "\n",
       "     4_list  5_list  ... 14_list 15_list 16_list 17_list 18_list 19_list  \\\n",
       "31                   ...                                                   \n",
       "33                   ...                                                   \n",
       "98                   ...                                                   \n",
       "99                   ...                                                   \n",
       "132                  ...                                                   \n",
       "133                  ...                                                   \n",
       "166                  ...                                                   \n",
       "167                  ...                                                   \n",
       "200  12.455          ...                                                   \n",
       "201   0.173          ...                                                   \n",
       "202                  ...                                                   \n",
       "203                  ...                                                   \n",
       "237                  ...                                                   \n",
       "238                  ...                                                   \n",
       "272                  ...                                                   \n",
       "273                  ...                                                   \n",
       "307                  ...                                                   \n",
       "308                  ...                                                   \n",
       "343                  ...                                                   \n",
       "344                  ...                                                   \n",
       "380                  ...                                                   \n",
       "381                  ...                                                   \n",
       "382                  ...                                                   \n",
       "418                  ...                                                   \n",
       "419   13.11  13.082  ...                                                   \n",
       "420   0.206   0.203  ...                                                   \n",
       "\n",
       "    20_list 21_list 22_list 23_list  \n",
       "31                                   \n",
       "33                                   \n",
       "98                                   \n",
       "99                                   \n",
       "132                                  \n",
       "133                                  \n",
       "166                                  \n",
       "167                                  \n",
       "200                                  \n",
       "201                                  \n",
       "202                                  \n",
       "203                                  \n",
       "237                                  \n",
       "238                                  \n",
       "272                                  \n",
       "273                                  \n",
       "307                                  \n",
       "308                                  \n",
       "343                                  \n",
       "344                                  \n",
       "380                                  \n",
       "381                                  \n",
       "382                                  \n",
       "418                                  \n",
       "419                                  \n",
       "420                                  \n",
       "\n",
       "[26 rows x 28 columns]"
      ]
     },
     "execution_count": 18,
     "metadata": {},
     "output_type": "execute_result"
    }
   ],
   "source": [
    "dfs_unified[~dfs_unified['university'].str.contains('U', na=False)]"
   ]
  },
  {
   "cell_type": "code",
   "execution_count": 19,
   "metadata": {},
   "outputs": [],
   "source": [
    "dfs_unified = dfs_unified[dfs_unified['university'].str.contains('U', na=False)]"
   ]
  },
  {
   "cell_type": "code",
   "execution_count": 20,
   "metadata": {},
   "outputs": [],
   "source": [
    "dfs_unified = dfs_unified[~dfs_unified['university'].str.contains('Sobre la Universidad de Santiago:', na=False)]"
   ]
  },
  {
   "cell_type": "code",
   "execution_count": 21,
   "metadata": {},
   "outputs": [
    {
     "data": {
      "text/plain": [
       "Index(['index', 'year', 'university', 'date_last_admission', 'final_grade',\n",
       "       '1_list', '2_list', '3_list', '4_list', '5_list', '6_list', '7_list',\n",
       "       '8_list', '9_list', '10_list', '11_list', '12_list', '13_list',\n",
       "       '14_list', '15_list', '16_list', '17_list', '18_list', '19_list',\n",
       "       '20_list', '21_list', '22_list', '23_list'],\n",
       "      dtype='object')"
      ]
     },
     "execution_count": 21,
     "metadata": {},
     "output_type": "execute_result"
    }
   ],
   "source": [
    "dfs_unified.columns"
   ]
  },
  {
   "cell_type": "code",
   "execution_count": 22,
   "metadata": {},
   "outputs": [],
   "source": [
    "dfs_unified_columns = dfs_unified.columns.tolist()[1:]\n",
    "\n",
    "num_columns = len(dfs_unified_columns)\n",
    "\n",
    "for i in range(num_columns):\n",
    "    dfs_unified[dfs_unified_columns[i]].replace({'': np.nan}, inplace=True)"
   ]
  },
  {
   "cell_type": "code",
   "execution_count": 23,
   "metadata": {},
   "outputs": [
    {
     "name": "stdout",
     "output_type": "stream",
     "text": [
      "column date_last_admission has 0 null rows\n",
      "column 1_list has 0 null rows\n",
      "column final_grade has 0 null rows\n",
      "column university has 0 null rows\n"
     ]
    }
   ],
   "source": [
    "# quality check: essential columns don't have nulls\n",
    "\n",
    "nulls_date_last_admission = dfs_unified[dfs_unified['date_last_admission'].isnull()].shape[0]\n",
    "nulls_1_list = dfs_unified[dfs_unified['1_list'].isnull()].shape[0]\n",
    "nulls_final_grade = dfs_unified[dfs_unified['final_grade'].isnull()].shape[0]\n",
    "nulls_university = dfs_unified[dfs_unified['university'].isnull()].shape[0]\n",
    "\n",
    "if nulls_date_last_admission or nulls_1_list or nulls_final_grade or nulls_university != 0:\n",
    "    sys.exit()\n",
    "else:\n",
    "    print('column date_last_admission has', nulls_date_last_admission, 'null rows')\n",
    "    print('column 1_list has', nulls_1_list, 'null rows')\n",
    "    print('column final_grade has', nulls_final_grade, 'null rows')\n",
    "    print('column university has', nulls_university, 'null rows')"
   ]
  },
  {
   "cell_type": "markdown",
   "metadata": {},
   "source": [
    "## Create consistent University names across years"
   ]
  },
  {
   "cell_type": "code",
   "execution_count": 24,
   "metadata": {},
   "outputs": [],
   "source": [
    "dfs_unified['university'] = dfs_unified['university'].str.lower()"
   ]
  },
  {
   "cell_type": "code",
   "execution_count": 25,
   "metadata": {},
   "outputs": [
    {
     "data": {
      "text/plain": [
       "array(['universidad complutense de madrid', 'universidad de sevilla',\n",
       "       'universidad de murcia', 'universidad de granada',\n",
       "       'u. autónoma de madrid', 'universidad de málaga',\n",
       "       'universidad de córdoba', 'universidad de cádiz',\n",
       "       'u. miguel hernández (s. juan de alicante)',\n",
       "       'u. de c-la mancha (campus c.real)', 'universidad de alcalá',\n",
       "       'universidad de valladolid', 'urjc - campus alcorcón',\n",
       "       'u. de c-la mancha (campus albacete)',\n",
       "       'u. de extremadura (badajoz)', 'universidad pública de navarra',\n",
       "       'universidad de valencia', 'universidad jaume i',\n",
       "       'u. de zaragoza (campus zaragoza)',\n",
       "       'universidad de barcelona-clínico', 'universidad de la laguna',\n",
       "       'universidad de las palmas', 'universidad de salamanca',\n",
       "       'u. de zaragoza (campus huesca)', 'u. de santiago de compostela',\n",
       "       'universidad de oviedo', 'u. de cantabria (santander)',\n",
       "       'universidad de barcelona-bellvitge',\n",
       "       'universidad del país vasco (lejona)',\n",
       "       'universidad de las islas baleares', 'u. pompeu fabra (barcelona)',\n",
       "       'universidad autónoma de barcelona', 'universidad de gerona',\n",
       "       'universidad de lérida', 'universidad rovira i virgili (reus)'],\n",
       "      dtype=object)"
      ]
     },
     "execution_count": 25,
     "metadata": {},
     "output_type": "execute_result"
    }
   ],
   "source": [
    "last_year = 2021\n",
    "dfs_unified[dfs_unified['year'] == last_year]['university'].values"
   ]
  },
  {
   "cell_type": "code",
   "execution_count": 26,
   "metadata": {},
   "outputs": [
    {
     "name": "stdout",
     "output_type": "stream",
     "text": [
      "There are 35 universities in 2021\n",
      "There are a total of 48 universities in our dataset\n",
      "This means there are a total of 13 universities that have a different name than the ones in our 2021 data, and need to be mapped\n"
     ]
    }
   ],
   "source": [
    "list_of_uni_names_2021 = dfs_unified[dfs_unified['year'] == last_year]['university'].tolist()\n",
    "num_of_uni_names_2021 = len(list_of_uni_names_2021)\n",
    "print('There are', num_of_uni_names_2021, 'universities in 2021')\n",
    "\n",
    "dfs_unified_list_uni = list(dfs_unified['university'].unique())\n",
    "num_of_uni_names_dataset = len(dfs_unified_list_uni)\n",
    "print('There are a total of', num_of_uni_names_dataset, 'universities in our dataset')\n",
    "\n",
    "diff_uni_names = num_of_uni_names_dataset - num_of_uni_names_2021\n",
    "print('This means there are a total of', diff_uni_names, 'universities that have a different name than the ones in our 2021 data, and need to be mapped')"
   ]
  },
  {
   "cell_type": "code",
   "execution_count": 27,
   "metadata": {},
   "outputs": [
    {
     "name": "stdout",
     "output_type": "stream",
     "text": [
      "list of not matched created successfully\n"
     ]
    },
    {
     "data": {
      "text/plain": [
       "['universidad de zaragoza - campus de huesca',\n",
       " 'universidad de cantabria (santander)',\n",
       " 'universidad de santiago de compostela',\n",
       " 'universidad de extremadura (badajoz)',\n",
       " 'universidad pompeu fabra (barcelona)',\n",
       " 'universidad de barcelona',\n",
       " 'universidad de zaragoza - campus de zaragoza',\n",
       " 'universidad de clm- campus de ciudad real',\n",
       " 'universidad de clm- campus de albacete',\n",
       " 'universidad miguel hernández (san juan de alicante)',\n",
       " 'universidad rey juan carlos - campus de alcorcón',\n",
       " 'universidad autónoma de madrid',\n",
       " 'universidad de jaume i']"
      ]
     },
     "execution_count": 27,
     "metadata": {},
     "output_type": "execute_result"
    }
   ],
   "source": [
    "# we create a list with the universities that have different name\n",
    "\n",
    "list_not_matched = []\n",
    "\n",
    "for i in dfs_unified_list_uni:\n",
    "    if i not in list_of_uni_names_2021:\n",
    "        list_not_matched.append(i)\n",
    "    else:\n",
    "        continue\n",
    "\n",
    "\n",
    "if len(list_not_matched) != diff_uni_names:\n",
    "    sys.exit()\n",
    "else:\n",
    "    print('list of not matched created successfully')\n",
    "\n",
    "list_not_matched"
   ]
  },
  {
   "cell_type": "markdown",
   "metadata": {},
   "source": [
    "### Sequence Matcher"
   ]
  },
  {
   "cell_type": "code",
   "execution_count": 28,
   "metadata": {},
   "outputs": [],
   "source": [
    "from difflib import SequenceMatcher\n",
    "\n",
    "def similar(a, b):\n",
    "    return SequenceMatcher(None, a, b).ratio()"
   ]
  },
  {
   "cell_type": "code",
   "execution_count": 29,
   "metadata": {},
   "outputs": [],
   "source": [
    "df1 = pd.DataFrame({\n",
    "    \"not_matched_uni\": list_not_matched\n",
    "})\n",
    "\n",
    "df2 = pd.DataFrame({\n",
    "    \"list_of_uni_names_2021\": list_of_uni_names_2021\n",
    "})\n",
    "\n",
    "df3 = pd.MultiIndex.from_product(\n",
    "    [df1[\"not_matched_uni\"], df2[\"list_of_uni_names_2021\"]], names=[\"not_matched_uni\", \"list_of_uni_names_2021\"]\n",
    ").to_frame(index=False)"
   ]
  },
  {
   "cell_type": "code",
   "execution_count": 30,
   "metadata": {},
   "outputs": [
    {
     "data": {
      "text/plain": [
       "13"
      ]
     },
     "execution_count": 30,
     "metadata": {},
     "output_type": "execute_result"
    }
   ],
   "source": [
    "df3['ratio'] = ''\n",
    "\n",
    "for i in range(len(df3['not_matched_uni'])):\n",
    "    df3['ratio'][i] = similar(df3['not_matched_uni'][i], df3['list_of_uni_names_2021'][i])\n",
    "\n",
    "df3['not_matched_uni'].nunique()"
   ]
  },
  {
   "cell_type": "code",
   "execution_count": 31,
   "metadata": {},
   "outputs": [
    {
     "data": {
      "text/html": [
       "<div>\n",
       "<style scoped>\n",
       "    .dataframe tbody tr th:only-of-type {\n",
       "        vertical-align: middle;\n",
       "    }\n",
       "\n",
       "    .dataframe tbody tr th {\n",
       "        vertical-align: top;\n",
       "    }\n",
       "\n",
       "    .dataframe thead th {\n",
       "        text-align: right;\n",
       "    }\n",
       "</style>\n",
       "<table border=\"1\" class=\"dataframe\">\n",
       "  <thead>\n",
       "    <tr style=\"text-align: right;\">\n",
       "      <th></th>\n",
       "      <th>not_matched_uni</th>\n",
       "      <th>ratio_x</th>\n",
       "      <th>list_of_uni_names_2021</th>\n",
       "      <th>ratio_y</th>\n",
       "    </tr>\n",
       "  </thead>\n",
       "  <tbody>\n",
       "    <tr>\n",
       "      <th>31</th>\n",
       "      <td>universidad autónoma de madrid</td>\n",
       "      <td>0.825397</td>\n",
       "      <td>universidad autónoma de barcelona</td>\n",
       "      <td>0.825397</td>\n",
       "    </tr>\n",
       "    <tr>\n",
       "      <th>54</th>\n",
       "      <td>universidad de barcelona</td>\n",
       "      <td>0.857143</td>\n",
       "      <td>universidad de barcelona-clínico</td>\n",
       "      <td>0.857143</td>\n",
       "    </tr>\n",
       "    <tr>\n",
       "      <th>96</th>\n",
       "      <td>universidad de cantabria (santander)</td>\n",
       "      <td>0.825397</td>\n",
       "      <td>u. de cantabria (santander)</td>\n",
       "      <td>0.825397</td>\n",
       "    </tr>\n",
       "    <tr>\n",
       "      <th>134</th>\n",
       "      <td>universidad de clm- campus de albacete</td>\n",
       "      <td>0.676056</td>\n",
       "      <td>universidad de las islas baleares</td>\n",
       "      <td>0.676056</td>\n",
       "    </tr>\n",
       "    <tr>\n",
       "      <th>140</th>\n",
       "      <td>universidad de clm- campus de ciudad real</td>\n",
       "      <td>0.648649</td>\n",
       "      <td>universidad complutense de madrid</td>\n",
       "      <td>0.648649</td>\n",
       "    </tr>\n",
       "    <tr>\n",
       "      <th>189</th>\n",
       "      <td>universidad de extremadura (badajoz)</td>\n",
       "      <td>0.825397</td>\n",
       "      <td>u. de extremadura (badajoz)</td>\n",
       "      <td>0.825397</td>\n",
       "    </tr>\n",
       "    <tr>\n",
       "      <th>227</th>\n",
       "      <td>universidad de jaume i</td>\n",
       "      <td>0.926829</td>\n",
       "      <td>universidad jaume i</td>\n",
       "      <td>0.926829</td>\n",
       "    </tr>\n",
       "    <tr>\n",
       "      <th>269</th>\n",
       "      <td>universidad de santiago de compostela</td>\n",
       "      <td>0.830769</td>\n",
       "      <td>u. de santiago de compostela</td>\n",
       "      <td>0.830769</td>\n",
       "    </tr>\n",
       "    <tr>\n",
       "      <th>303</th>\n",
       "      <td>universidad de zaragoza - campus de huesca</td>\n",
       "      <td>0.750000</td>\n",
       "      <td>u. de zaragoza (campus huesca)</td>\n",
       "      <td>0.75</td>\n",
       "    </tr>\n",
       "    <tr>\n",
       "      <th>333</th>\n",
       "      <td>universidad de zaragoza - campus de zaragoza</td>\n",
       "      <td>0.763158</td>\n",
       "      <td>u. de zaragoza (campus zaragoza)</td>\n",
       "      <td>0.763158</td>\n",
       "    </tr>\n",
       "    <tr>\n",
       "      <th>358</th>\n",
       "      <td>universidad miguel hernández (san juan de alic...</td>\n",
       "      <td>0.847826</td>\n",
       "      <td>u. miguel hernández (s. juan de alicante)</td>\n",
       "      <td>0.847826</td>\n",
       "    </tr>\n",
       "    <tr>\n",
       "      <th>415</th>\n",
       "      <td>universidad pompeu fabra (barcelona)</td>\n",
       "      <td>0.825397</td>\n",
       "      <td>u. pompeu fabra (barcelona)</td>\n",
       "      <td>0.825397</td>\n",
       "    </tr>\n",
       "    <tr>\n",
       "      <th>432</th>\n",
       "      <td>universidad rey juan carlos - campus de alcorcón</td>\n",
       "      <td>0.628571</td>\n",
       "      <td>urjc - campus alcorcón</td>\n",
       "      <td>0.628571</td>\n",
       "    </tr>\n",
       "  </tbody>\n",
       "</table>\n",
       "</div>"
      ],
      "text/plain": [
       "                                       not_matched_uni   ratio_x  \\\n",
       "31                      universidad autónoma de madrid  0.825397   \n",
       "54                            universidad de barcelona  0.857143   \n",
       "96                universidad de cantabria (santander)  0.825397   \n",
       "134             universidad de clm- campus de albacete  0.676056   \n",
       "140          universidad de clm- campus de ciudad real  0.648649   \n",
       "189               universidad de extremadura (badajoz)  0.825397   \n",
       "227                             universidad de jaume i  0.926829   \n",
       "269              universidad de santiago de compostela  0.830769   \n",
       "303         universidad de zaragoza - campus de huesca  0.750000   \n",
       "333       universidad de zaragoza - campus de zaragoza  0.763158   \n",
       "358  universidad miguel hernández (san juan de alic...  0.847826   \n",
       "415               universidad pompeu fabra (barcelona)  0.825397   \n",
       "432   universidad rey juan carlos - campus de alcorcón  0.628571   \n",
       "\n",
       "                        list_of_uni_names_2021   ratio_y  \n",
       "31           universidad autónoma de barcelona  0.825397  \n",
       "54            universidad de barcelona-clínico  0.857143  \n",
       "96                 u. de cantabria (santander)  0.825397  \n",
       "134          universidad de las islas baleares  0.676056  \n",
       "140          universidad complutense de madrid  0.648649  \n",
       "189                u. de extremadura (badajoz)  0.825397  \n",
       "227                        universidad jaume i  0.926829  \n",
       "269               u. de santiago de compostela  0.830769  \n",
       "303             u. de zaragoza (campus huesca)      0.75  \n",
       "333           u. de zaragoza (campus zaragoza)  0.763158  \n",
       "358  u. miguel hernández (s. juan de alicante)  0.847826  \n",
       "415                u. pompeu fabra (barcelona)  0.825397  \n",
       "432                     urjc - campus alcorcón  0.628571  "
      ]
     },
     "execution_count": 31,
     "metadata": {},
     "output_type": "execute_result"
    }
   ],
   "source": [
    "df4 = df3.groupby('not_matched_uni')['ratio'].max().reset_index()\n",
    "\n",
    "df5 = pd.merge(df4,df3,on='not_matched_uni',how='left')\n",
    "df5 = df5[df5['ratio_x'] == df5['ratio_y']]\n",
    "df5"
   ]
  },
  {
   "cell_type": "code",
   "execution_count": 32,
   "metadata": {},
   "outputs": [],
   "source": [
    "# hacerlo con str.contains, crear funcion"
   ]
  },
  {
   "cell_type": "code",
   "execution_count": 33,
   "metadata": {},
   "outputs": [],
   "source": [
    "dfs_unified['university'] = np.where((dfs_unified['university'] == 'universidad de cantabria (santander)'), 'u. de cantabria (santander)', dfs_unified['university'])\n",
    "dfs_unified['university'] = np.where((dfs_unified['university'] == 'universidad de extremadura (badajoz)'), 'u. de extremadura (badajoz)', dfs_unified['university'])\n",
    "dfs_unified['university'] = np.where((dfs_unified['university'] == 'universidad de jaume i'), 'universidad jaume i', dfs_unified['university'])\n",
    "dfs_unified['university'] = np.where((dfs_unified['university'] == 'universidad de zaragoza - campus de huesca'), 'u. de zaragoza (campus huesca)', dfs_unified['university'])\n",
    "dfs_unified['university'] = np.where((dfs_unified['university'] == 'universidad de santiago de compostela'), 'u. de santiago de compostela', dfs_unified['university'])\n",
    "dfs_unified['university'] = np.where((dfs_unified['university'] == 'universidad de zaragoza - campus de zaragoza'), 'u. de zaragoza (campus zaragoza)', dfs_unified['university'])\n",
    "dfs_unified['university'] = np.where((dfs_unified['university'] == 'universidad miguel hernández (san juan de alicante)'), 'u. miguel hernández (s. juan de alicante)', dfs_unified['university'])\n",
    "dfs_unified['university'] = np.where((dfs_unified['university'] == 'universidad pompeu fabra (barcelona)'), 'u. pompeu fabra (barcelona)', dfs_unified['university'])\n",
    "dfs_unified['university'] = np.where((dfs_unified['university'] == 'universidad de santiago de compostela'), 'u. de santiago de compostela', dfs_unified['university'])\n",
    "dfs_unified['university'] = np.where((dfs_unified['university'] == 'universidad rey juan carlos - campus de alcorcón'), 'urjc - campus alcorcón', dfs_unified['university'])\n",
    "\n",
    "\n",
    "dfs_unified['university'] = np.where((dfs_unified['university'] == 'universidad autónoma de madrid'), 'u. autónoma de madrid', dfs_unified['university'])\n",
    "dfs_unified['university'] = np.where((dfs_unified['university'] == 'universidad de barcelona'), 'universidad de barcelona-clínico', dfs_unified['university'])\n",
    "dfs_unified['university'] = np.where((dfs_unified['university'] == 'universidad de clm- campus de albacete'), 'u. de c-la mancha (campus albacete)', dfs_unified['university'])\n",
    "dfs_unified['university'] = np.where((dfs_unified['university'] == 'universidad de clm- campus de ciudad real'), 'u. de c-la mancha (campus c.real)', dfs_unified['university'])"
   ]
  },
  {
   "cell_type": "code",
   "execution_count": 34,
   "metadata": {},
   "outputs": [
    {
     "name": "stdout",
     "output_type": "stream",
     "text": [
      "all university names are consistent with 2021\n",
      "all university names are consistent with 2021\n"
     ]
    }
   ],
   "source": [
    "# quality check: make sure all university names are mapped with 2021 names\n",
    "\n",
    "dfs_unified_list_uni = list(dfs_unified['university'].unique())\n",
    "\n",
    "list_not_matched = []\n",
    "\n",
    "for i in dfs_unified_list_uni:\n",
    "    if i not in list_of_uni_names_2021:\n",
    "        list_not_matched.append(i)\n",
    "    else:\n",
    "        continue\n",
    "\n",
    "# checking length of not matched\n",
    "if len(list_not_matched) != 0:\n",
    "    sys.exit()\n",
    "else:\n",
    "    print('all university names are consistent with 2021')\n",
    "\n",
    "# another way of checking this could be by analyzing the overall length and unique names\n",
    "if dfs_unified['university'].nunique() != len(list_of_uni_names_2021):\n",
    "    sys.exit()\n",
    "else:\n",
    "    print('all university names are consistent with 2021')"
   ]
  },
  {
   "cell_type": "markdown",
   "metadata": {},
   "source": [
    "## Convert columns with numbers to floats"
   ]
  },
  {
   "cell_type": "code",
   "execution_count": 35,
   "metadata": {},
   "outputs": [],
   "source": [
    "# to convert to float, we can't have commas or spaces, as this function '.astype(float)' will give back an error"
   ]
  },
  {
   "cell_type": "code",
   "execution_count": 36,
   "metadata": {},
   "outputs": [],
   "source": [
    "# float to 2 decimals?? some have 3"
   ]
  },
  {
   "cell_type": "code",
   "execution_count": 37,
   "metadata": {},
   "outputs": [],
   "source": [
    "for i in range(1,24):\n",
    "    try:\n",
    "        dfs_unified[str(i) + '_list'] = dfs_unified[str(i) + '_list'].astype(float)\n",
    "    except:\n",
    "        dfs_unified[str(i) + '_list'] = np.where((dfs_unified[str(i) + '_list'].str.contains(',', na=False)), dfs_unified[str(i) + '_list'].replace({',': '.'}, inplace=True), dfs_unified[str(i) + '_list'])\n",
    "        dfs_unified[str(i) + '_list'] = np.where((dfs_unified[str(i) + '_list'] == ''), dfs_unified[str(i) + '_list'].replace({'': np.nan}, inplace=True), dfs_unified[str(i) + '_list'])\n",
    "        dfs_unified[str(i) + '_list'] = np.where((dfs_unified[str(i) + '_list'] == 's/datos'), dfs_unified[str(i) + '_list'].replace({'s/datos': np.nan}, inplace=True), dfs_unified[str(i) + '_list'])"
   ]
  },
  {
   "cell_type": "code",
   "execution_count": 38,
   "metadata": {},
   "outputs": [],
   "source": [
    "# check date_last_admission format"
   ]
  },
  {
   "cell_type": "code",
   "execution_count": 39,
   "metadata": {},
   "outputs": [
    {
     "ename": "NameError",
     "evalue": "name 'jj' is not defined",
     "output_type": "error",
     "traceback": [
      "\u001b[0;31m---------------------------------------------------------------------------\u001b[0m",
      "\u001b[0;31mNameError\u001b[0m                                 Traceback (most recent call last)",
      "\u001b[0;32m/var/folders/jn/w0r35k4x0dg_3cvcygm52fz40000gn/T/ipykernel_76166/1792194099.py\u001b[0m in \u001b[0;36m<module>\u001b[0;34m\u001b[0m\n\u001b[0;32m----> 1\u001b[0;31m \u001b[0mjj\u001b[0m\u001b[0;34m\u001b[0m\u001b[0;34m\u001b[0m\u001b[0m\n\u001b[0m",
      "\u001b[0;31mNameError\u001b[0m: name 'jj' is not defined"
     ]
    }
   ],
   "source": [
    "jj"
   ]
  },
  {
   "cell_type": "code",
   "execution_count": null,
   "metadata": {},
   "outputs": [],
   "source": [
    "# Export data to be used on Tableau"
   ]
  },
  {
   "cell_type": "code",
   "execution_count": null,
   "metadata": {},
   "outputs": [],
   "source": [
    "file_name = 'output/exported_data.csv'\n",
    "dfs_unified.to_csv(file_name, index = False, header=True)"
   ]
  },
  {
   "cell_type": "code",
   "execution_count": null,
   "metadata": {},
   "outputs": [],
   "source": []
  },
  {
   "cell_type": "markdown",
   "metadata": {},
   "source": [
    "# Data Visualization"
   ]
  },
  {
   "cell_type": "code",
   "execution_count": null,
   "metadata": {},
   "outputs": [],
   "source": [
    "complutense = dfs_unified[dfs_unified['university'] == 'universidad complutense de madrid']\n",
    "fig,ax=plt.subplots(figsize=(10,8))\n",
    "ax.bar(complutense['year'], complutense['1_list'])\n",
    "# Setting the x-axis to 1-10\n",
    "# and y-axis to 1-15\n",
    "plt.axis([2009, 2022, 11.00, 14.00])\n",
    "plt.show()"
   ]
  },
  {
   "cell_type": "code",
   "execution_count": null,
   "metadata": {},
   "outputs": [],
   "source": [
    "!pip install streamlit"
   ]
  },
  {
   "cell_type": "code",
   "execution_count": null,
   "metadata": {},
   "outputs": [],
   "source": [
    "import streamlit as st"
   ]
  },
  {
   "cell_type": "code",
   "execution_count": null,
   "metadata": {},
   "outputs": [],
   "source": [
    "st.title('My title')"
   ]
  },
  {
   "cell_type": "code",
   "execution_count": null,
   "metadata": {},
   "outputs": [],
   "source": []
  },
  {
   "cell_type": "code",
   "execution_count": null,
   "metadata": {},
   "outputs": [],
   "source": []
  },
  {
   "cell_type": "code",
   "execution_count": null,
   "metadata": {},
   "outputs": [],
   "source": []
  },
  {
   "cell_type": "code",
   "execution_count": null,
   "metadata": {},
   "outputs": [],
   "source": []
  },
  {
   "cell_type": "code",
   "execution_count": null,
   "metadata": {},
   "outputs": [],
   "source": []
  },
  {
   "cell_type": "code",
   "execution_count": null,
   "metadata": {},
   "outputs": [],
   "source": []
  },
  {
   "cell_type": "code",
   "execution_count": null,
   "metadata": {},
   "outputs": [],
   "source": [
    "# end data visualization"
   ]
  },
  {
   "cell_type": "markdown",
   "metadata": {},
   "source": [
    "# Feature Engineering"
   ]
  },
  {
   "cell_type": "code",
   "execution_count": null,
   "metadata": {},
   "outputs": [],
   "source": [
    "# creat city column - PASAR A MAS ABAJO"
   ]
  },
  {
   "cell_type": "code",
   "execution_count": null,
   "metadata": {},
   "outputs": [],
   "source": [
    "# first: bigger cities in case two names appear\n",
    "list_of_cities = ['madrid', 'zaragoza', 'barcelona', 'sevilla', 'valencia', 'murcia', 'granada','málaga', 'córdoba', 'cádiz', 'alicante', 'albacete', \\\n",
    "    'valladolid', 'badajoz', 'gerona', 'lérida', 'reus', 'navarra', 'santander', 'oviedo', \\\n",
    "    'santiago de compostela', 'salamanca', 'país vasco', 'salamanca', 'navarra', 'las palmas', 'la laguna', 'alcalá', 'ciudad real', 'huesca']"
   ]
  },
  {
   "cell_type": "code",
   "execution_count": null,
   "metadata": {},
   "outputs": [],
   "source": [
    "num_cities = len(list_of_cities)"
   ]
  },
  {
   "cell_type": "code",
   "execution_count": null,
   "metadata": {},
   "outputs": [],
   "source": [
    "i=0\n",
    "dfs_unified['city'] = ''\n",
    "while i < num_cities:\n",
    "    dfs_unified['city'] = np.where(dfs_unified['university'].str.contains(list_of_cities[i], na=False), list_of_cities[i], dfs_unified['city'])\n",
    "    i +=1"
   ]
  },
  {
   "cell_type": "code",
   "execution_count": null,
   "metadata": {},
   "outputs": [],
   "source": [
    "dfs_unified['city'].replace({'': np.nan}, inplace=True)"
   ]
  },
  {
   "cell_type": "code",
   "execution_count": null,
   "metadata": {},
   "outputs": [],
   "source": [
    "dfs_unified[dfs_unified['city'].isnull()]"
   ]
  },
  {
   "cell_type": "code",
   "execution_count": null,
   "metadata": {},
   "outputs": [],
   "source": [
    "dfs_unified['city'] = np.where(dfs_unified['university'].str.contains('alcorcón', na=False), 'madrid', dfs_unified['city'])\n",
    "dfs_unified['city'] = np.where(dfs_unified['university'].str.contains('c.real', na=False), 'ciudad real', dfs_unified['city'])\n",
    "dfs_unified['city'] = np.where(dfs_unified['university'].str.contains('jaume', na=False), 'castellon de la plana', dfs_unified['city'])\n",
    "dfs_unified['city'] = np.where(dfs_unified['university'].str.contains('islas baleares', na=False), 'palma de mallorca', dfs_unified['city'])"
   ]
  },
  {
   "cell_type": "code",
   "execution_count": null,
   "metadata": {},
   "outputs": [],
   "source": [
    "dfs_unified[dfs_unified['city'].isnull()]"
   ]
  },
  {
   "cell_type": "code",
   "execution_count": null,
   "metadata": {},
   "outputs": [],
   "source": [
    "num_columns = len(dfs_unified_columns)\n",
    "\n",
    "while i < num_columns:\n",
    "    dfs_unified[dfs_unified_columns[i]].replace({'': np.nan}, inplace=True)\n",
    "    i += 1"
   ]
  },
  {
   "cell_type": "code",
   "execution_count": null,
   "metadata": {},
   "outputs": [],
   "source": [
    "dfs_unified['place'] = np.where(dfs_unified['university'].str.contains('universidad de', na=False), dfs_unified['university'].str.strip().str[15:], dfs_unified['place'])\n",
    "dfs_unified['place'] = np.where(dfs_unified['university'].str.contains('u. de', na=False), dfs_unified['university'].str.strip().str[6:], dfs_unified['place'])"
   ]
  },
  {
   "cell_type": "code",
   "execution_count": null,
   "metadata": {},
   "outputs": [],
   "source": [
    "dfs_unified['university'].str.split(' ')"
   ]
  },
  {
   "cell_type": "code",
   "execution_count": null,
   "metadata": {},
   "outputs": [],
   "source": [
    "#dfs_unified[dfs_unified['year'] == 2021]"
   ]
  },
  {
   "cell_type": "code",
   "execution_count": null,
   "metadata": {},
   "outputs": [],
   "source": [
    "u_de = dfs_unified[dfs_unified['university'].str.contains('u. de', na=False)]\n",
    "dfs_unified['place'] = u_de['university'].str.strip().str[6:]"
   ]
  },
  {
   "cell_type": "code",
   "execution_count": null,
   "metadata": {},
   "outputs": [],
   "source": [
    "dfs_unified[~dfs_unified['university'].str.contains('Un', na=False)]"
   ]
  },
  {
   "cell_type": "code",
   "execution_count": null,
   "metadata": {},
   "outputs": [],
   "source": [
    "dfs_unified['place']"
   ]
  },
  {
   "cell_type": "code",
   "execution_count": null,
   "metadata": {},
   "outputs": [],
   "source": [
    "dfs_unified['city']"
   ]
  },
  {
   "cell_type": "code",
   "execution_count": null,
   "metadata": {},
   "outputs": [],
   "source": [
    "dfs_unified['campus']"
   ]
  },
  {
   "cell_type": "code",
   "execution_count": null,
   "metadata": {},
   "outputs": [],
   "source": [
    "dfs_unified['campus']"
   ]
  },
  {
   "cell_type": "code",
   "execution_count": null,
   "metadata": {},
   "outputs": [],
   "source": [
    "# new university column\n",
    "# university + city + campus"
   ]
  },
  {
   "cell_type": "code",
   "execution_count": null,
   "metadata": {},
   "outputs": [],
   "source": [
    "# nombres de universidades\n",
    "# duplicados\n",
    "# notas de mayor a menor"
   ]
  },
  {
   "cell_type": "code",
   "execution_count": null,
   "metadata": {},
   "outputs": [],
   "source": [
    "dfs_unified[dfs_unified['university'] == 'Sobre la Universidad de Santiago:']"
   ]
  },
  {
   "cell_type": "code",
   "execution_count": null,
   "metadata": {},
   "outputs": [],
   "source": [
    "# año-univeristy y ver cuales no aparecen en el año anterior\n",
    "dfs_unified['year_university'] = (dfs_unified['year']).astype(str) + '_' + dfs_unified['university']"
   ]
  },
  {
   "cell_type": "code",
   "execution_count": null,
   "metadata": {},
   "outputs": [],
   "source": [
    "uni_year_grouped = dfs_unified.groupby(['year'])['university'].count()\n",
    "uni_year_grouped"
   ]
  },
  {
   "cell_type": "markdown",
   "metadata": {},
   "source": [
    "# Model"
   ]
  },
  {
   "cell_type": "code",
   "execution_count": 40,
   "metadata": {},
   "outputs": [],
   "source": [
    "from sklearn.linear_model import LinearRegression"
   ]
  },
  {
   "cell_type": "code",
   "execution_count": 41,
   "metadata": {},
   "outputs": [],
   "source": [
    "#list_of_uni_names_2021"
   ]
  },
  {
   "cell_type": "code",
   "execution_count": 42,
   "metadata": {},
   "outputs": [],
   "source": [
    "# change in test format due to covid\n",
    "dfs_unified['covid_format_change'] = ''\n",
    "dfs_unified['covid_format_change'] = np.where((dfs_unified['year'] >= 2020), float(1), dfs_unified['covid_format_change'])\n",
    "dfs_unified['covid_format_change'] = np.where((dfs_unified['year'] < 2020), float(0), dfs_unified['covid_format_change'])"
   ]
  },
  {
   "cell_type": "code",
   "execution_count": 101,
   "metadata": {},
   "outputs": [],
   "source": [
    "# growth columns\n",
    "dfs_unified['growth_1_list'] = dfs_unified.groupby('university')['1_list'].pct_change()\n",
    "\n",
    "dfs_unified['growth_final_grade'] = dfs_unified.groupby('university')['final_grade'].pct_change()\n"
   ]
  },
  {
   "cell_type": "code",
   "execution_count": 102,
   "metadata": {},
   "outputs": [],
   "source": [
    "dfs_unified_columns = dfs_unified.columns.tolist()[1:]\n",
    "\n",
    "num_columns = len(dfs_unified_columns)\n",
    "\n",
    "for i in range(num_columns):\n",
    "    dfs_unified[dfs_unified_columns[i]].replace({np.nan: 0}, inplace=True)"
   ]
  },
  {
   "cell_type": "markdown",
   "metadata": {},
   "source": [
    "### Example for Universidad Complutense de Madrid"
   ]
  },
  {
   "cell_type": "code",
   "execution_count": 56,
   "metadata": {},
   "outputs": [
    {
     "data": {
      "image/png": "[encoded data removed]",
      "text/plain": [
       "<Figure size 432x288 with 2 Axes>"
      ]
     },
     "metadata": {
      "needs_background": "light"
     },
     "output_type": "display_data"
    }
   ],
   "source": [
    "# let's check the correlation between the two variables\n",
    "sns.heatmap(dfs_unified[dfs_unified['university'] == 'universidad complutense de madrid'][['year', '1_list']].corr(), cmap='YlGnBu', annot=True)\n",
    "plt.show()"
   ]
  },
  {
   "cell_type": "code",
   "execution_count": 57,
   "metadata": {},
   "outputs": [
    {
     "data": {
      "image/png": "[encoded data removed]",
      "text/plain": [
       "<Figure size 864x432 with 1 Axes>"
      ]
     },
     "metadata": {
      "needs_background": "light"
     },
     "output_type": "display_data"
    }
   ],
   "source": [
    "plt.figure(figsize=(12,6))\n",
    "plt.scatter(dfs_unified[dfs_unified['university'] == 'universidad complutense de madrid']['year'], dfs_unified[dfs_unified['university'] == 'universidad complutense de madrid']['1_list'], color='red')\n",
    "plt.title('Year vs 1_list', fontsize = 14)\n",
    "plt.xlabel('Year', fontsize = 14)\n",
    "plt.ylabel('1_list', fontsize = 14)\n",
    "plt.grid(True)\n",
    "plt.show()"
   ]
  },
  {
   "cell_type": "code",
   "execution_count": null,
   "metadata": {},
   "outputs": [],
   "source": [
    "#"
   ]
  },
  {
   "cell_type": "code",
   "execution_count": 60,
   "metadata": {},
   "outputs": [
    {
     "data": {
      "text/plain": [
       "LinearRegression()"
      ]
     },
     "execution_count": 60,
     "metadata": {},
     "output_type": "execute_result"
    }
   ],
   "source": [
    "# Create a Linear regression\n",
    "\n",
    "lr = LinearRegression()\n",
    "X = dfs_unified[dfs_unified['university'] == 'universidad complutense de madrid'][['year', 'covid_format_change', 'growth_1_list']]\n",
    "y = dfs_unified[dfs_unified['university'] == 'universidad complutense de madrid'][['1_list']]\n",
    "\n",
    "lr.fit(X, y)"
   ]
  },
  {
   "cell_type": "code",
   "execution_count": 61,
   "metadata": {},
   "outputs": [
    {
     "data": {
      "image/png": "[encoded data removed]",
      "text/plain": [
       "<Figure size 864x432 with 1 Axes>"
      ]
     },
     "metadata": {
      "needs_background": "light"
     },
     "output_type": "display_data"
    }
   ],
   "source": [
    "# generate model prediction for all years in dataset\n",
    "y_predict = lr.predict(X)\n",
    "\n",
    "# visualize the predicted score as a line on the test set\n",
    "plt.figure(figsize=(12,6))\n",
    "plt.scatter(dfs_unified[dfs_unified['university'] == 'universidad complutense de madrid']['year'], dfs_unified[dfs_unified['university'] == 'universidad complutense de madrid']['1_list'], color='red')\n",
    "plt.plot(dfs_unified[dfs_unified['university'] == 'universidad complutense de madrid']['year'], y_predict, color='g')\n",
    "plt.xlabel('Year', fontsize = 14)\n",
    "plt.ylabel('1_list', fontsize = 14)\n",
    "plt.show()"
   ]
  },
  {
   "cell_type": "code",
   "execution_count": 62,
   "metadata": {},
   "outputs": [
    {
     "data": {
      "image/png": "[encoded data removed]",
      "text/plain": [
       "<Figure size 864x432 with 1 Axes>"
      ]
     },
     "metadata": {
      "needs_background": "light"
     },
     "output_type": "display_data"
    }
   ],
   "source": [
    "# compare model predictions vs actual values\n",
    "plt.figure(figsize=(12,6))\n",
    "x_ax = range(len(dfs_unified[dfs_unified['university'] == 'universidad complutense de madrid']['1_list']))\n",
    "plt.plot(x_ax, dfs_unified[dfs_unified['university'] == 'universidad complutense de madrid']['1_list'], label='original')\n",
    "plt.plot(x_ax, y_predict, label='predicted')\n",
    "plt.title('Actual 1_list scores vs predicted')\n",
    "plt.legend()\n",
    "plt.show()"
   ]
  },
  {
   "cell_type": "markdown",
   "metadata": {},
   "source": [
    "## Evaluate model"
   ]
  },
  {
   "cell_type": "code",
   "execution_count": 63,
   "metadata": {},
   "outputs": [
    {
     "data": {
      "text/plain": [
       "0.9894809791230086"
      ]
     },
     "execution_count": 63,
     "metadata": {},
     "output_type": "execute_result"
    }
   ],
   "source": [
    "# evaluate model\n",
    "from sklearn.metrics import r2_score\n",
    "\n",
    "r2_score(y, y_predict)\n",
    "\n",
    "# HACER\n",
    "# There are three primary metrics used to evaluate linear models. These are: Mean absolute error (MAE), Mean squared error (MSE), or Root mean squared error (RMSE)."
   ]
  },
  {
   "cell_type": "markdown",
   "metadata": {},
   "source": [
    "## Predict next year scores"
   ]
  },
  {
   "cell_type": "code",
   "execution_count": 80,
   "metadata": {},
   "outputs": [
    {
     "data": {
      "text/plain": [
       "13.541302334899285"
      ]
     },
     "execution_count": 80,
     "metadata": {},
     "output_type": "execute_result"
    }
   ],
   "source": [
    "# predict 1_list for a given year\n",
    "\n",
    "# supposing the same growth as last year\n",
    "\n",
    "complu_1_list_score = float(lr.predict([[2022, 1.0, dfs_unified[dfs_unified['university'] == 'universidad complutense de madrid']['growth_1_list'][-1:].mean()]]))\n",
    "complu_1_list_score"
   ]
  },
  {
   "cell_type": "markdown",
   "metadata": {},
   "source": [
    "## Save 2022 predicted scores"
   ]
  },
  {
   "cell_type": "code",
   "execution_count": 81,
   "metadata": {},
   "outputs": [
    {
     "data": {
      "text/html": [
       "<div>\n",
       "<style scoped>\n",
       "    .dataframe tbody tr th:only-of-type {\n",
       "        vertical-align: middle;\n",
       "    }\n",
       "\n",
       "    .dataframe tbody tr th {\n",
       "        vertical-align: top;\n",
       "    }\n",
       "\n",
       "    .dataframe thead th {\n",
       "        text-align: right;\n",
       "    }\n",
       "</style>\n",
       "<table border=\"1\" class=\"dataframe\">\n",
       "  <thead>\n",
       "    <tr style=\"text-align: right;\">\n",
       "      <th></th>\n",
       "      <th>university</th>\n",
       "      <th>year</th>\n",
       "      <th>1_list</th>\n",
       "    </tr>\n",
       "  </thead>\n",
       "  <tbody>\n",
       "    <tr>\n",
       "      <th>0</th>\n",
       "      <td>universidad complutense de madrid</td>\n",
       "      <td>2022</td>\n",
       "      <td>13.541302</td>\n",
       "    </tr>\n",
       "    <tr>\n",
       "      <th>1</th>\n",
       "      <td>universidad de sevilla</td>\n",
       "      <td>2022</td>\n",
       "      <td></td>\n",
       "    </tr>\n",
       "    <tr>\n",
       "      <th>2</th>\n",
       "      <td>universidad de murcia</td>\n",
       "      <td>2022</td>\n",
       "      <td></td>\n",
       "    </tr>\n",
       "    <tr>\n",
       "      <th>3</th>\n",
       "      <td>universidad de granada</td>\n",
       "      <td>2022</td>\n",
       "      <td></td>\n",
       "    </tr>\n",
       "    <tr>\n",
       "      <th>4</th>\n",
       "      <td>u. autónoma de madrid</td>\n",
       "      <td>2022</td>\n",
       "      <td></td>\n",
       "    </tr>\n",
       "    <tr>\n",
       "      <th>5</th>\n",
       "      <td>universidad de málaga</td>\n",
       "      <td>2022</td>\n",
       "      <td></td>\n",
       "    </tr>\n",
       "    <tr>\n",
       "      <th>6</th>\n",
       "      <td>universidad de córdoba</td>\n",
       "      <td>2022</td>\n",
       "      <td></td>\n",
       "    </tr>\n",
       "    <tr>\n",
       "      <th>7</th>\n",
       "      <td>universidad de cádiz</td>\n",
       "      <td>2022</td>\n",
       "      <td></td>\n",
       "    </tr>\n",
       "    <tr>\n",
       "      <th>8</th>\n",
       "      <td>u. miguel hernández (s. juan de alicante)</td>\n",
       "      <td>2022</td>\n",
       "      <td></td>\n",
       "    </tr>\n",
       "    <tr>\n",
       "      <th>9</th>\n",
       "      <td>u. de c-la mancha (campus c.real)</td>\n",
       "      <td>2022</td>\n",
       "      <td></td>\n",
       "    </tr>\n",
       "    <tr>\n",
       "      <th>10</th>\n",
       "      <td>universidad de alcalá</td>\n",
       "      <td>2022</td>\n",
       "      <td></td>\n",
       "    </tr>\n",
       "    <tr>\n",
       "      <th>11</th>\n",
       "      <td>universidad de valladolid</td>\n",
       "      <td>2022</td>\n",
       "      <td></td>\n",
       "    </tr>\n",
       "    <tr>\n",
       "      <th>12</th>\n",
       "      <td>urjc - campus alcorcón</td>\n",
       "      <td>2022</td>\n",
       "      <td></td>\n",
       "    </tr>\n",
       "    <tr>\n",
       "      <th>13</th>\n",
       "      <td>u. de c-la mancha (campus albacete)</td>\n",
       "      <td>2022</td>\n",
       "      <td></td>\n",
       "    </tr>\n",
       "    <tr>\n",
       "      <th>14</th>\n",
       "      <td>u. de extremadura (badajoz)</td>\n",
       "      <td>2022</td>\n",
       "      <td></td>\n",
       "    </tr>\n",
       "    <tr>\n",
       "      <th>15</th>\n",
       "      <td>universidad pública de navarra</td>\n",
       "      <td>2022</td>\n",
       "      <td></td>\n",
       "    </tr>\n",
       "    <tr>\n",
       "      <th>16</th>\n",
       "      <td>universidad de valencia</td>\n",
       "      <td>2022</td>\n",
       "      <td></td>\n",
       "    </tr>\n",
       "    <tr>\n",
       "      <th>17</th>\n",
       "      <td>universidad jaume i</td>\n",
       "      <td>2022</td>\n",
       "      <td></td>\n",
       "    </tr>\n",
       "    <tr>\n",
       "      <th>18</th>\n",
       "      <td>u. de zaragoza (campus zaragoza)</td>\n",
       "      <td>2022</td>\n",
       "      <td></td>\n",
       "    </tr>\n",
       "    <tr>\n",
       "      <th>19</th>\n",
       "      <td>universidad de barcelona-clínico</td>\n",
       "      <td>2022</td>\n",
       "      <td></td>\n",
       "    </tr>\n",
       "    <tr>\n",
       "      <th>20</th>\n",
       "      <td>universidad de la laguna</td>\n",
       "      <td>2022</td>\n",
       "      <td></td>\n",
       "    </tr>\n",
       "    <tr>\n",
       "      <th>21</th>\n",
       "      <td>universidad de las palmas</td>\n",
       "      <td>2022</td>\n",
       "      <td></td>\n",
       "    </tr>\n",
       "    <tr>\n",
       "      <th>22</th>\n",
       "      <td>universidad de salamanca</td>\n",
       "      <td>2022</td>\n",
       "      <td></td>\n",
       "    </tr>\n",
       "    <tr>\n",
       "      <th>23</th>\n",
       "      <td>u. de zaragoza (campus huesca)</td>\n",
       "      <td>2022</td>\n",
       "      <td></td>\n",
       "    </tr>\n",
       "    <tr>\n",
       "      <th>24</th>\n",
       "      <td>u. de santiago de compostela</td>\n",
       "      <td>2022</td>\n",
       "      <td></td>\n",
       "    </tr>\n",
       "    <tr>\n",
       "      <th>25</th>\n",
       "      <td>universidad de oviedo</td>\n",
       "      <td>2022</td>\n",
       "      <td></td>\n",
       "    </tr>\n",
       "    <tr>\n",
       "      <th>26</th>\n",
       "      <td>u. de cantabria (santander)</td>\n",
       "      <td>2022</td>\n",
       "      <td></td>\n",
       "    </tr>\n",
       "    <tr>\n",
       "      <th>27</th>\n",
       "      <td>universidad de barcelona-bellvitge</td>\n",
       "      <td>2022</td>\n",
       "      <td></td>\n",
       "    </tr>\n",
       "    <tr>\n",
       "      <th>28</th>\n",
       "      <td>universidad del país vasco (lejona)</td>\n",
       "      <td>2022</td>\n",
       "      <td></td>\n",
       "    </tr>\n",
       "    <tr>\n",
       "      <th>29</th>\n",
       "      <td>universidad de las islas baleares</td>\n",
       "      <td>2022</td>\n",
       "      <td></td>\n",
       "    </tr>\n",
       "    <tr>\n",
       "      <th>30</th>\n",
       "      <td>u. pompeu fabra (barcelona)</td>\n",
       "      <td>2022</td>\n",
       "      <td></td>\n",
       "    </tr>\n",
       "    <tr>\n",
       "      <th>31</th>\n",
       "      <td>universidad autónoma de barcelona</td>\n",
       "      <td>2022</td>\n",
       "      <td></td>\n",
       "    </tr>\n",
       "    <tr>\n",
       "      <th>32</th>\n",
       "      <td>universidad de gerona</td>\n",
       "      <td>2022</td>\n",
       "      <td></td>\n",
       "    </tr>\n",
       "    <tr>\n",
       "      <th>33</th>\n",
       "      <td>universidad de lérida</td>\n",
       "      <td>2022</td>\n",
       "      <td></td>\n",
       "    </tr>\n",
       "    <tr>\n",
       "      <th>34</th>\n",
       "      <td>universidad rovira i virgili (reus)</td>\n",
       "      <td>2022</td>\n",
       "      <td></td>\n",
       "    </tr>\n",
       "  </tbody>\n",
       "</table>\n",
       "</div>"
      ],
      "text/plain": [
       "                                   university  year     1_list\n",
       "0           universidad complutense de madrid  2022  13.541302\n",
       "1                      universidad de sevilla  2022           \n",
       "2                       universidad de murcia  2022           \n",
       "3                      universidad de granada  2022           \n",
       "4                       u. autónoma de madrid  2022           \n",
       "5                       universidad de málaga  2022           \n",
       "6                      universidad de córdoba  2022           \n",
       "7                        universidad de cádiz  2022           \n",
       "8   u. miguel hernández (s. juan de alicante)  2022           \n",
       "9           u. de c-la mancha (campus c.real)  2022           \n",
       "10                      universidad de alcalá  2022           \n",
       "11                  universidad de valladolid  2022           \n",
       "12                     urjc - campus alcorcón  2022           \n",
       "13        u. de c-la mancha (campus albacete)  2022           \n",
       "14                u. de extremadura (badajoz)  2022           \n",
       "15             universidad pública de navarra  2022           \n",
       "16                    universidad de valencia  2022           \n",
       "17                        universidad jaume i  2022           \n",
       "18           u. de zaragoza (campus zaragoza)  2022           \n",
       "19           universidad de barcelona-clínico  2022           \n",
       "20                   universidad de la laguna  2022           \n",
       "21                  universidad de las palmas  2022           \n",
       "22                   universidad de salamanca  2022           \n",
       "23             u. de zaragoza (campus huesca)  2022           \n",
       "24               u. de santiago de compostela  2022           \n",
       "25                      universidad de oviedo  2022           \n",
       "26                u. de cantabria (santander)  2022           \n",
       "27         universidad de barcelona-bellvitge  2022           \n",
       "28        universidad del país vasco (lejona)  2022           \n",
       "29          universidad de las islas baleares  2022           \n",
       "30                u. pompeu fabra (barcelona)  2022           \n",
       "31          universidad autónoma de barcelona  2022           \n",
       "32                      universidad de gerona  2022           \n",
       "33                      universidad de lérida  2022           \n",
       "34        universidad rovira i virgili (reus)  2022           "
      ]
     },
     "execution_count": 81,
     "metadata": {},
     "output_type": "execute_result"
    }
   ],
   "source": [
    "uni_names = {'university': list_of_uni_names_2021}\n",
    "pred_y_df = pd.DataFrame(uni_names, columns=['university'])\n",
    "pred_y_df['year'] = 2022\n",
    "pred_y_df['1_list'] = ''\n",
    "pred_y_df['1_list'] = np.where(pred_y_df['university'] == 'universidad complutense de madrid', complu_1_list_score, pred_y_df['1_list'])\n",
    "pred_y_df"
   ]
  },
  {
   "cell_type": "code",
   "execution_count": 82,
   "metadata": {},
   "outputs": [],
   "source": [
    "# we have done this for 1 university, let's automate it for the rest"
   ]
  },
  {
   "cell_type": "code",
   "execution_count": 114,
   "metadata": {},
   "outputs": [],
   "source": [
    "def predict_and_save_scores(year, covid_format_change, university, convocatory):\n",
    "    '''\n",
    "    explicar\n",
    "    '''\n",
    "\n",
    "    lr = LinearRegression()\n",
    "    X = dfs_unified[dfs_unified['university'] == university][['year', 'covid_format_change', 'growth_' + convocatory]]\n",
    "    y = dfs_unified[dfs_unified['university'] == university][[convocatory]]\n",
    "\n",
    "    # train\n",
    "    lr.fit(X, y)\n",
    "    \n",
    "    # predict, supposing same growth as last year\n",
    "    pred_y_df[convocatory] = np.where(pred_y_df['university'] == university, float(lr.predict([[year, covid_format_change, dfs_unified[dfs_unified['university'] == university]['growth_' + convocatory][-1:].mean()]])), pred_y_df[convocatory])"
   ]
  },
  {
   "cell_type": "code",
   "execution_count": 115,
   "metadata": {},
   "outputs": [],
   "source": [
    "for uni in list_of_uni_names_2021:\n",
    "    predict_and_save_scores(2022, 1.0, uni, '1_list')\n",
    "\n",
    "pred_y_df['final_grade'] = ''\n",
    "for uni in list_of_uni_names_2021:\n",
    "    predict_and_save_scores(2022, 1.0, uni, 'final_grade')"
   ]
  },
  {
   "cell_type": "code",
   "execution_count": 116,
   "metadata": {},
   "outputs": [
    {
     "data": {
      "text/html": [
       "<div>\n",
       "<style scoped>\n",
       "    .dataframe tbody tr th:only-of-type {\n",
       "        vertical-align: middle;\n",
       "    }\n",
       "\n",
       "    .dataframe tbody tr th {\n",
       "        vertical-align: top;\n",
       "    }\n",
       "\n",
       "    .dataframe thead th {\n",
       "        text-align: right;\n",
       "    }\n",
       "</style>\n",
       "<table border=\"1\" class=\"dataframe\">\n",
       "  <thead>\n",
       "    <tr style=\"text-align: right;\">\n",
       "      <th></th>\n",
       "      <th>university</th>\n",
       "      <th>year</th>\n",
       "      <th>1_list</th>\n",
       "      <th>final_grade</th>\n",
       "    </tr>\n",
       "  </thead>\n",
       "  <tbody>\n",
       "    <tr>\n",
       "      <th>0</th>\n",
       "      <td>universidad complutense de madrid</td>\n",
       "      <td>2022</td>\n",
       "      <td>13.541302</td>\n",
       "      <td>13.482731</td>\n",
       "    </tr>\n",
       "    <tr>\n",
       "      <th>1</th>\n",
       "      <td>universidad de sevilla</td>\n",
       "      <td>2022</td>\n",
       "      <td>13.566611</td>\n",
       "      <td>13.448085</td>\n",
       "    </tr>\n",
       "    <tr>\n",
       "      <th>2</th>\n",
       "      <td>universidad de murcia</td>\n",
       "      <td>2022</td>\n",
       "      <td>13.548674</td>\n",
       "      <td>13.346465</td>\n",
       "    </tr>\n",
       "    <tr>\n",
       "      <th>3</th>\n",
       "      <td>universidad de granada</td>\n",
       "      <td>2022</td>\n",
       "      <td>13.583027</td>\n",
       "      <td>13.363036</td>\n",
       "    </tr>\n",
       "    <tr>\n",
       "      <th>4</th>\n",
       "      <td>u. autónoma de madrid</td>\n",
       "      <td>2022</td>\n",
       "      <td>13.548856</td>\n",
       "      <td>13.438171</td>\n",
       "    </tr>\n",
       "    <tr>\n",
       "      <th>5</th>\n",
       "      <td>universidad de málaga</td>\n",
       "      <td>2022</td>\n",
       "      <td>13.495228</td>\n",
       "      <td>13.345928</td>\n",
       "    </tr>\n",
       "    <tr>\n",
       "      <th>6</th>\n",
       "      <td>universidad de córdoba</td>\n",
       "      <td>2022</td>\n",
       "      <td>13.459792</td>\n",
       "      <td>13.323212</td>\n",
       "    </tr>\n",
       "    <tr>\n",
       "      <th>7</th>\n",
       "      <td>universidad de cádiz</td>\n",
       "      <td>2022</td>\n",
       "      <td>13.45875</td>\n",
       "      <td>13.31451</td>\n",
       "    </tr>\n",
       "    <tr>\n",
       "      <th>8</th>\n",
       "      <td>u. miguel hernández (s. juan de alicante)</td>\n",
       "      <td>2022</td>\n",
       "      <td>13.430225</td>\n",
       "      <td>13.191103</td>\n",
       "    </tr>\n",
       "    <tr>\n",
       "      <th>9</th>\n",
       "      <td>u. de c-la mancha (campus c.real)</td>\n",
       "      <td>2022</td>\n",
       "      <td>13.453345</td>\n",
       "      <td>13.196382</td>\n",
       "    </tr>\n",
       "    <tr>\n",
       "      <th>10</th>\n",
       "      <td>universidad de alcalá</td>\n",
       "      <td>2022</td>\n",
       "      <td>13.434207</td>\n",
       "      <td>13.279764</td>\n",
       "    </tr>\n",
       "    <tr>\n",
       "      <th>11</th>\n",
       "      <td>universidad de valladolid</td>\n",
       "      <td>2022</td>\n",
       "      <td>13.320529</td>\n",
       "      <td>13.142324</td>\n",
       "    </tr>\n",
       "    <tr>\n",
       "      <th>12</th>\n",
       "      <td>urjc - campus alcorcón</td>\n",
       "      <td>2022</td>\n",
       "      <td>13.418261</td>\n",
       "      <td>13.218744</td>\n",
       "    </tr>\n",
       "    <tr>\n",
       "      <th>13</th>\n",
       "      <td>u. de c-la mancha (campus albacete)</td>\n",
       "      <td>2022</td>\n",
       "      <td>13.447741</td>\n",
       "      <td>13.179424</td>\n",
       "    </tr>\n",
       "    <tr>\n",
       "      <th>14</th>\n",
       "      <td>u. de extremadura (badajoz)</td>\n",
       "      <td>2022</td>\n",
       "      <td>13.46887</td>\n",
       "      <td>13.158038</td>\n",
       "    </tr>\n",
       "    <tr>\n",
       "      <th>15</th>\n",
       "      <td>universidad pública de navarra</td>\n",
       "      <td>2022</td>\n",
       "      <td>13.179849</td>\n",
       "      <td>13.223395</td>\n",
       "    </tr>\n",
       "    <tr>\n",
       "      <th>16</th>\n",
       "      <td>universidad de valencia</td>\n",
       "      <td>2022</td>\n",
       "      <td>13.527498</td>\n",
       "      <td>13.091046</td>\n",
       "    </tr>\n",
       "    <tr>\n",
       "      <th>17</th>\n",
       "      <td>universidad jaume i</td>\n",
       "      <td>2022</td>\n",
       "      <td>13.393809</td>\n",
       "      <td>13.051565</td>\n",
       "    </tr>\n",
       "    <tr>\n",
       "      <th>18</th>\n",
       "      <td>u. de zaragoza (campus zaragoza)</td>\n",
       "      <td>2022</td>\n",
       "      <td>13.299725</td>\n",
       "      <td>13.103219</td>\n",
       "    </tr>\n",
       "    <tr>\n",
       "      <th>19</th>\n",
       "      <td>universidad de barcelona-clínico</td>\n",
       "      <td>2022</td>\n",
       "      <td>13.14522</td>\n",
       "      <td>13.065</td>\n",
       "    </tr>\n",
       "    <tr>\n",
       "      <th>20</th>\n",
       "      <td>universidad de la laguna</td>\n",
       "      <td>2022</td>\n",
       "      <td>13.363919</td>\n",
       "      <td>13.07487</td>\n",
       "    </tr>\n",
       "    <tr>\n",
       "      <th>21</th>\n",
       "      <td>universidad de las palmas</td>\n",
       "      <td>2022</td>\n",
       "      <td>13.250896</td>\n",
       "      <td>12.967527</td>\n",
       "    </tr>\n",
       "    <tr>\n",
       "      <th>22</th>\n",
       "      <td>universidad de salamanca</td>\n",
       "      <td>2022</td>\n",
       "      <td>13.294399</td>\n",
       "      <td>12.986202</td>\n",
       "    </tr>\n",
       "    <tr>\n",
       "      <th>23</th>\n",
       "      <td>u. de zaragoza (campus huesca)</td>\n",
       "      <td>2022</td>\n",
       "      <td>13.207401</td>\n",
       "      <td>12.987025</td>\n",
       "    </tr>\n",
       "    <tr>\n",
       "      <th>24</th>\n",
       "      <td>u. de santiago de compostela</td>\n",
       "      <td>2022</td>\n",
       "      <td>12.986736</td>\n",
       "      <td>12.988433</td>\n",
       "    </tr>\n",
       "    <tr>\n",
       "      <th>25</th>\n",
       "      <td>universidad de oviedo</td>\n",
       "      <td>2022</td>\n",
       "      <td>13.361089</td>\n",
       "      <td>12.901212</td>\n",
       "    </tr>\n",
       "    <tr>\n",
       "      <th>26</th>\n",
       "      <td>u. de cantabria (santander)</td>\n",
       "      <td>2022</td>\n",
       "      <td>13.276379</td>\n",
       "      <td>12.952096</td>\n",
       "    </tr>\n",
       "    <tr>\n",
       "      <th>27</th>\n",
       "      <td>universidad de barcelona-bellvitge</td>\n",
       "      <td>2022</td>\n",
       "      <td>12.986</td>\n",
       "      <td>13.095935</td>\n",
       "    </tr>\n",
       "    <tr>\n",
       "      <th>28</th>\n",
       "      <td>universidad del país vasco (lejona)</td>\n",
       "      <td>2022</td>\n",
       "      <td>13.052095</td>\n",
       "      <td>12.899109</td>\n",
       "    </tr>\n",
       "    <tr>\n",
       "      <th>29</th>\n",
       "      <td>universidad de las islas baleares</td>\n",
       "      <td>2022</td>\n",
       "      <td>13.178117</td>\n",
       "      <td>12.777571</td>\n",
       "    </tr>\n",
       "    <tr>\n",
       "      <th>30</th>\n",
       "      <td>u. pompeu fabra (barcelona)</td>\n",
       "      <td>2022</td>\n",
       "      <td>13.126537</td>\n",
       "      <td>12.887974</td>\n",
       "    </tr>\n",
       "    <tr>\n",
       "      <th>31</th>\n",
       "      <td>universidad autónoma de barcelona</td>\n",
       "      <td>2022</td>\n",
       "      <td>12.835729</td>\n",
       "      <td>12.823962</td>\n",
       "    </tr>\n",
       "    <tr>\n",
       "      <th>32</th>\n",
       "      <td>universidad de gerona</td>\n",
       "      <td>2022</td>\n",
       "      <td>12.787788</td>\n",
       "      <td>12.782942</td>\n",
       "    </tr>\n",
       "    <tr>\n",
       "      <th>33</th>\n",
       "      <td>universidad de lérida</td>\n",
       "      <td>2022</td>\n",
       "      <td>12.808025</td>\n",
       "      <td>12.769496</td>\n",
       "    </tr>\n",
       "    <tr>\n",
       "      <th>34</th>\n",
       "      <td>universidad rovira i virgili (reus)</td>\n",
       "      <td>2022</td>\n",
       "      <td>12.874536</td>\n",
       "      <td>12.752455</td>\n",
       "    </tr>\n",
       "  </tbody>\n",
       "</table>\n",
       "</div>"
      ],
      "text/plain": [
       "                                   university  year     1_list final_grade\n",
       "0           universidad complutense de madrid  2022  13.541302   13.482731\n",
       "1                      universidad de sevilla  2022  13.566611   13.448085\n",
       "2                       universidad de murcia  2022  13.548674   13.346465\n",
       "3                      universidad de granada  2022  13.583027   13.363036\n",
       "4                       u. autónoma de madrid  2022  13.548856   13.438171\n",
       "5                       universidad de málaga  2022  13.495228   13.345928\n",
       "6                      universidad de córdoba  2022  13.459792   13.323212\n",
       "7                        universidad de cádiz  2022   13.45875    13.31451\n",
       "8   u. miguel hernández (s. juan de alicante)  2022  13.430225   13.191103\n",
       "9           u. de c-la mancha (campus c.real)  2022  13.453345   13.196382\n",
       "10                      universidad de alcalá  2022  13.434207   13.279764\n",
       "11                  universidad de valladolid  2022  13.320529   13.142324\n",
       "12                     urjc - campus alcorcón  2022  13.418261   13.218744\n",
       "13        u. de c-la mancha (campus albacete)  2022  13.447741   13.179424\n",
       "14                u. de extremadura (badajoz)  2022   13.46887   13.158038\n",
       "15             universidad pública de navarra  2022  13.179849   13.223395\n",
       "16                    universidad de valencia  2022  13.527498   13.091046\n",
       "17                        universidad jaume i  2022  13.393809   13.051565\n",
       "18           u. de zaragoza (campus zaragoza)  2022  13.299725   13.103219\n",
       "19           universidad de barcelona-clínico  2022   13.14522      13.065\n",
       "20                   universidad de la laguna  2022  13.363919    13.07487\n",
       "21                  universidad de las palmas  2022  13.250896   12.967527\n",
       "22                   universidad de salamanca  2022  13.294399   12.986202\n",
       "23             u. de zaragoza (campus huesca)  2022  13.207401   12.987025\n",
       "24               u. de santiago de compostela  2022  12.986736   12.988433\n",
       "25                      universidad de oviedo  2022  13.361089   12.901212\n",
       "26                u. de cantabria (santander)  2022  13.276379   12.952096\n",
       "27         universidad de barcelona-bellvitge  2022     12.986   13.095935\n",
       "28        universidad del país vasco (lejona)  2022  13.052095   12.899109\n",
       "29          universidad de las islas baleares  2022  13.178117   12.777571\n",
       "30                u. pompeu fabra (barcelona)  2022  13.126537   12.887974\n",
       "31          universidad autónoma de barcelona  2022  12.835729   12.823962\n",
       "32                      universidad de gerona  2022  12.787788   12.782942\n",
       "33                      universidad de lérida  2022  12.808025   12.769496\n",
       "34        universidad rovira i virgili (reus)  2022  12.874536   12.752455"
      ]
     },
     "execution_count": 116,
     "metadata": {},
     "output_type": "execute_result"
    }
   ],
   "source": [
    "pred_y_df"
   ]
  },
  {
   "cell_type": "code",
   "execution_count": null,
   "metadata": {},
   "outputs": [],
   "source": [
    "# probar con train y test\n",
    "# PROBAR OTROS MODELOS - LM, GLM"
   ]
  },
  {
   "cell_type": "code",
   "execution_count": null,
   "metadata": {},
   "outputs": [],
   "source": []
  },
  {
   "cell_type": "code",
   "execution_count": null,
   "metadata": {},
   "outputs": [],
   "source": []
  },
  {
   "cell_type": "code",
   "execution_count": null,
   "metadata": {},
   "outputs": [],
   "source": []
  }
 ],
 "metadata": {
  "interpreter": {
   "hash": "afc3b4600e7999c1cec994f4f7321fa76de0c7f2f3bd5869f8f64fa643bd8b36"
  },
  "kernelspec": {
   "display_name": "Python 3.9.7 64-bit ('base': conda)",
   "name": "python3"
  },
  "language_info": {
   "codemirror_mode": {
    "name": "ipython",
    "version": 3
   },
   "file_extension": ".py",
   "mimetype": "text/x-python",
   "name": "python",
   "nbconvert_exporter": "python",
   "pygments_lexer": "ipython3",
   "version": "3.9.7"
  },
  "orig_nbformat": 4
 },
 "nbformat": 4,
 "nbformat_minor": 2
}
